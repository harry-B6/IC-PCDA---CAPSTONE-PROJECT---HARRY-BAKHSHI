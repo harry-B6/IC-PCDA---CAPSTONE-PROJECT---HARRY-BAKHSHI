{
 "cells": [
  {
   "cell_type": "markdown",
   "id": "5845cb3c",
   "metadata": {},
   "source": [
    "<div class=\"alert alert-block alert-success\">\n",
    "     \n",
    "# IC PCDA CAPSTONE - HARRY BAKHSHI - NOTEBOOK 1 - DATA EXTRACTION AND CLEANING\n",
    "     \n",
    "</div>"
   ]
  },
  {
   "cell_type": "code",
   "execution_count": 1,
   "id": "be65118d",
   "metadata": {
    "id": "be65118d"
   },
   "outputs": [],
   "source": [
    "import pandas as pd\n",
    "import seaborn as sns\n",
    "import matplotlib.pyplot as plt"
   ]
  },
  {
   "cell_type": "markdown",
   "id": "04050f48",
   "metadata": {},
   "source": [
    "**Collection of three datasets to consider**\n",
    "\n",
    "* `Listings`\n",
    "* `users`\n",
    "* `contacts`"
   ]
  },
  {
   "cell_type": "code",
   "execution_count": 136,
   "id": "27edf2eb",
   "metadata": {},
   "outputs": [],
   "source": [
    "url = 'https://raw.githubusercontent.com/vkoul/data/main/misc/' \n",
    "\n",
    "listings = pd.read_csv(url + \"aibnb_listings.csv\")\n",
    "\n",
    "users = pd.read_csv(url + \"airbnb_users.csv\")"
   ]
  },
  {
   "cell_type": "code",
   "execution_count": 137,
   "id": "b7890b74",
   "metadata": {},
   "outputs": [],
   "source": [
    "date_list = ['ts_interaction_first', 'ts_reply_at_first', 'ts_accepted_at_first','ts_booking_at','ds_checkin_first', 'ds_checkout_first' ]\n",
    "\n",
    "contacts = pd.read_csv(url + \"airbnb_contacts.csv\", parse_dates = date_list)"
   ]
  },
  {
   "cell_type": "code",
   "execution_count": 4,
   "id": "dc8c9f04",
   "metadata": {},
   "outputs": [
    {
     "data": {
      "text/plain": [
       "(13038, 4)"
      ]
     },
     "execution_count": 4,
     "metadata": {},
     "output_type": "execute_result"
    }
   ],
   "source": [
    "listings.shape"
   ]
  },
  {
   "cell_type": "code",
   "execution_count": 5,
   "id": "d16741a5",
   "metadata": {},
   "outputs": [
    {
     "data": {
      "text/plain": [
       "(31525, 3)"
      ]
     },
     "execution_count": 5,
     "metadata": {},
     "output_type": "execute_result"
    }
   ],
   "source": [
    "users.shape"
   ]
  },
  {
   "cell_type": "code",
   "execution_count": 6,
   "id": "00e4c86a",
   "metadata": {},
   "outputs": [
    {
     "data": {
      "text/plain": [
       "(27887, 14)"
      ]
     },
     "execution_count": 6,
     "metadata": {},
     "output_type": "execute_result"
    }
   ],
   "source": [
    "contacts.shape"
   ]
  },
  {
   "cell_type": "code",
   "execution_count": 7,
   "id": "f4081991",
   "metadata": {},
   "outputs": [
    {
     "data": {
      "text/html": [
       "<div>\n",
       "<style scoped>\n",
       "    .dataframe tbody tr th:only-of-type {\n",
       "        vertical-align: middle;\n",
       "    }\n",
       "\n",
       "    .dataframe tbody tr th {\n",
       "        vertical-align: top;\n",
       "    }\n",
       "\n",
       "    .dataframe thead th {\n",
       "        text-align: right;\n",
       "    }\n",
       "</style>\n",
       "<table border=\"1\" class=\"dataframe\">\n",
       "  <thead>\n",
       "    <tr style=\"text-align: right;\">\n",
       "      <th></th>\n",
       "      <th>id_guest_anon</th>\n",
       "      <th>id_host_anon</th>\n",
       "      <th>id_listing_anon</th>\n",
       "      <th>ts_interaction_first</th>\n",
       "      <th>ts_reply_at_first</th>\n",
       "      <th>ts_accepted_at_first</th>\n",
       "      <th>ts_booking_at</th>\n",
       "      <th>ds_checkin_first</th>\n",
       "      <th>ds_checkout_first</th>\n",
       "      <th>m_guests</th>\n",
       "      <th>m_interactions</th>\n",
       "      <th>m_first_message_length_in_characters</th>\n",
       "      <th>contact_channel_first</th>\n",
       "      <th>guest_user_stage_first</th>\n",
       "    </tr>\n",
       "  </thead>\n",
       "  <tbody>\n",
       "    <tr>\n",
       "      <th>0</th>\n",
       "      <td>da8656a1-51af-4f38-b1c4-94be1f585157</td>\n",
       "      <td>5426897d-960d-4013-9e38-606ae746793c</td>\n",
       "      <td>a408a8b2-0d44-4513-a611-3736d0409bb2</td>\n",
       "      <td>2016-04-21 02:55:53</td>\n",
       "      <td>2016-04-21 03:15:00</td>\n",
       "      <td>2016-04-21 03:15:00</td>\n",
       "      <td>2016-04-21 03:15:00</td>\n",
       "      <td>2016-08-02</td>\n",
       "      <td>2016-08-06</td>\n",
       "      <td>4.0</td>\n",
       "      <td>30</td>\n",
       "      <td>31.0</td>\n",
       "      <td>book_it</td>\n",
       "      <td>past_booker</td>\n",
       "    </tr>\n",
       "    <tr>\n",
       "      <th>1</th>\n",
       "      <td>8590d6f1-8bc9-4e8b-bdfb-de78f69fcf37</td>\n",
       "      <td>f30417c5-6df4-45ac-bfc2-6ad1cce398ab</td>\n",
       "      <td>e387c705-0aeb-464c-9375-ece63be6f006</td>\n",
       "      <td>2016-02-16 22:14:01</td>\n",
       "      <td>2016-02-16 23:37:36</td>\n",
       "      <td>NaT</td>\n",
       "      <td>NaT</td>\n",
       "      <td>2016-08-11</td>\n",
       "      <td>2016-08-22</td>\n",
       "      <td>5.0</td>\n",
       "      <td>2</td>\n",
       "      <td>312.0</td>\n",
       "      <td>contact_me</td>\n",
       "      <td>past_booker</td>\n",
       "    </tr>\n",
       "    <tr>\n",
       "      <th>2</th>\n",
       "      <td>ebcd83ba-bda1-47eb-9680-2dd04ccf3988</td>\n",
       "      <td>13cbf50a-3272-45d4-9866-a06b6ea1b99a</td>\n",
       "      <td>d1eb1960-938f-4305-a353-51e224414dd4</td>\n",
       "      <td>2016-01-27 23:33:38</td>\n",
       "      <td>2016-01-28 02:12:47</td>\n",
       "      <td>NaT</td>\n",
       "      <td>NaT</td>\n",
       "      <td>2016-03-14</td>\n",
       "      <td>2016-03-23</td>\n",
       "      <td>1.0</td>\n",
       "      <td>3</td>\n",
       "      <td>164.0</td>\n",
       "      <td>contact_me</td>\n",
       "      <td>new</td>\n",
       "    </tr>\n",
       "    <tr>\n",
       "      <th>3</th>\n",
       "      <td>b0af8848-fe2a-4ef1-991e-26ab3066feb3</td>\n",
       "      <td>01614601-d5a4-4776-ab9b-c10d3b865bf0</td>\n",
       "      <td>855f6779-346c-45fc-a64b-ea133250ca7a</td>\n",
       "      <td>2016-05-05 14:42:52</td>\n",
       "      <td>2016-05-05 15:17:40</td>\n",
       "      <td>2016-05-05 15:17:40</td>\n",
       "      <td>NaT</td>\n",
       "      <td>2016-05-27</td>\n",
       "      <td>2016-05-29</td>\n",
       "      <td>2.0</td>\n",
       "      <td>3</td>\n",
       "      <td>203.0</td>\n",
       "      <td>contact_me</td>\n",
       "      <td>new</td>\n",
       "    </tr>\n",
       "    <tr>\n",
       "      <th>4</th>\n",
       "      <td>5ddbbcc3-ac1a-4d8a-b6f8-0f675b76d1b2</td>\n",
       "      <td>f2fed6f3-4c5c-453d-9e64-37c62b8bd06d</td>\n",
       "      <td>f2928a59-c5e7-42b2-9c37-240a40f38dc0</td>\n",
       "      <td>2016-06-23 03:09:25</td>\n",
       "      <td>2016-06-23 03:09:26</td>\n",
       "      <td>2016-06-23 03:09:33</td>\n",
       "      <td>2016-06-23 03:09:33</td>\n",
       "      <td>2016-08-19</td>\n",
       "      <td>2016-08-21</td>\n",
       "      <td>3.0</td>\n",
       "      <td>25</td>\n",
       "      <td>0.0</td>\n",
       "      <td>instant_book</td>\n",
       "      <td>past_booker</td>\n",
       "    </tr>\n",
       "  </tbody>\n",
       "</table>\n",
       "</div>"
      ],
      "text/plain": [
       "                          id_guest_anon                          id_host_anon  \\\n",
       "0  da8656a1-51af-4f38-b1c4-94be1f585157  5426897d-960d-4013-9e38-606ae746793c   \n",
       "1  8590d6f1-8bc9-4e8b-bdfb-de78f69fcf37  f30417c5-6df4-45ac-bfc2-6ad1cce398ab   \n",
       "2  ebcd83ba-bda1-47eb-9680-2dd04ccf3988  13cbf50a-3272-45d4-9866-a06b6ea1b99a   \n",
       "3  b0af8848-fe2a-4ef1-991e-26ab3066feb3  01614601-d5a4-4776-ab9b-c10d3b865bf0   \n",
       "4  5ddbbcc3-ac1a-4d8a-b6f8-0f675b76d1b2  f2fed6f3-4c5c-453d-9e64-37c62b8bd06d   \n",
       "\n",
       "                        id_listing_anon ts_interaction_first  \\\n",
       "0  a408a8b2-0d44-4513-a611-3736d0409bb2  2016-04-21 02:55:53   \n",
       "1  e387c705-0aeb-464c-9375-ece63be6f006  2016-02-16 22:14:01   \n",
       "2  d1eb1960-938f-4305-a353-51e224414dd4  2016-01-27 23:33:38   \n",
       "3  855f6779-346c-45fc-a64b-ea133250ca7a  2016-05-05 14:42:52   \n",
       "4  f2928a59-c5e7-42b2-9c37-240a40f38dc0  2016-06-23 03:09:25   \n",
       "\n",
       "    ts_reply_at_first ts_accepted_at_first       ts_booking_at  \\\n",
       "0 2016-04-21 03:15:00  2016-04-21 03:15:00 2016-04-21 03:15:00   \n",
       "1 2016-02-16 23:37:36                  NaT                 NaT   \n",
       "2 2016-01-28 02:12:47                  NaT                 NaT   \n",
       "3 2016-05-05 15:17:40  2016-05-05 15:17:40                 NaT   \n",
       "4 2016-06-23 03:09:26  2016-06-23 03:09:33 2016-06-23 03:09:33   \n",
       "\n",
       "  ds_checkin_first ds_checkout_first  m_guests  m_interactions  \\\n",
       "0       2016-08-02        2016-08-06       4.0              30   \n",
       "1       2016-08-11        2016-08-22       5.0               2   \n",
       "2       2016-03-14        2016-03-23       1.0               3   \n",
       "3       2016-05-27        2016-05-29       2.0               3   \n",
       "4       2016-08-19        2016-08-21       3.0              25   \n",
       "\n",
       "   m_first_message_length_in_characters contact_channel_first  \\\n",
       "0                                  31.0               book_it   \n",
       "1                                 312.0            contact_me   \n",
       "2                                 164.0            contact_me   \n",
       "3                                 203.0            contact_me   \n",
       "4                                   0.0          instant_book   \n",
       "\n",
       "  guest_user_stage_first  \n",
       "0            past_booker  \n",
       "1            past_booker  \n",
       "2                    new  \n",
       "3                    new  \n",
       "4            past_booker  "
      ]
     },
     "execution_count": 7,
     "metadata": {},
     "output_type": "execute_result"
    }
   ],
   "source": [
    "contacts.head()"
   ]
  },
  {
   "cell_type": "code",
   "execution_count": 8,
   "id": "716cad3e",
   "metadata": {},
   "outputs": [
    {
     "data": {
      "text/html": [
       "<div>\n",
       "<style scoped>\n",
       "    .dataframe tbody tr th:only-of-type {\n",
       "        vertical-align: middle;\n",
       "    }\n",
       "\n",
       "    .dataframe tbody tr th {\n",
       "        vertical-align: top;\n",
       "    }\n",
       "\n",
       "    .dataframe thead th {\n",
       "        text-align: right;\n",
       "    }\n",
       "</style>\n",
       "<table border=\"1\" class=\"dataframe\">\n",
       "  <thead>\n",
       "    <tr style=\"text-align: right;\">\n",
       "      <th></th>\n",
       "      <th>id_listing_anon</th>\n",
       "      <th>room_type</th>\n",
       "      <th>listing_neighborhood</th>\n",
       "      <th>total_reviews</th>\n",
       "    </tr>\n",
       "  </thead>\n",
       "  <tbody>\n",
       "    <tr>\n",
       "      <th>0</th>\n",
       "      <td>71582793-e5f8-46d7-afdf-7a31d2341c79</td>\n",
       "      <td>Private room</td>\n",
       "      <td>-unknown-</td>\n",
       "      <td>0.0</td>\n",
       "    </tr>\n",
       "    <tr>\n",
       "      <th>1</th>\n",
       "      <td>a1a3f728-e21f-4432-96aa-361d28e2b319</td>\n",
       "      <td>Entire home/apt</td>\n",
       "      <td>Copacabana</td>\n",
       "      <td>0.0</td>\n",
       "    </tr>\n",
       "    <tr>\n",
       "      <th>2</th>\n",
       "      <td>353a68be-ecf9-4b7b-9533-c882dc2f0760</td>\n",
       "      <td>Entire home/apt</td>\n",
       "      <td>Barra da Tijuca</td>\n",
       "      <td>3.0</td>\n",
       "    </tr>\n",
       "    <tr>\n",
       "      <th>3</th>\n",
       "      <td>b9ae1908-0486-40ac-bbcf-bd63ffebfe63</td>\n",
       "      <td>Entire home/apt</td>\n",
       "      <td>Lapa</td>\n",
       "      <td>4.0</td>\n",
       "    </tr>\n",
       "    <tr>\n",
       "      <th>4</th>\n",
       "      <td>fa0290ef-7881-4482-8981-8ebb1ce5dbfd</td>\n",
       "      <td>Entire home/apt</td>\n",
       "      <td>-unknown-</td>\n",
       "      <td>0.0</td>\n",
       "    </tr>\n",
       "  </tbody>\n",
       "</table>\n",
       "</div>"
      ],
      "text/plain": [
       "                        id_listing_anon        room_type listing_neighborhood  \\\n",
       "0  71582793-e5f8-46d7-afdf-7a31d2341c79     Private room            -unknown-   \n",
       "1  a1a3f728-e21f-4432-96aa-361d28e2b319  Entire home/apt           Copacabana   \n",
       "2  353a68be-ecf9-4b7b-9533-c882dc2f0760  Entire home/apt      Barra da Tijuca   \n",
       "3  b9ae1908-0486-40ac-bbcf-bd63ffebfe63  Entire home/apt                 Lapa   \n",
       "4  fa0290ef-7881-4482-8981-8ebb1ce5dbfd  Entire home/apt            -unknown-   \n",
       "\n",
       "   total_reviews  \n",
       "0            0.0  \n",
       "1            0.0  \n",
       "2            3.0  \n",
       "3            4.0  \n",
       "4            0.0  "
      ]
     },
     "execution_count": 8,
     "metadata": {},
     "output_type": "execute_result"
    }
   ],
   "source": [
    "listings.head()"
   ]
  },
  {
   "cell_type": "code",
   "execution_count": 91,
   "id": "8aafe388",
   "metadata": {},
   "outputs": [
    {
     "data": {
      "text/html": [
       "<div>\n",
       "<style scoped>\n",
       "    .dataframe tbody tr th:only-of-type {\n",
       "        vertical-align: middle;\n",
       "    }\n",
       "\n",
       "    .dataframe tbody tr th {\n",
       "        vertical-align: top;\n",
       "    }\n",
       "\n",
       "    .dataframe thead th {\n",
       "        text-align: right;\n",
       "    }\n",
       "</style>\n",
       "<table border=\"1\" class=\"dataframe\">\n",
       "  <thead>\n",
       "    <tr style=\"text-align: right;\">\n",
       "      <th></th>\n",
       "      <th>id_user_anon</th>\n",
       "      <th>country</th>\n",
       "      <th>words_in_user_profile</th>\n",
       "    </tr>\n",
       "  </thead>\n",
       "  <tbody>\n",
       "    <tr>\n",
       "      <th>0</th>\n",
       "      <td>1d16a001-31a2-494c-a101-1f7b308adc62</td>\n",
       "      <td>FR</td>\n",
       "      <td>0</td>\n",
       "    </tr>\n",
       "    <tr>\n",
       "      <th>1</th>\n",
       "      <td>42607e0a-86c0-472e-b633-9e192114e93c</td>\n",
       "      <td>AR</td>\n",
       "      <td>0</td>\n",
       "    </tr>\n",
       "    <tr>\n",
       "      <th>2</th>\n",
       "      <td>25f85eb5-a700-44e1-b142-4c076222198d</td>\n",
       "      <td>BR</td>\n",
       "      <td>0</td>\n",
       "    </tr>\n",
       "    <tr>\n",
       "      <th>3</th>\n",
       "      <td>55abeba0-18ef-4c58-80f4-3c278b706aca</td>\n",
       "      <td>BR</td>\n",
       "      <td>1</td>\n",
       "    </tr>\n",
       "    <tr>\n",
       "      <th>4</th>\n",
       "      <td>5d62d35a-7d6d-45dd-ae9b-a5d2f82a7d7b</td>\n",
       "      <td>BR</td>\n",
       "      <td>98</td>\n",
       "    </tr>\n",
       "  </tbody>\n",
       "</table>\n",
       "</div>"
      ],
      "text/plain": [
       "                           id_user_anon country  words_in_user_profile\n",
       "0  1d16a001-31a2-494c-a101-1f7b308adc62      FR                      0\n",
       "1  42607e0a-86c0-472e-b633-9e192114e93c      AR                      0\n",
       "2  25f85eb5-a700-44e1-b142-4c076222198d      BR                      0\n",
       "3  55abeba0-18ef-4c58-80f4-3c278b706aca      BR                      1\n",
       "4  5d62d35a-7d6d-45dd-ae9b-a5d2f82a7d7b      BR                     98"
      ]
     },
     "execution_count": 91,
     "metadata": {},
     "output_type": "execute_result"
    }
   ],
   "source": [
    "users.head()"
   ]
  },
  {
   "cell_type": "markdown",
   "id": "e9531013",
   "metadata": {},
   "source": [
    "Common columns: id_listing_anon allows listings to join to contacts, id_user_anon allows users to join to contacts\n",
    "Therefore, use this to join the datasets:"
   ]
  },
  {
   "cell_type": "code",
   "execution_count": 17,
   "id": "6db8e403",
   "metadata": {},
   "outputs": [
    {
     "name": "stdout",
     "output_type": "stream",
     "text": [
      "<class 'pandas.core.frame.DataFrame'>\n",
      "RangeIndex: 27887 entries, 0 to 27886\n",
      "Data columns (total 14 columns):\n",
      " #   Column                                Non-Null Count  Dtype         \n",
      "---  ------                                --------------  -----         \n",
      " 0   id_guest_anon                         27887 non-null  object        \n",
      " 1   id_host_anon                          27887 non-null  object        \n",
      " 2   id_listing_anon                       27887 non-null  object        \n",
      " 3   ts_interaction_first                  27887 non-null  datetime64[ns]\n",
      " 4   ts_reply_at_first                     25855 non-null  datetime64[ns]\n",
      " 5   ts_accepted_at_first                  16415 non-null  datetime64[ns]\n",
      " 6   ts_booking_at                         11587 non-null  datetime64[ns]\n",
      " 7   ds_checkin_first                      27887 non-null  datetime64[ns]\n",
      " 8   ds_checkout_first                     27887 non-null  datetime64[ns]\n",
      " 9   m_guests                              27886 non-null  float64       \n",
      " 10  m_interactions                        27887 non-null  int64         \n",
      " 11  m_first_message_length_in_characters  27887 non-null  float64       \n",
      " 12  contact_channel_first                 27887 non-null  object        \n",
      " 13  guest_user_stage_first                27887 non-null  object        \n",
      "dtypes: datetime64[ns](6), float64(2), int64(1), object(5)\n",
      "memory usage: 3.0+ MB\n"
     ]
    },
    {
     "data": {
      "text/plain": [
       "0        past_booker\n",
       "1        past_booker\n",
       "2                new\n",
       "3                new\n",
       "4        past_booker\n",
       "            ...     \n",
       "27882    past_booker\n",
       "27883    past_booker\n",
       "27884            new\n",
       "27885    past_booker\n",
       "27886            new\n",
       "Name: guest_user_stage_first, Length: 27887, dtype: object"
      ]
     },
     "execution_count": 17,
     "metadata": {},
     "output_type": "execute_result"
    }
   ],
   "source": [
    "contacts.info()\n",
    "contacts['guest_user_stage_first']   "
   ]
  },
  {
   "cell_type": "code",
   "execution_count": 11,
   "id": "2a8b7870",
   "metadata": {},
   "outputs": [
    {
     "name": "stdout",
     "output_type": "stream",
     "text": [
      "<class 'pandas.core.frame.DataFrame'>\n",
      "RangeIndex: 13038 entries, 0 to 13037\n",
      "Data columns (total 4 columns):\n",
      " #   Column                Non-Null Count  Dtype  \n",
      "---  ------                --------------  -----  \n",
      " 0   id_listing_anon       13038 non-null  object \n",
      " 1   room_type             13038 non-null  object \n",
      " 2   listing_neighborhood  13038 non-null  object \n",
      " 3   total_reviews         13038 non-null  float64\n",
      "dtypes: float64(1), object(3)\n",
      "memory usage: 407.6+ KB\n"
     ]
    }
   ],
   "source": [
    "listings.info()"
   ]
  },
  {
   "cell_type": "code",
   "execution_count": 12,
   "id": "a5dd3843",
   "metadata": {},
   "outputs": [
    {
     "name": "stdout",
     "output_type": "stream",
     "text": [
      "<class 'pandas.core.frame.DataFrame'>\n",
      "RangeIndex: 31525 entries, 0 to 31524\n",
      "Data columns (total 3 columns):\n",
      " #   Column                 Non-Null Count  Dtype \n",
      "---  ------                 --------------  ----- \n",
      " 0   id_user_anon           31525 non-null  object\n",
      " 1   country                31524 non-null  object\n",
      " 2   words_in_user_profile  31525 non-null  int64 \n",
      "dtypes: int64(1), object(2)\n",
      "memory usage: 739.0+ KB\n"
     ]
    }
   ],
   "source": [
    "users.info()"
   ]
  },
  {
   "cell_type": "markdown",
   "id": "e0af1837",
   "metadata": {},
   "source": [
    "Are the listings and guest/users common across the dataframes?"
   ]
  },
  {
   "cell_type": "code",
   "execution_count": 16,
   "id": "bc289035",
   "metadata": {},
   "outputs": [
    {
     "name": "stdout",
     "output_type": "stream",
     "text": [
      "listing_id_overlap:  0\n",
      "user_id_overlap:  0\n"
     ]
    }
   ],
   "source": [
    "count = 0\n",
    "for listing in range(len(list(contacts['id_listing_anon']))):\n",
    "    if contacts['id_listing_anon'][listing] in listings['id_listing_anon']:\n",
    "        count += 1\n",
    "print('listing_id_overlap: ', count)\n",
    "count = 0\n",
    "for user in range(len(list(contacts['id_guest_anon']))):\n",
    "    if contacts['id_guest_anon'][user] in users['id_user_anon']:\n",
    "        count += 1\n",
    "print('user_id_overlap: ', count)"
   ]
  },
  {
   "cell_type": "markdown",
   "id": "7ec07bb2",
   "metadata": {},
   "source": [
    "No, and guest ids != user ids - therefore add listings to contacts as new data and add users to contacts as new data"
   ]
  },
  {
   "cell_type": "code",
   "execution_count": 138,
   "id": "5af080ad",
   "metadata": {},
   "outputs": [
    {
     "name": "stdout",
     "output_type": "stream",
     "text": [
      "['id_user_anon', 'country', 'words_in_user_profile', 'room_type', 'listing_neighborhood', 'total_reviews']\n",
      "<class 'pandas.core.frame.DataFrame'>\n",
      "RangeIndex: 27887 entries, 0 to 27886\n",
      "Data columns (total 20 columns):\n",
      " #   Column                                Non-Null Count  Dtype         \n",
      "---  ------                                --------------  -----         \n",
      " 0   id_guest_anon                         27887 non-null  object        \n",
      " 1   id_host_anon                          27887 non-null  object        \n",
      " 2   id_listing_anon                       27887 non-null  object        \n",
      " 3   ts_interaction_first                  27887 non-null  datetime64[ns]\n",
      " 4   ts_reply_at_first                     25855 non-null  datetime64[ns]\n",
      " 5   ts_accepted_at_first                  16415 non-null  datetime64[ns]\n",
      " 6   ts_booking_at                         11587 non-null  datetime64[ns]\n",
      " 7   ds_checkin_first                      27887 non-null  datetime64[ns]\n",
      " 8   ds_checkout_first                     27887 non-null  datetime64[ns]\n",
      " 9   m_guests                              27886 non-null  float64       \n",
      " 10  m_interactions                        27887 non-null  int64         \n",
      " 11  m_first_message_length_in_characters  27887 non-null  float64       \n",
      " 12  contact_channel_first                 27887 non-null  object        \n",
      " 13  guest_user_stage_first                27887 non-null  object        \n",
      " 14  id_user_anon                          0 non-null      float64       \n",
      " 15  country                               0 non-null      float64       \n",
      " 16  words_in_user_profile                 0 non-null      float64       \n",
      " 17  room_type                             0 non-null      float64       \n",
      " 18  listing_neighborhood                  0 non-null      float64       \n",
      " 19  total_reviews                         0 non-null      float64       \n",
      "dtypes: datetime64[ns](6), float64(8), int64(1), object(5)\n",
      "memory usage: 4.3+ MB\n",
      "None\n",
      "20\n",
      "<class 'pandas.core.frame.DataFrame'>\n",
      "Int64Index: 40925 entries, 0 to 40925\n",
      "Data columns (total 20 columns):\n",
      " #   Column                                Non-Null Count  Dtype  \n",
      "---  ------                                --------------  -----  \n",
      " 0   id_guest_anon                         40925 non-null  object \n",
      " 1   id_host_anon                          40925 non-null  object \n",
      " 2   id_listing_anon                       40925 non-null  object \n",
      " 3   ts_interaction_first                  40925 non-null  object \n",
      " 4   ts_reply_at_first                     38893 non-null  object \n",
      " 5   ts_accepted_at_first                  29453 non-null  object \n",
      " 6   ts_booking_at                         24625 non-null  object \n",
      " 7   ds_checkin_first                      40925 non-null  object \n",
      " 8   ds_checkout_first                     40925 non-null  object \n",
      " 9   m_guests                              40924 non-null  float64\n",
      " 10  m_interactions                        40925 non-null  int64  \n",
      " 11  m_first_message_length_in_characters  40925 non-null  float64\n",
      " 12  contact_channel_first                 40925 non-null  object \n",
      " 13  guest_user_stage_first                40925 non-null  object \n",
      " 14  id_user_anon                          13038 non-null  float64\n",
      " 15  country                               13038 non-null  float64\n",
      " 16  words_in_user_profile                 13038 non-null  float64\n",
      " 17  room_type                             13038 non-null  float64\n",
      " 18  listing_neighborhood                  13038 non-null  float64\n",
      " 19  total_reviews                         13038 non-null  float64\n",
      "dtypes: float64(8), int64(1), object(11)\n",
      "memory usage: 6.6+ MB\n",
      "None\n",
      "<class 'pandas.core.frame.DataFrame'>\n",
      "Int64Index: 72450 entries, 0 to 72450\n",
      "Data columns (total 20 columns):\n",
      " #   Column                                Non-Null Count  Dtype  \n",
      "---  ------                                --------------  -----  \n",
      " 0   id_guest_anon                         72450 non-null  object \n",
      " 1   id_host_anon                          72450 non-null  object \n",
      " 2   id_listing_anon                       72450 non-null  object \n",
      " 3   ts_interaction_first                  72450 non-null  object \n",
      " 4   ts_reply_at_first                     70418 non-null  object \n",
      " 5   ts_accepted_at_first                  60978 non-null  object \n",
      " 6   ts_booking_at                         56150 non-null  object \n",
      " 7   ds_checkin_first                      72450 non-null  object \n",
      " 8   ds_checkout_first                     72450 non-null  object \n",
      " 9   m_guests                              72449 non-null  float64\n",
      " 10  m_interactions                        72450 non-null  int64  \n",
      " 11  m_first_message_length_in_characters  72450 non-null  float64\n",
      " 12  contact_channel_first                 72450 non-null  object \n",
      " 13  guest_user_stage_first                72450 non-null  object \n",
      " 14  id_user_anon                          44563 non-null  float64\n",
      " 15  country                               44563 non-null  float64\n",
      " 16  words_in_user_profile                 44563 non-null  float64\n",
      " 17  room_type                             44563 non-null  float64\n",
      " 18  listing_neighborhood                  44563 non-null  float64\n",
      " 19  total_reviews                         44563 non-null  float64\n",
      "dtypes: float64(8), int64(1), object(11)\n",
      "memory usage: 11.6+ MB\n",
      "None\n"
     ]
    }
   ],
   "source": [
    "#Create space in the contacts df:\n",
    "import numpy as np\n",
    "pd.options.mode.chained_assignment = None  # default='warn'\n",
    "df = contacts\n",
    "columns_to_add = []\n",
    "for col in range(len(list(users.columns.values))):\n",
    "    columns_to_add.append(list(users.columns.values)[col])\n",
    "listings_cols = list(listings.columns.values)[1:]\n",
    "for col in range(len(listings_cols)):\n",
    "    columns_to_add.append(listings_cols[col])\n",
    "print(columns_to_add)\n",
    "for col in range(len(columns_to_add)):\n",
    "    df[columns_to_add[col]] = pd.Series(np.nan, index=df.index)\n",
    "    #^https://stackoverflow.com/questions/12555323/how-to-add-a-new-column-to-an-existing-dataframe\n",
    "    #Accessed 04/06/2024\n",
    "print(df.info())\n",
    "new_row_data = []\n",
    "for i in range(20):\n",
    "    new_row_data.append(0)\n",
    "#^https://www.analyticsvidhya.com/blog/2023/12/supercharge-your-dataframes-mastering-row-appending-in-pandas/#:~:text=The%20append()%20function%20in,for%20beginners%20and%20seasoned%20professionals.&text=While%20this%20method%20is%20simple,multiple%20rows%20in%20a%20loop.\n",
    "#Accessed 04/06/2024\n",
    "print(len(new_row_data))\n",
    "for row in range(len(list(listings['id_listing_anon']))):\n",
    "    df.loc[row + 27887 + 1] = new_row_data #df currently 27887 rows\n",
    "print(df.info())\n",
    "for row in range(len(list(users['id_user_anon']))):\n",
    "    df.loc[row + 40925 + 1] = new_row_data #df currently 40925 rows\n",
    "print(df.info())"
   ]
  },
  {
   "cell_type": "code",
   "execution_count": 74,
   "id": "ab032222",
   "metadata": {},
   "outputs": [
    {
     "name": "stdout",
     "output_type": "stream",
     "text": [
      "<class 'pandas.core.frame.DataFrame'>\n",
      "Int64Index: 72450 entries, 0 to 72450\n",
      "Data columns (total 20 columns):\n",
      " #   Column                                Non-Null Count  Dtype  \n",
      "---  ------                                --------------  -----  \n",
      " 0   id_guest_anon                         72450 non-null  object \n",
      " 1   id_host_anon                          72450 non-null  object \n",
      " 2   id_listing_anon                       72450 non-null  object \n",
      " 3   ts_interaction_first                  72450 non-null  object \n",
      " 4   ts_reply_at_first                     70418 non-null  object \n",
      " 5   ts_accepted_at_first                  60978 non-null  object \n",
      " 6   ts_booking_at                         56150 non-null  object \n",
      " 7   ds_checkin_first                      72450 non-null  object \n",
      " 8   ds_checkout_first                     72450 non-null  object \n",
      " 9   m_guests                              72449 non-null  float64\n",
      " 10  m_interactions                        72450 non-null  int64  \n",
      " 11  m_first_message_length_in_characters  72450 non-null  float64\n",
      " 12  contact_channel_first                 72450 non-null  object \n",
      " 13  guest_user_stage_first                72450 non-null  object \n",
      " 14  id_user_anon                          44563 non-null  float64\n",
      " 15  country                               44563 non-null  float64\n",
      " 16  words_in_user_profile                 44563 non-null  float64\n",
      " 17  room_type                             44563 non-null  float64\n",
      " 18  listing_neighborhood                  44563 non-null  float64\n",
      " 19  total_reviews                         44563 non-null  float64\n",
      "dtypes: float64(8), int64(1), object(11)\n",
      "memory usage: 13.6+ MB\n"
     ]
    }
   ],
   "source": [
    "df.info()"
   ]
  },
  {
   "cell_type": "code",
   "execution_count": 139,
   "id": "4c41f78b",
   "metadata": {},
   "outputs": [],
   "source": [
    "#Fill in the new data into the contacts df to create one df with all the data:\n",
    "for col in range(len(list(df.columns.values))):\n",
    "    if list(df.columns.values)[col] in list(listings.columns.values):\n",
    "        for row in range(len(list(listings['id_listing_anon']))):\n",
    "           df[list(df.columns.values)[col]][row + 27887 + 1] = listings[list(df.columns.values)[col]][row]\n",
    "    else:\n",
    "        pass\n",
    "for col in range(len(list(df.columns.values))):\n",
    "    if list(df.columns.values)[col] in list(users.columns.values):\n",
    "        for row in range(len(list(users['id_user_anon']))):\n",
    "           df[list(df.columns.values)[col]][row + 40925 + 1] = users[list(df.columns.values)[col]][row]\n",
    "    else:\n",
    "        pass"
   ]
  },
  {
   "cell_type": "code",
   "execution_count": 140,
   "id": "c61dd14e",
   "metadata": {},
   "outputs": [
    {
     "name": "stdout",
     "output_type": "stream",
     "text": [
      "id_guest_anon                                                              0\n",
      "id_host_anon                                                               0\n",
      "id_listing_anon                         b9ae1908-0486-40ac-bbcf-bd63ffebfe63\n",
      "ts_interaction_first                                                       0\n",
      "ts_reply_at_first                                                          0\n",
      "ts_accepted_at_first                                                       0\n",
      "ts_booking_at                                                              0\n",
      "ds_checkin_first                                                           0\n",
      "ds_checkout_first                                                          0\n",
      "m_guests                                                                 0.0\n",
      "m_interactions                                                             0\n",
      "m_first_message_length_in_characters                                     0.0\n",
      "contact_channel_first                                                      0\n",
      "guest_user_stage_first                                                     0\n",
      "id_user_anon                                                             0.0\n",
      "country                                                                  0.0\n",
      "words_in_user_profile                                                    0.0\n",
      "room_type                                                    Entire home/apt\n",
      "listing_neighborhood                                                    Lapa\n",
      "total_reviews                                                            4.0\n",
      "Name: 27891, dtype: object\n",
      "<class 'pandas.core.frame.DataFrame'>\n",
      "Int64Index: 72450 entries, 0 to 72450\n",
      "Data columns (total 20 columns):\n",
      " #   Column                                Non-Null Count  Dtype  \n",
      "---  ------                                --------------  -----  \n",
      " 0   id_guest_anon                         72450 non-null  object \n",
      " 1   id_host_anon                          72450 non-null  object \n",
      " 2   id_listing_anon                       72450 non-null  object \n",
      " 3   ts_interaction_first                  72450 non-null  object \n",
      " 4   ts_reply_at_first                     70418 non-null  object \n",
      " 5   ts_accepted_at_first                  60978 non-null  object \n",
      " 6   ts_booking_at                         56150 non-null  object \n",
      " 7   ds_checkin_first                      72450 non-null  object \n",
      " 8   ds_checkout_first                     72450 non-null  object \n",
      " 9   m_guests                              72449 non-null  float64\n",
      " 10  m_interactions                        72450 non-null  int64  \n",
      " 11  m_first_message_length_in_characters  72450 non-null  float64\n",
      " 12  contact_channel_first                 72450 non-null  object \n",
      " 13  guest_user_stage_first                72450 non-null  object \n",
      " 14  id_user_anon                          44563 non-null  object \n",
      " 15  country                               44562 non-null  object \n",
      " 16  words_in_user_profile                 44563 non-null  float64\n",
      " 17  room_type                             44563 non-null  object \n",
      " 18  listing_neighborhood                  44563 non-null  object \n",
      " 19  total_reviews                         44563 non-null  float64\n",
      "dtypes: float64(4), int64(1), object(15)\n",
      "memory usage: 13.6+ MB\n",
      "None\n"
     ]
    }
   ],
   "source": [
    "print(df.loc[27891])\n",
    "print(df.info())"
   ]
  },
  {
   "cell_type": "code",
   "execution_count": 141,
   "id": "7bffa633",
   "metadata": {},
   "outputs": [],
   "source": [
    "#Pickle:\n",
    "import pickle\n",
    "file = '/Users/harrybakhshi/Desktop/Python_notes/data/PCDA_capstone/Airbnb_data_not_cleaned.pik'\n",
    "with open(file, 'wb') as f:\n",
    "       pickle.dump(df, f) #write df to .pik file on disk\n",
    "# with open(file, 'rb') as f:\n",
    "#      df = pickle.load(f) #load pickle file 'file' into variable"
   ]
  },
  {
   "cell_type": "code",
   "execution_count": 150,
   "id": "e21f9c57",
   "metadata": {},
   "outputs": [
    {
     "name": "stdout",
     "output_type": "stream",
     "text": [
      "id_guest_anon                           84bbccd5-3857-4f95-93a4-a4cf45220c74\n",
      "id_host_anon                            3888b79f-317d-4f14-95e1-4afaa87cdea3\n",
      "id_listing_anon                         bf28436e-34b6-4aac-a90a-935a18ed3fb1\n",
      "ts_interaction_first                                     2016-06-08 11:59:42\n",
      "ts_reply_at_first                                        2016-06-08 11:59:42\n",
      "ts_accepted_at_first                                     2016-06-08 11:59:42\n",
      "ts_booking_at                                            2016-06-08 11:59:42\n",
      "ds_checkin_first                                         2016-09-25 00:00:00\n",
      "ds_checkout_first                                        2016-10-04 00:00:00\n",
      "m_guests                                                                 2.0\n",
      "m_interactions                                                            12\n",
      "m_first_message_length_in_characters                                   252.0\n",
      "contact_channel_first                                           instant_book\n",
      "guest_user_stage_first                                                   new\n",
      "id_user_anon                                                             NaN\n",
      "country                                                                  NaN\n",
      "words_in_user_profile                                                    NaN\n",
      "room_type                                                                  0\n",
      "listing_neighborhood                                                       0\n",
      "total_reviews                                                            0.0\n",
      "Name: 27886, dtype: object\n",
      "id_guest_anon                                                              0\n",
      "id_host_anon                                                               0\n",
      "id_listing_anon                         71582793-e5f8-46d7-afdf-7a31d2341c79\n",
      "ts_interaction_first                                                       0\n",
      "ts_reply_at_first                                                          0\n",
      "ts_accepted_at_first                                                       0\n",
      "ts_booking_at                                                              0\n",
      "ds_checkin_first                                                           0\n",
      "ds_checkout_first                                                          0\n",
      "m_guests                                                                 0.0\n",
      "m_interactions                                                             0\n",
      "m_first_message_length_in_characters                                     0.0\n",
      "contact_channel_first                                                      0\n",
      "guest_user_stage_first                                                     0\n",
      "id_user_anon                                                             0.0\n",
      "country                                                                  0.0\n",
      "words_in_user_profile                                                    0.0\n",
      "room_type                                                       Private room\n",
      "listing_neighborhood                                               -unknown-\n",
      "total_reviews                                                            0.0\n",
      "Name: 27888, dtype: object\n",
      "id_guest_anon                           84bbccd5-3857-4f95-93a4-a4cf45220c74\n",
      "id_host_anon                            3888b79f-317d-4f14-95e1-4afaa87cdea3\n",
      "id_listing_anon                         bf28436e-34b6-4aac-a90a-935a18ed3fb1\n",
      "ts_interaction_first                                     2016-06-08 11:59:42\n",
      "ts_reply_at_first                                        2016-06-08 11:59:42\n",
      "ts_accepted_at_first                                     2016-06-08 11:59:42\n",
      "ts_booking_at                                            2016-06-08 11:59:42\n",
      "ds_checkin_first                                         2016-09-25 00:00:00\n",
      "ds_checkout_first                                        2016-10-04 00:00:00\n",
      "m_guests                                                                 2.0\n",
      "m_interactions                                                            12\n",
      "m_first_message_length_in_characters                                   252.0\n",
      "contact_channel_first                                           instant_book\n",
      "guest_user_stage_first                                                   new\n",
      "id_user_anon                                                               0\n",
      "country                                                                    0\n",
      "words_in_user_profile                                                    0.0\n",
      "room_type                                                                  0\n",
      "listing_neighborhood                                                       0\n",
      "total_reviews                                                            0.0\n",
      "Name: 27886, dtype: object\n",
      "id_guest_anon                                                              0\n",
      "id_host_anon                                                               0\n",
      "id_listing_anon                         71582793-e5f8-46d7-afdf-7a31d2341c79\n",
      "ts_interaction_first                                                       0\n",
      "ts_reply_at_first                                                          0\n",
      "ts_accepted_at_first                                                       0\n",
      "ts_booking_at                                                              0\n",
      "ds_checkin_first                                                           0\n",
      "ds_checkout_first                                                          0\n",
      "m_guests                                                                 0.0\n",
      "m_interactions                                                             0\n",
      "m_first_message_length_in_characters                                     0.0\n",
      "contact_channel_first                                                      0\n",
      "guest_user_stage_first                                                     0\n",
      "id_user_anon                                                               0\n",
      "country                                                                    0\n",
      "words_in_user_profile                                                    0.0\n",
      "room_type                                                       Private room\n",
      "listing_neighborhood                                               -unknown-\n",
      "total_reviews                                                            0.0\n",
      "Name: 27888, dtype: object\n",
      "id_guest_anon                                                              0\n",
      "id_host_anon                                                               0\n",
      "id_listing_anon                         b9ae1908-0486-40ac-bbcf-bd63ffebfe63\n",
      "ts_interaction_first                                                       0\n",
      "ts_reply_at_first                                                          0\n",
      "ts_accepted_at_first                                                       0\n",
      "ts_booking_at                                                              0\n",
      "ds_checkin_first                                                           0\n",
      "ds_checkout_first                                                          0\n",
      "m_guests                                                                 0.0\n",
      "m_interactions                                                             0\n",
      "m_first_message_length_in_characters                                     0.0\n",
      "contact_channel_first                                                      0\n",
      "guest_user_stage_first                                                     0\n",
      "id_user_anon                                                               0\n",
      "country                                                                    0\n",
      "words_in_user_profile                                                    0.0\n",
      "room_type                                                    Entire home/apt\n",
      "listing_neighborhood                                                    Lapa\n",
      "total_reviews                                                            4.0\n",
      "Name: 27891, dtype: object\n"
     ]
    }
   ],
   "source": [
    "#Fill nan's that were created by combining columns:\n",
    "listings_cols = list(listings.columns.values)[1:]\n",
    "# print(listings_cols)\n",
    "# print(df.loc[27886])\n",
    "# print(df.loc[27888])\n",
    "for col in range(len(list(df.columns.values))):\n",
    "    if list(df.columns.values)[col] in listings_cols:\n",
    "        for row in range(27887):\n",
    "            df[list(df.columns.values)[col]][row] = 0\n",
    "# print(df.loc[27886])\n",
    "# print(df.loc[27888])\n",
    "    if list(df.columns.values)[col] in list(users.columns.values):\n",
    "        for row in range(40925):\n",
    "            df[list(df.columns.values)[col]][row] = 0\n",
    "# print(df.loc[27886])\n",
    "# print(df.loc[27888])\n",
    "# print(df.loc[27891])"
   ]
  },
  {
   "cell_type": "code",
   "execution_count": 151,
   "id": "79a9f291",
   "metadata": {},
   "outputs": [
    {
     "name": "stdout",
     "output_type": "stream",
     "text": [
      "<class 'pandas.core.frame.DataFrame'>\n",
      "Int64Index: 56149 entries, 0 to 72450\n",
      "Data columns (total 20 columns):\n",
      " #   Column                                Non-Null Count  Dtype  \n",
      "---  ------                                --------------  -----  \n",
      " 0   id_guest_anon                         56149 non-null  object \n",
      " 1   id_host_anon                          56149 non-null  object \n",
      " 2   id_listing_anon                       56149 non-null  object \n",
      " 3   ts_interaction_first                  56149 non-null  object \n",
      " 4   ts_reply_at_first                     56149 non-null  object \n",
      " 5   ts_accepted_at_first                  56149 non-null  object \n",
      " 6   ts_booking_at                         56149 non-null  object \n",
      " 7   ds_checkin_first                      56149 non-null  object \n",
      " 8   ds_checkout_first                     56149 non-null  object \n",
      " 9   m_guests                              56149 non-null  float64\n",
      " 10  m_interactions                        56149 non-null  int64  \n",
      " 11  m_first_message_length_in_characters  56149 non-null  float64\n",
      " 12  contact_channel_first                 56149 non-null  object \n",
      " 13  guest_user_stage_first                56149 non-null  object \n",
      " 14  id_user_anon                          56149 non-null  object \n",
      " 15  country                               56149 non-null  object \n",
      " 16  words_in_user_profile                 56149 non-null  float64\n",
      " 17  room_type                             56149 non-null  object \n",
      " 18  listing_neighborhood                  56149 non-null  object \n",
      " 19  total_reviews                         56149 non-null  float64\n",
      "dtypes: float64(4), int64(1), object(15)\n",
      "memory usage: 11.0+ MB\n",
      "None\n"
     ]
    }
   ],
   "source": [
    "#Remove null rows in cols 4, 5, 6, 9, 15:\n",
    "df2 = df.copy()\n",
    "col_indices = [4, 5, 6, 9, 15]\n",
    "for col in range(len(col_indices)):\n",
    "    for i in df2.index:\n",
    "        val = df2.loc[i, df.columns.values[col_indices[col]]]\n",
    "        if pd.isnull(val):\n",
    "            df2.drop(i, inplace = True)\n",
    "print(df2.info()) #see results on dataframe"
   ]
  },
  {
   "cell_type": "code",
   "execution_count": 152,
   "id": "717d137d",
   "metadata": {},
   "outputs": [],
   "source": [
    "df = df2"
   ]
  },
  {
   "cell_type": "code",
   "execution_count": 153,
   "id": "9503eaaf",
   "metadata": {},
   "outputs": [],
   "source": [
    "#ensure timestamps in datetime64[ns] format\n",
    "col_indices = [3, 4, 5, 6]\n",
    "for col in range(len(col_indices)):\n",
    "    for i in df.index:\n",
    "        df[df.columns.values[col_indices[col]]][i] = pd.to_datetime(df[df.columns.values[col_indices[col]]][i])       "
   ]
  },
  {
   "cell_type": "code",
   "execution_count": 154,
   "id": "40941eca",
   "metadata": {},
   "outputs": [
    {
     "name": "stdout",
     "output_type": "stream",
     "text": [
      "<class 'pandas.core.frame.DataFrame'>\n",
      "Int64Index: 56149 entries, 0 to 72450\n",
      "Data columns (total 20 columns):\n",
      " #   Column                                Non-Null Count  Dtype  \n",
      "---  ------                                --------------  -----  \n",
      " 0   id_guest_anon                         56149 non-null  object \n",
      " 1   id_host_anon                          56149 non-null  object \n",
      " 2   id_listing_anon                       56149 non-null  object \n",
      " 3   ts_interaction_first                  56149 non-null  object \n",
      " 4   ts_reply_at_first                     56149 non-null  object \n",
      " 5   ts_accepted_at_first                  56149 non-null  object \n",
      " 6   ts_booking_at                         56149 non-null  object \n",
      " 7   ds_checkin_first                      56149 non-null  object \n",
      " 8   ds_checkout_first                     56149 non-null  object \n",
      " 9   m_guests                              56149 non-null  float64\n",
      " 10  m_interactions                        56149 non-null  int64  \n",
      " 11  m_first_message_length_in_characters  56149 non-null  float64\n",
      " 12  contact_channel_first                 56149 non-null  object \n",
      " 13  guest_user_stage_first                56149 non-null  object \n",
      " 14  id_user_anon                          56149 non-null  object \n",
      " 15  country                               56149 non-null  object \n",
      " 16  words_in_user_profile                 56149 non-null  float64\n",
      " 17  room_type                             56149 non-null  object \n",
      " 18  listing_neighborhood                  56149 non-null  object \n",
      " 19  total_reviews                         56149 non-null  float64\n",
      "dtypes: float64(4), int64(1), object(15)\n",
      "memory usage: 11.0+ MB\n"
     ]
    }
   ],
   "source": [
    "df.info()"
   ]
  },
  {
   "cell_type": "code",
   "execution_count": 155,
   "id": "169423f5",
   "metadata": {},
   "outputs": [],
   "source": [
    "# df[df.columns.values[18]].head(20)"
   ]
  },
  {
   "cell_type": "code",
   "execution_count": null,
   "id": "06ab1aef",
   "metadata": {},
   "outputs": [],
   "source": [
    "#id_guest_anon = guest id\n",
    "#id_host_anon = host id                          \n",
    "#id_listing_anon = listing id                        \n",
    "#ts_interaction_first = first guest interaction with listing                   \n",
    "#ts_reply_at_first = first reply to guest inquiry                     \n",
    "#ts_accepted_at_first = first acceptance of guest booking                 \n",
    "#ts_booking_at = when booked                     \n",
    "#ds_checkin_first = when first guest checked in                      \n",
    "#ds_checkout_first = when first guest to check out checked out              \n",
    "#m_guests = no. of guests booked                             \n",
    "#m_interactions = no of interactions with the listing before host accepts actual guest booking                       \n",
    "#m_first_message_length_in_characters = length of first message between guest and host in characters\n",
    "#contact_channel_first = channel by which host first contacted by guest              \n",
    "#guest_user_stage_first = first type of guest making booking    \n",
    "#id_user_anon = user id                     \n",
    "#country = country of user                               \n",
    "#words_in_user_profile = words in user profile             \n",
    "#room_type = type of room of listing                            \n",
    "#listing_neighborhood = neighbourhood in which listing can be found               \n",
    "#total_reviews = no. of listing reviews     "
   ]
  },
  {
   "cell_type": "code",
   "execution_count": 156,
   "id": "4154f48e",
   "metadata": {},
   "outputs": [],
   "source": [
    "#Find unique value count for categorical values:\n",
    "#Cols 0-2, 12-15, 17, 18 are categorical:\n",
    "col_indices = [0, 1, 2, 12, 13, 14, 15, 17, 18]\n",
    "lists_unique_entries = []\n",
    "for col in range(len(col_indices)):\n",
    "    df_col = df[df.columns.values[col_indices[col]]]\n",
    "    type_list = []\n",
    "    for i in df_col.index:\n",
    "        entry = df_col[i]\n",
    "        try: \n",
    "            found_type = str(entry)\n",
    "            type_list.append(entry)\n",
    "        except:\n",
    "            pass\n",
    "    # #How many elements?\n",
    "    # print('Elem after:' + ' ' + str(len(type_list)))\n",
    "    # print('')\n",
    "    #Find unique members of the list:\n",
    "    found_list = []\n",
    "    unique_in_type_list = []\n",
    "    entry = []\n",
    "    type_list_length = len(type_list)\n",
    "    for i in range(type_list_length):\n",
    "          entry = type_list[i]\n",
    "          if entry not in found_list:\n",
    "            unique_in_type_list.append(entry)\n",
    "            found_list.append(entry)\n",
    "    lists_unique_entries.append(unique_in_type_list)"
   ]
  },
  {
   "cell_type": "code",
   "execution_count": 157,
   "id": "0c8c963b",
   "metadata": {},
   "outputs": [
    {
     "name": "stdout",
     "output_type": "stream",
     "text": [
      "['book_it', 'instant_book', 'contact_me', 0]\n",
      "['past_booker', 'new', '-unknown-', 0]\n",
      "[0, 'FR', 'AR', 'BR', 'US', 'CA', 'GB', 'AE', 'DE', 'BE', 'AT', 'NO', 'UY', 'PY', 'FI', 'ZA', 'CH', 'CL', 'NL', 'AU', 'CO', 'MX', 'SE', 'ES', 'IE', 'IT', 'CR', 'PE', 'DK', 'JP', 'SI', 'EG', 'PA', 'GR', 'RU', 'HK', 'PT', 'TR', 'NZ', 'BY', 'RO', 'CN', 'IL', 'TW', 'SG', 'PL', 'BO', 'PH', 'GF', 'IN', 'MA', 'CZ', 'BZ', 'ME', 'MY', 'GP', 'LT', 'EC', 'VN', 'HU', 'CD', 'VI', 'VE', 'SK', 'NP', 'EE', 'QA', 'SA', 'KR', 'DO', 'HN', 'MC', 'JE', 'BM', 'MT', 'MU', 'IQ', 'LV', 'RS', 'GT', 'HR', 'KY', 'SV', 'UA', 'LB', 'BS', 'BG', 'IS', 'PR', 'UG', 'TT', 'SR', 'BA', 'LU', 'TH', 'GH', 'RE', 'PK', 'PF', 'AW', 'JO', 'LK', 'KE', 'BD', 'MK', 'BB', 'ID', 'AO', 'CY', 'NG', 'MZ', 'FJ', 'OM', 'GU', 'LY', 'MN', 'SM', 'NC', 'AZ', 'JM', 'KW', 'GE']\n",
      "[0, 'Private room', 'Entire home/apt', 'Shared room']\n",
      "[0, '-unknown-', 'Copacabana', 'Barra da Tijuca', 'Lapa', 'Ipanema', 'Botafogo', 'Recreio dos Bandeirantes', 'Leblon', 'São Conrado', 'Praça da Bandeira', 'Humaitá', 'Tijuca', 'Lagoa', 'Catete', 'Rio Comprido', 'Santa Teresa', 'Flamengo', 'Glória', 'Gávea', 'Leme', 'Vidigal', 'Santo Cristo', 'Laranjeiras', 'Maracanã', 'Jardim Botânico', 'Méier', 'Riachuelo', 'Cidade Nova', 'Urca', 'Abolição', 'Irajá', 'Coelho Neto', 'Vila Isabel', 'Centro', 'São Cristóvão', 'Catumbi', 'Penha', 'Joá', 'Cosme Velho', 'Engenho Novo', 'Engenho de Dentro', 'Vigário Geral', 'Bonsucesso', 'Estacio', 'Benfica', 'Guadalupe', 'Barros Filho', 'Del Castilho', 'Vila da Penha', 'Grajaú', 'Brás de Pina', 'Todos os Santos', 'Madureira', 'Andaraí', 'Penha Circular', 'Olaria', 'Sampaio', 'Rocha', 'Engenho da Rainha', 'Marechal Hermes', 'Gamboa', 'Encantado', 'Ramos', 'Saúde', 'Vaz Lobo', 'Rocinha', 'Quintino Bocaiúva', 'Parada de Lucas']\n"
     ]
    }
   ],
   "source": [
    "#All categorical variables nominal (lists_unique_entries[0] - lists_unique_entries[2] and lists_unique_entries[5]\n",
    "#have huge no. of different nominal values):\n",
    "print(lists_unique_entries[3])\n",
    "print(lists_unique_entries[4])\n",
    "print(lists_unique_entries[6])\n",
    "print(lists_unique_entries[7])\n",
    "print(lists_unique_entries[8])"
   ]
  },
  {
   "cell_type": "code",
   "execution_count": 158,
   "id": "1bf27c05",
   "metadata": {},
   "outputs": [],
   "source": [
    "#Pickle (before any one hot encoder):\n",
    "file = '/Users/harrybakhshi/Desktop/Python_notes/data/PCDA_capstone/Airbnb_data_clean_not_transformed.pik'\n",
    "with open(file, 'wb') as f:\n",
    "       pickle.dump(df, f) #write df to .pik file on disk\n",
    "# with open(file, 'rb') as f:\n",
    "#      df = pickle.load(f) #load pickle file 'file' into variable"
   ]
  },
  {
   "cell_type": "code",
   "execution_count": 161,
   "id": "250e7da1",
   "metadata": {},
   "outputs": [
    {
     "name": "stdout",
     "output_type": "stream",
     "text": [
      "<class 'pandas.core.frame.DataFrame'>\n",
      "Int64Index: 56149 entries, 0 to 72450\n",
      "Data columns (total 20 columns):\n",
      " #   Column                                Non-Null Count  Dtype  \n",
      "---  ------                                --------------  -----  \n",
      " 0   id_guest_anon                         56149 non-null  object \n",
      " 1   id_host_anon                          56149 non-null  object \n",
      " 2   id_listing_anon                       56149 non-null  object \n",
      " 3   ts_interaction_first                  56149 non-null  object \n",
      " 4   ts_reply_at_first                     56149 non-null  object \n",
      " 5   ts_accepted_at_first                  56149 non-null  object \n",
      " 6   ts_booking_at                         56149 non-null  object \n",
      " 7   ds_checkin_first                      56149 non-null  object \n",
      " 8   ds_checkout_first                     56149 non-null  object \n",
      " 9   m_guests                              56149 non-null  float64\n",
      " 10  m_interactions                        56149 non-null  int64  \n",
      " 11  m_first_message_length_in_characters  56149 non-null  float64\n",
      " 12  contact_channel_first                 56149 non-null  object \n",
      " 13  guest_user_stage_first                56149 non-null  object \n",
      " 14  id_user_anon                          56149 non-null  object \n",
      " 15  country                               56149 non-null  object \n",
      " 16  words_in_user_profile                 56149 non-null  float64\n",
      " 17  room_type                             56149 non-null  object \n",
      " 18  listing_neighborhood                  56149 non-null  object \n",
      " 19  total_reviews                         56149 non-null  float64\n",
      "dtypes: float64(4), int64(1), object(15)\n",
      "memory usage: 11.0+ MB\n"
     ]
    }
   ],
   "source": [
    "df.info()"
   ]
  },
  {
   "cell_type": "code",
   "execution_count": 167,
   "id": "81693def",
   "metadata": {},
   "outputs": [
    {
     "name": "stdout",
     "output_type": "stream",
     "text": [
      "<class 'pandas.core.frame.DataFrame'>\n",
      "Int64Index: 56149 entries, 0 to 56148\n",
      "Data columns (total 4 columns):\n",
      " #   Column                                Non-Null Count  Dtype  \n",
      "---  ------                                --------------  -----  \n",
      " 0   ts_interaction_first                  56149 non-null  object \n",
      " 1   m_guests                              56149 non-null  float64\n",
      " 2   m_interactions                        56149 non-null  int64  \n",
      " 3   m_first_message_length_in_characters  56149 non-null  float64\n",
      "dtypes: float64(2), int64(1), object(1)\n",
      "memory usage: 2.1+ MB\n"
     ]
    }
   ],
   "source": [
    "#Plan -\n",
    "#Do multivariate time series with variables:\n",
    "\n",
    "#timestamp:\n",
    "#ts_interaction_first = first guest interaction with listing \n",
    "\n",
    "#Variables:\n",
    "#m_guests = no. of guests booked                             \n",
    "#m_interactions = no of interactions with the listing before host accepts actual guest booking                     \n",
    "#m_first_message_length_in_characters = length of first message between guest and host in characters\n",
    "\n",
    "#Forecast the no. of guests that will book, no of interactions with the listing before host accepts actual \n",
    "#guest booking , length of first message between guest and host in characters for a given timestamp where \n",
    "#the time is the time of the first first guest interaction with the listing \n",
    "\n",
    "#Able to work out at a specific time of interest, at which guests first find a listing they \n",
    "#go on to book, how many guests do they go on to book, how much interaction as interest is there with the listing \n",
    "#before their booking is accepted, and what is the [successful] length of first message between the \n",
    "#successful booking guest and the host?\n",
    "\n",
    "#Useful for knowing guest party sizes for listings at future times (what stay scenarios are selling), interest at\n",
    "#future times (interactions) leading to sales of stays, what a successful guest-host interaction will look like \n",
    "#in the future (could adjust software and policies accordingly)\n",
    "\n",
    "#Drop cols not needed:\n",
    "col_indices = [0, 1, 2, 4, 5, 6, 7, 8, 12, 13, 14, 15, 16, 17, 18, 19]\n",
    "df2 = df.copy()\n",
    "df2.index = np.arange(0, len(df2))\n",
    "for col in range(len(col_indices)):\n",
    "    df2 = df2.drop(df.columns.values[col_indices[col]], axis=1)\n",
    "df2.info()"
   ]
  },
  {
   "cell_type": "code",
   "execution_count": 168,
   "id": "0081642f",
   "metadata": {},
   "outputs": [],
   "source": [
    "#Pickle multivariate timeseries:\n",
    "file = '/Users/harrybakhshi/Desktop/Python_notes/data/PCDA_capstone/Airbnb_data_ts.pik'\n",
    "with open(file, 'wb') as f:\n",
    "       pickle.dump(df2, f) #write df to .pik file on disk\n",
    "# with open(file, 'rb') as f:\n",
    "#      df = pickle.load(f) #load pickle file 'file' into variable"
   ]
  },
  {
   "cell_type": "code",
   "execution_count": null,
   "id": "928b1410",
   "metadata": {},
   "outputs": [],
   "source": []
  }
 ],
 "metadata": {
  "colab": {
   "provenance": []
  },
  "kernelspec": {
   "display_name": "Python 3 (ipykernel)",
   "language": "python",
   "name": "python3"
  },
  "language_info": {
   "codemirror_mode": {
    "name": "ipython",
    "version": 3
   },
   "file_extension": ".py",
   "mimetype": "text/x-python",
   "name": "python",
   "nbconvert_exporter": "python",
   "pygments_lexer": "ipython3",
   "version": "3.11.8"
  },
  "toc": {
   "base_numbering": 1,
   "nav_menu": {},
   "number_sections": true,
   "sideBar": true,
   "skip_h1_title": false,
   "title_cell": "Table of Contents",
   "title_sidebar": "Contents",
   "toc_cell": false,
   "toc_position": {},
   "toc_section_display": true,
   "toc_window_display": false
  }
 },
 "nbformat": 4,
 "nbformat_minor": 5
}
