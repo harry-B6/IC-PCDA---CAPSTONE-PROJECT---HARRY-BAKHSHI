{
 "cells": [
  {
   "cell_type": "markdown",
   "id": "f9d2d086-0466-4b18-8521-7bc70164e473",
   "metadata": {},
   "source": [
    "<div class=\"alert alert-block alert-success\">\n",
    "     \n",
    "# IC PCDA CAPSTONE - HARRY BAKHSHI - NOTEBOOK 12 - COMBINING VALIDATION AND TEST SET FORECASTS BY \"BEST FIT\" METHOD\n",
    "     \n",
    "</div>"
   ]
  },
  {
   "cell_type": "code",
   "execution_count": 1,
   "id": "d8df92b0-61db-4e17-a5be-e992bf9ae9a8",
   "metadata": {},
   "outputs": [
    {
     "name": "stderr",
     "output_type": "stream",
     "text": [
      "/Users/harrybakhshi/Desktop/Python_notes/Modern-Time-Series-Forecasting-with-Python-main/src/utils/data_utils.py:6: TqdmExperimentalWarning: Using `tqdm.autonotebook.tqdm` in notebook mode. Use `tqdm.tqdm` instead to force console mode (e.g. in jupyter console)\n",
      "  from tqdm.autonotebook import tqdm\n"
     ]
    }
   ],
   "source": [
    "import numpy as np\n",
    "import matplotlib.pyplot as plt\n",
    "import os\n",
    "import plotly.io as pio\n",
    "import plotly.express as px\n",
    "pio.templates.default = \"plotly_white\"\n",
    "import pandas as pd\n",
    "import pickle\n",
    "import statistics\n",
    "from darts.metrics import mase, mse, mae\n",
    "from sklearn.preprocessing import StandardScaler\n",
    "import time\n",
    "import warnings\n",
    "from src.utils.ts_utils import forecast_bias, darts_metrics_adapter\n",
    "from src.utils.general import LogTime\n",
    "from src.utils import plotting_utils\n",
    "from src.forecasting.ml_forecasting import MissingValueConfig, FeatureConfig, ModelConfig, MLForecast, calculate_metrics"
   ]
  },
  {
   "cell_type": "markdown",
   "id": "5b3149be-6c1d-4d53-b214-6d291f6ae6c3",
   "metadata": {},
   "source": [
    "Import data:"
   ]
  },
  {
   "cell_type": "code",
   "execution_count": 2,
   "id": "06bd8196-b97a-442a-a835-46d8cc1b6246",
   "metadata": {},
   "outputs": [],
   "source": [
    "#Import timeseries forecast data:\n",
    "file = '/Users/harrybakhshi/Desktop/Python_notes/data/PCDA_capstone/ml_validation/metric_df_2.pik'\n",
    "# with open(file, 'wb') as f:\n",
    "#     pickle.dump(metric_df_val, f) #write df to .pik file on disk\n",
    "with open(file, 'rb') as f:\n",
    "     metric_df_val = pickle.load(f) #load pickle file 'file' into variable\n",
    "file = '/Users/harrybakhshi/Desktop/Python_notes/data/PCDA_capstone/ml_validation/pred_df_2.pik'\n",
    "# with open(file, 'wb') as f:\n",
    "#     pickle.dump(pred_df_val, f) #write df to .pik file on disk\n",
    "with open(file, 'rb') as f:\n",
    "     pred_df_val = pickle.load(f) #load pickle file 'file' into variable\n",
    "file = '/Users/harrybakhshi/Desktop/Python_notes/data/PCDA_capstone/ml_test/metric_df_2.pik'\n",
    "# with open(file, 'wb') as f:\n",
    "#     pickle.dump(metric_df_test, f) #write df to .pik file on disk\n",
    "with open(file, 'rb') as f:\n",
    "     metric_df_test = pickle.load(f) #load pickle file 'file' into variable\n",
    "file = '/Users/harrybakhshi/Desktop/Python_notes/data/PCDA_capstone/ml_test/pred_df_2.pik'\n",
    "# with open(file, 'wb') as f:\n",
    "#     pickle.dump(pred_df_test, f) #write df to .pik file on disk\n",
    "with open(file, 'rb') as f:\n",
    "     pred_df_test = pickle.load(f) #load pickle file 'file' into variable"
   ]
  },
  {
   "cell_type": "code",
   "execution_count": 3,
   "id": "425d4795-fab8-40ae-8d10-fec2470786a1",
   "metadata": {},
   "outputs": [],
   "source": [
    "#For formatting plots:\n",
    "def format_plot(fig, legends = None, xlabel=\"Time\", ylabel=\"Value\", title=\"\", figsize=(500,900), font_size=15, title_font_size=20):\n",
    "    if legends:\n",
    "        names = cycle(legends)\n",
    "        fig.for_each_trace(lambda t:  t.update(name = next(names)))\n",
    "    fig.update_layout(\n",
    "            autosize=False,\n",
    "            width=figsize[1],\n",
    "            height=figsize[0],\n",
    "            title={\n",
    "            'x':0.5,\n",
    "            'xanchor': 'center',\n",
    "            'yanchor': 'top'},\n",
    "            titlefont={\n",
    "                \"size\": 20\n",
    "            },\n",
    "            legend_title = None,\n",
    "            legend=dict(\n",
    "                font=dict(size=font_size),\n",
    "                orientation=\"h\",\n",
    "                yanchor=\"bottom\",\n",
    "                y=0.98,\n",
    "                xanchor=\"right\",\n",
    "                x=1,\n",
    "            ),\n",
    "            yaxis=dict(\n",
    "                title_text=ylabel,\n",
    "                titlefont=dict(size=font_size),\n",
    "                tickfont=dict(size=font_size),\n",
    "            ),\n",
    "            xaxis=dict(\n",
    "                title_text=xlabel,\n",
    "                titlefont=dict(size=font_size),\n",
    "                tickfont=dict(size=font_size),\n",
    "            )\n",
    "        )\n",
    "    return fig\n",
    "\n",
    "#^https://github.com/PacktPublishing/Modern-Time-Series-Forecasting-with-Python/blob/main/notebooks/Chapter03/01-Visualizing%20Time%20Series.ipynb\n",
    "#Accessed 06/06/2024"
   ]
  },
  {
   "cell_type": "markdown",
   "id": "254dbae1-ae0c-4e36-b4f7-4392fe6804ab",
   "metadata": {},
   "source": [
    "# FIND BEST MODEL AND BEST FIT, COMPARE"
   ]
  },
  {
   "cell_type": "markdown",
   "id": "dd9705e3-5b3f-4b3a-9320-806563c1f65d",
   "metadata": {},
   "source": [
    "# Compare the median model metrics:"
   ]
  },
  {
   "cell_type": "code",
   "execution_count": 4,
   "id": "47a8d862-d1d8-4bda-9cf1-2de3de95d63c",
   "metadata": {},
   "outputs": [
    {
     "data": {
      "text/html": [
       "<div>\n",
       "<style scoped>\n",
       "    .dataframe tbody tr th:only-of-type {\n",
       "        vertical-align: middle;\n",
       "    }\n",
       "\n",
       "    .dataframe tbody tr th {\n",
       "        vertical-align: top;\n",
       "    }\n",
       "\n",
       "    .dataframe thead th {\n",
       "        text-align: right;\n",
       "    }\n",
       "</style>\n",
       "<table border=\"1\" class=\"dataframe\">\n",
       "  <thead>\n",
       "    <tr style=\"text-align: right;\">\n",
       "      <th></th>\n",
       "      <th>Model</th>\n",
       "      <th>Median MAE</th>\n",
       "      <th>Median MSE</th>\n",
       "      <th>Median MASE</th>\n",
       "      <th>Median Forecast Bias</th>\n",
       "    </tr>\n",
       "  </thead>\n",
       "  <tbody>\n",
       "    <tr>\n",
       "      <th>0</th>\n",
       "      <td>Linear Regression</td>\n",
       "      <td>6.207416e+01</td>\n",
       "      <td>3.856081e+03</td>\n",
       "      <td>7.011926e+00</td>\n",
       "      <td>3.443542e+01</td>\n",
       "    </tr>\n",
       "    <tr>\n",
       "      <th>1</th>\n",
       "      <td>Lasso Regression</td>\n",
       "      <td>1.057853e+02</td>\n",
       "      <td>1.119522e+04</td>\n",
       "      <td>1.194956e+01</td>\n",
       "      <td>5.868405e+01</td>\n",
       "    </tr>\n",
       "    <tr>\n",
       "      <th>2</th>\n",
       "      <td>Linear SVR</td>\n",
       "      <td>1.469489e+02</td>\n",
       "      <td>2.159791e+04</td>\n",
       "      <td>1.659941e+01</td>\n",
       "      <td>8.151938e+01</td>\n",
       "    </tr>\n",
       "    <tr>\n",
       "      <th>3</th>\n",
       "      <td>XGB</td>\n",
       "      <td>3.139295e-04</td>\n",
       "      <td>2.972544e-07</td>\n",
       "      <td>3.546162e-05</td>\n",
       "      <td>1.411387e-04</td>\n",
       "    </tr>\n",
       "    <tr>\n",
       "      <th>4</th>\n",
       "      <td>LightGBM</td>\n",
       "      <td>1.797021e-01</td>\n",
       "      <td>4.815939e-02</td>\n",
       "      <td>2.029923e-02</td>\n",
       "      <td>-9.568705e-02</td>\n",
       "    </tr>\n",
       "    <tr>\n",
       "      <th>5</th>\n",
       "      <td>Decision Tree</td>\n",
       "      <td>1.136868e-13</td>\n",
       "      <td>1.292470e-26</td>\n",
       "      <td>1.284212e-14</td>\n",
       "      <td>-9.294140e-14</td>\n",
       "    </tr>\n",
       "    <tr>\n",
       "      <th>6</th>\n",
       "      <td>Random Forest</td>\n",
       "      <td>3.410605e-13</td>\n",
       "      <td>1.163223e-25</td>\n",
       "      <td>3.852635e-14</td>\n",
       "      <td>-1.991602e-13</td>\n",
       "    </tr>\n",
       "  </tbody>\n",
       "</table>\n",
       "</div>"
      ],
      "text/plain": [
       "               Model    Median MAE    Median MSE   Median MASE  \\\n",
       "0  Linear Regression  6.207416e+01  3.856081e+03  7.011926e+00   \n",
       "1   Lasso Regression  1.057853e+02  1.119522e+04  1.194956e+01   \n",
       "2         Linear SVR  1.469489e+02  2.159791e+04  1.659941e+01   \n",
       "3                XGB  3.139295e-04  2.972544e-07  3.546162e-05   \n",
       "4           LightGBM  1.797021e-01  4.815939e-02  2.029923e-02   \n",
       "5      Decision Tree  1.136868e-13  1.292470e-26  1.284212e-14   \n",
       "6      Random Forest  3.410605e-13  1.163223e-25  3.852635e-14   \n",
       "\n",
       "   Median Forecast Bias  \n",
       "0          3.443542e+01  \n",
       "1          5.868405e+01  \n",
       "2          8.151938e+01  \n",
       "3          1.411387e-04  \n",
       "4         -9.568705e-02  \n",
       "5         -9.294140e-14  \n",
       "6         -1.991602e-13  "
      ]
     },
     "execution_count": 4,
     "metadata": {},
     "output_type": "execute_result"
    }
   ],
   "source": [
    "metric_df = metric_df_val\n",
    "median_mae_list = []\n",
    "median_mae_list.append(statistics.median(metric_df[metric_df['Linear Regression'] == 1]['MAE']))\n",
    "median_mae_list.append(statistics.median(metric_df[metric_df['Lasso Regression'] == 1]['MAE']))\n",
    "median_mae_list.append(statistics.median(metric_df[metric_df['Linear SVR'] == 1]['MAE']))\n",
    "median_mae_list.append(statistics.median(metric_df[metric_df['XGB'] == 1]['MAE']))\n",
    "median_mae_list.append(statistics.median(metric_df[metric_df['LightGBM'] == 1]['MAE']))\n",
    "median_mae_list.append(statistics.median(metric_df[metric_df['Decision Tree'] == 1]['MAE']))\n",
    "median_mae_list.append(statistics.median(metric_df[metric_df['Random Forest'] == 1]['MAE']))\n",
    "median_mse_list = []\n",
    "median_mse_list.append(statistics.median(metric_df[metric_df['Linear Regression'] == 1]['MSE']))\n",
    "median_mse_list.append(statistics.median(metric_df[metric_df['Lasso Regression'] == 1]['MSE']))\n",
    "median_mse_list.append(statistics.median(metric_df[metric_df['Linear SVR'] == 1]['MSE']))\n",
    "median_mse_list.append(statistics.median(metric_df[metric_df['XGB'] == 1]['MSE']))\n",
    "median_mse_list.append(statistics.median(metric_df[metric_df['LightGBM'] == 1]['MSE']))\n",
    "median_mse_list.append(statistics.median(metric_df[metric_df['Decision Tree'] == 1]['MSE']))\n",
    "median_mse_list.append(statistics.median(metric_df[metric_df['Random Forest'] == 1]['MSE']))\n",
    "median_mase_list = []\n",
    "median_mase_list.append(statistics.median(metric_df[metric_df['Linear Regression'] == 1]['MASE']))\n",
    "median_mase_list.append(statistics.median(metric_df[metric_df['Lasso Regression'] == 1]['MASE']))\n",
    "median_mase_list.append(statistics.median(metric_df[metric_df['Linear SVR'] == 1]['MASE']))\n",
    "median_mase_list.append(statistics.median(metric_df[metric_df['XGB'] == 1]['MASE']))\n",
    "median_mase_list.append(statistics.median(metric_df[metric_df['LightGBM'] == 1]['MASE']))\n",
    "median_mase_list.append(statistics.median(metric_df[metric_df['Decision Tree'] == 1]['MASE']))\n",
    "median_mase_list.append(statistics.median(metric_df[metric_df['Random Forest'] == 1]['MASE']))\n",
    "median_fbias_list = []\n",
    "median_fbias_list.append(statistics.median(metric_df[metric_df['Linear Regression'] == 1]['Forecast Bias']))\n",
    "median_fbias_list.append(statistics.median(metric_df[metric_df['Lasso Regression'] == 1]['Forecast Bias']))\n",
    "median_fbias_list.append(statistics.median(metric_df[metric_df['Linear SVR'] == 1]['Forecast Bias']))\n",
    "median_fbias_list.append(statistics.median(metric_df[metric_df['XGB'] == 1]['Forecast Bias']))\n",
    "median_fbias_list.append(statistics.median(metric_df[metric_df['LightGBM'] == 1]['Forecast Bias']))\n",
    "median_fbias_list.append(statistics.median(metric_df[metric_df['Decision Tree'] == 1]['Forecast Bias']))\n",
    "median_fbias_list.append(statistics.median(metric_df[metric_df['Random Forest'] == 1]['Forecast Bias']))\n",
    "model_list = ['Linear Regression', 'Lasso Regression', 'Linear SVR', 'XGB', 'LightGBM', 'Decision Tree', 'Random Forest']\n",
    "d = {'Model': model_list, 'Median MAE': median_mae_list, 'Median MSE': median_mse_list, 'Median MASE': median_mase_list, 'Median Forecast Bias': median_fbias_list}\n",
    "df = pd.DataFrame(data=d)\n",
    "df"
   ]
  },
  {
   "cell_type": "markdown",
   "id": "fbb2fe66-6d6b-47e1-878a-41b103d2eb78",
   "metadata": {},
   "source": [
    "## FIND BEST MODEL"
   ]
  },
  {
   "cell_type": "code",
   "execution_count": 5,
   "id": "0edf4e4e-c841-42ed-9858-8209eca95064",
   "metadata": {},
   "outputs": [
    {
     "data": {
      "text/html": [
       "<div>\n",
       "<style scoped>\n",
       "    .dataframe tbody tr th:only-of-type {\n",
       "        vertical-align: middle;\n",
       "    }\n",
       "\n",
       "    .dataframe tbody tr th {\n",
       "        vertical-align: top;\n",
       "    }\n",
       "\n",
       "    .dataframe thead th {\n",
       "        text-align: right;\n",
       "    }\n",
       "</style>\n",
       "<table border=\"1\" class=\"dataframe\">\n",
       "  <thead>\n",
       "    <tr style=\"text-align: right;\">\n",
       "      <th></th>\n",
       "      <th>Metric</th>\n",
       "      <th>Best Model</th>\n",
       "    </tr>\n",
       "  </thead>\n",
       "  <tbody>\n",
       "    <tr>\n",
       "      <th>0</th>\n",
       "      <td>Median MAE</td>\n",
       "      <td>Decision Tree</td>\n",
       "    </tr>\n",
       "    <tr>\n",
       "      <th>1</th>\n",
       "      <td>Median MSE</td>\n",
       "      <td>Decision Tree</td>\n",
       "    </tr>\n",
       "    <tr>\n",
       "      <th>2</th>\n",
       "      <td>Median MASE</td>\n",
       "      <td>Decision Tree</td>\n",
       "    </tr>\n",
       "    <tr>\n",
       "      <th>3</th>\n",
       "      <td>Median Forecast Bias</td>\n",
       "      <td>Decision Tree</td>\n",
       "    </tr>\n",
       "  </tbody>\n",
       "</table>\n",
       "</div>"
      ],
      "text/plain": [
       "                 Metric     Best Model\n",
       "0            Median MAE  Decision Tree\n",
       "1            Median MSE  Decision Tree\n",
       "2           Median MASE  Decision Tree\n",
       "3  Median Forecast Bias  Decision Tree"
      ]
     },
     "execution_count": 5,
     "metadata": {},
     "output_type": "execute_result"
    }
   ],
   "source": [
    "best_list = []\n",
    "for col in range(len(df.columns.values[1:])):\n",
    "    column_list = list(df[df.columns.values[col + 1]])[1:]\n",
    "    min_ = min(column_list, key=lambda x: abs(x - 0))\n",
    "    for row in range(len(column_list)):\n",
    "        if column_list[row] == min_:\n",
    "            best_list.append(df['Model'][row + 1])\n",
    "    #^https://medium.com/devcodef1com/match-lists-based-on-the-closest-value-in-python-5a0234548188#:~:text=Approach%202%3A%20Using%20the%20min()%20Function&text=The%20lambda%20function%20calculates%20the,which%20is%20the%20closest%20value.\n",
    "    #Accessed 29/06/2024\n",
    "d = {'Metric': ['Median MAE', 'Median MSE', 'Median MASE', 'Median Forecast Bias'], 'Best Model': best_list}\n",
    "best_df = pd.DataFrame(data=d)\n",
    "best_df"
   ]
  },
  {
   "cell_type": "markdown",
   "id": "5e02e5b0-d47f-4d53-bab5-c6741fad61ad",
   "metadata": {},
   "source": [
    "## FIND BEST FIT"
   ]
  },
  {
   "cell_type": "code",
   "execution_count": 6,
   "id": "f319ef08-eca6-4893-8ddc-6fa3454e49b0",
   "metadata": {},
   "outputs": [],
   "source": [
    "best_fit = df.loc[5:, :]"
   ]
  },
  {
   "cell_type": "code",
   "execution_count": 7,
   "id": "6a4029dd-7bed-486f-996e-9e052095c641",
   "metadata": {},
   "outputs": [
    {
     "data": {
      "text/html": [
       "<div>\n",
       "<style scoped>\n",
       "    .dataframe tbody tr th:only-of-type {\n",
       "        vertical-align: middle;\n",
       "    }\n",
       "\n",
       "    .dataframe tbody tr th {\n",
       "        vertical-align: top;\n",
       "    }\n",
       "\n",
       "    .dataframe thead th {\n",
       "        text-align: right;\n",
       "    }\n",
       "</style>\n",
       "<table border=\"1\" class=\"dataframe\">\n",
       "  <thead>\n",
       "    <tr style=\"text-align: right;\">\n",
       "      <th></th>\n",
       "      <th>Model</th>\n",
       "      <th>Median MAE</th>\n",
       "      <th>Median MSE</th>\n",
       "      <th>Median MASE</th>\n",
       "      <th>Median Forecast Bias</th>\n",
       "    </tr>\n",
       "  </thead>\n",
       "  <tbody>\n",
       "    <tr>\n",
       "      <th>0</th>\n",
       "      <td>Linear Regression</td>\n",
       "      <td>4.117365e+01</td>\n",
       "      <td>1.702155e+03</td>\n",
       "      <td>5.433021e+00</td>\n",
       "      <td>2.285996e+01</td>\n",
       "    </tr>\n",
       "    <tr>\n",
       "      <th>1</th>\n",
       "      <td>Lasso Regression</td>\n",
       "      <td>7.715462e+01</td>\n",
       "      <td>5.968585e+03</td>\n",
       "      <td>1.018085e+01</td>\n",
       "      <td>4.283690e+01</td>\n",
       "    </tr>\n",
       "    <tr>\n",
       "      <th>2</th>\n",
       "      <td>Linear SVR</td>\n",
       "      <td>8.237495e+01</td>\n",
       "      <td>6.790926e+03</td>\n",
       "      <td>1.086969e+01</td>\n",
       "      <td>4.573527e+01</td>\n",
       "    </tr>\n",
       "    <tr>\n",
       "      <th>3</th>\n",
       "      <td>XGB</td>\n",
       "      <td>2.023075e-02</td>\n",
       "      <td>4.152296e-04</td>\n",
       "      <td>2.669524e-03</td>\n",
       "      <td>1.037092e-02</td>\n",
       "    </tr>\n",
       "    <tr>\n",
       "      <th>4</th>\n",
       "      <td>LightGBM</td>\n",
       "      <td>2.630813e-01</td>\n",
       "      <td>1.533236e-01</td>\n",
       "      <td>3.471458e-02</td>\n",
       "      <td>3.635670e-02</td>\n",
       "    </tr>\n",
       "    <tr>\n",
       "      <th>5</th>\n",
       "      <td>Decision Tree</td>\n",
       "      <td>2.438283e-13</td>\n",
       "      <td>6.203004e-26</td>\n",
       "      <td>3.217408e-14</td>\n",
       "      <td>-1.461724e-13</td>\n",
       "    </tr>\n",
       "    <tr>\n",
       "      <th>6</th>\n",
       "      <td>Random Forest</td>\n",
       "      <td>4.680372e-03</td>\n",
       "      <td>4.162118e-04</td>\n",
       "      <td>6.175930e-04</td>\n",
       "      <td>-2.598583e-03</td>\n",
       "    </tr>\n",
       "  </tbody>\n",
       "</table>\n",
       "</div>"
      ],
      "text/plain": [
       "               Model    Median MAE    Median MSE   Median MASE  \\\n",
       "0  Linear Regression  4.117365e+01  1.702155e+03  5.433021e+00   \n",
       "1   Lasso Regression  7.715462e+01  5.968585e+03  1.018085e+01   \n",
       "2         Linear SVR  8.237495e+01  6.790926e+03  1.086969e+01   \n",
       "3                XGB  2.023075e-02  4.152296e-04  2.669524e-03   \n",
       "4           LightGBM  2.630813e-01  1.533236e-01  3.471458e-02   \n",
       "5      Decision Tree  2.438283e-13  6.203004e-26  3.217408e-14   \n",
       "6      Random Forest  4.680372e-03  4.162118e-04  6.175930e-04   \n",
       "\n",
       "   Median Forecast Bias  \n",
       "0          2.285996e+01  \n",
       "1          4.283690e+01  \n",
       "2          4.573527e+01  \n",
       "3          1.037092e-02  \n",
       "4          3.635670e-02  \n",
       "5         -1.461724e-13  \n",
       "6         -2.598583e-03  "
      ]
     },
     "execution_count": 7,
     "metadata": {},
     "output_type": "execute_result"
    }
   ],
   "source": [
    "metric_df = metric_df_test\n",
    "median_mae_list = []\n",
    "median_mae_list.append(statistics.median(metric_df[metric_df['Linear Regression'] == 1]['MAE']))\n",
    "median_mae_list.append(statistics.median(metric_df[metric_df['Lasso Regression'] == 1]['MAE']))\n",
    "median_mae_list.append(statistics.median(metric_df[metric_df['Linear SVR'] == 1]['MAE']))\n",
    "median_mae_list.append(statistics.median(metric_df[metric_df['XGB'] == 1]['MAE']))\n",
    "median_mae_list.append(statistics.median(metric_df[metric_df['LightGBM'] == 1]['MAE']))\n",
    "median_mae_list.append(statistics.median(metric_df[metric_df['Decision Tree'] == 1]['MAE']))\n",
    "median_mae_list.append(statistics.median(metric_df[metric_df['Random Forest'] == 1]['MAE']))\n",
    "median_mse_list = []\n",
    "median_mse_list.append(statistics.median(metric_df[metric_df['Linear Regression'] == 1]['MSE']))\n",
    "median_mse_list.append(statistics.median(metric_df[metric_df['Lasso Regression'] == 1]['MSE']))\n",
    "median_mse_list.append(statistics.median(metric_df[metric_df['Linear SVR'] == 1]['MSE']))\n",
    "median_mse_list.append(statistics.median(metric_df[metric_df['XGB'] == 1]['MSE']))\n",
    "median_mse_list.append(statistics.median(metric_df[metric_df['LightGBM'] == 1]['MSE']))\n",
    "median_mse_list.append(statistics.median(metric_df[metric_df['Decision Tree'] == 1]['MSE']))\n",
    "median_mse_list.append(statistics.median(metric_df[metric_df['Random Forest'] == 1]['MSE']))\n",
    "median_mase_list = []\n",
    "median_mase_list.append(statistics.median(metric_df[metric_df['Linear Regression'] == 1]['MASE']))\n",
    "median_mase_list.append(statistics.median(metric_df[metric_df['Lasso Regression'] == 1]['MASE']))\n",
    "median_mase_list.append(statistics.median(metric_df[metric_df['Linear SVR'] == 1]['MASE']))\n",
    "median_mase_list.append(statistics.median(metric_df[metric_df['XGB'] == 1]['MASE']))\n",
    "median_mase_list.append(statistics.median(metric_df[metric_df['LightGBM'] == 1]['MASE']))\n",
    "median_mase_list.append(statistics.median(metric_df[metric_df['Decision Tree'] == 1]['MASE']))\n",
    "median_mase_list.append(statistics.median(metric_df[metric_df['Random Forest'] == 1]['MASE']))\n",
    "median_fbias_list = []\n",
    "median_fbias_list.append(statistics.median(metric_df[metric_df['Linear Regression'] == 1]['Forecast Bias']))\n",
    "median_fbias_list.append(statistics.median(metric_df[metric_df['Lasso Regression'] == 1]['Forecast Bias']))\n",
    "median_fbias_list.append(statistics.median(metric_df[metric_df['Linear SVR'] == 1]['Forecast Bias']))\n",
    "median_fbias_list.append(statistics.median(metric_df[metric_df['XGB'] == 1]['Forecast Bias']))\n",
    "median_fbias_list.append(statistics.median(metric_df[metric_df['LightGBM'] == 1]['Forecast Bias']))\n",
    "median_fbias_list.append(statistics.median(metric_df[metric_df['Decision Tree'] == 1]['Forecast Bias']))\n",
    "median_fbias_list.append(statistics.median(metric_df[metric_df['Random Forest'] == 1]['Forecast Bias']))\n",
    "model_list = ['Linear Regression', 'Lasso Regression', 'Linear SVR', 'XGB', 'LightGBM', 'Decision Tree', 'Random Forest']\n",
    "d = {'Model': model_list, 'Median MAE': median_mae_list, 'Median MSE': median_mse_list, 'Median MASE': median_mase_list, 'Median Forecast Bias': median_fbias_list}\n",
    "df_test = pd.DataFrame(data=d)\n",
    "df_test"
   ]
  },
  {
   "cell_type": "code",
   "execution_count": 8,
   "id": "5f7aebe0-b953-4594-9bb7-15e256b057d4",
   "metadata": {},
   "outputs": [
    {
     "data": {
      "text/html": [
       "<div>\n",
       "<style scoped>\n",
       "    .dataframe tbody tr th:only-of-type {\n",
       "        vertical-align: middle;\n",
       "    }\n",
       "\n",
       "    .dataframe tbody tr th {\n",
       "        vertical-align: top;\n",
       "    }\n",
       "\n",
       "    .dataframe thead th {\n",
       "        text-align: right;\n",
       "    }\n",
       "</style>\n",
       "<table border=\"1\" class=\"dataframe\">\n",
       "  <thead>\n",
       "    <tr style=\"text-align: right;\">\n",
       "      <th></th>\n",
       "      <th>Model</th>\n",
       "      <th>Median MAE</th>\n",
       "      <th>Median MSE</th>\n",
       "      <th>Median MASE</th>\n",
       "      <th>Median Forecast Bias</th>\n",
       "    </tr>\n",
       "  </thead>\n",
       "  <tbody>\n",
       "    <tr>\n",
       "      <th>0</th>\n",
       "      <td>Decision Tree</td>\n",
       "      <td>1.136868e-13</td>\n",
       "      <td>1.292470e-26</td>\n",
       "      <td>1.284212e-14</td>\n",
       "      <td>-9.294140e-14</td>\n",
       "    </tr>\n",
       "    <tr>\n",
       "      <th>1</th>\n",
       "      <td>Best fit</td>\n",
       "      <td>2.438283e-13</td>\n",
       "      <td>6.203004e-26</td>\n",
       "      <td>3.217408e-14</td>\n",
       "      <td>-1.461724e-13</td>\n",
       "    </tr>\n",
       "  </tbody>\n",
       "</table>\n",
       "</div>"
      ],
      "text/plain": [
       "           Model    Median MAE    Median MSE   Median MASE  \\\n",
       "0  Decision Tree  1.136868e-13  1.292470e-26  1.284212e-14   \n",
       "1       Best fit  2.438283e-13  6.203004e-26  3.217408e-14   \n",
       "\n",
       "   Median Forecast Bias  \n",
       "0         -9.294140e-14  \n",
       "1         -1.461724e-13  "
      ]
     },
     "execution_count": 8,
     "metadata": {},
     "output_type": "execute_result"
    }
   ],
   "source": [
    "best_fit.reset_index(inplace=True)\n",
    "best_fit.loc[1] = df_test.loc[5, :]\n",
    "best_fit.loc[1, 'Model'] = 'Best fit'\n",
    "best_fit.drop(['index'], axis=1, inplace=True)\n",
    "best_fit"
   ]
  },
  {
   "cell_type": "markdown",
   "id": "33e457b4-f982-427c-9802-1d65b6100fa5",
   "metadata": {},
   "source": [
    "# PLOT COMBINED FORECAST; PLOT AND COMPARE DATA WITH FORECAST VS. DATA WITH TEST SET:"
   ]
  },
  {
   "cell_type": "code",
   "execution_count": 33,
   "id": "572c62a5-4772-4093-ae8d-fffd6b2b54d5",
   "metadata": {},
   "outputs": [],
   "source": [
    "preds = pred_df_test[pred_df_test['Algorithm'] == 'Decision Tree_auto_stat'].sort_index()"
   ]
  },
  {
   "cell_type": "code",
   "execution_count": 31,
   "id": "36032f48-86ca-4048-9e10-ffb41ac8626f",
   "metadata": {},
   "outputs": [
    {
     "data": {
      "text/html": [
       "<div>\n",
       "<style scoped>\n",
       "    .dataframe tbody tr th:only-of-type {\n",
       "        vertical-align: middle;\n",
       "    }\n",
       "\n",
       "    .dataframe tbody tr th {\n",
       "        vertical-align: top;\n",
       "    }\n",
       "\n",
       "    .dataframe thead th {\n",
       "        text-align: right;\n",
       "    }\n",
       "</style>\n",
       "<table border=\"1\" class=\"dataframe\">\n",
       "  <thead>\n",
       "    <tr style=\"text-align: right;\">\n",
       "      <th></th>\n",
       "      <th>predictions</th>\n",
       "      <th>Variable</th>\n",
       "      <th>Algorithm</th>\n",
       "      <th>True values</th>\n",
       "      <th>timestamp</th>\n",
       "    </tr>\n",
       "  </thead>\n",
       "  <tbody>\n",
       "    <tr>\n",
       "      <th>0</th>\n",
       "      <td>180.2625</td>\n",
       "      <td>679023median_total_price</td>\n",
       "      <td>Decision Tree_auto_stat</td>\n",
       "      <td>180.2625</td>\n",
       "      <td>2013-07-29</td>\n",
       "    </tr>\n",
       "    <tr>\n",
       "      <th>1</th>\n",
       "      <td>180.2625</td>\n",
       "      <td>679023median_total_price</td>\n",
       "      <td>Decision Tree_auto_stat</td>\n",
       "      <td>180.2625</td>\n",
       "      <td>2013-07-29</td>\n",
       "    </tr>\n",
       "    <tr>\n",
       "      <th>2</th>\n",
       "      <td>180.2625</td>\n",
       "      <td>679023median_total_price</td>\n",
       "      <td>Decision Tree_auto_stat</td>\n",
       "      <td>180.2625</td>\n",
       "      <td>2013-07-29</td>\n",
       "    </tr>\n",
       "    <tr>\n",
       "      <th>3</th>\n",
       "      <td>180.2625</td>\n",
       "      <td>679023median_total_price</td>\n",
       "      <td>Decision Tree_auto_stat</td>\n",
       "      <td>180.2625</td>\n",
       "      <td>2013-07-29</td>\n",
       "    </tr>\n",
       "    <tr>\n",
       "      <th>4</th>\n",
       "      <td>180.2625</td>\n",
       "      <td>679023median_total_price</td>\n",
       "      <td>Decision Tree_auto_stat</td>\n",
       "      <td>180.2625</td>\n",
       "      <td>2013-07-29</td>\n",
       "    </tr>\n",
       "    <tr>\n",
       "      <th>5</th>\n",
       "      <td>180.2625</td>\n",
       "      <td>679023median_total_price</td>\n",
       "      <td>Decision Tree_auto_stat</td>\n",
       "      <td>180.2625</td>\n",
       "      <td>2013-07-29</td>\n",
       "    </tr>\n",
       "    <tr>\n",
       "      <th>6</th>\n",
       "      <td>180.2625</td>\n",
       "      <td>679023median_total_price</td>\n",
       "      <td>Decision Tree_auto_stat</td>\n",
       "      <td>180.2625</td>\n",
       "      <td>2013-07-29</td>\n",
       "    </tr>\n",
       "    <tr>\n",
       "      <th>7</th>\n",
       "      <td>180.2625</td>\n",
       "      <td>679023median_total_price</td>\n",
       "      <td>Decision Tree_auto_stat</td>\n",
       "      <td>180.2625</td>\n",
       "      <td>2013-07-29</td>\n",
       "    </tr>\n",
       "    <tr>\n",
       "      <th>8</th>\n",
       "      <td>180.2625</td>\n",
       "      <td>679023median_total_price</td>\n",
       "      <td>Decision Tree_auto_stat</td>\n",
       "      <td>180.2625</td>\n",
       "      <td>2013-07-29</td>\n",
       "    </tr>\n",
       "    <tr>\n",
       "      <th>9</th>\n",
       "      <td>180.2625</td>\n",
       "      <td>679023median_total_price</td>\n",
       "      <td>Decision Tree_auto_stat</td>\n",
       "      <td>180.2625</td>\n",
       "      <td>2013-07-29</td>\n",
       "    </tr>\n",
       "    <tr>\n",
       "      <th>10</th>\n",
       "      <td>180.2625</td>\n",
       "      <td>679023median_total_price</td>\n",
       "      <td>Decision Tree_auto_stat</td>\n",
       "      <td>180.2625</td>\n",
       "      <td>2013-08-05</td>\n",
       "    </tr>\n",
       "  </tbody>\n",
       "</table>\n",
       "</div>"
      ],
      "text/plain": [
       "    predictions                  Variable                Algorithm  \\\n",
       "0      180.2625  679023median_total_price  Decision Tree_auto_stat   \n",
       "1      180.2625  679023median_total_price  Decision Tree_auto_stat   \n",
       "2      180.2625  679023median_total_price  Decision Tree_auto_stat   \n",
       "3      180.2625  679023median_total_price  Decision Tree_auto_stat   \n",
       "4      180.2625  679023median_total_price  Decision Tree_auto_stat   \n",
       "5      180.2625  679023median_total_price  Decision Tree_auto_stat   \n",
       "6      180.2625  679023median_total_price  Decision Tree_auto_stat   \n",
       "7      180.2625  679023median_total_price  Decision Tree_auto_stat   \n",
       "8      180.2625  679023median_total_price  Decision Tree_auto_stat   \n",
       "9      180.2625  679023median_total_price  Decision Tree_auto_stat   \n",
       "10     180.2625  679023median_total_price  Decision Tree_auto_stat   \n",
       "\n",
       "    True values  timestamp  \n",
       "0      180.2625 2013-07-29  \n",
       "1      180.2625 2013-07-29  \n",
       "2      180.2625 2013-07-29  \n",
       "3      180.2625 2013-07-29  \n",
       "4      180.2625 2013-07-29  \n",
       "5      180.2625 2013-07-29  \n",
       "6      180.2625 2013-07-29  \n",
       "7      180.2625 2013-07-29  \n",
       "8      180.2625 2013-07-29  \n",
       "9      180.2625 2013-07-29  \n",
       "10     180.2625 2013-08-05  "
      ]
     },
     "execution_count": 31,
     "metadata": {},
     "output_type": "execute_result"
    }
   ],
   "source": [
    "preds[:11]"
   ]
  },
  {
   "cell_type": "code",
   "execution_count": 34,
   "id": "615f0d7d-3140-444d-ac72-1e1087fdaff6",
   "metadata": {},
   "outputs": [
    {
     "data": {
      "text/html": [
       "<div>\n",
       "<style scoped>\n",
       "    .dataframe tbody tr th:only-of-type {\n",
       "        vertical-align: middle;\n",
       "    }\n",
       "\n",
       "    .dataframe tbody tr th {\n",
       "        vertical-align: top;\n",
       "    }\n",
       "\n",
       "    .dataframe thead th {\n",
       "        text-align: right;\n",
       "    }\n",
       "</style>\n",
       "<table border=\"1\" class=\"dataframe\">\n",
       "  <thead>\n",
       "    <tr style=\"text-align: right;\">\n",
       "      <th></th>\n",
       "      <th>679023median_total_price</th>\n",
       "    </tr>\n",
       "    <tr>\n",
       "      <th>timestamp</th>\n",
       "      <th></th>\n",
       "    </tr>\n",
       "  </thead>\n",
       "  <tbody>\n",
       "    <tr>\n",
       "      <th>2013-07-29</th>\n",
       "      <td>180.2625</td>\n",
       "    </tr>\n",
       "    <tr>\n",
       "      <th>2013-08-05</th>\n",
       "      <td>180.2625</td>\n",
       "    </tr>\n",
       "    <tr>\n",
       "      <th>2013-08-12</th>\n",
       "      <td>180.2625</td>\n",
       "    </tr>\n",
       "    <tr>\n",
       "      <th>2013-08-19</th>\n",
       "      <td>180.2625</td>\n",
       "    </tr>\n",
       "    <tr>\n",
       "      <th>2013-08-26</th>\n",
       "      <td>180.2625</td>\n",
       "    </tr>\n",
       "    <tr>\n",
       "      <th>2013-09-02</th>\n",
       "      <td>180.2625</td>\n",
       "    </tr>\n",
       "    <tr>\n",
       "      <th>2013-09-09</th>\n",
       "      <td>180.2625</td>\n",
       "    </tr>\n",
       "    <tr>\n",
       "      <th>2013-09-16</th>\n",
       "      <td>180.2625</td>\n",
       "    </tr>\n",
       "    <tr>\n",
       "      <th>2013-09-23</th>\n",
       "      <td>180.2625</td>\n",
       "    </tr>\n",
       "    <tr>\n",
       "      <th>2013-09-30</th>\n",
       "      <td>180.2625</td>\n",
       "    </tr>\n",
       "    <tr>\n",
       "      <th>2013-10-07</th>\n",
       "      <td>180.2625</td>\n",
       "    </tr>\n",
       "    <tr>\n",
       "      <th>2013-10-14</th>\n",
       "      <td>180.2625</td>\n",
       "    </tr>\n",
       "    <tr>\n",
       "      <th>2013-10-21</th>\n",
       "      <td>180.2625</td>\n",
       "    </tr>\n",
       "    <tr>\n",
       "      <th>2013-10-28</th>\n",
       "      <td>180.2625</td>\n",
       "    </tr>\n",
       "    <tr>\n",
       "      <th>2013-11-04</th>\n",
       "      <td>180.2625</td>\n",
       "    </tr>\n",
       "    <tr>\n",
       "      <th>2013-11-11</th>\n",
       "      <td>180.2625</td>\n",
       "    </tr>\n",
       "    <tr>\n",
       "      <th>2013-11-18</th>\n",
       "      <td>180.2625</td>\n",
       "    </tr>\n",
       "    <tr>\n",
       "      <th>2013-11-25</th>\n",
       "      <td>180.2625</td>\n",
       "    </tr>\n",
       "    <tr>\n",
       "      <th>2013-12-02</th>\n",
       "      <td>177.4125</td>\n",
       "    </tr>\n",
       "  </tbody>\n",
       "</table>\n",
       "</div>"
      ],
      "text/plain": [
       "            679023median_total_price\n",
       "timestamp                           \n",
       "2013-07-29                  180.2625\n",
       "2013-08-05                  180.2625\n",
       "2013-08-12                  180.2625\n",
       "2013-08-19                  180.2625\n",
       "2013-08-26                  180.2625\n",
       "2013-09-02                  180.2625\n",
       "2013-09-09                  180.2625\n",
       "2013-09-16                  180.2625\n",
       "2013-09-23                  180.2625\n",
       "2013-09-30                  180.2625\n",
       "2013-10-07                  180.2625\n",
       "2013-10-14                  180.2625\n",
       "2013-10-21                  180.2625\n",
       "2013-10-28                  180.2625\n",
       "2013-11-04                  180.2625\n",
       "2013-11-11                  180.2625\n",
       "2013-11-18                  180.2625\n",
       "2013-11-25                  180.2625\n",
       "2013-12-02                  177.4125"
      ]
     },
     "execution_count": 34,
     "metadata": {},
     "output_type": "execute_result"
    }
   ],
   "source": [
    "preds_list = []\n",
    "index_list = []\n",
    "preds['timestamp'] = preds.index\n",
    "preds.set_index(np.arange(0, len(preds)), inplace=True)\n",
    "preds\n",
    "last_index = 0\n",
    "for pred in range(len(preds)):\n",
    "    if ((pred + 1) % 10) == 0: #10 values per timestamp\n",
    "        #^https://www.codecademy.com/forum_questions/4f2ed9da6999a8000101c433#:~:text=So%20to%20check%20if%20a,number%20is%20divisible%20by%20three.\n",
    "        #Accessed 14/07/2024\n",
    "        index_list.append(preds['timestamp'][pred])\n",
    "        preds_list.append(statistics.median(preds['predictions'][last_index:(pred + 1)]))\n",
    "        last_index = pred\n",
    "d =  {'timestamp': index_list, '679023median_total_price': preds_list}\n",
    "median_preds_df = pd.DataFrame(data=d)\n",
    "median_preds_df.set_index('timestamp', inplace=True)\n",
    "median_preds_df"
   ]
  },
  {
   "cell_type": "code",
   "execution_count": 35,
   "id": "cc67b08a-c296-4caf-a835-6f69474cadfb",
   "metadata": {},
   "outputs": [],
   "source": [
    "file = '/Users/harrybakhshi/Desktop/Python_notes/data/PCDA_capstone/outlier_treated_ts_df_feature_engineered_2.pik'\n",
    "# with open(file, 'wb') as f:\n",
    "#        pickle.dump(ts_df, f) #write df to .pik file on disk\n",
    "with open(file, 'rb') as f:\n",
    "     ts_df = pickle.load(f) #load pickle file 'file' into variable"
   ]
  },
  {
   "cell_type": "code",
   "execution_count": 36,
   "id": "acbe1cdb-1ef4-4349-8c08-518e109737ac",
   "metadata": {},
   "outputs": [
    {
     "name": "stdout",
     "output_type": "stream",
     "text": [
      "# of Training samples: 114 | # of Validation samples: 19 | # of Test samples: 19 | # of Train+val samples: 133\n",
      "Max Date in Train: 2013-03-11 | Min Date in Validation: 2013-03-18 | Min Date in Test: 2013-07-29 | Max Date in Train+val: 2013-07-22| Min Date in Train+val: 2011-01-10\n"
     ]
    }
   ],
   "source": [
    "ts_df.drop(list(ts_df.columns.values[137:144]), axis=1, inplace=True)\n",
    "ts_df.drop('timestamp', axis=1, inplace=True)\n",
    "#Do train-test-validation split: \n",
    "test = ts_df.iloc[133:, :]\n",
    "val = ts_df.iloc[114:133, :]\n",
    "train = ts_df.iloc[:114, :]\n",
    "train_and_val = ts_df.iloc[:133, :]\n",
    "print(f\"# of Training samples: {len(train)} | # of Validation samples: {len(val)} | # of Test samples: {len(test)} | # of Train+val samples: {len(train_and_val)}\")\n",
    "print(f\"Max Date in Train: {train.index.date.max()} | Min Date in Validation: {val.index.date.min()} | Min Date in Test: {test.index.date.min()} | Max Date in Train+val: {train_and_val.index.date.max()}| Min Date in Train+val: {train_and_val.index.date.min()}\")\n",
    "#^https://github.com/PacktPublishing/Modern-Time-Series-Forecasting-with-Python/blob/main/notebooks/Chapter04/01-Setting%20up%20Experiment%20Harness.ipynb\n",
    "#Accessed 17/06/2024"
   ]
  },
  {
   "cell_type": "code",
   "execution_count": 37,
   "id": "6a46c333-1000-49ac-9258-5a756f2240ca",
   "metadata": {},
   "outputs": [
    {
     "name": "stdout",
     "output_type": "stream",
     "text": [
      "<class 'pandas.core.series.Series'>\n",
      "DatetimeIndex: 19 entries, 2013-07-29 to 2013-12-02\n",
      "Series name: 679023median_total_price\n",
      "Non-Null Count  Dtype  \n",
      "--------------  -----  \n",
      "19 non-null     float64\n",
      "dtypes: float64(1)\n",
      "memory usage: 304.0 bytes\n",
      "None\n",
      "<class 'pandas.core.series.Series'>\n",
      "DatetimeIndex: 133 entries, 2011-01-10 to 2013-07-22\n",
      "Series name: 679023median_total_price\n",
      "Non-Null Count  Dtype  \n",
      "--------------  -----  \n",
      "133 non-null    float64\n",
      "dtypes: float64(1)\n",
      "memory usage: 2.1 KB\n",
      "None\n"
     ]
    },
    {
     "data": {
      "text/plain": [
       "timestamp\n",
       "2011-01-10    180.2625\n",
       "2011-01-17    178.1250\n",
       "2011-01-24    178.1250\n",
       "2011-01-31    178.1250\n",
       "2011-02-07    180.2625\n",
       "                ...   \n",
       "2013-11-04    180.2625\n",
       "2013-11-11    180.2625\n",
       "2013-11-18    180.2625\n",
       "2013-11-25    180.2625\n",
       "2013-12-02    177.4125\n",
       "Name: 679023median_total_price, Length: 152, dtype: float64"
      ]
     },
     "execution_count": 37,
     "metadata": {},
     "output_type": "execute_result"
    }
   ],
   "source": [
    "train_and_val_series = train_and_val[train_and_val.columns.values[0]]\n",
    "train_and_val_series.to_frame()\n",
    "median_preds_series = median_preds_df[median_preds_df.columns.values[0]]\n",
    "print(median_preds_series.info())\n",
    "print(train_and_val_series.info())\n",
    "median_preds = pd.concat([train_and_val_series, median_preds_series], axis=0)\n",
    "#^https://stackoverflow.com/questions/15888648/is-it-possible-to-insert-a-row-at-an-arbitrary-position-in-a-dataframe-using-pan\n",
    "#Accessed 03/06/2024\n",
    "median_preds"
   ]
  },
  {
   "cell_type": "code",
   "execution_count": 38,
   "id": "7f16a55e-7ae6-4672-b1ef-bff1e6ba6ad7",
   "metadata": {},
   "outputs": [
    {
     "data": {
      "application/vnd.plotly.v1+json": {
       "config": {
        "plotlyServerURL": "https://plot.ly"
       },
       "data": [
        {
         "line": {
          "color": "blue"
         },
         "mode": "lines",
         "name": "Jan 10 2011 inclusive - July 29th 2013",
         "showlegend": true,
         "type": "scatter",
         "x": [
          "2011-01-10T00:00:00",
          "2011-01-17T00:00:00"
         ],
         "y": [
          180.2625,
          178.125
         ]
        },
        {
         "line": {
          "color": "blue"
         },
         "mode": "lines",
         "name": "Jan 10 2011 inclusive - July 29th 2013",
         "showlegend": false,
         "type": "scatter",
         "x": [
          "2011-01-17T00:00:00",
          "2011-01-24T00:00:00"
         ],
         "y": [
          178.125,
          178.125
         ]
        },
        {
         "line": {
          "color": "blue"
         },
         "mode": "lines",
         "name": "Jan 10 2011 inclusive - July 29th 2013",
         "showlegend": false,
         "type": "scatter",
         "x": [
          "2011-01-24T00:00:00",
          "2011-01-31T00:00:00"
         ],
         "y": [
          178.125,
          178.125
         ]
        },
        {
         "line": {
          "color": "blue"
         },
         "mode": "lines",
         "name": "Jan 10 2011 inclusive - July 29th 2013",
         "showlegend": false,
         "type": "scatter",
         "x": [
          "2011-01-31T00:00:00",
          "2011-02-07T00:00:00"
         ],
         "y": [
          178.125,
          180.2625
         ]
        },
        {
         "line": {
          "color": "blue"
         },
         "mode": "lines",
         "name": "Jan 10 2011 inclusive - July 29th 2013",
         "showlegend": false,
         "type": "scatter",
         "x": [
          "2011-02-07T00:00:00",
          "2011-02-14T00:00:00"
         ],
         "y": [
          180.2625,
          205.9125
         ]
        },
        {
         "line": {
          "color": "blue"
         },
         "mode": "lines",
         "name": "Jan 10 2011 inclusive - July 29th 2013",
         "showlegend": false,
         "type": "scatter",
         "x": [
          "2011-02-14T00:00:00",
          "2011-02-21T00:00:00"
         ],
         "y": [
          205.9125,
          205.9125
         ]
        },
        {
         "line": {
          "color": "blue"
         },
         "mode": "lines",
         "name": "Jan 10 2011 inclusive - July 29th 2013",
         "showlegend": false,
         "type": "scatter",
         "x": [
          "2011-02-21T00:00:00",
          "2011-02-28T00:00:00"
         ],
         "y": [
          205.9125,
          205.9125
         ]
        },
        {
         "line": {
          "color": "blue"
         },
         "mode": "lines",
         "name": "Jan 10 2011 inclusive - July 29th 2013",
         "showlegend": false,
         "type": "scatter",
         "x": [
          "2011-02-28T00:00:00",
          "2011-03-07T00:00:00"
         ],
         "y": [
          205.9125,
          180.2625
         ]
        },
        {
         "line": {
          "color": "blue"
         },
         "mode": "lines",
         "name": "Jan 10 2011 inclusive - July 29th 2013",
         "showlegend": false,
         "type": "scatter",
         "x": [
          "2011-03-07T00:00:00",
          "2011-03-14T00:00:00"
         ],
         "y": [
          180.2625,
          205.9125
         ]
        },
        {
         "line": {
          "color": "blue"
         },
         "mode": "lines",
         "name": "Jan 10 2011 inclusive - July 29th 2013",
         "showlegend": false,
         "type": "scatter",
         "x": [
          "2011-03-14T00:00:00",
          "2011-03-21T00:00:00"
         ],
         "y": [
          205.9125,
          177.4125
         ]
        },
        {
         "line": {
          "color": "blue"
         },
         "mode": "lines",
         "name": "Jan 10 2011 inclusive - July 29th 2013",
         "showlegend": false,
         "type": "scatter",
         "x": [
          "2011-03-21T00:00:00",
          "2011-03-28T00:00:00"
         ],
         "y": [
          177.4125,
          177.4125
         ]
        },
        {
         "line": {
          "color": "blue"
         },
         "mode": "lines",
         "name": "Jan 10 2011 inclusive - July 29th 2013",
         "showlegend": false,
         "type": "scatter",
         "x": [
          "2011-03-28T00:00:00",
          "2011-04-04T00:00:00"
         ],
         "y": [
          177.4125,
          177.4125
         ]
        },
        {
         "line": {
          "color": "blue"
         },
         "mode": "lines",
         "name": "Jan 10 2011 inclusive - July 29th 2013",
         "showlegend": false,
         "type": "scatter",
         "x": [
          "2011-04-04T00:00:00",
          "2011-04-11T00:00:00"
         ],
         "y": [
          177.4125,
          180.2625
         ]
        },
        {
         "line": {
          "color": "blue"
         },
         "mode": "lines",
         "name": "Jan 10 2011 inclusive - July 29th 2013",
         "showlegend": false,
         "type": "scatter",
         "x": [
          "2011-04-11T00:00:00",
          "2011-04-18T00:00:00"
         ],
         "y": [
          180.2625,
          205.9125
         ]
        },
        {
         "line": {
          "color": "blue"
         },
         "mode": "lines",
         "name": "Jan 10 2011 inclusive - July 29th 2013",
         "showlegend": false,
         "type": "scatter",
         "x": [
          "2011-04-18T00:00:00",
          "2011-04-25T00:00:00"
         ],
         "y": [
          205.9125,
          205.9125
         ]
        },
        {
         "line": {
          "color": "blue"
         },
         "mode": "lines",
         "name": "Jan 10 2011 inclusive - July 29th 2013",
         "showlegend": false,
         "type": "scatter",
         "x": [
          "2011-04-25T00:00:00",
          "2011-05-02T00:00:00"
         ],
         "y": [
          205.9125,
          180.2625
         ]
        },
        {
         "line": {
          "color": "blue"
         },
         "mode": "lines",
         "name": "Jan 10 2011 inclusive - July 29th 2013",
         "showlegend": false,
         "type": "scatter",
         "x": [
          "2011-05-02T00:00:00",
          "2011-05-09T00:00:00"
         ],
         "y": [
          180.2625,
          208.7625
         ]
        },
        {
         "line": {
          "color": "blue"
         },
         "mode": "lines",
         "name": "Jan 10 2011 inclusive - July 29th 2013",
         "showlegend": false,
         "type": "scatter",
         "x": [
          "2011-05-09T00:00:00",
          "2011-05-16T00:00:00"
         ],
         "y": [
          208.7625,
          205.9125
         ]
        },
        {
         "line": {
          "color": "blue"
         },
         "mode": "lines",
         "name": "Jan 10 2011 inclusive - July 29th 2013",
         "showlegend": false,
         "type": "scatter",
         "x": [
          "2011-05-16T00:00:00",
          "2011-05-23T00:00:00"
         ],
         "y": [
          205.9125,
          205.9125
         ]
        },
        {
         "line": {
          "color": "blue"
         },
         "mode": "lines",
         "name": "Jan 10 2011 inclusive - July 29th 2013",
         "showlegend": false,
         "type": "scatter",
         "x": [
          "2011-05-23T00:00:00",
          "2011-05-30T00:00:00"
         ],
         "y": [
          205.9125,
          205.9125
         ]
        },
        {
         "line": {
          "color": "blue"
         },
         "mode": "lines",
         "name": "Jan 10 2011 inclusive - July 29th 2013",
         "showlegend": false,
         "type": "scatter",
         "x": [
          "2011-05-30T00:00:00",
          "2011-06-06T00:00:00"
         ],
         "y": [
          205.9125,
          201.6375
         ]
        },
        {
         "line": {
          "color": "blue"
         },
         "mode": "lines",
         "name": "Jan 10 2011 inclusive - July 29th 2013",
         "showlegend": false,
         "type": "scatter",
         "x": [
          "2011-06-06T00:00:00",
          "2011-06-13T00:00:00"
         ],
         "y": [
          201.6375,
          178.125
         ]
        },
        {
         "line": {
          "color": "blue"
         },
         "mode": "lines",
         "name": "Jan 10 2011 inclusive - July 29th 2013",
         "showlegend": false,
         "type": "scatter",
         "x": [
          "2011-06-13T00:00:00",
          "2011-06-20T00:00:00"
         ],
         "y": [
          178.125,
          178.125
         ]
        },
        {
         "line": {
          "color": "blue"
         },
         "mode": "lines",
         "name": "Jan 10 2011 inclusive - July 29th 2013",
         "showlegend": false,
         "type": "scatter",
         "x": [
          "2011-06-20T00:00:00",
          "2011-06-27T00:00:00"
         ],
         "y": [
          178.125,
          178.125
         ]
        },
        {
         "line": {
          "color": "blue"
         },
         "mode": "lines",
         "name": "Jan 10 2011 inclusive - July 29th 2013",
         "showlegend": false,
         "type": "scatter",
         "x": [
          "2011-06-27T00:00:00",
          "2011-07-04T00:00:00"
         ],
         "y": [
          178.125,
          180.2625
         ]
        },
        {
         "line": {
          "color": "blue"
         },
         "mode": "lines",
         "name": "Jan 10 2011 inclusive - July 29th 2013",
         "showlegend": false,
         "type": "scatter",
         "x": [
          "2011-07-04T00:00:00",
          "2011-07-11T00:00:00"
         ],
         "y": [
          180.2625,
          177.4125
         ]
        },
        {
         "line": {
          "color": "blue"
         },
         "mode": "lines",
         "name": "Jan 10 2011 inclusive - July 29th 2013",
         "showlegend": false,
         "type": "scatter",
         "x": [
          "2011-07-11T00:00:00",
          "2011-07-18T00:00:00"
         ],
         "y": [
          177.4125,
          213.0375
         ]
        },
        {
         "line": {
          "color": "blue"
         },
         "mode": "lines",
         "name": "Jan 10 2011 inclusive - July 29th 2013",
         "showlegend": false,
         "type": "scatter",
         "x": [
          "2011-07-18T00:00:00",
          "2011-07-25T00:00:00"
         ],
         "y": [
          213.0375,
          177.4125
         ]
        },
        {
         "line": {
          "color": "blue"
         },
         "mode": "lines",
         "name": "Jan 10 2011 inclusive - July 29th 2013",
         "showlegend": false,
         "type": "scatter",
         "x": [
          "2011-07-25T00:00:00",
          "2011-08-01T00:00:00"
         ],
         "y": [
          177.4125,
          180.2625
         ]
        },
        {
         "line": {
          "color": "blue"
         },
         "mode": "lines",
         "name": "Jan 10 2011 inclusive - July 29th 2013",
         "showlegend": false,
         "type": "scatter",
         "x": [
          "2011-08-01T00:00:00",
          "2011-08-08T00:00:00"
         ],
         "y": [
          180.2625,
          177.4125
         ]
        },
        {
         "line": {
          "color": "blue"
         },
         "mode": "lines",
         "name": "Jan 10 2011 inclusive - July 29th 2013",
         "showlegend": false,
         "type": "scatter",
         "x": [
          "2011-08-08T00:00:00",
          "2011-08-15T00:00:00"
         ],
         "y": [
          177.4125,
          213.0375
         ]
        },
        {
         "line": {
          "color": "blue"
         },
         "mode": "lines",
         "name": "Jan 10 2011 inclusive - July 29th 2013",
         "showlegend": false,
         "type": "scatter",
         "x": [
          "2011-08-15T00:00:00",
          "2011-08-22T00:00:00"
         ],
         "y": [
          213.0375,
          213.0375
         ]
        },
        {
         "line": {
          "color": "blue"
         },
         "mode": "lines",
         "name": "Jan 10 2011 inclusive - July 29th 2013",
         "showlegend": false,
         "type": "scatter",
         "x": [
          "2011-08-22T00:00:00",
          "2011-08-29T00:00:00"
         ],
         "y": [
          213.0375,
          213.0375
         ]
        },
        {
         "line": {
          "color": "blue"
         },
         "mode": "lines",
         "name": "Jan 10 2011 inclusive - July 29th 2013",
         "showlegend": false,
         "type": "scatter",
         "x": [
          "2011-08-29T00:00:00",
          "2011-09-05T00:00:00"
         ],
         "y": [
          213.0375,
          205.9125
         ]
        },
        {
         "line": {
          "color": "blue"
         },
         "mode": "lines",
         "name": "Jan 10 2011 inclusive - July 29th 2013",
         "showlegend": false,
         "type": "scatter",
         "x": [
          "2011-09-05T00:00:00",
          "2011-09-12T00:00:00"
         ],
         "y": [
          205.9125,
          180.2625
         ]
        },
        {
         "line": {
          "color": "blue"
         },
         "mode": "lines",
         "name": "Jan 10 2011 inclusive - July 29th 2013",
         "showlegend": false,
         "type": "scatter",
         "x": [
          "2011-09-12T00:00:00",
          "2011-09-19T00:00:00"
         ],
         "y": [
          180.2625,
          178.125
         ]
        },
        {
         "line": {
          "color": "blue"
         },
         "mode": "lines",
         "name": "Jan 10 2011 inclusive - July 29th 2013",
         "showlegend": false,
         "type": "scatter",
         "x": [
          "2011-09-19T00:00:00",
          "2011-09-26T00:00:00"
         ],
         "y": [
          178.125,
          178.125
         ]
        },
        {
         "line": {
          "color": "blue"
         },
         "mode": "lines",
         "name": "Jan 10 2011 inclusive - July 29th 2013",
         "showlegend": false,
         "type": "scatter",
         "x": [
          "2011-09-26T00:00:00",
          "2011-10-03T00:00:00"
         ],
         "y": [
          178.125,
          180.2625
         ]
        },
        {
         "line": {
          "color": "blue"
         },
         "mode": "lines",
         "name": "Jan 10 2011 inclusive - July 29th 2013",
         "showlegend": false,
         "type": "scatter",
         "x": [
          "2011-10-03T00:00:00",
          "2011-10-10T00:00:00"
         ],
         "y": [
          180.2625,
          205.9125
         ]
        },
        {
         "line": {
          "color": "blue"
         },
         "mode": "lines",
         "name": "Jan 10 2011 inclusive - July 29th 2013",
         "showlegend": false,
         "type": "scatter",
         "x": [
          "2011-10-10T00:00:00",
          "2011-10-17T00:00:00"
         ],
         "y": [
          205.9125,
          213.0375
         ]
        },
        {
         "line": {
          "color": "blue"
         },
         "mode": "lines",
         "name": "Jan 10 2011 inclusive - July 29th 2013",
         "showlegend": false,
         "type": "scatter",
         "x": [
          "2011-10-17T00:00:00",
          "2011-10-24T00:00:00"
         ],
         "y": [
          213.0375,
          213.0375
         ]
        },
        {
         "line": {
          "color": "blue"
         },
         "mode": "lines",
         "name": "Jan 10 2011 inclusive - July 29th 2013",
         "showlegend": false,
         "type": "scatter",
         "x": [
          "2011-10-24T00:00:00",
          "2011-10-31T00:00:00"
         ],
         "y": [
          213.0375,
          204.4875
         ]
        },
        {
         "line": {
          "color": "blue"
         },
         "mode": "lines",
         "name": "Jan 10 2011 inclusive - July 29th 2013",
         "showlegend": false,
         "type": "scatter",
         "x": [
          "2011-10-31T00:00:00",
          "2011-11-07T00:00:00"
         ],
         "y": [
          204.4875,
          213.0375
         ]
        },
        {
         "line": {
          "color": "blue"
         },
         "mode": "lines",
         "name": "Jan 10 2011 inclusive - July 29th 2013",
         "showlegend": false,
         "type": "scatter",
         "x": [
          "2011-11-07T00:00:00",
          "2011-11-14T00:00:00"
         ],
         "y": [
          213.0375,
          178.8375
         ]
        },
        {
         "line": {
          "color": "blue"
         },
         "mode": "lines",
         "name": "Jan 10 2011 inclusive - July 29th 2013",
         "showlegend": false,
         "type": "scatter",
         "x": [
          "2011-11-14T00:00:00",
          "2011-11-21T00:00:00"
         ],
         "y": [
          178.8375,
          177.4125
         ]
        },
        {
         "line": {
          "color": "blue"
         },
         "mode": "lines",
         "name": "Jan 10 2011 inclusive - July 29th 2013",
         "showlegend": false,
         "type": "scatter",
         "x": [
          "2011-11-21T00:00:00",
          "2011-11-28T00:00:00"
         ],
         "y": [
          177.4125,
          213.0375
         ]
        },
        {
         "line": {
          "color": "blue"
         },
         "mode": "lines",
         "name": "Jan 10 2011 inclusive - July 29th 2013",
         "showlegend": false,
         "type": "scatter",
         "x": [
          "2011-11-28T00:00:00",
          "2011-12-05T00:00:00"
         ],
         "y": [
          213.0375,
          180.2625
         ]
        },
        {
         "line": {
          "color": "blue"
         },
         "mode": "lines",
         "name": "Jan 10 2011 inclusive - July 29th 2013",
         "showlegend": false,
         "type": "scatter",
         "x": [
          "2011-12-05T00:00:00",
          "2011-12-12T00:00:00"
         ],
         "y": [
          180.2625,
          213.0375
         ]
        },
        {
         "line": {
          "color": "blue"
         },
         "mode": "lines",
         "name": "Jan 10 2011 inclusive - July 29th 2013",
         "showlegend": false,
         "type": "scatter",
         "x": [
          "2011-12-12T00:00:00",
          "2011-12-19T00:00:00"
         ],
         "y": [
          213.0375,
          213.0375
         ]
        },
        {
         "line": {
          "color": "blue"
         },
         "mode": "lines",
         "name": "Jan 10 2011 inclusive - July 29th 2013",
         "showlegend": false,
         "type": "scatter",
         "x": [
          "2011-12-19T00:00:00",
          "2011-12-26T00:00:00"
         ],
         "y": [
          213.0375,
          213.0375
         ]
        },
        {
         "line": {
          "color": "blue"
         },
         "mode": "lines",
         "name": "Jan 10 2011 inclusive - July 29th 2013",
         "showlegend": false,
         "type": "scatter",
         "x": [
          "2011-12-26T00:00:00",
          "2012-01-02T00:00:00"
         ],
         "y": [
          213.0375,
          180.2625
         ]
        },
        {
         "line": {
          "color": "blue"
         },
         "mode": "lines",
         "name": "Jan 10 2011 inclusive - July 29th 2013",
         "showlegend": false,
         "type": "scatter",
         "x": [
          "2012-01-02T00:00:00",
          "2012-01-09T00:00:00"
         ],
         "y": [
          180.2625,
          180.2625
         ]
        },
        {
         "line": {
          "color": "blue"
         },
         "mode": "lines",
         "name": "Jan 10 2011 inclusive - July 29th 2013",
         "showlegend": false,
         "type": "scatter",
         "x": [
          "2012-01-09T00:00:00",
          "2012-01-16T00:00:00"
         ],
         "y": [
          180.2625,
          213.0375
         ]
        },
        {
         "line": {
          "color": "blue"
         },
         "mode": "lines",
         "name": "Jan 10 2011 inclusive - July 29th 2013",
         "showlegend": false,
         "type": "scatter",
         "x": [
          "2012-01-16T00:00:00",
          "2012-01-23T00:00:00"
         ],
         "y": [
          213.0375,
          213.0375
         ]
        },
        {
         "line": {
          "color": "blue"
         },
         "mode": "lines",
         "name": "Jan 10 2011 inclusive - July 29th 2013",
         "showlegend": false,
         "type": "scatter",
         "x": [
          "2012-01-23T00:00:00",
          "2012-01-30T00:00:00"
         ],
         "y": [
          213.0375,
          213.0375
         ]
        },
        {
         "line": {
          "color": "blue"
         },
         "mode": "lines",
         "name": "Jan 10 2011 inclusive - July 29th 2013",
         "showlegend": false,
         "type": "scatter",
         "x": [
          "2012-01-30T00:00:00",
          "2012-02-06T00:00:00"
         ],
         "y": [
          213.0375,
          180.2625
         ]
        },
        {
         "line": {
          "color": "blue"
         },
         "mode": "lines",
         "name": "Jan 10 2011 inclusive - July 29th 2013",
         "showlegend": false,
         "type": "scatter",
         "x": [
          "2012-02-06T00:00:00",
          "2012-02-13T00:00:00"
         ],
         "y": [
          180.2625,
          177.4125
         ]
        },
        {
         "line": {
          "color": "blue"
         },
         "mode": "lines",
         "name": "Jan 10 2011 inclusive - July 29th 2013",
         "showlegend": false,
         "type": "scatter",
         "x": [
          "2012-02-13T00:00:00",
          "2012-02-20T00:00:00"
         ],
         "y": [
          177.4125,
          177.4125
         ]
        },
        {
         "line": {
          "color": "blue"
         },
         "mode": "lines",
         "name": "Jan 10 2011 inclusive - July 29th 2013",
         "showlegend": false,
         "type": "scatter",
         "x": [
          "2012-02-20T00:00:00",
          "2012-02-27T00:00:00"
         ],
         "y": [
          177.4125,
          213.0375
         ]
        },
        {
         "line": {
          "color": "blue"
         },
         "mode": "lines",
         "name": "Jan 10 2011 inclusive - July 29th 2013",
         "showlegend": false,
         "type": "scatter",
         "x": [
          "2012-02-27T00:00:00",
          "2012-03-05T00:00:00"
         ],
         "y": [
          213.0375,
          180.2625
         ]
        },
        {
         "line": {
          "color": "blue"
         },
         "mode": "lines",
         "name": "Jan 10 2011 inclusive - July 29th 2013",
         "showlegend": false,
         "type": "scatter",
         "x": [
          "2012-03-05T00:00:00",
          "2012-03-12T00:00:00"
         ],
         "y": [
          180.2625,
          180.2625
         ]
        },
        {
         "line": {
          "color": "blue"
         },
         "mode": "lines",
         "name": "Jan 10 2011 inclusive - July 29th 2013",
         "showlegend": false,
         "type": "scatter",
         "x": [
          "2012-03-12T00:00:00",
          "2012-03-19T00:00:00"
         ],
         "y": [
          180.2625,
          180.2625
         ]
        },
        {
         "line": {
          "color": "blue"
         },
         "mode": "lines",
         "name": "Jan 10 2011 inclusive - July 29th 2013",
         "showlegend": false,
         "type": "scatter",
         "x": [
          "2012-03-19T00:00:00",
          "2012-03-26T00:00:00"
         ],
         "y": [
          180.2625,
          180.2625
         ]
        },
        {
         "line": {
          "color": "blue"
         },
         "mode": "lines",
         "name": "Jan 10 2011 inclusive - July 29th 2013",
         "showlegend": false,
         "type": "scatter",
         "x": [
          "2012-03-26T00:00:00",
          "2012-04-02T00:00:00"
         ],
         "y": [
          180.2625,
          180.2625
         ]
        },
        {
         "line": {
          "color": "blue"
         },
         "mode": "lines",
         "name": "Jan 10 2011 inclusive - July 29th 2013",
         "showlegend": false,
         "type": "scatter",
         "x": [
          "2012-04-02T00:00:00",
          "2012-04-09T00:00:00"
         ],
         "y": [
          180.2625,
          178.125
         ]
        },
        {
         "line": {
          "color": "blue"
         },
         "mode": "lines",
         "name": "Jan 10 2011 inclusive - July 29th 2013",
         "showlegend": false,
         "type": "scatter",
         "x": [
          "2012-04-09T00:00:00",
          "2012-04-16T00:00:00"
         ],
         "y": [
          178.125,
          180.2625
         ]
        },
        {
         "line": {
          "color": "blue"
         },
         "mode": "lines",
         "name": "Jan 10 2011 inclusive - July 29th 2013",
         "showlegend": false,
         "type": "scatter",
         "x": [
          "2012-04-16T00:00:00",
          "2012-04-23T00:00:00"
         ],
         "y": [
          180.2625,
          180.2625
         ]
        },
        {
         "line": {
          "color": "blue"
         },
         "mode": "lines",
         "name": "Jan 10 2011 inclusive - July 29th 2013",
         "showlegend": false,
         "type": "scatter",
         "x": [
          "2012-04-23T00:00:00",
          "2012-04-30T00:00:00"
         ],
         "y": [
          180.2625,
          180.2625
         ]
        },
        {
         "line": {
          "color": "blue"
         },
         "mode": "lines",
         "name": "Jan 10 2011 inclusive - July 29th 2013",
         "showlegend": false,
         "type": "scatter",
         "x": [
          "2012-04-30T00:00:00",
          "2012-05-07T00:00:00"
         ],
         "y": [
          180.2625,
          180.2625
         ]
        },
        {
         "line": {
          "color": "blue"
         },
         "mode": "lines",
         "name": "Jan 10 2011 inclusive - July 29th 2013",
         "showlegend": false,
         "type": "scatter",
         "x": [
          "2012-05-07T00:00:00",
          "2012-05-14T00:00:00"
         ],
         "y": [
          180.2625,
          180.2625
         ]
        },
        {
         "line": {
          "color": "blue"
         },
         "mode": "lines",
         "name": "Jan 10 2011 inclusive - July 29th 2013",
         "showlegend": false,
         "type": "scatter",
         "x": [
          "2012-05-14T00:00:00",
          "2012-05-21T00:00:00"
         ],
         "y": [
          180.2625,
          180.2625
         ]
        },
        {
         "line": {
          "color": "blue"
         },
         "mode": "lines",
         "name": "Jan 10 2011 inclusive - July 29th 2013",
         "showlegend": false,
         "type": "scatter",
         "x": [
          "2012-05-21T00:00:00",
          "2012-05-28T00:00:00"
         ],
         "y": [
          180.2625,
          180.2625
         ]
        },
        {
         "line": {
          "color": "blue"
         },
         "mode": "lines",
         "name": "Jan 10 2011 inclusive - July 29th 2013",
         "showlegend": false,
         "type": "scatter",
         "x": [
          "2012-05-28T00:00:00",
          "2012-06-04T00:00:00"
         ],
         "y": [
          180.2625,
          180.2625
         ]
        },
        {
         "line": {
          "color": "blue"
         },
         "mode": "lines",
         "name": "Jan 10 2011 inclusive - July 29th 2013",
         "showlegend": false,
         "type": "scatter",
         "x": [
          "2012-06-04T00:00:00",
          "2012-06-11T00:00:00"
         ],
         "y": [
          180.2625,
          213.0375
         ]
        },
        {
         "line": {
          "color": "blue"
         },
         "mode": "lines",
         "name": "Jan 10 2011 inclusive - July 29th 2013",
         "showlegend": false,
         "type": "scatter",
         "x": [
          "2012-06-11T00:00:00",
          "2012-06-18T00:00:00"
         ],
         "y": [
          213.0375,
          180.2625
         ]
        },
        {
         "line": {
          "color": "blue"
         },
         "mode": "lines",
         "name": "Jan 10 2011 inclusive - July 29th 2013",
         "showlegend": false,
         "type": "scatter",
         "x": [
          "2012-06-18T00:00:00",
          "2012-06-25T00:00:00"
         ],
         "y": [
          180.2625,
          180.2625
         ]
        },
        {
         "line": {
          "color": "blue"
         },
         "mode": "lines",
         "name": "Jan 10 2011 inclusive - July 29th 2013",
         "showlegend": false,
         "type": "scatter",
         "x": [
          "2012-06-25T00:00:00",
          "2012-07-02T00:00:00"
         ],
         "y": [
          180.2625,
          180.2625
         ]
        },
        {
         "line": {
          "color": "blue"
         },
         "mode": "lines",
         "name": "Jan 10 2011 inclusive - July 29th 2013",
         "showlegend": false,
         "type": "scatter",
         "x": [
          "2012-07-02T00:00:00",
          "2012-07-09T00:00:00"
         ],
         "y": [
          180.2625,
          180.2625
         ]
        },
        {
         "line": {
          "color": "blue"
         },
         "mode": "lines",
         "name": "Jan 10 2011 inclusive - July 29th 2013",
         "showlegend": false,
         "type": "scatter",
         "x": [
          "2012-07-09T00:00:00",
          "2012-07-16T00:00:00"
         ],
         "y": [
          180.2625,
          180.2625
         ]
        },
        {
         "line": {
          "color": "blue"
         },
         "mode": "lines",
         "name": "Jan 10 2011 inclusive - July 29th 2013",
         "showlegend": false,
         "type": "scatter",
         "x": [
          "2012-07-16T00:00:00",
          "2012-07-23T00:00:00"
         ],
         "y": [
          180.2625,
          180.2625
         ]
        },
        {
         "line": {
          "color": "blue"
         },
         "mode": "lines",
         "name": "Jan 10 2011 inclusive - July 29th 2013",
         "showlegend": false,
         "type": "scatter",
         "x": [
          "2012-07-23T00:00:00",
          "2012-07-30T00:00:00"
         ],
         "y": [
          180.2625,
          180.2625
         ]
        },
        {
         "line": {
          "color": "blue"
         },
         "mode": "lines",
         "name": "Jan 10 2011 inclusive - July 29th 2013",
         "showlegend": false,
         "type": "scatter",
         "x": [
          "2012-07-30T00:00:00",
          "2012-08-06T00:00:00"
         ],
         "y": [
          180.2625,
          180.2625
         ]
        },
        {
         "line": {
          "color": "blue"
         },
         "mode": "lines",
         "name": "Jan 10 2011 inclusive - July 29th 2013",
         "showlegend": false,
         "type": "scatter",
         "x": [
          "2012-08-06T00:00:00",
          "2012-08-13T00:00:00"
         ],
         "y": [
          180.2625,
          180.2625
         ]
        },
        {
         "line": {
          "color": "blue"
         },
         "mode": "lines",
         "name": "Jan 10 2011 inclusive - July 29th 2013",
         "showlegend": false,
         "type": "scatter",
         "x": [
          "2012-08-13T00:00:00",
          "2012-08-20T00:00:00"
         ],
         "y": [
          180.2625,
          180.2625
         ]
        },
        {
         "line": {
          "color": "blue"
         },
         "mode": "lines",
         "name": "Jan 10 2011 inclusive - July 29th 2013",
         "showlegend": false,
         "type": "scatter",
         "x": [
          "2012-08-20T00:00:00",
          "2012-08-27T00:00:00"
         ],
         "y": [
          180.2625,
          180.2625
         ]
        },
        {
         "line": {
          "color": "blue"
         },
         "mode": "lines",
         "name": "Jan 10 2011 inclusive - July 29th 2013",
         "showlegend": false,
         "type": "scatter",
         "x": [
          "2012-08-27T00:00:00",
          "2012-09-03T00:00:00"
         ],
         "y": [
          180.2625,
          180.2625
         ]
        },
        {
         "line": {
          "color": "blue"
         },
         "mode": "lines",
         "name": "Jan 10 2011 inclusive - July 29th 2013",
         "showlegend": false,
         "type": "scatter",
         "x": [
          "2012-09-03T00:00:00",
          "2012-09-10T00:00:00"
         ],
         "y": [
          180.2625,
          213.0375
         ]
        },
        {
         "line": {
          "color": "blue"
         },
         "mode": "lines",
         "name": "Jan 10 2011 inclusive - July 29th 2013",
         "showlegend": false,
         "type": "scatter",
         "x": [
          "2012-09-10T00:00:00",
          "2012-09-17T00:00:00"
         ],
         "y": [
          213.0375,
          180.2625
         ]
        },
        {
         "line": {
          "color": "blue"
         },
         "mode": "lines",
         "name": "Jan 10 2011 inclusive - July 29th 2013",
         "showlegend": false,
         "type": "scatter",
         "x": [
          "2012-09-17T00:00:00",
          "2012-09-24T00:00:00"
         ],
         "y": [
          180.2625,
          180.2625
         ]
        },
        {
         "line": {
          "color": "blue"
         },
         "mode": "lines",
         "name": "Jan 10 2011 inclusive - July 29th 2013",
         "showlegend": false,
         "type": "scatter",
         "x": [
          "2012-09-24T00:00:00",
          "2012-10-01T00:00:00"
         ],
         "y": [
          180.2625,
          180.2625
         ]
        },
        {
         "line": {
          "color": "blue"
         },
         "mode": "lines",
         "name": "Jan 10 2011 inclusive - July 29th 2013",
         "showlegend": false,
         "type": "scatter",
         "x": [
          "2012-10-01T00:00:00",
          "2012-10-08T00:00:00"
         ],
         "y": [
          180.2625,
          180.2625
         ]
        },
        {
         "line": {
          "color": "blue"
         },
         "mode": "lines",
         "name": "Jan 10 2011 inclusive - July 29th 2013",
         "showlegend": false,
         "type": "scatter",
         "x": [
          "2012-10-08T00:00:00",
          "2012-10-15T00:00:00"
         ],
         "y": [
          180.2625,
          180.2625
         ]
        },
        {
         "line": {
          "color": "blue"
         },
         "mode": "lines",
         "name": "Jan 10 2011 inclusive - July 29th 2013",
         "showlegend": false,
         "type": "scatter",
         "x": [
          "2012-10-15T00:00:00",
          "2012-10-22T00:00:00"
         ],
         "y": [
          180.2625,
          180.2625
         ]
        },
        {
         "line": {
          "color": "blue"
         },
         "mode": "lines",
         "name": "Jan 10 2011 inclusive - July 29th 2013",
         "showlegend": false,
         "type": "scatter",
         "x": [
          "2012-10-22T00:00:00",
          "2012-10-29T00:00:00"
         ],
         "y": [
          180.2625,
          180.2625
         ]
        },
        {
         "line": {
          "color": "blue"
         },
         "mode": "lines",
         "name": "Jan 10 2011 inclusive - July 29th 2013",
         "showlegend": false,
         "type": "scatter",
         "x": [
          "2012-10-29T00:00:00",
          "2012-11-05T00:00:00"
         ],
         "y": [
          180.2625,
          180.2625
         ]
        },
        {
         "line": {
          "color": "blue"
         },
         "mode": "lines",
         "name": "Jan 10 2011 inclusive - July 29th 2013",
         "showlegend": false,
         "type": "scatter",
         "x": [
          "2012-11-05T00:00:00",
          "2012-11-12T00:00:00"
         ],
         "y": [
          180.2625,
          213.0375
         ]
        },
        {
         "line": {
          "color": "blue"
         },
         "mode": "lines",
         "name": "Jan 10 2011 inclusive - July 29th 2013",
         "showlegend": false,
         "type": "scatter",
         "x": [
          "2012-11-12T00:00:00",
          "2012-11-19T00:00:00"
         ],
         "y": [
          213.0375,
          180.2625
         ]
        },
        {
         "line": {
          "color": "blue"
         },
         "mode": "lines",
         "name": "Jan 10 2011 inclusive - July 29th 2013",
         "showlegend": false,
         "type": "scatter",
         "x": [
          "2012-11-19T00:00:00",
          "2012-11-26T00:00:00"
         ],
         "y": [
          180.2625,
          180.2625
         ]
        },
        {
         "line": {
          "color": "blue"
         },
         "mode": "lines",
         "name": "Jan 10 2011 inclusive - July 29th 2013",
         "showlegend": false,
         "type": "scatter",
         "x": [
          "2012-11-26T00:00:00",
          "2012-12-03T00:00:00"
         ],
         "y": [
          180.2625,
          180.2625
         ]
        },
        {
         "line": {
          "color": "blue"
         },
         "mode": "lines",
         "name": "Jan 10 2011 inclusive - July 29th 2013",
         "showlegend": false,
         "type": "scatter",
         "x": [
          "2012-12-03T00:00:00",
          "2012-12-10T00:00:00"
         ],
         "y": [
          180.2625,
          180.2625
         ]
        },
        {
         "line": {
          "color": "blue"
         },
         "mode": "lines",
         "name": "Jan 10 2011 inclusive - July 29th 2013",
         "showlegend": false,
         "type": "scatter",
         "x": [
          "2012-12-10T00:00:00",
          "2012-12-17T00:00:00"
         ],
         "y": [
          180.2625,
          180.2625
         ]
        },
        {
         "line": {
          "color": "blue"
         },
         "mode": "lines",
         "name": "Jan 10 2011 inclusive - July 29th 2013",
         "showlegend": false,
         "type": "scatter",
         "x": [
          "2012-12-17T00:00:00",
          "2012-12-24T00:00:00"
         ],
         "y": [
          180.2625,
          180.2625
         ]
        },
        {
         "line": {
          "color": "blue"
         },
         "mode": "lines",
         "name": "Jan 10 2011 inclusive - July 29th 2013",
         "showlegend": false,
         "type": "scatter",
         "x": [
          "2012-12-24T00:00:00",
          "2012-12-31T00:00:00"
         ],
         "y": [
          180.2625,
          180.2625
         ]
        },
        {
         "line": {
          "color": "blue"
         },
         "mode": "lines",
         "name": "Jan 10 2011 inclusive - July 29th 2013",
         "showlegend": false,
         "type": "scatter",
         "x": [
          "2012-12-31T00:00:00",
          "2013-01-07T00:00:00"
         ],
         "y": [
          180.2625,
          180.2625
         ]
        },
        {
         "line": {
          "color": "blue"
         },
         "mode": "lines",
         "name": "Jan 10 2011 inclusive - July 29th 2013",
         "showlegend": false,
         "type": "scatter",
         "x": [
          "2013-01-07T00:00:00",
          "2013-01-14T00:00:00"
         ],
         "y": [
          180.2625,
          180.2625
         ]
        },
        {
         "line": {
          "color": "blue"
         },
         "mode": "lines",
         "name": "Jan 10 2011 inclusive - July 29th 2013",
         "showlegend": false,
         "type": "scatter",
         "x": [
          "2013-01-14T00:00:00",
          "2013-01-21T00:00:00"
         ],
         "y": [
          180.2625,
          180.2625
         ]
        },
        {
         "line": {
          "color": "blue"
         },
         "mode": "lines",
         "name": "Jan 10 2011 inclusive - July 29th 2013",
         "showlegend": false,
         "type": "scatter",
         "x": [
          "2013-01-21T00:00:00",
          "2013-01-28T00:00:00"
         ],
         "y": [
          180.2625,
          180.2625
         ]
        },
        {
         "line": {
          "color": "blue"
         },
         "mode": "lines",
         "name": "Jan 10 2011 inclusive - July 29th 2013",
         "showlegend": false,
         "type": "scatter",
         "x": [
          "2013-01-28T00:00:00",
          "2013-02-04T00:00:00"
         ],
         "y": [
          180.2625,
          213.0375
         ]
        },
        {
         "line": {
          "color": "blue"
         },
         "mode": "lines",
         "name": "Jan 10 2011 inclusive - July 29th 2013",
         "showlegend": false,
         "type": "scatter",
         "x": [
          "2013-02-04T00:00:00",
          "2013-02-11T00:00:00"
         ],
         "y": [
          213.0375,
          180.2625
         ]
        },
        {
         "line": {
          "color": "blue"
         },
         "mode": "lines",
         "name": "Jan 10 2011 inclusive - July 29th 2013",
         "showlegend": false,
         "type": "scatter",
         "x": [
          "2013-02-11T00:00:00",
          "2013-02-18T00:00:00"
         ],
         "y": [
          180.2625,
          180.2625
         ]
        },
        {
         "line": {
          "color": "blue"
         },
         "mode": "lines",
         "name": "Jan 10 2011 inclusive - July 29th 2013",
         "showlegend": false,
         "type": "scatter",
         "x": [
          "2013-02-18T00:00:00",
          "2013-02-25T00:00:00"
         ],
         "y": [
          180.2625,
          180.2625
         ]
        },
        {
         "line": {
          "color": "blue"
         },
         "mode": "lines",
         "name": "Jan 10 2011 inclusive - July 29th 2013",
         "showlegend": false,
         "type": "scatter",
         "x": [
          "2013-02-25T00:00:00",
          "2013-03-04T00:00:00"
         ],
         "y": [
          180.2625,
          180.2625
         ]
        },
        {
         "line": {
          "color": "blue"
         },
         "mode": "lines",
         "name": "Jan 10 2011 inclusive - July 29th 2013",
         "showlegend": false,
         "type": "scatter",
         "x": [
          "2013-03-04T00:00:00",
          "2013-03-11T00:00:00"
         ],
         "y": [
          180.2625,
          180.2625
         ]
        },
        {
         "line": {
          "color": "blue"
         },
         "mode": "lines",
         "name": "Jan 10 2011 inclusive - July 29th 2013",
         "showlegend": false,
         "type": "scatter",
         "x": [
          "2013-03-11T00:00:00",
          "2013-03-18T00:00:00"
         ],
         "y": [
          180.2625,
          180.2625
         ]
        },
        {
         "line": {
          "color": "blue"
         },
         "mode": "lines",
         "name": "Jan 10 2011 inclusive - July 29th 2013",
         "showlegend": false,
         "type": "scatter",
         "x": [
          "2013-03-18T00:00:00",
          "2013-03-25T00:00:00"
         ],
         "y": [
          180.2625,
          180.2625
         ]
        },
        {
         "line": {
          "color": "blue"
         },
         "mode": "lines",
         "name": "Jan 10 2011 inclusive - July 29th 2013",
         "showlegend": false,
         "type": "scatter",
         "x": [
          "2013-03-25T00:00:00",
          "2013-04-01T00:00:00"
         ],
         "y": [
          180.2625,
          180.2625
         ]
        },
        {
         "line": {
          "color": "blue"
         },
         "mode": "lines",
         "name": "Jan 10 2011 inclusive - July 29th 2013",
         "showlegend": false,
         "type": "scatter",
         "x": [
          "2013-04-01T00:00:00",
          "2013-04-08T00:00:00"
         ],
         "y": [
          180.2625,
          180.2625
         ]
        },
        {
         "line": {
          "color": "blue"
         },
         "mode": "lines",
         "name": "Jan 10 2011 inclusive - July 29th 2013",
         "showlegend": false,
         "type": "scatter",
         "x": [
          "2013-04-08T00:00:00",
          "2013-04-15T00:00:00"
         ],
         "y": [
          180.2625,
          180.2625
         ]
        },
        {
         "line": {
          "color": "blue"
         },
         "mode": "lines",
         "name": "Jan 10 2011 inclusive - July 29th 2013",
         "showlegend": false,
         "type": "scatter",
         "x": [
          "2013-04-15T00:00:00",
          "2013-04-22T00:00:00"
         ],
         "y": [
          180.2625,
          180.2625
         ]
        },
        {
         "line": {
          "color": "blue"
         },
         "mode": "lines",
         "name": "Jan 10 2011 inclusive - July 29th 2013",
         "showlegend": false,
         "type": "scatter",
         "x": [
          "2013-04-22T00:00:00",
          "2013-04-29T00:00:00"
         ],
         "y": [
          180.2625,
          180.2625
         ]
        },
        {
         "line": {
          "color": "blue"
         },
         "mode": "lines",
         "name": "Jan 10 2011 inclusive - July 29th 2013",
         "showlegend": false,
         "type": "scatter",
         "x": [
          "2013-04-29T00:00:00",
          "2013-05-06T00:00:00"
         ],
         "y": [
          180.2625,
          180.2625
         ]
        },
        {
         "line": {
          "color": "blue"
         },
         "mode": "lines",
         "name": "Jan 10 2011 inclusive - July 29th 2013",
         "showlegend": false,
         "type": "scatter",
         "x": [
          "2013-05-06T00:00:00",
          "2013-05-13T00:00:00"
         ],
         "y": [
          180.2625,
          180.2625
         ]
        },
        {
         "line": {
          "color": "blue"
         },
         "mode": "lines",
         "name": "Jan 10 2011 inclusive - July 29th 2013",
         "showlegend": false,
         "type": "scatter",
         "x": [
          "2013-05-13T00:00:00",
          "2013-05-20T00:00:00"
         ],
         "y": [
          180.2625,
          180.2625
         ]
        },
        {
         "line": {
          "color": "blue"
         },
         "mode": "lines",
         "name": "Jan 10 2011 inclusive - July 29th 2013",
         "showlegend": false,
         "type": "scatter",
         "x": [
          "2013-05-20T00:00:00",
          "2013-05-27T00:00:00"
         ],
         "y": [
          180.2625,
          180.2625
         ]
        },
        {
         "line": {
          "color": "blue"
         },
         "mode": "lines",
         "name": "Jan 10 2011 inclusive - July 29th 2013",
         "showlegend": false,
         "type": "scatter",
         "x": [
          "2013-05-27T00:00:00",
          "2013-06-03T00:00:00"
         ],
         "y": [
          180.2625,
          180.2625
         ]
        },
        {
         "line": {
          "color": "blue"
         },
         "mode": "lines",
         "name": "Jan 10 2011 inclusive - July 29th 2013",
         "showlegend": false,
         "type": "scatter",
         "x": [
          "2013-06-03T00:00:00",
          "2013-06-10T00:00:00"
         ],
         "y": [
          180.2625,
          180.2625
         ]
        },
        {
         "line": {
          "color": "blue"
         },
         "mode": "lines",
         "name": "Jan 10 2011 inclusive - July 29th 2013",
         "showlegend": false,
         "type": "scatter",
         "x": [
          "2013-06-10T00:00:00",
          "2013-06-17T00:00:00"
         ],
         "y": [
          180.2625,
          180.2625
         ]
        },
        {
         "line": {
          "color": "blue"
         },
         "mode": "lines",
         "name": "Jan 10 2011 inclusive - July 29th 2013",
         "showlegend": false,
         "type": "scatter",
         "x": [
          "2013-06-17T00:00:00",
          "2013-06-24T00:00:00"
         ],
         "y": [
          180.2625,
          180.2625
         ]
        },
        {
         "line": {
          "color": "blue"
         },
         "mode": "lines",
         "name": "Jan 10 2011 inclusive - July 29th 2013",
         "showlegend": false,
         "type": "scatter",
         "x": [
          "2013-06-24T00:00:00",
          "2013-07-01T00:00:00"
         ],
         "y": [
          180.2625,
          180.2625
         ]
        },
        {
         "line": {
          "color": "blue"
         },
         "mode": "lines",
         "name": "Jan 10 2011 inclusive - July 29th 2013",
         "showlegend": false,
         "type": "scatter",
         "x": [
          "2013-07-01T00:00:00",
          "2013-07-08T00:00:00"
         ],
         "y": [
          180.2625,
          180.2625
         ]
        },
        {
         "line": {
          "color": "blue"
         },
         "mode": "lines",
         "name": "Jan 10 2011 inclusive - July 29th 2013",
         "showlegend": false,
         "type": "scatter",
         "x": [
          "2013-07-08T00:00:00",
          "2013-07-15T00:00:00"
         ],
         "y": [
          180.2625,
          180.2625
         ]
        },
        {
         "line": {
          "color": "blue"
         },
         "mode": "lines",
         "name": "Jan 10 2011 inclusive - July 29th 2013",
         "showlegend": false,
         "type": "scatter",
         "x": [
          "2013-07-15T00:00:00",
          "2013-07-22T00:00:00"
         ],
         "y": [
          180.2625,
          180.2625
         ]
        },
        {
         "line": {
          "color": "blue"
         },
         "mode": "lines",
         "name": "Jan 10 2011 inclusive - July 29th 2013",
         "showlegend": false,
         "type": "scatter",
         "x": [
          "2013-07-22T00:00:00",
          "2013-07-29T00:00:00"
         ],
         "y": [
          180.2625,
          180.26250000000024
         ]
        },
        {
         "line": {
          "color": "red"
         },
         "mode": "lines",
         "name": "After July 29th 2013 inclusive, forecast",
         "showlegend": true,
         "type": "scatter",
         "x": [
          "2013-07-29T00:00:00",
          "2013-08-05T00:00:00"
         ],
         "y": [
          180.26250000000024,
          180.26250000000024
         ]
        },
        {
         "line": {
          "color": "red"
         },
         "mode": "lines",
         "name": "After July 29th 2013 inclusive, forecast",
         "showlegend": false,
         "type": "scatter",
         "x": [
          "2013-08-05T00:00:00",
          "2013-08-12T00:00:00"
         ],
         "y": [
          180.26250000000024,
          180.26250000000024
         ]
        },
        {
         "line": {
          "color": "red"
         },
         "mode": "lines",
         "name": "After July 29th 2013 inclusive, forecast",
         "showlegend": false,
         "type": "scatter",
         "x": [
          "2013-08-12T00:00:00",
          "2013-08-19T00:00:00"
         ],
         "y": [
          180.26250000000024,
          180.26250000000024
         ]
        },
        {
         "line": {
          "color": "red"
         },
         "mode": "lines",
         "name": "After July 29th 2013 inclusive, forecast",
         "showlegend": false,
         "type": "scatter",
         "x": [
          "2013-08-19T00:00:00",
          "2013-08-26T00:00:00"
         ],
         "y": [
          180.26250000000024,
          180.26250000000024
         ]
        },
        {
         "line": {
          "color": "red"
         },
         "mode": "lines",
         "name": "After July 29th 2013 inclusive, forecast",
         "showlegend": false,
         "type": "scatter",
         "x": [
          "2013-08-26T00:00:00",
          "2013-09-02T00:00:00"
         ],
         "y": [
          180.26250000000024,
          180.26250000000024
         ]
        },
        {
         "line": {
          "color": "red"
         },
         "mode": "lines",
         "name": "After July 29th 2013 inclusive, forecast",
         "showlegend": false,
         "type": "scatter",
         "x": [
          "2013-09-02T00:00:00",
          "2013-09-09T00:00:00"
         ],
         "y": [
          180.26250000000024,
          180.26250000000024
         ]
        },
        {
         "line": {
          "color": "red"
         },
         "mode": "lines",
         "name": "After July 29th 2013 inclusive, forecast",
         "showlegend": false,
         "type": "scatter",
         "x": [
          "2013-09-09T00:00:00",
          "2013-09-16T00:00:00"
         ],
         "y": [
          180.26250000000024,
          180.26250000000024
         ]
        },
        {
         "line": {
          "color": "red"
         },
         "mode": "lines",
         "name": "After July 29th 2013 inclusive, forecast",
         "showlegend": false,
         "type": "scatter",
         "x": [
          "2013-09-16T00:00:00",
          "2013-09-23T00:00:00"
         ],
         "y": [
          180.26250000000024,
          180.26250000000024
         ]
        },
        {
         "line": {
          "color": "red"
         },
         "mode": "lines",
         "name": "After July 29th 2013 inclusive, forecast",
         "showlegend": false,
         "type": "scatter",
         "x": [
          "2013-09-23T00:00:00",
          "2013-09-30T00:00:00"
         ],
         "y": [
          180.26250000000024,
          180.26250000000024
         ]
        },
        {
         "line": {
          "color": "red"
         },
         "mode": "lines",
         "name": "After July 29th 2013 inclusive, forecast",
         "showlegend": false,
         "type": "scatter",
         "x": [
          "2013-09-30T00:00:00",
          "2013-10-07T00:00:00"
         ],
         "y": [
          180.26250000000024,
          180.26250000000024
         ]
        },
        {
         "line": {
          "color": "red"
         },
         "mode": "lines",
         "name": "After July 29th 2013 inclusive, forecast",
         "showlegend": false,
         "type": "scatter",
         "x": [
          "2013-10-07T00:00:00",
          "2013-10-14T00:00:00"
         ],
         "y": [
          180.26250000000024,
          180.26250000000024
         ]
        },
        {
         "line": {
          "color": "red"
         },
         "mode": "lines",
         "name": "After July 29th 2013 inclusive, forecast",
         "showlegend": false,
         "type": "scatter",
         "x": [
          "2013-10-14T00:00:00",
          "2013-10-21T00:00:00"
         ],
         "y": [
          180.26250000000024,
          180.26250000000024
         ]
        },
        {
         "line": {
          "color": "red"
         },
         "mode": "lines",
         "name": "After July 29th 2013 inclusive, forecast",
         "showlegend": false,
         "type": "scatter",
         "x": [
          "2013-10-21T00:00:00",
          "2013-10-28T00:00:00"
         ],
         "y": [
          180.26250000000024,
          180.26250000000024
         ]
        },
        {
         "line": {
          "color": "red"
         },
         "mode": "lines",
         "name": "After July 29th 2013 inclusive, forecast",
         "showlegend": false,
         "type": "scatter",
         "x": [
          "2013-10-28T00:00:00",
          "2013-11-04T00:00:00"
         ],
         "y": [
          180.26250000000024,
          180.26250000000024
         ]
        },
        {
         "line": {
          "color": "red"
         },
         "mode": "lines",
         "name": "After July 29th 2013 inclusive, forecast",
         "showlegend": false,
         "type": "scatter",
         "x": [
          "2013-11-04T00:00:00",
          "2013-11-11T00:00:00"
         ],
         "y": [
          180.26250000000024,
          180.26250000000024
         ]
        },
        {
         "line": {
          "color": "red"
         },
         "mode": "lines",
         "name": "After July 29th 2013 inclusive, forecast",
         "showlegend": false,
         "type": "scatter",
         "x": [
          "2013-11-11T00:00:00",
          "2013-11-18T00:00:00"
         ],
         "y": [
          180.26250000000024,
          180.26250000000024
         ]
        },
        {
         "line": {
          "color": "red"
         },
         "mode": "lines",
         "name": "After July 29th 2013 inclusive, forecast",
         "showlegend": false,
         "type": "scatter",
         "x": [
          "2013-11-18T00:00:00",
          "2013-11-25T00:00:00"
         ],
         "y": [
          180.26250000000024,
          180.26250000000024
         ]
        },
        {
         "line": {
          "color": "red"
         },
         "mode": "lines",
         "name": "After July 29th 2013 inclusive, forecast",
         "showlegend": false,
         "type": "scatter",
         "x": [
          "2013-11-25T00:00:00",
          "2013-12-02T00:00:00"
         ],
         "y": [
          180.26250000000024,
          177.41249999999997
         ]
        }
       ],
       "layout": {
        "autosize": false,
        "height": 600,
        "template": {
         "data": {
          "bar": [
           {
            "error_x": {
             "color": "#2a3f5f"
            },
            "error_y": {
             "color": "#2a3f5f"
            },
            "marker": {
             "line": {
              "color": "white",
              "width": 0.5
             },
             "pattern": {
              "fillmode": "overlay",
              "size": 10,
              "solidity": 0.2
             }
            },
            "type": "bar"
           }
          ],
          "barpolar": [
           {
            "marker": {
             "line": {
              "color": "white",
              "width": 0.5
             },
             "pattern": {
              "fillmode": "overlay",
              "size": 10,
              "solidity": 0.2
             }
            },
            "type": "barpolar"
           }
          ],
          "carpet": [
           {
            "aaxis": {
             "endlinecolor": "#2a3f5f",
             "gridcolor": "#C8D4E3",
             "linecolor": "#C8D4E3",
             "minorgridcolor": "#C8D4E3",
             "startlinecolor": "#2a3f5f"
            },
            "baxis": {
             "endlinecolor": "#2a3f5f",
             "gridcolor": "#C8D4E3",
             "linecolor": "#C8D4E3",
             "minorgridcolor": "#C8D4E3",
             "startlinecolor": "#2a3f5f"
            },
            "type": "carpet"
           }
          ],
          "choropleth": [
           {
            "colorbar": {
             "outlinewidth": 0,
             "ticks": ""
            },
            "type": "choropleth"
           }
          ],
          "contour": [
           {
            "colorbar": {
             "outlinewidth": 0,
             "ticks": ""
            },
            "colorscale": [
             [
              0,
              "#0d0887"
             ],
             [
              0.1111111111111111,
              "#46039f"
             ],
             [
              0.2222222222222222,
              "#7201a8"
             ],
             [
              0.3333333333333333,
              "#9c179e"
             ],
             [
              0.4444444444444444,
              "#bd3786"
             ],
             [
              0.5555555555555556,
              "#d8576b"
             ],
             [
              0.6666666666666666,
              "#ed7953"
             ],
             [
              0.7777777777777778,
              "#fb9f3a"
             ],
             [
              0.8888888888888888,
              "#fdca26"
             ],
             [
              1,
              "#f0f921"
             ]
            ],
            "type": "contour"
           }
          ],
          "contourcarpet": [
           {
            "colorbar": {
             "outlinewidth": 0,
             "ticks": ""
            },
            "type": "contourcarpet"
           }
          ],
          "heatmap": [
           {
            "colorbar": {
             "outlinewidth": 0,
             "ticks": ""
            },
            "colorscale": [
             [
              0,
              "#0d0887"
             ],
             [
              0.1111111111111111,
              "#46039f"
             ],
             [
              0.2222222222222222,
              "#7201a8"
             ],
             [
              0.3333333333333333,
              "#9c179e"
             ],
             [
              0.4444444444444444,
              "#bd3786"
             ],
             [
              0.5555555555555556,
              "#d8576b"
             ],
             [
              0.6666666666666666,
              "#ed7953"
             ],
             [
              0.7777777777777778,
              "#fb9f3a"
             ],
             [
              0.8888888888888888,
              "#fdca26"
             ],
             [
              1,
              "#f0f921"
             ]
            ],
            "type": "heatmap"
           }
          ],
          "heatmapgl": [
           {
            "colorbar": {
             "outlinewidth": 0,
             "ticks": ""
            },
            "colorscale": [
             [
              0,
              "#0d0887"
             ],
             [
              0.1111111111111111,
              "#46039f"
             ],
             [
              0.2222222222222222,
              "#7201a8"
             ],
             [
              0.3333333333333333,
              "#9c179e"
             ],
             [
              0.4444444444444444,
              "#bd3786"
             ],
             [
              0.5555555555555556,
              "#d8576b"
             ],
             [
              0.6666666666666666,
              "#ed7953"
             ],
             [
              0.7777777777777778,
              "#fb9f3a"
             ],
             [
              0.8888888888888888,
              "#fdca26"
             ],
             [
              1,
              "#f0f921"
             ]
            ],
            "type": "heatmapgl"
           }
          ],
          "histogram": [
           {
            "marker": {
             "pattern": {
              "fillmode": "overlay",
              "size": 10,
              "solidity": 0.2
             }
            },
            "type": "histogram"
           }
          ],
          "histogram2d": [
           {
            "colorbar": {
             "outlinewidth": 0,
             "ticks": ""
            },
            "colorscale": [
             [
              0,
              "#0d0887"
             ],
             [
              0.1111111111111111,
              "#46039f"
             ],
             [
              0.2222222222222222,
              "#7201a8"
             ],
             [
              0.3333333333333333,
              "#9c179e"
             ],
             [
              0.4444444444444444,
              "#bd3786"
             ],
             [
              0.5555555555555556,
              "#d8576b"
             ],
             [
              0.6666666666666666,
              "#ed7953"
             ],
             [
              0.7777777777777778,
              "#fb9f3a"
             ],
             [
              0.8888888888888888,
              "#fdca26"
             ],
             [
              1,
              "#f0f921"
             ]
            ],
            "type": "histogram2d"
           }
          ],
          "histogram2dcontour": [
           {
            "colorbar": {
             "outlinewidth": 0,
             "ticks": ""
            },
            "colorscale": [
             [
              0,
              "#0d0887"
             ],
             [
              0.1111111111111111,
              "#46039f"
             ],
             [
              0.2222222222222222,
              "#7201a8"
             ],
             [
              0.3333333333333333,
              "#9c179e"
             ],
             [
              0.4444444444444444,
              "#bd3786"
             ],
             [
              0.5555555555555556,
              "#d8576b"
             ],
             [
              0.6666666666666666,
              "#ed7953"
             ],
             [
              0.7777777777777778,
              "#fb9f3a"
             ],
             [
              0.8888888888888888,
              "#fdca26"
             ],
             [
              1,
              "#f0f921"
             ]
            ],
            "type": "histogram2dcontour"
           }
          ],
          "mesh3d": [
           {
            "colorbar": {
             "outlinewidth": 0,
             "ticks": ""
            },
            "type": "mesh3d"
           }
          ],
          "parcoords": [
           {
            "line": {
             "colorbar": {
              "outlinewidth": 0,
              "ticks": ""
             }
            },
            "type": "parcoords"
           }
          ],
          "pie": [
           {
            "automargin": true,
            "type": "pie"
           }
          ],
          "scatter": [
           {
            "fillpattern": {
             "fillmode": "overlay",
             "size": 10,
             "solidity": 0.2
            },
            "type": "scatter"
           }
          ],
          "scatter3d": [
           {
            "line": {
             "colorbar": {
              "outlinewidth": 0,
              "ticks": ""
             }
            },
            "marker": {
             "colorbar": {
              "outlinewidth": 0,
              "ticks": ""
             }
            },
            "type": "scatter3d"
           }
          ],
          "scattercarpet": [
           {
            "marker": {
             "colorbar": {
              "outlinewidth": 0,
              "ticks": ""
             }
            },
            "type": "scattercarpet"
           }
          ],
          "scattergeo": [
           {
            "marker": {
             "colorbar": {
              "outlinewidth": 0,
              "ticks": ""
             }
            },
            "type": "scattergeo"
           }
          ],
          "scattergl": [
           {
            "marker": {
             "colorbar": {
              "outlinewidth": 0,
              "ticks": ""
             }
            },
            "type": "scattergl"
           }
          ],
          "scattermapbox": [
           {
            "marker": {
             "colorbar": {
              "outlinewidth": 0,
              "ticks": ""
             }
            },
            "type": "scattermapbox"
           }
          ],
          "scatterpolar": [
           {
            "marker": {
             "colorbar": {
              "outlinewidth": 0,
              "ticks": ""
             }
            },
            "type": "scatterpolar"
           }
          ],
          "scatterpolargl": [
           {
            "marker": {
             "colorbar": {
              "outlinewidth": 0,
              "ticks": ""
             }
            },
            "type": "scatterpolargl"
           }
          ],
          "scatterternary": [
           {
            "marker": {
             "colorbar": {
              "outlinewidth": 0,
              "ticks": ""
             }
            },
            "type": "scatterternary"
           }
          ],
          "surface": [
           {
            "colorbar": {
             "outlinewidth": 0,
             "ticks": ""
            },
            "colorscale": [
             [
              0,
              "#0d0887"
             ],
             [
              0.1111111111111111,
              "#46039f"
             ],
             [
              0.2222222222222222,
              "#7201a8"
             ],
             [
              0.3333333333333333,
              "#9c179e"
             ],
             [
              0.4444444444444444,
              "#bd3786"
             ],
             [
              0.5555555555555556,
              "#d8576b"
             ],
             [
              0.6666666666666666,
              "#ed7953"
             ],
             [
              0.7777777777777778,
              "#fb9f3a"
             ],
             [
              0.8888888888888888,
              "#fdca26"
             ],
             [
              1,
              "#f0f921"
             ]
            ],
            "type": "surface"
           }
          ],
          "table": [
           {
            "cells": {
             "fill": {
              "color": "#EBF0F8"
             },
             "line": {
              "color": "white"
             }
            },
            "header": {
             "fill": {
              "color": "#C8D4E3"
             },
             "line": {
              "color": "white"
             }
            },
            "type": "table"
           }
          ]
         },
         "layout": {
          "annotationdefaults": {
           "arrowcolor": "#2a3f5f",
           "arrowhead": 0,
           "arrowwidth": 1
          },
          "autotypenumbers": "strict",
          "coloraxis": {
           "colorbar": {
            "outlinewidth": 0,
            "ticks": ""
           }
          },
          "colorscale": {
           "diverging": [
            [
             0,
             "#8e0152"
            ],
            [
             0.1,
             "#c51b7d"
            ],
            [
             0.2,
             "#de77ae"
            ],
            [
             0.3,
             "#f1b6da"
            ],
            [
             0.4,
             "#fde0ef"
            ],
            [
             0.5,
             "#f7f7f7"
            ],
            [
             0.6,
             "#e6f5d0"
            ],
            [
             0.7,
             "#b8e186"
            ],
            [
             0.8,
             "#7fbc41"
            ],
            [
             0.9,
             "#4d9221"
            ],
            [
             1,
             "#276419"
            ]
           ],
           "sequential": [
            [
             0,
             "#0d0887"
            ],
            [
             0.1111111111111111,
             "#46039f"
            ],
            [
             0.2222222222222222,
             "#7201a8"
            ],
            [
             0.3333333333333333,
             "#9c179e"
            ],
            [
             0.4444444444444444,
             "#bd3786"
            ],
            [
             0.5555555555555556,
             "#d8576b"
            ],
            [
             0.6666666666666666,
             "#ed7953"
            ],
            [
             0.7777777777777778,
             "#fb9f3a"
            ],
            [
             0.8888888888888888,
             "#fdca26"
            ],
            [
             1,
             "#f0f921"
            ]
           ],
           "sequentialminus": [
            [
             0,
             "#0d0887"
            ],
            [
             0.1111111111111111,
             "#46039f"
            ],
            [
             0.2222222222222222,
             "#7201a8"
            ],
            [
             0.3333333333333333,
             "#9c179e"
            ],
            [
             0.4444444444444444,
             "#bd3786"
            ],
            [
             0.5555555555555556,
             "#d8576b"
            ],
            [
             0.6666666666666666,
             "#ed7953"
            ],
            [
             0.7777777777777778,
             "#fb9f3a"
            ],
            [
             0.8888888888888888,
             "#fdca26"
            ],
            [
             1,
             "#f0f921"
            ]
           ]
          },
          "colorway": [
           "#636efa",
           "#EF553B",
           "#00cc96",
           "#ab63fa",
           "#FFA15A",
           "#19d3f3",
           "#FF6692",
           "#B6E880",
           "#FF97FF",
           "#FECB52"
          ],
          "font": {
           "color": "#2a3f5f"
          },
          "geo": {
           "bgcolor": "white",
           "lakecolor": "white",
           "landcolor": "white",
           "showlakes": true,
           "showland": true,
           "subunitcolor": "#C8D4E3"
          },
          "hoverlabel": {
           "align": "left"
          },
          "hovermode": "closest",
          "mapbox": {
           "style": "light"
          },
          "paper_bgcolor": "white",
          "plot_bgcolor": "white",
          "polar": {
           "angularaxis": {
            "gridcolor": "#EBF0F8",
            "linecolor": "#EBF0F8",
            "ticks": ""
           },
           "bgcolor": "white",
           "radialaxis": {
            "gridcolor": "#EBF0F8",
            "linecolor": "#EBF0F8",
            "ticks": ""
           }
          },
          "scene": {
           "xaxis": {
            "backgroundcolor": "white",
            "gridcolor": "#DFE8F3",
            "gridwidth": 2,
            "linecolor": "#EBF0F8",
            "showbackground": true,
            "ticks": "",
            "zerolinecolor": "#EBF0F8"
           },
           "yaxis": {
            "backgroundcolor": "white",
            "gridcolor": "#DFE8F3",
            "gridwidth": 2,
            "linecolor": "#EBF0F8",
            "showbackground": true,
            "ticks": "",
            "zerolinecolor": "#EBF0F8"
           },
           "zaxis": {
            "backgroundcolor": "white",
            "gridcolor": "#DFE8F3",
            "gridwidth": 2,
            "linecolor": "#EBF0F8",
            "showbackground": true,
            "ticks": "",
            "zerolinecolor": "#EBF0F8"
           }
          },
          "shapedefaults": {
           "line": {
            "color": "#2a3f5f"
           }
          },
          "ternary": {
           "aaxis": {
            "gridcolor": "#DFE8F3",
            "linecolor": "#A2B1C6",
            "ticks": ""
           },
           "baxis": {
            "gridcolor": "#DFE8F3",
            "linecolor": "#A2B1C6",
            "ticks": ""
           },
           "bgcolor": "white",
           "caxis": {
            "gridcolor": "#DFE8F3",
            "linecolor": "#A2B1C6",
            "ticks": ""
           }
          },
          "title": {
           "x": 0.05
          },
          "xaxis": {
           "automargin": true,
           "gridcolor": "#EBF0F8",
           "linecolor": "#EBF0F8",
           "ticks": "",
           "title": {
            "standoff": 15
           },
           "zerolinecolor": "#EBF0F8",
           "zerolinewidth": 2
          },
          "yaxis": {
           "automargin": true,
           "gridcolor": "#EBF0F8",
           "linecolor": "#EBF0F8",
           "ticks": "",
           "title": {
            "standoff": 15
           },
           "zerolinecolor": "#EBF0F8",
           "zerolinewidth": 2
          }
         }
        },
        "title": {
         "text": "Median total price of product #679023 over Jan 10 2011 - Dec 2 2013",
         "x": 0.75
        },
        "width": 1100,
        "xaxis": {
         "autorange": true,
         "range": [
          "2011-01-10",
          "2013-12-02"
         ],
         "title": {
          "text": "Time"
         },
         "type": "date"
        },
        "yaxis": {
         "autorange": true,
         "range": [
          175.4333333333333,
          215.01666666666665
         ],
         "title": {
          "text": "Median Total Price"
         },
         "type": "linear"
        }
       }
      },
      "image/png": "[encoded data removed]",
      "text/html": [
       "<div>                            <div id=\"78ac7230-8cd7-419a-bdd5-68abfd7b6f52\" class=\"plotly-graph-div\" style=\"height:600px; width:1100px;\"></div>            <script type=\"text/javascript\">                require([\"plotly\"], function(Plotly) {                    window.PLOTLYENV=window.PLOTLYENV || {};                                    if (document.getElementById(\"78ac7230-8cd7-419a-bdd5-68abfd7b6f52\")) {                    Plotly.newPlot(                        \"78ac7230-8cd7-419a-bdd5-68abfd7b6f52\",                        [{\"line\":{\"color\":\"blue\"},\"mode\":\"lines\",\"name\":\"Jan 10 2011 inclusive - July 29th 2013\",\"showlegend\":true,\"x\":[\"2011-01-10T00:00:00\",\"2011-01-17T00:00:00\"],\"y\":[180.2625,178.125],\"type\":\"scatter\"},{\"line\":{\"color\":\"blue\"},\"mode\":\"lines\",\"name\":\"Jan 10 2011 inclusive - July 29th 2013\",\"showlegend\":false,\"x\":[\"2011-01-17T00:00:00\",\"2011-01-24T00:00:00\"],\"y\":[178.125,178.125],\"type\":\"scatter\"},{\"line\":{\"color\":\"blue\"},\"mode\":\"lines\",\"name\":\"Jan 10 2011 inclusive - July 29th 2013\",\"showlegend\":false,\"x\":[\"2011-01-24T00:00:00\",\"2011-01-31T00:00:00\"],\"y\":[178.125,178.125],\"type\":\"scatter\"},{\"line\":{\"color\":\"blue\"},\"mode\":\"lines\",\"name\":\"Jan 10 2011 inclusive - July 29th 2013\",\"showlegend\":false,\"x\":[\"2011-01-31T00:00:00\",\"2011-02-07T00:00:00\"],\"y\":[178.125,180.2625],\"type\":\"scatter\"},{\"line\":{\"color\":\"blue\"},\"mode\":\"lines\",\"name\":\"Jan 10 2011 inclusive - July 29th 2013\",\"showlegend\":false,\"x\":[\"2011-02-07T00:00:00\",\"2011-02-14T00:00:00\"],\"y\":[180.2625,205.9125],\"type\":\"scatter\"},{\"line\":{\"color\":\"blue\"},\"mode\":\"lines\",\"name\":\"Jan 10 2011 inclusive - July 29th 2013\",\"showlegend\":false,\"x\":[\"2011-02-14T00:00:00\",\"2011-02-21T00:00:00\"],\"y\":[205.9125,205.9125],\"type\":\"scatter\"},{\"line\":{\"color\":\"blue\"},\"mode\":\"lines\",\"name\":\"Jan 10 2011 inclusive - July 29th 2013\",\"showlegend\":false,\"x\":[\"2011-02-21T00:00:00\",\"2011-02-28T00:00:00\"],\"y\":[205.9125,205.9125],\"type\":\"scatter\"},{\"line\":{\"color\":\"blue\"},\"mode\":\"lines\",\"name\":\"Jan 10 2011 inclusive - July 29th 2013\",\"showlegend\":false,\"x\":[\"2011-02-28T00:00:00\",\"2011-03-07T00:00:00\"],\"y\":[205.9125,180.2625],\"type\":\"scatter\"},{\"line\":{\"color\":\"blue\"},\"mode\":\"lines\",\"name\":\"Jan 10 2011 inclusive - July 29th 2013\",\"showlegend\":false,\"x\":[\"2011-03-07T00:00:00\",\"2011-03-14T00:00:00\"],\"y\":[180.2625,205.9125],\"type\":\"scatter\"},{\"line\":{\"color\":\"blue\"},\"mode\":\"lines\",\"name\":\"Jan 10 2011 inclusive - July 29th 2013\",\"showlegend\":false,\"x\":[\"2011-03-14T00:00:00\",\"2011-03-21T00:00:00\"],\"y\":[205.9125,177.4125],\"type\":\"scatter\"},{\"line\":{\"color\":\"blue\"},\"mode\":\"lines\",\"name\":\"Jan 10 2011 inclusive - July 29th 2013\",\"showlegend\":false,\"x\":[\"2011-03-21T00:00:00\",\"2011-03-28T00:00:00\"],\"y\":[177.4125,177.4125],\"type\":\"scatter\"},{\"line\":{\"color\":\"blue\"},\"mode\":\"lines\",\"name\":\"Jan 10 2011 inclusive - July 29th 2013\",\"showlegend\":false,\"x\":[\"2011-03-28T00:00:00\",\"2011-04-04T00:00:00\"],\"y\":[177.4125,177.4125],\"type\":\"scatter\"},{\"line\":{\"color\":\"blue\"},\"mode\":\"lines\",\"name\":\"Jan 10 2011 inclusive - July 29th 2013\",\"showlegend\":false,\"x\":[\"2011-04-04T00:00:00\",\"2011-04-11T00:00:00\"],\"y\":[177.4125,180.2625],\"type\":\"scatter\"},{\"line\":{\"color\":\"blue\"},\"mode\":\"lines\",\"name\":\"Jan 10 2011 inclusive - July 29th 2013\",\"showlegend\":false,\"x\":[\"2011-04-11T00:00:00\",\"2011-04-18T00:00:00\"],\"y\":[180.2625,205.9125],\"type\":\"scatter\"},{\"line\":{\"color\":\"blue\"},\"mode\":\"lines\",\"name\":\"Jan 10 2011 inclusive - July 29th 2013\",\"showlegend\":false,\"x\":[\"2011-04-18T00:00:00\",\"2011-04-25T00:00:00\"],\"y\":[205.9125,205.9125],\"type\":\"scatter\"},{\"line\":{\"color\":\"blue\"},\"mode\":\"lines\",\"name\":\"Jan 10 2011 inclusive - July 29th 2013\",\"showlegend\":false,\"x\":[\"2011-04-25T00:00:00\",\"2011-05-02T00:00:00\"],\"y\":[205.9125,180.2625],\"type\":\"scatter\"},{\"line\":{\"color\":\"blue\"},\"mode\":\"lines\",\"name\":\"Jan 10 2011 inclusive - July 29th 2013\",\"showlegend\":false,\"x\":[\"2011-05-02T00:00:00\",\"2011-05-09T00:00:00\"],\"y\":[180.2625,208.7625],\"type\":\"scatter\"},{\"line\":{\"color\":\"blue\"},\"mode\":\"lines\",\"name\":\"Jan 10 2011 inclusive - July 29th 2013\",\"showlegend\":false,\"x\":[\"2011-05-09T00:00:00\",\"2011-05-16T00:00:00\"],\"y\":[208.7625,205.9125],\"type\":\"scatter\"},{\"line\":{\"color\":\"blue\"},\"mode\":\"lines\",\"name\":\"Jan 10 2011 inclusive - July 29th 2013\",\"showlegend\":false,\"x\":[\"2011-05-16T00:00:00\",\"2011-05-23T00:00:00\"],\"y\":[205.9125,205.9125],\"type\":\"scatter\"},{\"line\":{\"color\":\"blue\"},\"mode\":\"lines\",\"name\":\"Jan 10 2011 inclusive - July 29th 2013\",\"showlegend\":false,\"x\":[\"2011-05-23T00:00:00\",\"2011-05-30T00:00:00\"],\"y\":[205.9125,205.9125],\"type\":\"scatter\"},{\"line\":{\"color\":\"blue\"},\"mode\":\"lines\",\"name\":\"Jan 10 2011 inclusive - July 29th 2013\",\"showlegend\":false,\"x\":[\"2011-05-30T00:00:00\",\"2011-06-06T00:00:00\"],\"y\":[205.9125,201.6375],\"type\":\"scatter\"},{\"line\":{\"color\":\"blue\"},\"mode\":\"lines\",\"name\":\"Jan 10 2011 inclusive - July 29th 2013\",\"showlegend\":false,\"x\":[\"2011-06-06T00:00:00\",\"2011-06-13T00:00:00\"],\"y\":[201.6375,178.125],\"type\":\"scatter\"},{\"line\":{\"color\":\"blue\"},\"mode\":\"lines\",\"name\":\"Jan 10 2011 inclusive - July 29th 2013\",\"showlegend\":false,\"x\":[\"2011-06-13T00:00:00\",\"2011-06-20T00:00:00\"],\"y\":[178.125,178.125],\"type\":\"scatter\"},{\"line\":{\"color\":\"blue\"},\"mode\":\"lines\",\"name\":\"Jan 10 2011 inclusive - July 29th 2013\",\"showlegend\":false,\"x\":[\"2011-06-20T00:00:00\",\"2011-06-27T00:00:00\"],\"y\":[178.125,178.125],\"type\":\"scatter\"},{\"line\":{\"color\":\"blue\"},\"mode\":\"lines\",\"name\":\"Jan 10 2011 inclusive - July 29th 2013\",\"showlegend\":false,\"x\":[\"2011-06-27T00:00:00\",\"2011-07-04T00:00:00\"],\"y\":[178.125,180.2625],\"type\":\"scatter\"},{\"line\":{\"color\":\"blue\"},\"mode\":\"lines\",\"name\":\"Jan 10 2011 inclusive - July 29th 2013\",\"showlegend\":false,\"x\":[\"2011-07-04T00:00:00\",\"2011-07-11T00:00:00\"],\"y\":[180.2625,177.4125],\"type\":\"scatter\"},{\"line\":{\"color\":\"blue\"},\"mode\":\"lines\",\"name\":\"Jan 10 2011 inclusive - July 29th 2013\",\"showlegend\":false,\"x\":[\"2011-07-11T00:00:00\",\"2011-07-18T00:00:00\"],\"y\":[177.4125,213.0375],\"type\":\"scatter\"},{\"line\":{\"color\":\"blue\"},\"mode\":\"lines\",\"name\":\"Jan 10 2011 inclusive - July 29th 2013\",\"showlegend\":false,\"x\":[\"2011-07-18T00:00:00\",\"2011-07-25T00:00:00\"],\"y\":[213.0375,177.4125],\"type\":\"scatter\"},{\"line\":{\"color\":\"blue\"},\"mode\":\"lines\",\"name\":\"Jan 10 2011 inclusive - July 29th 2013\",\"showlegend\":false,\"x\":[\"2011-07-25T00:00:00\",\"2011-08-01T00:00:00\"],\"y\":[177.4125,180.2625],\"type\":\"scatter\"},{\"line\":{\"color\":\"blue\"},\"mode\":\"lines\",\"name\":\"Jan 10 2011 inclusive - July 29th 2013\",\"showlegend\":false,\"x\":[\"2011-08-01T00:00:00\",\"2011-08-08T00:00:00\"],\"y\":[180.2625,177.4125],\"type\":\"scatter\"},{\"line\":{\"color\":\"blue\"},\"mode\":\"lines\",\"name\":\"Jan 10 2011 inclusive - July 29th 2013\",\"showlegend\":false,\"x\":[\"2011-08-08T00:00:00\",\"2011-08-15T00:00:00\"],\"y\":[177.4125,213.0375],\"type\":\"scatter\"},{\"line\":{\"color\":\"blue\"},\"mode\":\"lines\",\"name\":\"Jan 10 2011 inclusive - July 29th 2013\",\"showlegend\":false,\"x\":[\"2011-08-15T00:00:00\",\"2011-08-22T00:00:00\"],\"y\":[213.0375,213.0375],\"type\":\"scatter\"},{\"line\":{\"color\":\"blue\"},\"mode\":\"lines\",\"name\":\"Jan 10 2011 inclusive - July 29th 2013\",\"showlegend\":false,\"x\":[\"2011-08-22T00:00:00\",\"2011-08-29T00:00:00\"],\"y\":[213.0375,213.0375],\"type\":\"scatter\"},{\"line\":{\"color\":\"blue\"},\"mode\":\"lines\",\"name\":\"Jan 10 2011 inclusive - July 29th 2013\",\"showlegend\":false,\"x\":[\"2011-08-29T00:00:00\",\"2011-09-05T00:00:00\"],\"y\":[213.0375,205.9125],\"type\":\"scatter\"},{\"line\":{\"color\":\"blue\"},\"mode\":\"lines\",\"name\":\"Jan 10 2011 inclusive - July 29th 2013\",\"showlegend\":false,\"x\":[\"2011-09-05T00:00:00\",\"2011-09-12T00:00:00\"],\"y\":[205.9125,180.2625],\"type\":\"scatter\"},{\"line\":{\"color\":\"blue\"},\"mode\":\"lines\",\"name\":\"Jan 10 2011 inclusive - July 29th 2013\",\"showlegend\":false,\"x\":[\"2011-09-12T00:00:00\",\"2011-09-19T00:00:00\"],\"y\":[180.2625,178.125],\"type\":\"scatter\"},{\"line\":{\"color\":\"blue\"},\"mode\":\"lines\",\"name\":\"Jan 10 2011 inclusive - July 29th 2013\",\"showlegend\":false,\"x\":[\"2011-09-19T00:00:00\",\"2011-09-26T00:00:00\"],\"y\":[178.125,178.125],\"type\":\"scatter\"},{\"line\":{\"color\":\"blue\"},\"mode\":\"lines\",\"name\":\"Jan 10 2011 inclusive - July 29th 2013\",\"showlegend\":false,\"x\":[\"2011-09-26T00:00:00\",\"2011-10-03T00:00:00\"],\"y\":[178.125,180.2625],\"type\":\"scatter\"},{\"line\":{\"color\":\"blue\"},\"mode\":\"lines\",\"name\":\"Jan 10 2011 inclusive - July 29th 2013\",\"showlegend\":false,\"x\":[\"2011-10-03T00:00:00\",\"2011-10-10T00:00:00\"],\"y\":[180.2625,205.9125],\"type\":\"scatter\"},{\"line\":{\"color\":\"blue\"},\"mode\":\"lines\",\"name\":\"Jan 10 2011 inclusive - July 29th 2013\",\"showlegend\":false,\"x\":[\"2011-10-10T00:00:00\",\"2011-10-17T00:00:00\"],\"y\":[205.9125,213.0375],\"type\":\"scatter\"},{\"line\":{\"color\":\"blue\"},\"mode\":\"lines\",\"name\":\"Jan 10 2011 inclusive - July 29th 2013\",\"showlegend\":false,\"x\":[\"2011-10-17T00:00:00\",\"2011-10-24T00:00:00\"],\"y\":[213.0375,213.0375],\"type\":\"scatter\"},{\"line\":{\"color\":\"blue\"},\"mode\":\"lines\",\"name\":\"Jan 10 2011 inclusive - July 29th 2013\",\"showlegend\":false,\"x\":[\"2011-10-24T00:00:00\",\"2011-10-31T00:00:00\"],\"y\":[213.0375,204.4875],\"type\":\"scatter\"},{\"line\":{\"color\":\"blue\"},\"mode\":\"lines\",\"name\":\"Jan 10 2011 inclusive - July 29th 2013\",\"showlegend\":false,\"x\":[\"2011-10-31T00:00:00\",\"2011-11-07T00:00:00\"],\"y\":[204.4875,213.0375],\"type\":\"scatter\"},{\"line\":{\"color\":\"blue\"},\"mode\":\"lines\",\"name\":\"Jan 10 2011 inclusive - July 29th 2013\",\"showlegend\":false,\"x\":[\"2011-11-07T00:00:00\",\"2011-11-14T00:00:00\"],\"y\":[213.0375,178.8375],\"type\":\"scatter\"},{\"line\":{\"color\":\"blue\"},\"mode\":\"lines\",\"name\":\"Jan 10 2011 inclusive - July 29th 2013\",\"showlegend\":false,\"x\":[\"2011-11-14T00:00:00\",\"2011-11-21T00:00:00\"],\"y\":[178.8375,177.4125],\"type\":\"scatter\"},{\"line\":{\"color\":\"blue\"},\"mode\":\"lines\",\"name\":\"Jan 10 2011 inclusive - July 29th 2013\",\"showlegend\":false,\"x\":[\"2011-11-21T00:00:00\",\"2011-11-28T00:00:00\"],\"y\":[177.4125,213.0375],\"type\":\"scatter\"},{\"line\":{\"color\":\"blue\"},\"mode\":\"lines\",\"name\":\"Jan 10 2011 inclusive - July 29th 2013\",\"showlegend\":false,\"x\":[\"2011-11-28T00:00:00\",\"2011-12-05T00:00:00\"],\"y\":[213.0375,180.2625],\"type\":\"scatter\"},{\"line\":{\"color\":\"blue\"},\"mode\":\"lines\",\"name\":\"Jan 10 2011 inclusive - July 29th 2013\",\"showlegend\":false,\"x\":[\"2011-12-05T00:00:00\",\"2011-12-12T00:00:00\"],\"y\":[180.2625,213.0375],\"type\":\"scatter\"},{\"line\":{\"color\":\"blue\"},\"mode\":\"lines\",\"name\":\"Jan 10 2011 inclusive - July 29th 2013\",\"showlegend\":false,\"x\":[\"2011-12-12T00:00:00\",\"2011-12-19T00:00:00\"],\"y\":[213.0375,213.0375],\"type\":\"scatter\"},{\"line\":{\"color\":\"blue\"},\"mode\":\"lines\",\"name\":\"Jan 10 2011 inclusive - July 29th 2013\",\"showlegend\":false,\"x\":[\"2011-12-19T00:00:00\",\"2011-12-26T00:00:00\"],\"y\":[213.0375,213.0375],\"type\":\"scatter\"},{\"line\":{\"color\":\"blue\"},\"mode\":\"lines\",\"name\":\"Jan 10 2011 inclusive - July 29th 2013\",\"showlegend\":false,\"x\":[\"2011-12-26T00:00:00\",\"2012-01-02T00:00:00\"],\"y\":[213.0375,180.2625],\"type\":\"scatter\"},{\"line\":{\"color\":\"blue\"},\"mode\":\"lines\",\"name\":\"Jan 10 2011 inclusive - July 29th 2013\",\"showlegend\":false,\"x\":[\"2012-01-02T00:00:00\",\"2012-01-09T00:00:00\"],\"y\":[180.2625,180.2625],\"type\":\"scatter\"},{\"line\":{\"color\":\"blue\"},\"mode\":\"lines\",\"name\":\"Jan 10 2011 inclusive - July 29th 2013\",\"showlegend\":false,\"x\":[\"2012-01-09T00:00:00\",\"2012-01-16T00:00:00\"],\"y\":[180.2625,213.0375],\"type\":\"scatter\"},{\"line\":{\"color\":\"blue\"},\"mode\":\"lines\",\"name\":\"Jan 10 2011 inclusive - July 29th 2013\",\"showlegend\":false,\"x\":[\"2012-01-16T00:00:00\",\"2012-01-23T00:00:00\"],\"y\":[213.0375,213.0375],\"type\":\"scatter\"},{\"line\":{\"color\":\"blue\"},\"mode\":\"lines\",\"name\":\"Jan 10 2011 inclusive - July 29th 2013\",\"showlegend\":false,\"x\":[\"2012-01-23T00:00:00\",\"2012-01-30T00:00:00\"],\"y\":[213.0375,213.0375],\"type\":\"scatter\"},{\"line\":{\"color\":\"blue\"},\"mode\":\"lines\",\"name\":\"Jan 10 2011 inclusive - July 29th 2013\",\"showlegend\":false,\"x\":[\"2012-01-30T00:00:00\",\"2012-02-06T00:00:00\"],\"y\":[213.0375,180.2625],\"type\":\"scatter\"},{\"line\":{\"color\":\"blue\"},\"mode\":\"lines\",\"name\":\"Jan 10 2011 inclusive - July 29th 2013\",\"showlegend\":false,\"x\":[\"2012-02-06T00:00:00\",\"2012-02-13T00:00:00\"],\"y\":[180.2625,177.4125],\"type\":\"scatter\"},{\"line\":{\"color\":\"blue\"},\"mode\":\"lines\",\"name\":\"Jan 10 2011 inclusive - July 29th 2013\",\"showlegend\":false,\"x\":[\"2012-02-13T00:00:00\",\"2012-02-20T00:00:00\"],\"y\":[177.4125,177.4125],\"type\":\"scatter\"},{\"line\":{\"color\":\"blue\"},\"mode\":\"lines\",\"name\":\"Jan 10 2011 inclusive - July 29th 2013\",\"showlegend\":false,\"x\":[\"2012-02-20T00:00:00\",\"2012-02-27T00:00:00\"],\"y\":[177.4125,213.0375],\"type\":\"scatter\"},{\"line\":{\"color\":\"blue\"},\"mode\":\"lines\",\"name\":\"Jan 10 2011 inclusive - July 29th 2013\",\"showlegend\":false,\"x\":[\"2012-02-27T00:00:00\",\"2012-03-05T00:00:00\"],\"y\":[213.0375,180.2625],\"type\":\"scatter\"},{\"line\":{\"color\":\"blue\"},\"mode\":\"lines\",\"name\":\"Jan 10 2011 inclusive - July 29th 2013\",\"showlegend\":false,\"x\":[\"2012-03-05T00:00:00\",\"2012-03-12T00:00:00\"],\"y\":[180.2625,180.2625],\"type\":\"scatter\"},{\"line\":{\"color\":\"blue\"},\"mode\":\"lines\",\"name\":\"Jan 10 2011 inclusive - July 29th 2013\",\"showlegend\":false,\"x\":[\"2012-03-12T00:00:00\",\"2012-03-19T00:00:00\"],\"y\":[180.2625,180.2625],\"type\":\"scatter\"},{\"line\":{\"color\":\"blue\"},\"mode\":\"lines\",\"name\":\"Jan 10 2011 inclusive - July 29th 2013\",\"showlegend\":false,\"x\":[\"2012-03-19T00:00:00\",\"2012-03-26T00:00:00\"],\"y\":[180.2625,180.2625],\"type\":\"scatter\"},{\"line\":{\"color\":\"blue\"},\"mode\":\"lines\",\"name\":\"Jan 10 2011 inclusive - July 29th 2013\",\"showlegend\":false,\"x\":[\"2012-03-26T00:00:00\",\"2012-04-02T00:00:00\"],\"y\":[180.2625,180.2625],\"type\":\"scatter\"},{\"line\":{\"color\":\"blue\"},\"mode\":\"lines\",\"name\":\"Jan 10 2011 inclusive - July 29th 2013\",\"showlegend\":false,\"x\":[\"2012-04-02T00:00:00\",\"2012-04-09T00:00:00\"],\"y\":[180.2625,178.125],\"type\":\"scatter\"},{\"line\":{\"color\":\"blue\"},\"mode\":\"lines\",\"name\":\"Jan 10 2011 inclusive - July 29th 2013\",\"showlegend\":false,\"x\":[\"2012-04-09T00:00:00\",\"2012-04-16T00:00:00\"],\"y\":[178.125,180.2625],\"type\":\"scatter\"},{\"line\":{\"color\":\"blue\"},\"mode\":\"lines\",\"name\":\"Jan 10 2011 inclusive - July 29th 2013\",\"showlegend\":false,\"x\":[\"2012-04-16T00:00:00\",\"2012-04-23T00:00:00\"],\"y\":[180.2625,180.2625],\"type\":\"scatter\"},{\"line\":{\"color\":\"blue\"},\"mode\":\"lines\",\"name\":\"Jan 10 2011 inclusive - July 29th 2013\",\"showlegend\":false,\"x\":[\"2012-04-23T00:00:00\",\"2012-04-30T00:00:00\"],\"y\":[180.2625,180.2625],\"type\":\"scatter\"},{\"line\":{\"color\":\"blue\"},\"mode\":\"lines\",\"name\":\"Jan 10 2011 inclusive - July 29th 2013\",\"showlegend\":false,\"x\":[\"2012-04-30T00:00:00\",\"2012-05-07T00:00:00\"],\"y\":[180.2625,180.2625],\"type\":\"scatter\"},{\"line\":{\"color\":\"blue\"},\"mode\":\"lines\",\"name\":\"Jan 10 2011 inclusive - July 29th 2013\",\"showlegend\":false,\"x\":[\"2012-05-07T00:00:00\",\"2012-05-14T00:00:00\"],\"y\":[180.2625,180.2625],\"type\":\"scatter\"},{\"line\":{\"color\":\"blue\"},\"mode\":\"lines\",\"name\":\"Jan 10 2011 inclusive - July 29th 2013\",\"showlegend\":false,\"x\":[\"2012-05-14T00:00:00\",\"2012-05-21T00:00:00\"],\"y\":[180.2625,180.2625],\"type\":\"scatter\"},{\"line\":{\"color\":\"blue\"},\"mode\":\"lines\",\"name\":\"Jan 10 2011 inclusive - July 29th 2013\",\"showlegend\":false,\"x\":[\"2012-05-21T00:00:00\",\"2012-05-28T00:00:00\"],\"y\":[180.2625,180.2625],\"type\":\"scatter\"},{\"line\":{\"color\":\"blue\"},\"mode\":\"lines\",\"name\":\"Jan 10 2011 inclusive - July 29th 2013\",\"showlegend\":false,\"x\":[\"2012-05-28T00:00:00\",\"2012-06-04T00:00:00\"],\"y\":[180.2625,180.2625],\"type\":\"scatter\"},{\"line\":{\"color\":\"blue\"},\"mode\":\"lines\",\"name\":\"Jan 10 2011 inclusive - July 29th 2013\",\"showlegend\":false,\"x\":[\"2012-06-04T00:00:00\",\"2012-06-11T00:00:00\"],\"y\":[180.2625,213.0375],\"type\":\"scatter\"},{\"line\":{\"color\":\"blue\"},\"mode\":\"lines\",\"name\":\"Jan 10 2011 inclusive - July 29th 2013\",\"showlegend\":false,\"x\":[\"2012-06-11T00:00:00\",\"2012-06-18T00:00:00\"],\"y\":[213.0375,180.2625],\"type\":\"scatter\"},{\"line\":{\"color\":\"blue\"},\"mode\":\"lines\",\"name\":\"Jan 10 2011 inclusive - July 29th 2013\",\"showlegend\":false,\"x\":[\"2012-06-18T00:00:00\",\"2012-06-25T00:00:00\"],\"y\":[180.2625,180.2625],\"type\":\"scatter\"},{\"line\":{\"color\":\"blue\"},\"mode\":\"lines\",\"name\":\"Jan 10 2011 inclusive - July 29th 2013\",\"showlegend\":false,\"x\":[\"2012-06-25T00:00:00\",\"2012-07-02T00:00:00\"],\"y\":[180.2625,180.2625],\"type\":\"scatter\"},{\"line\":{\"color\":\"blue\"},\"mode\":\"lines\",\"name\":\"Jan 10 2011 inclusive - July 29th 2013\",\"showlegend\":false,\"x\":[\"2012-07-02T00:00:00\",\"2012-07-09T00:00:00\"],\"y\":[180.2625,180.2625],\"type\":\"scatter\"},{\"line\":{\"color\":\"blue\"},\"mode\":\"lines\",\"name\":\"Jan 10 2011 inclusive - July 29th 2013\",\"showlegend\":false,\"x\":[\"2012-07-09T00:00:00\",\"2012-07-16T00:00:00\"],\"y\":[180.2625,180.2625],\"type\":\"scatter\"},{\"line\":{\"color\":\"blue\"},\"mode\":\"lines\",\"name\":\"Jan 10 2011 inclusive - July 29th 2013\",\"showlegend\":false,\"x\":[\"2012-07-16T00:00:00\",\"2012-07-23T00:00:00\"],\"y\":[180.2625,180.2625],\"type\":\"scatter\"},{\"line\":{\"color\":\"blue\"},\"mode\":\"lines\",\"name\":\"Jan 10 2011 inclusive - July 29th 2013\",\"showlegend\":false,\"x\":[\"2012-07-23T00:00:00\",\"2012-07-30T00:00:00\"],\"y\":[180.2625,180.2625],\"type\":\"scatter\"},{\"line\":{\"color\":\"blue\"},\"mode\":\"lines\",\"name\":\"Jan 10 2011 inclusive - July 29th 2013\",\"showlegend\":false,\"x\":[\"2012-07-30T00:00:00\",\"2012-08-06T00:00:00\"],\"y\":[180.2625,180.2625],\"type\":\"scatter\"},{\"line\":{\"color\":\"blue\"},\"mode\":\"lines\",\"name\":\"Jan 10 2011 inclusive - July 29th 2013\",\"showlegend\":false,\"x\":[\"2012-08-06T00:00:00\",\"2012-08-13T00:00:00\"],\"y\":[180.2625,180.2625],\"type\":\"scatter\"},{\"line\":{\"color\":\"blue\"},\"mode\":\"lines\",\"name\":\"Jan 10 2011 inclusive - July 29th 2013\",\"showlegend\":false,\"x\":[\"2012-08-13T00:00:00\",\"2012-08-20T00:00:00\"],\"y\":[180.2625,180.2625],\"type\":\"scatter\"},{\"line\":{\"color\":\"blue\"},\"mode\":\"lines\",\"name\":\"Jan 10 2011 inclusive - July 29th 2013\",\"showlegend\":false,\"x\":[\"2012-08-20T00:00:00\",\"2012-08-27T00:00:00\"],\"y\":[180.2625,180.2625],\"type\":\"scatter\"},{\"line\":{\"color\":\"blue\"},\"mode\":\"lines\",\"name\":\"Jan 10 2011 inclusive - July 29th 2013\",\"showlegend\":false,\"x\":[\"2012-08-27T00:00:00\",\"2012-09-03T00:00:00\"],\"y\":[180.2625,180.2625],\"type\":\"scatter\"},{\"line\":{\"color\":\"blue\"},\"mode\":\"lines\",\"name\":\"Jan 10 2011 inclusive - July 29th 2013\",\"showlegend\":false,\"x\":[\"2012-09-03T00:00:00\",\"2012-09-10T00:00:00\"],\"y\":[180.2625,213.0375],\"type\":\"scatter\"},{\"line\":{\"color\":\"blue\"},\"mode\":\"lines\",\"name\":\"Jan 10 2011 inclusive - July 29th 2013\",\"showlegend\":false,\"x\":[\"2012-09-10T00:00:00\",\"2012-09-17T00:00:00\"],\"y\":[213.0375,180.2625],\"type\":\"scatter\"},{\"line\":{\"color\":\"blue\"},\"mode\":\"lines\",\"name\":\"Jan 10 2011 inclusive - July 29th 2013\",\"showlegend\":false,\"x\":[\"2012-09-17T00:00:00\",\"2012-09-24T00:00:00\"],\"y\":[180.2625,180.2625],\"type\":\"scatter\"},{\"line\":{\"color\":\"blue\"},\"mode\":\"lines\",\"name\":\"Jan 10 2011 inclusive - July 29th 2013\",\"showlegend\":false,\"x\":[\"2012-09-24T00:00:00\",\"2012-10-01T00:00:00\"],\"y\":[180.2625,180.2625],\"type\":\"scatter\"},{\"line\":{\"color\":\"blue\"},\"mode\":\"lines\",\"name\":\"Jan 10 2011 inclusive - July 29th 2013\",\"showlegend\":false,\"x\":[\"2012-10-01T00:00:00\",\"2012-10-08T00:00:00\"],\"y\":[180.2625,180.2625],\"type\":\"scatter\"},{\"line\":{\"color\":\"blue\"},\"mode\":\"lines\",\"name\":\"Jan 10 2011 inclusive - July 29th 2013\",\"showlegend\":false,\"x\":[\"2012-10-08T00:00:00\",\"2012-10-15T00:00:00\"],\"y\":[180.2625,180.2625],\"type\":\"scatter\"},{\"line\":{\"color\":\"blue\"},\"mode\":\"lines\",\"name\":\"Jan 10 2011 inclusive - July 29th 2013\",\"showlegend\":false,\"x\":[\"2012-10-15T00:00:00\",\"2012-10-22T00:00:00\"],\"y\":[180.2625,180.2625],\"type\":\"scatter\"},{\"line\":{\"color\":\"blue\"},\"mode\":\"lines\",\"name\":\"Jan 10 2011 inclusive - July 29th 2013\",\"showlegend\":false,\"x\":[\"2012-10-22T00:00:00\",\"2012-10-29T00:00:00\"],\"y\":[180.2625,180.2625],\"type\":\"scatter\"},{\"line\":{\"color\":\"blue\"},\"mode\":\"lines\",\"name\":\"Jan 10 2011 inclusive - July 29th 2013\",\"showlegend\":false,\"x\":[\"2012-10-29T00:00:00\",\"2012-11-05T00:00:00\"],\"y\":[180.2625,180.2625],\"type\":\"scatter\"},{\"line\":{\"color\":\"blue\"},\"mode\":\"lines\",\"name\":\"Jan 10 2011 inclusive - July 29th 2013\",\"showlegend\":false,\"x\":[\"2012-11-05T00:00:00\",\"2012-11-12T00:00:00\"],\"y\":[180.2625,213.0375],\"type\":\"scatter\"},{\"line\":{\"color\":\"blue\"},\"mode\":\"lines\",\"name\":\"Jan 10 2011 inclusive - July 29th 2013\",\"showlegend\":false,\"x\":[\"2012-11-12T00:00:00\",\"2012-11-19T00:00:00\"],\"y\":[213.0375,180.2625],\"type\":\"scatter\"},{\"line\":{\"color\":\"blue\"},\"mode\":\"lines\",\"name\":\"Jan 10 2011 inclusive - July 29th 2013\",\"showlegend\":false,\"x\":[\"2012-11-19T00:00:00\",\"2012-11-26T00:00:00\"],\"y\":[180.2625,180.2625],\"type\":\"scatter\"},{\"line\":{\"color\":\"blue\"},\"mode\":\"lines\",\"name\":\"Jan 10 2011 inclusive - July 29th 2013\",\"showlegend\":false,\"x\":[\"2012-11-26T00:00:00\",\"2012-12-03T00:00:00\"],\"y\":[180.2625,180.2625],\"type\":\"scatter\"},{\"line\":{\"color\":\"blue\"},\"mode\":\"lines\",\"name\":\"Jan 10 2011 inclusive - July 29th 2013\",\"showlegend\":false,\"x\":[\"2012-12-03T00:00:00\",\"2012-12-10T00:00:00\"],\"y\":[180.2625,180.2625],\"type\":\"scatter\"},{\"line\":{\"color\":\"blue\"},\"mode\":\"lines\",\"name\":\"Jan 10 2011 inclusive - July 29th 2013\",\"showlegend\":false,\"x\":[\"2012-12-10T00:00:00\",\"2012-12-17T00:00:00\"],\"y\":[180.2625,180.2625],\"type\":\"scatter\"},{\"line\":{\"color\":\"blue\"},\"mode\":\"lines\",\"name\":\"Jan 10 2011 inclusive - July 29th 2013\",\"showlegend\":false,\"x\":[\"2012-12-17T00:00:00\",\"2012-12-24T00:00:00\"],\"y\":[180.2625,180.2625],\"type\":\"scatter\"},{\"line\":{\"color\":\"blue\"},\"mode\":\"lines\",\"name\":\"Jan 10 2011 inclusive - July 29th 2013\",\"showlegend\":false,\"x\":[\"2012-12-24T00:00:00\",\"2012-12-31T00:00:00\"],\"y\":[180.2625,180.2625],\"type\":\"scatter\"},{\"line\":{\"color\":\"blue\"},\"mode\":\"lines\",\"name\":\"Jan 10 2011 inclusive - July 29th 2013\",\"showlegend\":false,\"x\":[\"2012-12-31T00:00:00\",\"2013-01-07T00:00:00\"],\"y\":[180.2625,180.2625],\"type\":\"scatter\"},{\"line\":{\"color\":\"blue\"},\"mode\":\"lines\",\"name\":\"Jan 10 2011 inclusive - July 29th 2013\",\"showlegend\":false,\"x\":[\"2013-01-07T00:00:00\",\"2013-01-14T00:00:00\"],\"y\":[180.2625,180.2625],\"type\":\"scatter\"},{\"line\":{\"color\":\"blue\"},\"mode\":\"lines\",\"name\":\"Jan 10 2011 inclusive - July 29th 2013\",\"showlegend\":false,\"x\":[\"2013-01-14T00:00:00\",\"2013-01-21T00:00:00\"],\"y\":[180.2625,180.2625],\"type\":\"scatter\"},{\"line\":{\"color\":\"blue\"},\"mode\":\"lines\",\"name\":\"Jan 10 2011 inclusive - July 29th 2013\",\"showlegend\":false,\"x\":[\"2013-01-21T00:00:00\",\"2013-01-28T00:00:00\"],\"y\":[180.2625,180.2625],\"type\":\"scatter\"},{\"line\":{\"color\":\"blue\"},\"mode\":\"lines\",\"name\":\"Jan 10 2011 inclusive - July 29th 2013\",\"showlegend\":false,\"x\":[\"2013-01-28T00:00:00\",\"2013-02-04T00:00:00\"],\"y\":[180.2625,213.0375],\"type\":\"scatter\"},{\"line\":{\"color\":\"blue\"},\"mode\":\"lines\",\"name\":\"Jan 10 2011 inclusive - July 29th 2013\",\"showlegend\":false,\"x\":[\"2013-02-04T00:00:00\",\"2013-02-11T00:00:00\"],\"y\":[213.0375,180.2625],\"type\":\"scatter\"},{\"line\":{\"color\":\"blue\"},\"mode\":\"lines\",\"name\":\"Jan 10 2011 inclusive - July 29th 2013\",\"showlegend\":false,\"x\":[\"2013-02-11T00:00:00\",\"2013-02-18T00:00:00\"],\"y\":[180.2625,180.2625],\"type\":\"scatter\"},{\"line\":{\"color\":\"blue\"},\"mode\":\"lines\",\"name\":\"Jan 10 2011 inclusive - July 29th 2013\",\"showlegend\":false,\"x\":[\"2013-02-18T00:00:00\",\"2013-02-25T00:00:00\"],\"y\":[180.2625,180.2625],\"type\":\"scatter\"},{\"line\":{\"color\":\"blue\"},\"mode\":\"lines\",\"name\":\"Jan 10 2011 inclusive - July 29th 2013\",\"showlegend\":false,\"x\":[\"2013-02-25T00:00:00\",\"2013-03-04T00:00:00\"],\"y\":[180.2625,180.2625],\"type\":\"scatter\"},{\"line\":{\"color\":\"blue\"},\"mode\":\"lines\",\"name\":\"Jan 10 2011 inclusive - July 29th 2013\",\"showlegend\":false,\"x\":[\"2013-03-04T00:00:00\",\"2013-03-11T00:00:00\"],\"y\":[180.2625,180.2625],\"type\":\"scatter\"},{\"line\":{\"color\":\"blue\"},\"mode\":\"lines\",\"name\":\"Jan 10 2011 inclusive - July 29th 2013\",\"showlegend\":false,\"x\":[\"2013-03-11T00:00:00\",\"2013-03-18T00:00:00\"],\"y\":[180.2625,180.2625],\"type\":\"scatter\"},{\"line\":{\"color\":\"blue\"},\"mode\":\"lines\",\"name\":\"Jan 10 2011 inclusive - July 29th 2013\",\"showlegend\":false,\"x\":[\"2013-03-18T00:00:00\",\"2013-03-25T00:00:00\"],\"y\":[180.2625,180.2625],\"type\":\"scatter\"},{\"line\":{\"color\":\"blue\"},\"mode\":\"lines\",\"name\":\"Jan 10 2011 inclusive - July 29th 2013\",\"showlegend\":false,\"x\":[\"2013-03-25T00:00:00\",\"2013-04-01T00:00:00\"],\"y\":[180.2625,180.2625],\"type\":\"scatter\"},{\"line\":{\"color\":\"blue\"},\"mode\":\"lines\",\"name\":\"Jan 10 2011 inclusive - July 29th 2013\",\"showlegend\":false,\"x\":[\"2013-04-01T00:00:00\",\"2013-04-08T00:00:00\"],\"y\":[180.2625,180.2625],\"type\":\"scatter\"},{\"line\":{\"color\":\"blue\"},\"mode\":\"lines\",\"name\":\"Jan 10 2011 inclusive - July 29th 2013\",\"showlegend\":false,\"x\":[\"2013-04-08T00:00:00\",\"2013-04-15T00:00:00\"],\"y\":[180.2625,180.2625],\"type\":\"scatter\"},{\"line\":{\"color\":\"blue\"},\"mode\":\"lines\",\"name\":\"Jan 10 2011 inclusive - July 29th 2013\",\"showlegend\":false,\"x\":[\"2013-04-15T00:00:00\",\"2013-04-22T00:00:00\"],\"y\":[180.2625,180.2625],\"type\":\"scatter\"},{\"line\":{\"color\":\"blue\"},\"mode\":\"lines\",\"name\":\"Jan 10 2011 inclusive - July 29th 2013\",\"showlegend\":false,\"x\":[\"2013-04-22T00:00:00\",\"2013-04-29T00:00:00\"],\"y\":[180.2625,180.2625],\"type\":\"scatter\"},{\"line\":{\"color\":\"blue\"},\"mode\":\"lines\",\"name\":\"Jan 10 2011 inclusive - July 29th 2013\",\"showlegend\":false,\"x\":[\"2013-04-29T00:00:00\",\"2013-05-06T00:00:00\"],\"y\":[180.2625,180.2625],\"type\":\"scatter\"},{\"line\":{\"color\":\"blue\"},\"mode\":\"lines\",\"name\":\"Jan 10 2011 inclusive - July 29th 2013\",\"showlegend\":false,\"x\":[\"2013-05-06T00:00:00\",\"2013-05-13T00:00:00\"],\"y\":[180.2625,180.2625],\"type\":\"scatter\"},{\"line\":{\"color\":\"blue\"},\"mode\":\"lines\",\"name\":\"Jan 10 2011 inclusive - July 29th 2013\",\"showlegend\":false,\"x\":[\"2013-05-13T00:00:00\",\"2013-05-20T00:00:00\"],\"y\":[180.2625,180.2625],\"type\":\"scatter\"},{\"line\":{\"color\":\"blue\"},\"mode\":\"lines\",\"name\":\"Jan 10 2011 inclusive - July 29th 2013\",\"showlegend\":false,\"x\":[\"2013-05-20T00:00:00\",\"2013-05-27T00:00:00\"],\"y\":[180.2625,180.2625],\"type\":\"scatter\"},{\"line\":{\"color\":\"blue\"},\"mode\":\"lines\",\"name\":\"Jan 10 2011 inclusive - July 29th 2013\",\"showlegend\":false,\"x\":[\"2013-05-27T00:00:00\",\"2013-06-03T00:00:00\"],\"y\":[180.2625,180.2625],\"type\":\"scatter\"},{\"line\":{\"color\":\"blue\"},\"mode\":\"lines\",\"name\":\"Jan 10 2011 inclusive - July 29th 2013\",\"showlegend\":false,\"x\":[\"2013-06-03T00:00:00\",\"2013-06-10T00:00:00\"],\"y\":[180.2625,180.2625],\"type\":\"scatter\"},{\"line\":{\"color\":\"blue\"},\"mode\":\"lines\",\"name\":\"Jan 10 2011 inclusive - July 29th 2013\",\"showlegend\":false,\"x\":[\"2013-06-10T00:00:00\",\"2013-06-17T00:00:00\"],\"y\":[180.2625,180.2625],\"type\":\"scatter\"},{\"line\":{\"color\":\"blue\"},\"mode\":\"lines\",\"name\":\"Jan 10 2011 inclusive - July 29th 2013\",\"showlegend\":false,\"x\":[\"2013-06-17T00:00:00\",\"2013-06-24T00:00:00\"],\"y\":[180.2625,180.2625],\"type\":\"scatter\"},{\"line\":{\"color\":\"blue\"},\"mode\":\"lines\",\"name\":\"Jan 10 2011 inclusive - July 29th 2013\",\"showlegend\":false,\"x\":[\"2013-06-24T00:00:00\",\"2013-07-01T00:00:00\"],\"y\":[180.2625,180.2625],\"type\":\"scatter\"},{\"line\":{\"color\":\"blue\"},\"mode\":\"lines\",\"name\":\"Jan 10 2011 inclusive - July 29th 2013\",\"showlegend\":false,\"x\":[\"2013-07-01T00:00:00\",\"2013-07-08T00:00:00\"],\"y\":[180.2625,180.2625],\"type\":\"scatter\"},{\"line\":{\"color\":\"blue\"},\"mode\":\"lines\",\"name\":\"Jan 10 2011 inclusive - July 29th 2013\",\"showlegend\":false,\"x\":[\"2013-07-08T00:00:00\",\"2013-07-15T00:00:00\"],\"y\":[180.2625,180.2625],\"type\":\"scatter\"},{\"line\":{\"color\":\"blue\"},\"mode\":\"lines\",\"name\":\"Jan 10 2011 inclusive - July 29th 2013\",\"showlegend\":false,\"x\":[\"2013-07-15T00:00:00\",\"2013-07-22T00:00:00\"],\"y\":[180.2625,180.2625],\"type\":\"scatter\"},{\"line\":{\"color\":\"blue\"},\"mode\":\"lines\",\"name\":\"Jan 10 2011 inclusive - July 29th 2013\",\"showlegend\":false,\"x\":[\"2013-07-22T00:00:00\",\"2013-07-29T00:00:00\"],\"y\":[180.2625,180.26250000000024],\"type\":\"scatter\"},{\"line\":{\"color\":\"red\"},\"mode\":\"lines\",\"name\":\"After July 29th 2013 inclusive, forecast\",\"showlegend\":true,\"x\":[\"2013-07-29T00:00:00\",\"2013-08-05T00:00:00\"],\"y\":[180.26250000000024,180.26250000000024],\"type\":\"scatter\"},{\"line\":{\"color\":\"red\"},\"mode\":\"lines\",\"name\":\"After July 29th 2013 inclusive, forecast\",\"showlegend\":false,\"x\":[\"2013-08-05T00:00:00\",\"2013-08-12T00:00:00\"],\"y\":[180.26250000000024,180.26250000000024],\"type\":\"scatter\"},{\"line\":{\"color\":\"red\"},\"mode\":\"lines\",\"name\":\"After July 29th 2013 inclusive, forecast\",\"showlegend\":false,\"x\":[\"2013-08-12T00:00:00\",\"2013-08-19T00:00:00\"],\"y\":[180.26250000000024,180.26250000000024],\"type\":\"scatter\"},{\"line\":{\"color\":\"red\"},\"mode\":\"lines\",\"name\":\"After July 29th 2013 inclusive, forecast\",\"showlegend\":false,\"x\":[\"2013-08-19T00:00:00\",\"2013-08-26T00:00:00\"],\"y\":[180.26250000000024,180.26250000000024],\"type\":\"scatter\"},{\"line\":{\"color\":\"red\"},\"mode\":\"lines\",\"name\":\"After July 29th 2013 inclusive, forecast\",\"showlegend\":false,\"x\":[\"2013-08-26T00:00:00\",\"2013-09-02T00:00:00\"],\"y\":[180.26250000000024,180.26250000000024],\"type\":\"scatter\"},{\"line\":{\"color\":\"red\"},\"mode\":\"lines\",\"name\":\"After July 29th 2013 inclusive, forecast\",\"showlegend\":false,\"x\":[\"2013-09-02T00:00:00\",\"2013-09-09T00:00:00\"],\"y\":[180.26250000000024,180.26250000000024],\"type\":\"scatter\"},{\"line\":{\"color\":\"red\"},\"mode\":\"lines\",\"name\":\"After July 29th 2013 inclusive, forecast\",\"showlegend\":false,\"x\":[\"2013-09-09T00:00:00\",\"2013-09-16T00:00:00\"],\"y\":[180.26250000000024,180.26250000000024],\"type\":\"scatter\"},{\"line\":{\"color\":\"red\"},\"mode\":\"lines\",\"name\":\"After July 29th 2013 inclusive, forecast\",\"showlegend\":false,\"x\":[\"2013-09-16T00:00:00\",\"2013-09-23T00:00:00\"],\"y\":[180.26250000000024,180.26250000000024],\"type\":\"scatter\"},{\"line\":{\"color\":\"red\"},\"mode\":\"lines\",\"name\":\"After July 29th 2013 inclusive, forecast\",\"showlegend\":false,\"x\":[\"2013-09-23T00:00:00\",\"2013-09-30T00:00:00\"],\"y\":[180.26250000000024,180.26250000000024],\"type\":\"scatter\"},{\"line\":{\"color\":\"red\"},\"mode\":\"lines\",\"name\":\"After July 29th 2013 inclusive, forecast\",\"showlegend\":false,\"x\":[\"2013-09-30T00:00:00\",\"2013-10-07T00:00:00\"],\"y\":[180.26250000000024,180.26250000000024],\"type\":\"scatter\"},{\"line\":{\"color\":\"red\"},\"mode\":\"lines\",\"name\":\"After July 29th 2013 inclusive, forecast\",\"showlegend\":false,\"x\":[\"2013-10-07T00:00:00\",\"2013-10-14T00:00:00\"],\"y\":[180.26250000000024,180.26250000000024],\"type\":\"scatter\"},{\"line\":{\"color\":\"red\"},\"mode\":\"lines\",\"name\":\"After July 29th 2013 inclusive, forecast\",\"showlegend\":false,\"x\":[\"2013-10-14T00:00:00\",\"2013-10-21T00:00:00\"],\"y\":[180.26250000000024,180.26250000000024],\"type\":\"scatter\"},{\"line\":{\"color\":\"red\"},\"mode\":\"lines\",\"name\":\"After July 29th 2013 inclusive, forecast\",\"showlegend\":false,\"x\":[\"2013-10-21T00:00:00\",\"2013-10-28T00:00:00\"],\"y\":[180.26250000000024,180.26250000000024],\"type\":\"scatter\"},{\"line\":{\"color\":\"red\"},\"mode\":\"lines\",\"name\":\"After July 29th 2013 inclusive, forecast\",\"showlegend\":false,\"x\":[\"2013-10-28T00:00:00\",\"2013-11-04T00:00:00\"],\"y\":[180.26250000000024,180.26250000000024],\"type\":\"scatter\"},{\"line\":{\"color\":\"red\"},\"mode\":\"lines\",\"name\":\"After July 29th 2013 inclusive, forecast\",\"showlegend\":false,\"x\":[\"2013-11-04T00:00:00\",\"2013-11-11T00:00:00\"],\"y\":[180.26250000000024,180.26250000000024],\"type\":\"scatter\"},{\"line\":{\"color\":\"red\"},\"mode\":\"lines\",\"name\":\"After July 29th 2013 inclusive, forecast\",\"showlegend\":false,\"x\":[\"2013-11-11T00:00:00\",\"2013-11-18T00:00:00\"],\"y\":[180.26250000000024,180.26250000000024],\"type\":\"scatter\"},{\"line\":{\"color\":\"red\"},\"mode\":\"lines\",\"name\":\"After July 29th 2013 inclusive, forecast\",\"showlegend\":false,\"x\":[\"2013-11-18T00:00:00\",\"2013-11-25T00:00:00\"],\"y\":[180.26250000000024,180.26250000000024],\"type\":\"scatter\"},{\"line\":{\"color\":\"red\"},\"mode\":\"lines\",\"name\":\"After July 29th 2013 inclusive, forecast\",\"showlegend\":false,\"x\":[\"2013-11-25T00:00:00\",\"2013-12-02T00:00:00\"],\"y\":[180.26250000000024,177.41249999999997],\"type\":\"scatter\"}],                        {\"template\":{\"data\":{\"histogram2dcontour\":[{\"type\":\"histogram2dcontour\",\"colorbar\":{\"outlinewidth\":0,\"ticks\":\"\"},\"colorscale\":[[0.0,\"#0d0887\"],[0.1111111111111111,\"#46039f\"],[0.2222222222222222,\"#7201a8\"],[0.3333333333333333,\"#9c179e\"],[0.4444444444444444,\"#bd3786\"],[0.5555555555555556,\"#d8576b\"],[0.6666666666666666,\"#ed7953\"],[0.7777777777777778,\"#fb9f3a\"],[0.8888888888888888,\"#fdca26\"],[1.0,\"#f0f921\"]]}],\"choropleth\":[{\"type\":\"choropleth\",\"colorbar\":{\"outlinewidth\":0,\"ticks\":\"\"}}],\"histogram2d\":[{\"type\":\"histogram2d\",\"colorbar\":{\"outlinewidth\":0,\"ticks\":\"\"},\"colorscale\":[[0.0,\"#0d0887\"],[0.1111111111111111,\"#46039f\"],[0.2222222222222222,\"#7201a8\"],[0.3333333333333333,\"#9c179e\"],[0.4444444444444444,\"#bd3786\"],[0.5555555555555556,\"#d8576b\"],[0.6666666666666666,\"#ed7953\"],[0.7777777777777778,\"#fb9f3a\"],[0.8888888888888888,\"#fdca26\"],[1.0,\"#f0f921\"]]}],\"heatmap\":[{\"type\":\"heatmap\",\"colorbar\":{\"outlinewidth\":0,\"ticks\":\"\"},\"colorscale\":[[0.0,\"#0d0887\"],[0.1111111111111111,\"#46039f\"],[0.2222222222222222,\"#7201a8\"],[0.3333333333333333,\"#9c179e\"],[0.4444444444444444,\"#bd3786\"],[0.5555555555555556,\"#d8576b\"],[0.6666666666666666,\"#ed7953\"],[0.7777777777777778,\"#fb9f3a\"],[0.8888888888888888,\"#fdca26\"],[1.0,\"#f0f921\"]]}],\"heatmapgl\":[{\"type\":\"heatmapgl\",\"colorbar\":{\"outlinewidth\":0,\"ticks\":\"\"},\"colorscale\":[[0.0,\"#0d0887\"],[0.1111111111111111,\"#46039f\"],[0.2222222222222222,\"#7201a8\"],[0.3333333333333333,\"#9c179e\"],[0.4444444444444444,\"#bd3786\"],[0.5555555555555556,\"#d8576b\"],[0.6666666666666666,\"#ed7953\"],[0.7777777777777778,\"#fb9f3a\"],[0.8888888888888888,\"#fdca26\"],[1.0,\"#f0f921\"]]}],\"contourcarpet\":[{\"type\":\"contourcarpet\",\"colorbar\":{\"outlinewidth\":0,\"ticks\":\"\"}}],\"contour\":[{\"type\":\"contour\",\"colorbar\":{\"outlinewidth\":0,\"ticks\":\"\"},\"colorscale\":[[0.0,\"#0d0887\"],[0.1111111111111111,\"#46039f\"],[0.2222222222222222,\"#7201a8\"],[0.3333333333333333,\"#9c179e\"],[0.4444444444444444,\"#bd3786\"],[0.5555555555555556,\"#d8576b\"],[0.6666666666666666,\"#ed7953\"],[0.7777777777777778,\"#fb9f3a\"],[0.8888888888888888,\"#fdca26\"],[1.0,\"#f0f921\"]]}],\"surface\":[{\"type\":\"surface\",\"colorbar\":{\"outlinewidth\":0,\"ticks\":\"\"},\"colorscale\":[[0.0,\"#0d0887\"],[0.1111111111111111,\"#46039f\"],[0.2222222222222222,\"#7201a8\"],[0.3333333333333333,\"#9c179e\"],[0.4444444444444444,\"#bd3786\"],[0.5555555555555556,\"#d8576b\"],[0.6666666666666666,\"#ed7953\"],[0.7777777777777778,\"#fb9f3a\"],[0.8888888888888888,\"#fdca26\"],[1.0,\"#f0f921\"]]}],\"mesh3d\":[{\"type\":\"mesh3d\",\"colorbar\":{\"outlinewidth\":0,\"ticks\":\"\"}}],\"scatter\":[{\"fillpattern\":{\"fillmode\":\"overlay\",\"size\":10,\"solidity\":0.2},\"type\":\"scatter\"}],\"parcoords\":[{\"type\":\"parcoords\",\"line\":{\"colorbar\":{\"outlinewidth\":0,\"ticks\":\"\"}}}],\"scatterpolargl\":[{\"type\":\"scatterpolargl\",\"marker\":{\"colorbar\":{\"outlinewidth\":0,\"ticks\":\"\"}}}],\"bar\":[{\"error_x\":{\"color\":\"#2a3f5f\"},\"error_y\":{\"color\":\"#2a3f5f\"},\"marker\":{\"line\":{\"color\":\"white\",\"width\":0.5},\"pattern\":{\"fillmode\":\"overlay\",\"size\":10,\"solidity\":0.2}},\"type\":\"bar\"}],\"scattergeo\":[{\"type\":\"scattergeo\",\"marker\":{\"colorbar\":{\"outlinewidth\":0,\"ticks\":\"\"}}}],\"scatterpolar\":[{\"type\":\"scatterpolar\",\"marker\":{\"colorbar\":{\"outlinewidth\":0,\"ticks\":\"\"}}}],\"histogram\":[{\"marker\":{\"pattern\":{\"fillmode\":\"overlay\",\"size\":10,\"solidity\":0.2}},\"type\":\"histogram\"}],\"scattergl\":[{\"type\":\"scattergl\",\"marker\":{\"colorbar\":{\"outlinewidth\":0,\"ticks\":\"\"}}}],\"scatter3d\":[{\"type\":\"scatter3d\",\"line\":{\"colorbar\":{\"outlinewidth\":0,\"ticks\":\"\"}},\"marker\":{\"colorbar\":{\"outlinewidth\":0,\"ticks\":\"\"}}}],\"scattermapbox\":[{\"type\":\"scattermapbox\",\"marker\":{\"colorbar\":{\"outlinewidth\":0,\"ticks\":\"\"}}}],\"scatterternary\":[{\"type\":\"scatterternary\",\"marker\":{\"colorbar\":{\"outlinewidth\":0,\"ticks\":\"\"}}}],\"scattercarpet\":[{\"type\":\"scattercarpet\",\"marker\":{\"colorbar\":{\"outlinewidth\":0,\"ticks\":\"\"}}}],\"carpet\":[{\"aaxis\":{\"endlinecolor\":\"#2a3f5f\",\"gridcolor\":\"#C8D4E3\",\"linecolor\":\"#C8D4E3\",\"minorgridcolor\":\"#C8D4E3\",\"startlinecolor\":\"#2a3f5f\"},\"baxis\":{\"endlinecolor\":\"#2a3f5f\",\"gridcolor\":\"#C8D4E3\",\"linecolor\":\"#C8D4E3\",\"minorgridcolor\":\"#C8D4E3\",\"startlinecolor\":\"#2a3f5f\"},\"type\":\"carpet\"}],\"table\":[{\"cells\":{\"fill\":{\"color\":\"#EBF0F8\"},\"line\":{\"color\":\"white\"}},\"header\":{\"fill\":{\"color\":\"#C8D4E3\"},\"line\":{\"color\":\"white\"}},\"type\":\"table\"}],\"barpolar\":[{\"marker\":{\"line\":{\"color\":\"white\",\"width\":0.5},\"pattern\":{\"fillmode\":\"overlay\",\"size\":10,\"solidity\":0.2}},\"type\":\"barpolar\"}],\"pie\":[{\"automargin\":true,\"type\":\"pie\"}]},\"layout\":{\"autotypenumbers\":\"strict\",\"colorway\":[\"#636efa\",\"#EF553B\",\"#00cc96\",\"#ab63fa\",\"#FFA15A\",\"#19d3f3\",\"#FF6692\",\"#B6E880\",\"#FF97FF\",\"#FECB52\"],\"font\":{\"color\":\"#2a3f5f\"},\"hovermode\":\"closest\",\"hoverlabel\":{\"align\":\"left\"},\"paper_bgcolor\":\"white\",\"plot_bgcolor\":\"white\",\"polar\":{\"bgcolor\":\"white\",\"angularaxis\":{\"gridcolor\":\"#EBF0F8\",\"linecolor\":\"#EBF0F8\",\"ticks\":\"\"},\"radialaxis\":{\"gridcolor\":\"#EBF0F8\",\"linecolor\":\"#EBF0F8\",\"ticks\":\"\"}},\"ternary\":{\"bgcolor\":\"white\",\"aaxis\":{\"gridcolor\":\"#DFE8F3\",\"linecolor\":\"#A2B1C6\",\"ticks\":\"\"},\"baxis\":{\"gridcolor\":\"#DFE8F3\",\"linecolor\":\"#A2B1C6\",\"ticks\":\"\"},\"caxis\":{\"gridcolor\":\"#DFE8F3\",\"linecolor\":\"#A2B1C6\",\"ticks\":\"\"}},\"coloraxis\":{\"colorbar\":{\"outlinewidth\":0,\"ticks\":\"\"}},\"colorscale\":{\"sequential\":[[0.0,\"#0d0887\"],[0.1111111111111111,\"#46039f\"],[0.2222222222222222,\"#7201a8\"],[0.3333333333333333,\"#9c179e\"],[0.4444444444444444,\"#bd3786\"],[0.5555555555555556,\"#d8576b\"],[0.6666666666666666,\"#ed7953\"],[0.7777777777777778,\"#fb9f3a\"],[0.8888888888888888,\"#fdca26\"],[1.0,\"#f0f921\"]],\"sequentialminus\":[[0.0,\"#0d0887\"],[0.1111111111111111,\"#46039f\"],[0.2222222222222222,\"#7201a8\"],[0.3333333333333333,\"#9c179e\"],[0.4444444444444444,\"#bd3786\"],[0.5555555555555556,\"#d8576b\"],[0.6666666666666666,\"#ed7953\"],[0.7777777777777778,\"#fb9f3a\"],[0.8888888888888888,\"#fdca26\"],[1.0,\"#f0f921\"]],\"diverging\":[[0,\"#8e0152\"],[0.1,\"#c51b7d\"],[0.2,\"#de77ae\"],[0.3,\"#f1b6da\"],[0.4,\"#fde0ef\"],[0.5,\"#f7f7f7\"],[0.6,\"#e6f5d0\"],[0.7,\"#b8e186\"],[0.8,\"#7fbc41\"],[0.9,\"#4d9221\"],[1,\"#276419\"]]},\"xaxis\":{\"gridcolor\":\"#EBF0F8\",\"linecolor\":\"#EBF0F8\",\"ticks\":\"\",\"title\":{\"standoff\":15},\"zerolinecolor\":\"#EBF0F8\",\"automargin\":true,\"zerolinewidth\":2},\"yaxis\":{\"gridcolor\":\"#EBF0F8\",\"linecolor\":\"#EBF0F8\",\"ticks\":\"\",\"title\":{\"standoff\":15},\"zerolinecolor\":\"#EBF0F8\",\"automargin\":true,\"zerolinewidth\":2},\"scene\":{\"xaxis\":{\"backgroundcolor\":\"white\",\"gridcolor\":\"#DFE8F3\",\"linecolor\":\"#EBF0F8\",\"showbackground\":true,\"ticks\":\"\",\"zerolinecolor\":\"#EBF0F8\",\"gridwidth\":2},\"yaxis\":{\"backgroundcolor\":\"white\",\"gridcolor\":\"#DFE8F3\",\"linecolor\":\"#EBF0F8\",\"showbackground\":true,\"ticks\":\"\",\"zerolinecolor\":\"#EBF0F8\",\"gridwidth\":2},\"zaxis\":{\"backgroundcolor\":\"white\",\"gridcolor\":\"#DFE8F3\",\"linecolor\":\"#EBF0F8\",\"showbackground\":true,\"ticks\":\"\",\"zerolinecolor\":\"#EBF0F8\",\"gridwidth\":2}},\"shapedefaults\":{\"line\":{\"color\":\"#2a3f5f\"}},\"annotationdefaults\":{\"arrowcolor\":\"#2a3f5f\",\"arrowhead\":0,\"arrowwidth\":1},\"geo\":{\"bgcolor\":\"white\",\"landcolor\":\"white\",\"subunitcolor\":\"#C8D4E3\",\"showland\":true,\"showlakes\":true,\"lakecolor\":\"white\"},\"title\":{\"x\":0.05},\"mapbox\":{\"style\":\"light\"}}},\"title\":{\"text\":\"Median total price of product #679023 over Jan 10 2011 - Dec 2 2013\",\"x\":0.75},\"xaxis\":{\"title\":{\"text\":\"Time\"}},\"yaxis\":{\"title\":{\"text\":\"Median Total Price\"}},\"autosize\":false,\"width\":1100,\"height\":600},                        {\"responsive\": true}                    ).then(function(){\n",
       "                            \n",
       "var gd = document.getElementById('78ac7230-8cd7-419a-bdd5-68abfd7b6f52');\n",
       "var x = new MutationObserver(function (mutations, observer) {{\n",
       "        var display = window.getComputedStyle(gd).display;\n",
       "        if (!display || display === 'none') {{\n",
       "            console.log([gd, 'removed!']);\n",
       "            Plotly.purge(gd);\n",
       "            observer.disconnect();\n",
       "        }}\n",
       "}});\n",
       "\n",
       "// Listen for the removal of the full notebook cells\n",
       "var notebookContainer = gd.closest('#notebook-container');\n",
       "if (notebookContainer) {{\n",
       "    x.observe(notebookContainer, {childList: true});\n",
       "}}\n",
       "\n",
       "// Listen for the clearing of the current output cell\n",
       "var outputEl = gd.closest('.output');\n",
       "if (outputEl) {{\n",
       "    x.observe(outputEl, {childList: true});\n",
       "}}\n",
       "\n",
       "                        })                };                });            </script>        </div>"
      ]
     },
     "metadata": {},
     "output_type": "display_data"
    }
   ],
   "source": [
    "import itertools as it\n",
    "import plotly.graph_objects as go\n",
    "\n",
    "# generate data\n",
    "pred_indices = list(range(len(median_preds)))\n",
    "x = median_preds.index\n",
    "y = median_preds\n",
    "\n",
    "# cutoff value\n",
    "cutoff = 132\n",
    "\n",
    "# create coordinate  pairs\n",
    "x_pairs = it.pairwise(x)\n",
    "y_pairs = it.pairwise(y)\n",
    "\n",
    "# generate color list\n",
    "colors=['red' if val > cutoff else 'blue' for val in pred_indices]\n",
    "\n",
    "#Generate names list:\n",
    "names=['After July 29th 2013 inclusive, forecast' if val > cutoff else 'Jan 10 2011 inclusive - July 29th 2013' for val in pred_indices]\n",
    "\n",
    "# create base figure\n",
    "fig = go.Figure()\n",
    "\n",
    "# add traces (line segments)\n",
    "for x, y, color, name_, ele in zip(x_pairs, y_pairs, colors, names, range(len(median_preds))):\n",
    "    fig.add_trace(\n",
    "        go.Scatter(\n",
    "            x=x,\n",
    "            y=y,          \n",
    "            mode='lines',\n",
    "            showlegend=True if ele == 0 or ele == 133 else False, #new colour begins for cutoff + 1\n",
    "            line={'color': color},\n",
    "            name=name_\n",
    "        )\n",
    "    )\n",
    "fig.update_layout(xaxis_title=\"Time\", \n",
    "                  yaxis_title=\"Median Total Price\", \n",
    "                  title=\"Median total price of product #679023 over Jan 10 2011 - Dec 2 2013\", \n",
    "                  title_x=0.75,  \n",
    "                  autosize=False,\n",
    "                  width=1100,\n",
    "                  height=600)\n",
    "#^https://community.plotly.com/t/change-color-of-continuous-line-based-on-value/68938/2\n",
    "#Accessed 14/07/2024\n",
    "#^https://python-graph-gallery.com/522-plotly-customize-title/\n",
    "#Accessed 14/07/2024\n",
    "#https://stackoverflow.com/questions/70916649/how-to-change-the-x-axis-and-y-axis-labels-in-plotly\n",
    "#Accessed 14/07/2024\n",
    "#^https://stackoverflow.com/questions/64448360/plotly-how-to-manually-change-the-legend-items-when-plotting-columns\n",
    "#Accessed 14/07/2024\n",
    "\n",
    "fig.write_image(\"/Users/harrybakhshi/Desktop/Python_notes/data/PCDA_capstone/ml_test/679023median_total_price.png\")\n",
    "fig.show()"
   ]
  },
  {
   "cell_type": "code",
   "execution_count": 39,
   "id": "60b7f213-1bc1-4144-a57c-98bcd6011cd2",
   "metadata": {},
   "outputs": [
    {
     "data": {
      "application/vnd.plotly.v1+json": {
       "config": {
        "plotlyServerURL": "https://plot.ly"
       },
       "data": [
        {
         "name": "Median Sales Price, outlier treated data, forecasted after July 29th 2013 inclusive",
         "type": "scatter",
         "x": [
          "2011-01-10T00:00:00",
          "2011-01-17T00:00:00",
          "2011-01-24T00:00:00",
          "2011-01-31T00:00:00",
          "2011-02-07T00:00:00",
          "2011-02-14T00:00:00",
          "2011-02-21T00:00:00",
          "2011-02-28T00:00:00",
          "2011-03-07T00:00:00",
          "2011-03-14T00:00:00",
          "2011-03-21T00:00:00",
          "2011-03-28T00:00:00",
          "2011-04-04T00:00:00",
          "2011-04-11T00:00:00",
          "2011-04-18T00:00:00",
          "2011-04-25T00:00:00",
          "2011-05-02T00:00:00",
          "2011-05-09T00:00:00",
          "2011-05-16T00:00:00",
          "2011-05-23T00:00:00",
          "2011-05-30T00:00:00",
          "2011-06-06T00:00:00",
          "2011-06-13T00:00:00",
          "2011-06-20T00:00:00",
          "2011-06-27T00:00:00",
          "2011-07-04T00:00:00",
          "2011-07-11T00:00:00",
          "2011-07-18T00:00:00",
          "2011-07-25T00:00:00",
          "2011-08-01T00:00:00",
          "2011-08-08T00:00:00",
          "2011-08-15T00:00:00",
          "2011-08-22T00:00:00",
          "2011-08-29T00:00:00",
          "2011-09-05T00:00:00",
          "2011-09-12T00:00:00",
          "2011-09-19T00:00:00",
          "2011-09-26T00:00:00",
          "2011-10-03T00:00:00",
          "2011-10-10T00:00:00",
          "2011-10-17T00:00:00",
          "2011-10-24T00:00:00",
          "2011-10-31T00:00:00",
          "2011-11-07T00:00:00",
          "2011-11-14T00:00:00",
          "2011-11-21T00:00:00",
          "2011-11-28T00:00:00",
          "2011-12-05T00:00:00",
          "2011-12-12T00:00:00",
          "2011-12-19T00:00:00",
          "2011-12-26T00:00:00",
          "2012-01-02T00:00:00",
          "2012-01-09T00:00:00",
          "2012-01-16T00:00:00",
          "2012-01-23T00:00:00",
          "2012-01-30T00:00:00",
          "2012-02-06T00:00:00",
          "2012-02-13T00:00:00",
          "2012-02-20T00:00:00",
          "2012-02-27T00:00:00",
          "2012-03-05T00:00:00",
          "2012-03-12T00:00:00",
          "2012-03-19T00:00:00",
          "2012-03-26T00:00:00",
          "2012-04-02T00:00:00",
          "2012-04-09T00:00:00",
          "2012-04-16T00:00:00",
          "2012-04-23T00:00:00",
          "2012-04-30T00:00:00",
          "2012-05-07T00:00:00",
          "2012-05-14T00:00:00",
          "2012-05-21T00:00:00",
          "2012-05-28T00:00:00",
          "2012-06-04T00:00:00",
          "2012-06-11T00:00:00",
          "2012-06-18T00:00:00",
          "2012-06-25T00:00:00",
          "2012-07-02T00:00:00",
          "2012-07-09T00:00:00",
          "2012-07-16T00:00:00",
          "2012-07-23T00:00:00",
          "2012-07-30T00:00:00",
          "2012-08-06T00:00:00",
          "2012-08-13T00:00:00",
          "2012-08-20T00:00:00",
          "2012-08-27T00:00:00",
          "2012-09-03T00:00:00",
          "2012-09-10T00:00:00",
          "2012-09-17T00:00:00",
          "2012-09-24T00:00:00",
          "2012-10-01T00:00:00",
          "2012-10-08T00:00:00",
          "2012-10-15T00:00:00",
          "2012-10-22T00:00:00",
          "2012-10-29T00:00:00",
          "2012-11-05T00:00:00",
          "2012-11-12T00:00:00",
          "2012-11-19T00:00:00",
          "2012-11-26T00:00:00",
          "2012-12-03T00:00:00",
          "2012-12-10T00:00:00",
          "2012-12-17T00:00:00",
          "2012-12-24T00:00:00",
          "2012-12-31T00:00:00",
          "2013-01-07T00:00:00",
          "2013-01-14T00:00:00",
          "2013-01-21T00:00:00",
          "2013-01-28T00:00:00",
          "2013-02-04T00:00:00",
          "2013-02-11T00:00:00",
          "2013-02-18T00:00:00",
          "2013-02-25T00:00:00",
          "2013-03-04T00:00:00",
          "2013-03-11T00:00:00",
          "2013-03-18T00:00:00",
          "2013-03-25T00:00:00",
          "2013-04-01T00:00:00",
          "2013-04-08T00:00:00",
          "2013-04-15T00:00:00",
          "2013-04-22T00:00:00",
          "2013-04-29T00:00:00",
          "2013-05-06T00:00:00",
          "2013-05-13T00:00:00",
          "2013-05-20T00:00:00",
          "2013-05-27T00:00:00",
          "2013-06-03T00:00:00",
          "2013-06-10T00:00:00",
          "2013-06-17T00:00:00",
          "2013-06-24T00:00:00",
          "2013-07-01T00:00:00",
          "2013-07-08T00:00:00",
          "2013-07-15T00:00:00",
          "2013-07-22T00:00:00",
          "2013-07-29T00:00:00",
          "2013-08-05T00:00:00",
          "2013-08-12T00:00:00",
          "2013-08-19T00:00:00",
          "2013-08-26T00:00:00",
          "2013-09-02T00:00:00",
          "2013-09-09T00:00:00",
          "2013-09-16T00:00:00",
          "2013-09-23T00:00:00",
          "2013-09-30T00:00:00",
          "2013-10-07T00:00:00",
          "2013-10-14T00:00:00",
          "2013-10-21T00:00:00",
          "2013-10-28T00:00:00",
          "2013-11-04T00:00:00",
          "2013-11-11T00:00:00",
          "2013-11-18T00:00:00",
          "2013-11-25T00:00:00",
          "2013-12-02T00:00:00"
         ],
         "xaxis": "x",
         "y": [
          180.2625,
          178.125,
          178.125,
          178.125,
          180.2625,
          205.9125,
          205.9125,
          205.9125,
          180.2625,
          205.9125,
          177.4125,
          177.4125,
          177.4125,
          180.2625,
          205.9125,
          205.9125,
          180.2625,
          208.7625,
          205.9125,
          205.9125,
          205.9125,
          201.6375,
          178.125,
          178.125,
          178.125,
          180.2625,
          177.4125,
          213.0375,
          177.4125,
          180.2625,
          177.4125,
          213.0375,
          213.0375,
          213.0375,
          205.9125,
          180.2625,
          178.125,
          178.125,
          180.2625,
          205.9125,
          213.0375,
          213.0375,
          204.4875,
          213.0375,
          178.8375,
          177.4125,
          213.0375,
          180.2625,
          213.0375,
          213.0375,
          213.0375,
          180.2625,
          180.2625,
          213.0375,
          213.0375,
          213.0375,
          180.2625,
          177.4125,
          177.4125,
          213.0375,
          180.2625,
          180.2625,
          180.2625,
          180.2625,
          180.2625,
          178.125,
          180.2625,
          180.2625,
          180.2625,
          180.2625,
          180.2625,
          180.2625,
          180.2625,
          180.2625,
          213.0375,
          180.2625,
          180.2625,
          180.2625,
          180.2625,
          180.2625,
          180.2625,
          180.2625,
          180.2625,
          180.2625,
          180.2625,
          180.2625,
          180.2625,
          213.0375,
          180.2625,
          180.2625,
          180.2625,
          180.2625,
          180.2625,
          180.2625,
          180.2625,
          180.2625,
          213.0375,
          180.2625,
          180.2625,
          180.2625,
          180.2625,
          180.2625,
          180.2625,
          180.2625,
          180.2625,
          180.2625,
          180.2625,
          180.2625,
          213.0375,
          180.2625,
          180.2625,
          180.2625,
          180.2625,
          180.2625,
          180.2625,
          180.2625,
          180.2625,
          180.2625,
          180.2625,
          180.2625,
          180.2625,
          180.2625,
          180.2625,
          180.2625,
          180.2625,
          180.2625,
          180.2625,
          180.2625,
          180.2625,
          180.2625,
          180.2625,
          180.2625,
          180.2625,
          180.2625,
          180.2625,
          180.2625,
          180.2625,
          180.2625,
          180.2625,
          180.2625,
          180.2625,
          180.2625,
          180.2625,
          180.2625,
          180.2625,
          180.2625,
          180.2625,
          180.2625,
          180.2625,
          180.2625,
          180.2625,
          177.4125
         ],
         "yaxis": "y"
        },
        {
         "line": {
          "dash": "dash"
         },
         "name": "Median Sales Price, outlier treated data",
         "type": "scatter",
         "x": [
          "2011-01-10T00:00:00",
          "2011-01-17T00:00:00",
          "2011-01-24T00:00:00",
          "2011-01-31T00:00:00",
          "2011-02-07T00:00:00",
          "2011-02-14T00:00:00",
          "2011-02-21T00:00:00",
          "2011-02-28T00:00:00",
          "2011-03-07T00:00:00",
          "2011-03-14T00:00:00",
          "2011-03-21T00:00:00",
          "2011-03-28T00:00:00",
          "2011-04-04T00:00:00",
          "2011-04-11T00:00:00",
          "2011-04-18T00:00:00",
          "2011-04-25T00:00:00",
          "2011-05-02T00:00:00",
          "2011-05-09T00:00:00",
          "2011-05-16T00:00:00",
          "2011-05-23T00:00:00",
          "2011-05-30T00:00:00",
          "2011-06-06T00:00:00",
          "2011-06-13T00:00:00",
          "2011-06-20T00:00:00",
          "2011-06-27T00:00:00",
          "2011-07-04T00:00:00",
          "2011-07-11T00:00:00",
          "2011-07-18T00:00:00",
          "2011-07-25T00:00:00",
          "2011-08-01T00:00:00",
          "2011-08-08T00:00:00",
          "2011-08-15T00:00:00",
          "2011-08-22T00:00:00",
          "2011-08-29T00:00:00",
          "2011-09-05T00:00:00",
          "2011-09-12T00:00:00",
          "2011-09-19T00:00:00",
          "2011-09-26T00:00:00",
          "2011-10-03T00:00:00",
          "2011-10-10T00:00:00",
          "2011-10-17T00:00:00",
          "2011-10-24T00:00:00",
          "2011-10-31T00:00:00",
          "2011-11-07T00:00:00",
          "2011-11-14T00:00:00",
          "2011-11-21T00:00:00",
          "2011-11-28T00:00:00",
          "2011-12-05T00:00:00",
          "2011-12-12T00:00:00",
          "2011-12-19T00:00:00",
          "2011-12-26T00:00:00",
          "2012-01-02T00:00:00",
          "2012-01-09T00:00:00",
          "2012-01-16T00:00:00",
          "2012-01-23T00:00:00",
          "2012-01-30T00:00:00",
          "2012-02-06T00:00:00",
          "2012-02-13T00:00:00",
          "2012-02-20T00:00:00",
          "2012-02-27T00:00:00",
          "2012-03-05T00:00:00",
          "2012-03-12T00:00:00",
          "2012-03-19T00:00:00",
          "2012-03-26T00:00:00",
          "2012-04-02T00:00:00",
          "2012-04-09T00:00:00",
          "2012-04-16T00:00:00",
          "2012-04-23T00:00:00",
          "2012-04-30T00:00:00",
          "2012-05-07T00:00:00",
          "2012-05-14T00:00:00",
          "2012-05-21T00:00:00",
          "2012-05-28T00:00:00",
          "2012-06-04T00:00:00",
          "2012-06-11T00:00:00",
          "2012-06-18T00:00:00",
          "2012-06-25T00:00:00",
          "2012-07-02T00:00:00",
          "2012-07-09T00:00:00",
          "2012-07-16T00:00:00",
          "2012-07-23T00:00:00",
          "2012-07-30T00:00:00",
          "2012-08-06T00:00:00",
          "2012-08-13T00:00:00",
          "2012-08-20T00:00:00",
          "2012-08-27T00:00:00",
          "2012-09-03T00:00:00",
          "2012-09-10T00:00:00",
          "2012-09-17T00:00:00",
          "2012-09-24T00:00:00",
          "2012-10-01T00:00:00",
          "2012-10-08T00:00:00",
          "2012-10-15T00:00:00",
          "2012-10-22T00:00:00",
          "2012-10-29T00:00:00",
          "2012-11-05T00:00:00",
          "2012-11-12T00:00:00",
          "2012-11-19T00:00:00",
          "2012-11-26T00:00:00",
          "2012-12-03T00:00:00",
          "2012-12-10T00:00:00",
          "2012-12-17T00:00:00",
          "2012-12-24T00:00:00",
          "2012-12-31T00:00:00",
          "2013-01-07T00:00:00",
          "2013-01-14T00:00:00",
          "2013-01-21T00:00:00",
          "2013-01-28T00:00:00",
          "2013-02-04T00:00:00",
          "2013-02-11T00:00:00",
          "2013-02-18T00:00:00",
          "2013-02-25T00:00:00",
          "2013-03-04T00:00:00",
          "2013-03-11T00:00:00",
          "2013-03-18T00:00:00",
          "2013-03-25T00:00:00",
          "2013-04-01T00:00:00",
          "2013-04-08T00:00:00",
          "2013-04-15T00:00:00",
          "2013-04-22T00:00:00",
          "2013-04-29T00:00:00",
          "2013-05-06T00:00:00",
          "2013-05-13T00:00:00",
          "2013-05-20T00:00:00",
          "2013-05-27T00:00:00",
          "2013-06-03T00:00:00",
          "2013-06-10T00:00:00",
          "2013-06-17T00:00:00",
          "2013-06-24T00:00:00",
          "2013-07-01T00:00:00",
          "2013-07-08T00:00:00",
          "2013-07-15T00:00:00",
          "2013-07-22T00:00:00",
          "2013-07-29T00:00:00",
          "2013-08-05T00:00:00",
          "2013-08-12T00:00:00",
          "2013-08-19T00:00:00",
          "2013-08-26T00:00:00",
          "2013-09-02T00:00:00",
          "2013-09-09T00:00:00",
          "2013-09-16T00:00:00",
          "2013-09-23T00:00:00",
          "2013-09-30T00:00:00",
          "2013-10-07T00:00:00",
          "2013-10-14T00:00:00",
          "2013-10-21T00:00:00",
          "2013-10-28T00:00:00",
          "2013-11-04T00:00:00",
          "2013-11-11T00:00:00",
          "2013-11-18T00:00:00",
          "2013-11-25T00:00:00",
          "2013-12-02T00:00:00"
         ],
         "xaxis": "x",
         "y": [
          180.2625,
          178.125,
          178.125,
          178.125,
          180.2625,
          205.9125,
          205.9125,
          205.9125,
          180.2625,
          205.9125,
          177.4125,
          177.4125,
          177.4125,
          180.2625,
          205.9125,
          205.9125,
          180.2625,
          208.7625,
          205.9125,
          205.9125,
          205.9125,
          201.6375,
          178.125,
          178.125,
          178.125,
          180.2625,
          177.4125,
          213.0375,
          177.4125,
          180.2625,
          177.4125,
          213.0375,
          213.0375,
          213.0375,
          205.9125,
          180.2625,
          178.125,
          178.125,
          180.2625,
          205.9125,
          213.0375,
          213.0375,
          204.4875,
          213.0375,
          178.8375,
          177.4125,
          213.0375,
          180.2625,
          213.0375,
          213.0375,
          213.0375,
          180.2625,
          180.2625,
          213.0375,
          213.0375,
          213.0375,
          180.2625,
          177.4125,
          177.4125,
          213.0375,
          180.2625,
          180.2625,
          180.2625,
          180.2625,
          180.2625,
          178.125,
          180.2625,
          180.2625,
          180.2625,
          180.2625,
          180.2625,
          180.2625,
          180.2625,
          180.2625,
          213.0375,
          180.2625,
          180.2625,
          180.2625,
          180.2625,
          180.2625,
          180.2625,
          180.2625,
          180.2625,
          180.2625,
          180.2625,
          180.2625,
          180.2625,
          213.0375,
          180.2625,
          180.2625,
          180.2625,
          180.2625,
          180.2625,
          180.2625,
          180.2625,
          180.2625,
          213.0375,
          180.2625,
          180.2625,
          180.2625,
          180.2625,
          180.2625,
          180.2625,
          180.2625,
          180.2625,
          180.2625,
          180.2625,
          180.2625,
          213.0375,
          180.2625,
          180.2625,
          180.2625,
          180.2625,
          180.2625,
          180.2625,
          180.2625,
          180.2625,
          180.2625,
          180.2625,
          180.2625,
          180.2625,
          180.2625,
          180.2625,
          180.2625,
          180.2625,
          180.2625,
          180.2625,
          180.2625,
          180.2625,
          180.2625,
          180.2625,
          180.2625,
          180.2625,
          180.26250000000024,
          180.26250000000024,
          180.26250000000024,
          180.26250000000024,
          180.26250000000024,
          180.26250000000024,
          180.26250000000024,
          180.26250000000024,
          180.26250000000024,
          180.26250000000024,
          180.26250000000024,
          180.26250000000024,
          180.26250000000024,
          180.26250000000024,
          180.26250000000024,
          180.26250000000024,
          180.26250000000024,
          180.26250000000024,
          177.41249999999997
         ],
         "yaxis": "y2"
        }
       ],
       "layout": {
        "autosize": false,
        "height": 600,
        "legend": {
         "font": {
          "size": 13
         },
         "orientation": "h",
         "title": {},
         "x": 1,
         "xanchor": "right",
         "y": 0.98,
         "yanchor": "bottom"
        },
        "template": {
         "data": {
          "bar": [
           {
            "error_x": {
             "color": "#2a3f5f"
            },
            "error_y": {
             "color": "#2a3f5f"
            },
            "marker": {
             "line": {
              "color": "white",
              "width": 0.5
             },
             "pattern": {
              "fillmode": "overlay",
              "size": 10,
              "solidity": 0.2
             }
            },
            "type": "bar"
           }
          ],
          "barpolar": [
           {
            "marker": {
             "line": {
              "color": "white",
              "width": 0.5
             },
             "pattern": {
              "fillmode": "overlay",
              "size": 10,
              "solidity": 0.2
             }
            },
            "type": "barpolar"
           }
          ],
          "carpet": [
           {
            "aaxis": {
             "endlinecolor": "#2a3f5f",
             "gridcolor": "#C8D4E3",
             "linecolor": "#C8D4E3",
             "minorgridcolor": "#C8D4E3",
             "startlinecolor": "#2a3f5f"
            },
            "baxis": {
             "endlinecolor": "#2a3f5f",
             "gridcolor": "#C8D4E3",
             "linecolor": "#C8D4E3",
             "minorgridcolor": "#C8D4E3",
             "startlinecolor": "#2a3f5f"
            },
            "type": "carpet"
           }
          ],
          "choropleth": [
           {
            "colorbar": {
             "outlinewidth": 0,
             "ticks": ""
            },
            "type": "choropleth"
           }
          ],
          "contour": [
           {
            "colorbar": {
             "outlinewidth": 0,
             "ticks": ""
            },
            "colorscale": [
             [
              0,
              "#0d0887"
             ],
             [
              0.1111111111111111,
              "#46039f"
             ],
             [
              0.2222222222222222,
              "#7201a8"
             ],
             [
              0.3333333333333333,
              "#9c179e"
             ],
             [
              0.4444444444444444,
              "#bd3786"
             ],
             [
              0.5555555555555556,
              "#d8576b"
             ],
             [
              0.6666666666666666,
              "#ed7953"
             ],
             [
              0.7777777777777778,
              "#fb9f3a"
             ],
             [
              0.8888888888888888,
              "#fdca26"
             ],
             [
              1,
              "#f0f921"
             ]
            ],
            "type": "contour"
           }
          ],
          "contourcarpet": [
           {
            "colorbar": {
             "outlinewidth": 0,
             "ticks": ""
            },
            "type": "contourcarpet"
           }
          ],
          "heatmap": [
           {
            "colorbar": {
             "outlinewidth": 0,
             "ticks": ""
            },
            "colorscale": [
             [
              0,
              "#0d0887"
             ],
             [
              0.1111111111111111,
              "#46039f"
             ],
             [
              0.2222222222222222,
              "#7201a8"
             ],
             [
              0.3333333333333333,
              "#9c179e"
             ],
             [
              0.4444444444444444,
              "#bd3786"
             ],
             [
              0.5555555555555556,
              "#d8576b"
             ],
             [
              0.6666666666666666,
              "#ed7953"
             ],
             [
              0.7777777777777778,
              "#fb9f3a"
             ],
             [
              0.8888888888888888,
              "#fdca26"
             ],
             [
              1,
              "#f0f921"
             ]
            ],
            "type": "heatmap"
           }
          ],
          "heatmapgl": [
           {
            "colorbar": {
             "outlinewidth": 0,
             "ticks": ""
            },
            "colorscale": [
             [
              0,
              "#0d0887"
             ],
             [
              0.1111111111111111,
              "#46039f"
             ],
             [
              0.2222222222222222,
              "#7201a8"
             ],
             [
              0.3333333333333333,
              "#9c179e"
             ],
             [
              0.4444444444444444,
              "#bd3786"
             ],
             [
              0.5555555555555556,
              "#d8576b"
             ],
             [
              0.6666666666666666,
              "#ed7953"
             ],
             [
              0.7777777777777778,
              "#fb9f3a"
             ],
             [
              0.8888888888888888,
              "#fdca26"
             ],
             [
              1,
              "#f0f921"
             ]
            ],
            "type": "heatmapgl"
           }
          ],
          "histogram": [
           {
            "marker": {
             "pattern": {
              "fillmode": "overlay",
              "size": 10,
              "solidity": 0.2
             }
            },
            "type": "histogram"
           }
          ],
          "histogram2d": [
           {
            "colorbar": {
             "outlinewidth": 0,
             "ticks": ""
            },
            "colorscale": [
             [
              0,
              "#0d0887"
             ],
             [
              0.1111111111111111,
              "#46039f"
             ],
             [
              0.2222222222222222,
              "#7201a8"
             ],
             [
              0.3333333333333333,
              "#9c179e"
             ],
             [
              0.4444444444444444,
              "#bd3786"
             ],
             [
              0.5555555555555556,
              "#d8576b"
             ],
             [
              0.6666666666666666,
              "#ed7953"
             ],
             [
              0.7777777777777778,
              "#fb9f3a"
             ],
             [
              0.8888888888888888,
              "#fdca26"
             ],
             [
              1,
              "#f0f921"
             ]
            ],
            "type": "histogram2d"
           }
          ],
          "histogram2dcontour": [
           {
            "colorbar": {
             "outlinewidth": 0,
             "ticks": ""
            },
            "colorscale": [
             [
              0,
              "#0d0887"
             ],
             [
              0.1111111111111111,
              "#46039f"
             ],
             [
              0.2222222222222222,
              "#7201a8"
             ],
             [
              0.3333333333333333,
              "#9c179e"
             ],
             [
              0.4444444444444444,
              "#bd3786"
             ],
             [
              0.5555555555555556,
              "#d8576b"
             ],
             [
              0.6666666666666666,
              "#ed7953"
             ],
             [
              0.7777777777777778,
              "#fb9f3a"
             ],
             [
              0.8888888888888888,
              "#fdca26"
             ],
             [
              1,
              "#f0f921"
             ]
            ],
            "type": "histogram2dcontour"
           }
          ],
          "mesh3d": [
           {
            "colorbar": {
             "outlinewidth": 0,
             "ticks": ""
            },
            "type": "mesh3d"
           }
          ],
          "parcoords": [
           {
            "line": {
             "colorbar": {
              "outlinewidth": 0,
              "ticks": ""
             }
            },
            "type": "parcoords"
           }
          ],
          "pie": [
           {
            "automargin": true,
            "type": "pie"
           }
          ],
          "scatter": [
           {
            "fillpattern": {
             "fillmode": "overlay",
             "size": 10,
             "solidity": 0.2
            },
            "type": "scatter"
           }
          ],
          "scatter3d": [
           {
            "line": {
             "colorbar": {
              "outlinewidth": 0,
              "ticks": ""
             }
            },
            "marker": {
             "colorbar": {
              "outlinewidth": 0,
              "ticks": ""
             }
            },
            "type": "scatter3d"
           }
          ],
          "scattercarpet": [
           {
            "marker": {
             "colorbar": {
              "outlinewidth": 0,
              "ticks": ""
             }
            },
            "type": "scattercarpet"
           }
          ],
          "scattergeo": [
           {
            "marker": {
             "colorbar": {
              "outlinewidth": 0,
              "ticks": ""
             }
            },
            "type": "scattergeo"
           }
          ],
          "scattergl": [
           {
            "marker": {
             "colorbar": {
              "outlinewidth": 0,
              "ticks": ""
             }
            },
            "type": "scattergl"
           }
          ],
          "scattermapbox": [
           {
            "marker": {
             "colorbar": {
              "outlinewidth": 0,
              "ticks": ""
             }
            },
            "type": "scattermapbox"
           }
          ],
          "scatterpolar": [
           {
            "marker": {
             "colorbar": {
              "outlinewidth": 0,
              "ticks": ""
             }
            },
            "type": "scatterpolar"
           }
          ],
          "scatterpolargl": [
           {
            "marker": {
             "colorbar": {
              "outlinewidth": 0,
              "ticks": ""
             }
            },
            "type": "scatterpolargl"
           }
          ],
          "scatterternary": [
           {
            "marker": {
             "colorbar": {
              "outlinewidth": 0,
              "ticks": ""
             }
            },
            "type": "scatterternary"
           }
          ],
          "surface": [
           {
            "colorbar": {
             "outlinewidth": 0,
             "ticks": ""
            },
            "colorscale": [
             [
              0,
              "#0d0887"
             ],
             [
              0.1111111111111111,
              "#46039f"
             ],
             [
              0.2222222222222222,
              "#7201a8"
             ],
             [
              0.3333333333333333,
              "#9c179e"
             ],
             [
              0.4444444444444444,
              "#bd3786"
             ],
             [
              0.5555555555555556,
              "#d8576b"
             ],
             [
              0.6666666666666666,
              "#ed7953"
             ],
             [
              0.7777777777777778,
              "#fb9f3a"
             ],
             [
              0.8888888888888888,
              "#fdca26"
             ],
             [
              1,
              "#f0f921"
             ]
            ],
            "type": "surface"
           }
          ],
          "table": [
           {
            "cells": {
             "fill": {
              "color": "#EBF0F8"
             },
             "line": {
              "color": "white"
             }
            },
            "header": {
             "fill": {
              "color": "#C8D4E3"
             },
             "line": {
              "color": "white"
             }
            },
            "type": "table"
           }
          ]
         },
         "layout": {
          "annotationdefaults": {
           "arrowcolor": "#2a3f5f",
           "arrowhead": 0,
           "arrowwidth": 1
          },
          "autotypenumbers": "strict",
          "coloraxis": {
           "colorbar": {
            "outlinewidth": 0,
            "ticks": ""
           }
          },
          "colorscale": {
           "diverging": [
            [
             0,
             "#8e0152"
            ],
            [
             0.1,
             "#c51b7d"
            ],
            [
             0.2,
             "#de77ae"
            ],
            [
             0.3,
             "#f1b6da"
            ],
            [
             0.4,
             "#fde0ef"
            ],
            [
             0.5,
             "#f7f7f7"
            ],
            [
             0.6,
             "#e6f5d0"
            ],
            [
             0.7,
             "#b8e186"
            ],
            [
             0.8,
             "#7fbc41"
            ],
            [
             0.9,
             "#4d9221"
            ],
            [
             1,
             "#276419"
            ]
           ],
           "sequential": [
            [
             0,
             "#0d0887"
            ],
            [
             0.1111111111111111,
             "#46039f"
            ],
            [
             0.2222222222222222,
             "#7201a8"
            ],
            [
             0.3333333333333333,
             "#9c179e"
            ],
            [
             0.4444444444444444,
             "#bd3786"
            ],
            [
             0.5555555555555556,
             "#d8576b"
            ],
            [
             0.6666666666666666,
             "#ed7953"
            ],
            [
             0.7777777777777778,
             "#fb9f3a"
            ],
            [
             0.8888888888888888,
             "#fdca26"
            ],
            [
             1,
             "#f0f921"
            ]
           ],
           "sequentialminus": [
            [
             0,
             "#0d0887"
            ],
            [
             0.1111111111111111,
             "#46039f"
            ],
            [
             0.2222222222222222,
             "#7201a8"
            ],
            [
             0.3333333333333333,
             "#9c179e"
            ],
            [
             0.4444444444444444,
             "#bd3786"
            ],
            [
             0.5555555555555556,
             "#d8576b"
            ],
            [
             0.6666666666666666,
             "#ed7953"
            ],
            [
             0.7777777777777778,
             "#fb9f3a"
            ],
            [
             0.8888888888888888,
             "#fdca26"
            ],
            [
             1,
             "#f0f921"
            ]
           ]
          },
          "colorway": [
           "#636efa",
           "#EF553B",
           "#00cc96",
           "#ab63fa",
           "#FFA15A",
           "#19d3f3",
           "#FF6692",
           "#B6E880",
           "#FF97FF",
           "#FECB52"
          ],
          "font": {
           "color": "#2a3f5f"
          },
          "geo": {
           "bgcolor": "white",
           "lakecolor": "white",
           "landcolor": "white",
           "showlakes": true,
           "showland": true,
           "subunitcolor": "#C8D4E3"
          },
          "hoverlabel": {
           "align": "left"
          },
          "hovermode": "closest",
          "mapbox": {
           "style": "light"
          },
          "paper_bgcolor": "white",
          "plot_bgcolor": "white",
          "polar": {
           "angularaxis": {
            "gridcolor": "#EBF0F8",
            "linecolor": "#EBF0F8",
            "ticks": ""
           },
           "bgcolor": "white",
           "radialaxis": {
            "gridcolor": "#EBF0F8",
            "linecolor": "#EBF0F8",
            "ticks": ""
           }
          },
          "scene": {
           "xaxis": {
            "backgroundcolor": "white",
            "gridcolor": "#DFE8F3",
            "gridwidth": 2,
            "linecolor": "#EBF0F8",
            "showbackground": true,
            "ticks": "",
            "zerolinecolor": "#EBF0F8"
           },
           "yaxis": {
            "backgroundcolor": "white",
            "gridcolor": "#DFE8F3",
            "gridwidth": 2,
            "linecolor": "#EBF0F8",
            "showbackground": true,
            "ticks": "",
            "zerolinecolor": "#EBF0F8"
           },
           "zaxis": {
            "backgroundcolor": "white",
            "gridcolor": "#DFE8F3",
            "gridwidth": 2,
            "linecolor": "#EBF0F8",
            "showbackground": true,
            "ticks": "",
            "zerolinecolor": "#EBF0F8"
           }
          },
          "shapedefaults": {
           "line": {
            "color": "#2a3f5f"
           }
          },
          "ternary": {
           "aaxis": {
            "gridcolor": "#DFE8F3",
            "linecolor": "#A2B1C6",
            "ticks": ""
           },
           "baxis": {
            "gridcolor": "#DFE8F3",
            "linecolor": "#A2B1C6",
            "ticks": ""
           },
           "bgcolor": "white",
           "caxis": {
            "gridcolor": "#DFE8F3",
            "linecolor": "#A2B1C6",
            "ticks": ""
           }
          },
          "title": {
           "x": 0.05
          },
          "xaxis": {
           "automargin": true,
           "gridcolor": "#EBF0F8",
           "linecolor": "#EBF0F8",
           "ticks": "",
           "title": {
            "standoff": 15
           },
           "zerolinecolor": "#EBF0F8",
           "zerolinewidth": 2
          },
          "yaxis": {
           "automargin": true,
           "gridcolor": "#EBF0F8",
           "linecolor": "#EBF0F8",
           "ticks": "",
           "title": {
            "standoff": 15
           },
           "zerolinecolor": "#EBF0F8",
           "zerolinewidth": 2
          }
         }
        },
        "title": {
         "font": {
          "size": 20
         },
         "text": "Median Sales Price for product #679023 over Jan 10 2011 - Dec 2 2013",
         "x": 0.5,
         "xanchor": "center",
         "yanchor": "top"
        },
        "width": 1100,
        "xaxis": {
         "anchor": "y",
         "autorange": true,
         "domain": [
          0,
          0.94
         ],
         "range": [
          "2011-01-10",
          "2013-12-02"
         ],
         "tickfont": {
          "size": 15
         },
         "title": {
          "font": {
           "size": 15
          },
          "text": "Time"
         },
         "type": "date"
        },
        "yaxis": {
         "anchor": "x",
         "autorange": true,
         "domain": [
          0,
          1
         ],
         "range": [
          175.43333333333334,
          215.01666666666665
         ],
         "tickfont": {
          "size": 15
         },
         "title": {
          "font": {
           "size": 15
          },
          "text": "Median Sales Price"
         },
         "type": "linear"
        },
        "yaxis2": {
         "anchor": "x",
         "autorange": true,
         "overlaying": "y",
         "range": [
          175.4333333333333,
          215.01666666666665
         ],
         "side": "right",
         "type": "linear"
        }
       }
      },
      "image/png": "[encoded data removed]",
      "text/html": [
       "<div>                            <div id=\"64d9538b-d6f6-433f-8878-c354574cc539\" class=\"plotly-graph-div\" style=\"height:600px; width:1100px;\"></div>            <script type=\"text/javascript\">                require([\"plotly\"], function(Plotly) {                    window.PLOTLYENV=window.PLOTLYENV || {};                                    if (document.getElementById(\"64d9538b-d6f6-433f-8878-c354574cc539\")) {                    Plotly.newPlot(                        \"64d9538b-d6f6-433f-8878-c354574cc539\",                        [{\"name\":\"Median Sales Price, outlier treated data, forecasted after July 29th 2013 inclusive\",\"x\":[\"2011-01-10T00:00:00\",\"2011-01-17T00:00:00\",\"2011-01-24T00:00:00\",\"2011-01-31T00:00:00\",\"2011-02-07T00:00:00\",\"2011-02-14T00:00:00\",\"2011-02-21T00:00:00\",\"2011-02-28T00:00:00\",\"2011-03-07T00:00:00\",\"2011-03-14T00:00:00\",\"2011-03-21T00:00:00\",\"2011-03-28T00:00:00\",\"2011-04-04T00:00:00\",\"2011-04-11T00:00:00\",\"2011-04-18T00:00:00\",\"2011-04-25T00:00:00\",\"2011-05-02T00:00:00\",\"2011-05-09T00:00:00\",\"2011-05-16T00:00:00\",\"2011-05-23T00:00:00\",\"2011-05-30T00:00:00\",\"2011-06-06T00:00:00\",\"2011-06-13T00:00:00\",\"2011-06-20T00:00:00\",\"2011-06-27T00:00:00\",\"2011-07-04T00:00:00\",\"2011-07-11T00:00:00\",\"2011-07-18T00:00:00\",\"2011-07-25T00:00:00\",\"2011-08-01T00:00:00\",\"2011-08-08T00:00:00\",\"2011-08-15T00:00:00\",\"2011-08-22T00:00:00\",\"2011-08-29T00:00:00\",\"2011-09-05T00:00:00\",\"2011-09-12T00:00:00\",\"2011-09-19T00:00:00\",\"2011-09-26T00:00:00\",\"2011-10-03T00:00:00\",\"2011-10-10T00:00:00\",\"2011-10-17T00:00:00\",\"2011-10-24T00:00:00\",\"2011-10-31T00:00:00\",\"2011-11-07T00:00:00\",\"2011-11-14T00:00:00\",\"2011-11-21T00:00:00\",\"2011-11-28T00:00:00\",\"2011-12-05T00:00:00\",\"2011-12-12T00:00:00\",\"2011-12-19T00:00:00\",\"2011-12-26T00:00:00\",\"2012-01-02T00:00:00\",\"2012-01-09T00:00:00\",\"2012-01-16T00:00:00\",\"2012-01-23T00:00:00\",\"2012-01-30T00:00:00\",\"2012-02-06T00:00:00\",\"2012-02-13T00:00:00\",\"2012-02-20T00:00:00\",\"2012-02-27T00:00:00\",\"2012-03-05T00:00:00\",\"2012-03-12T00:00:00\",\"2012-03-19T00:00:00\",\"2012-03-26T00:00:00\",\"2012-04-02T00:00:00\",\"2012-04-09T00:00:00\",\"2012-04-16T00:00:00\",\"2012-04-23T00:00:00\",\"2012-04-30T00:00:00\",\"2012-05-07T00:00:00\",\"2012-05-14T00:00:00\",\"2012-05-21T00:00:00\",\"2012-05-28T00:00:00\",\"2012-06-04T00:00:00\",\"2012-06-11T00:00:00\",\"2012-06-18T00:00:00\",\"2012-06-25T00:00:00\",\"2012-07-02T00:00:00\",\"2012-07-09T00:00:00\",\"2012-07-16T00:00:00\",\"2012-07-23T00:00:00\",\"2012-07-30T00:00:00\",\"2012-08-06T00:00:00\",\"2012-08-13T00:00:00\",\"2012-08-20T00:00:00\",\"2012-08-27T00:00:00\",\"2012-09-03T00:00:00\",\"2012-09-10T00:00:00\",\"2012-09-17T00:00:00\",\"2012-09-24T00:00:00\",\"2012-10-01T00:00:00\",\"2012-10-08T00:00:00\",\"2012-10-15T00:00:00\",\"2012-10-22T00:00:00\",\"2012-10-29T00:00:00\",\"2012-11-05T00:00:00\",\"2012-11-12T00:00:00\",\"2012-11-19T00:00:00\",\"2012-11-26T00:00:00\",\"2012-12-03T00:00:00\",\"2012-12-10T00:00:00\",\"2012-12-17T00:00:00\",\"2012-12-24T00:00:00\",\"2012-12-31T00:00:00\",\"2013-01-07T00:00:00\",\"2013-01-14T00:00:00\",\"2013-01-21T00:00:00\",\"2013-01-28T00:00:00\",\"2013-02-04T00:00:00\",\"2013-02-11T00:00:00\",\"2013-02-18T00:00:00\",\"2013-02-25T00:00:00\",\"2013-03-04T00:00:00\",\"2013-03-11T00:00:00\",\"2013-03-18T00:00:00\",\"2013-03-25T00:00:00\",\"2013-04-01T00:00:00\",\"2013-04-08T00:00:00\",\"2013-04-15T00:00:00\",\"2013-04-22T00:00:00\",\"2013-04-29T00:00:00\",\"2013-05-06T00:00:00\",\"2013-05-13T00:00:00\",\"2013-05-20T00:00:00\",\"2013-05-27T00:00:00\",\"2013-06-03T00:00:00\",\"2013-06-10T00:00:00\",\"2013-06-17T00:00:00\",\"2013-06-24T00:00:00\",\"2013-07-01T00:00:00\",\"2013-07-08T00:00:00\",\"2013-07-15T00:00:00\",\"2013-07-22T00:00:00\",\"2013-07-29T00:00:00\",\"2013-08-05T00:00:00\",\"2013-08-12T00:00:00\",\"2013-08-19T00:00:00\",\"2013-08-26T00:00:00\",\"2013-09-02T00:00:00\",\"2013-09-09T00:00:00\",\"2013-09-16T00:00:00\",\"2013-09-23T00:00:00\",\"2013-09-30T00:00:00\",\"2013-10-07T00:00:00\",\"2013-10-14T00:00:00\",\"2013-10-21T00:00:00\",\"2013-10-28T00:00:00\",\"2013-11-04T00:00:00\",\"2013-11-11T00:00:00\",\"2013-11-18T00:00:00\",\"2013-11-25T00:00:00\",\"2013-12-02T00:00:00\"],\"y\":[180.2625,178.125,178.125,178.125,180.2625,205.9125,205.9125,205.9125,180.2625,205.9125,177.4125,177.4125,177.4125,180.2625,205.9125,205.9125,180.2625,208.7625,205.9125,205.9125,205.9125,201.6375,178.125,178.125,178.125,180.2625,177.4125,213.0375,177.4125,180.2625,177.4125,213.0375,213.0375,213.0375,205.9125,180.2625,178.125,178.125,180.2625,205.9125,213.0375,213.0375,204.4875,213.0375,178.8375,177.4125,213.0375,180.2625,213.0375,213.0375,213.0375,180.2625,180.2625,213.0375,213.0375,213.0375,180.2625,177.4125,177.4125,213.0375,180.2625,180.2625,180.2625,180.2625,180.2625,178.125,180.2625,180.2625,180.2625,180.2625,180.2625,180.2625,180.2625,180.2625,213.0375,180.2625,180.2625,180.2625,180.2625,180.2625,180.2625,180.2625,180.2625,180.2625,180.2625,180.2625,180.2625,213.0375,180.2625,180.2625,180.2625,180.2625,180.2625,180.2625,180.2625,180.2625,213.0375,180.2625,180.2625,180.2625,180.2625,180.2625,180.2625,180.2625,180.2625,180.2625,180.2625,180.2625,213.0375,180.2625,180.2625,180.2625,180.2625,180.2625,180.2625,180.2625,180.2625,180.2625,180.2625,180.2625,180.2625,180.2625,180.2625,180.2625,180.2625,180.2625,180.2625,180.2625,180.2625,180.2625,180.2625,180.2625,180.2625,180.2625,180.2625,180.2625,180.2625,180.2625,180.2625,180.2625,180.2625,180.2625,180.2625,180.2625,180.2625,180.2625,180.2625,180.2625,180.2625,180.2625,180.2625,177.4125],\"type\":\"scatter\",\"xaxis\":\"x\",\"yaxis\":\"y\"},{\"line\":{\"dash\":\"dash\"},\"name\":\"Median Sales Price, outlier treated data\",\"x\":[\"2011-01-10T00:00:00\",\"2011-01-17T00:00:00\",\"2011-01-24T00:00:00\",\"2011-01-31T00:00:00\",\"2011-02-07T00:00:00\",\"2011-02-14T00:00:00\",\"2011-02-21T00:00:00\",\"2011-02-28T00:00:00\",\"2011-03-07T00:00:00\",\"2011-03-14T00:00:00\",\"2011-03-21T00:00:00\",\"2011-03-28T00:00:00\",\"2011-04-04T00:00:00\",\"2011-04-11T00:00:00\",\"2011-04-18T00:00:00\",\"2011-04-25T00:00:00\",\"2011-05-02T00:00:00\",\"2011-05-09T00:00:00\",\"2011-05-16T00:00:00\",\"2011-05-23T00:00:00\",\"2011-05-30T00:00:00\",\"2011-06-06T00:00:00\",\"2011-06-13T00:00:00\",\"2011-06-20T00:00:00\",\"2011-06-27T00:00:00\",\"2011-07-04T00:00:00\",\"2011-07-11T00:00:00\",\"2011-07-18T00:00:00\",\"2011-07-25T00:00:00\",\"2011-08-01T00:00:00\",\"2011-08-08T00:00:00\",\"2011-08-15T00:00:00\",\"2011-08-22T00:00:00\",\"2011-08-29T00:00:00\",\"2011-09-05T00:00:00\",\"2011-09-12T00:00:00\",\"2011-09-19T00:00:00\",\"2011-09-26T00:00:00\",\"2011-10-03T00:00:00\",\"2011-10-10T00:00:00\",\"2011-10-17T00:00:00\",\"2011-10-24T00:00:00\",\"2011-10-31T00:00:00\",\"2011-11-07T00:00:00\",\"2011-11-14T00:00:00\",\"2011-11-21T00:00:00\",\"2011-11-28T00:00:00\",\"2011-12-05T00:00:00\",\"2011-12-12T00:00:00\",\"2011-12-19T00:00:00\",\"2011-12-26T00:00:00\",\"2012-01-02T00:00:00\",\"2012-01-09T00:00:00\",\"2012-01-16T00:00:00\",\"2012-01-23T00:00:00\",\"2012-01-30T00:00:00\",\"2012-02-06T00:00:00\",\"2012-02-13T00:00:00\",\"2012-02-20T00:00:00\",\"2012-02-27T00:00:00\",\"2012-03-05T00:00:00\",\"2012-03-12T00:00:00\",\"2012-03-19T00:00:00\",\"2012-03-26T00:00:00\",\"2012-04-02T00:00:00\",\"2012-04-09T00:00:00\",\"2012-04-16T00:00:00\",\"2012-04-23T00:00:00\",\"2012-04-30T00:00:00\",\"2012-05-07T00:00:00\",\"2012-05-14T00:00:00\",\"2012-05-21T00:00:00\",\"2012-05-28T00:00:00\",\"2012-06-04T00:00:00\",\"2012-06-11T00:00:00\",\"2012-06-18T00:00:00\",\"2012-06-25T00:00:00\",\"2012-07-02T00:00:00\",\"2012-07-09T00:00:00\",\"2012-07-16T00:00:00\",\"2012-07-23T00:00:00\",\"2012-07-30T00:00:00\",\"2012-08-06T00:00:00\",\"2012-08-13T00:00:00\",\"2012-08-20T00:00:00\",\"2012-08-27T00:00:00\",\"2012-09-03T00:00:00\",\"2012-09-10T00:00:00\",\"2012-09-17T00:00:00\",\"2012-09-24T00:00:00\",\"2012-10-01T00:00:00\",\"2012-10-08T00:00:00\",\"2012-10-15T00:00:00\",\"2012-10-22T00:00:00\",\"2012-10-29T00:00:00\",\"2012-11-05T00:00:00\",\"2012-11-12T00:00:00\",\"2012-11-19T00:00:00\",\"2012-11-26T00:00:00\",\"2012-12-03T00:00:00\",\"2012-12-10T00:00:00\",\"2012-12-17T00:00:00\",\"2012-12-24T00:00:00\",\"2012-12-31T00:00:00\",\"2013-01-07T00:00:00\",\"2013-01-14T00:00:00\",\"2013-01-21T00:00:00\",\"2013-01-28T00:00:00\",\"2013-02-04T00:00:00\",\"2013-02-11T00:00:00\",\"2013-02-18T00:00:00\",\"2013-02-25T00:00:00\",\"2013-03-04T00:00:00\",\"2013-03-11T00:00:00\",\"2013-03-18T00:00:00\",\"2013-03-25T00:00:00\",\"2013-04-01T00:00:00\",\"2013-04-08T00:00:00\",\"2013-04-15T00:00:00\",\"2013-04-22T00:00:00\",\"2013-04-29T00:00:00\",\"2013-05-06T00:00:00\",\"2013-05-13T00:00:00\",\"2013-05-20T00:00:00\",\"2013-05-27T00:00:00\",\"2013-06-03T00:00:00\",\"2013-06-10T00:00:00\",\"2013-06-17T00:00:00\",\"2013-06-24T00:00:00\",\"2013-07-01T00:00:00\",\"2013-07-08T00:00:00\",\"2013-07-15T00:00:00\",\"2013-07-22T00:00:00\",\"2013-07-29T00:00:00\",\"2013-08-05T00:00:00\",\"2013-08-12T00:00:00\",\"2013-08-19T00:00:00\",\"2013-08-26T00:00:00\",\"2013-09-02T00:00:00\",\"2013-09-09T00:00:00\",\"2013-09-16T00:00:00\",\"2013-09-23T00:00:00\",\"2013-09-30T00:00:00\",\"2013-10-07T00:00:00\",\"2013-10-14T00:00:00\",\"2013-10-21T00:00:00\",\"2013-10-28T00:00:00\",\"2013-11-04T00:00:00\",\"2013-11-11T00:00:00\",\"2013-11-18T00:00:00\",\"2013-11-25T00:00:00\",\"2013-12-02T00:00:00\"],\"y\":[180.2625,178.125,178.125,178.125,180.2625,205.9125,205.9125,205.9125,180.2625,205.9125,177.4125,177.4125,177.4125,180.2625,205.9125,205.9125,180.2625,208.7625,205.9125,205.9125,205.9125,201.6375,178.125,178.125,178.125,180.2625,177.4125,213.0375,177.4125,180.2625,177.4125,213.0375,213.0375,213.0375,205.9125,180.2625,178.125,178.125,180.2625,205.9125,213.0375,213.0375,204.4875,213.0375,178.8375,177.4125,213.0375,180.2625,213.0375,213.0375,213.0375,180.2625,180.2625,213.0375,213.0375,213.0375,180.2625,177.4125,177.4125,213.0375,180.2625,180.2625,180.2625,180.2625,180.2625,178.125,180.2625,180.2625,180.2625,180.2625,180.2625,180.2625,180.2625,180.2625,213.0375,180.2625,180.2625,180.2625,180.2625,180.2625,180.2625,180.2625,180.2625,180.2625,180.2625,180.2625,180.2625,213.0375,180.2625,180.2625,180.2625,180.2625,180.2625,180.2625,180.2625,180.2625,213.0375,180.2625,180.2625,180.2625,180.2625,180.2625,180.2625,180.2625,180.2625,180.2625,180.2625,180.2625,213.0375,180.2625,180.2625,180.2625,180.2625,180.2625,180.2625,180.2625,180.2625,180.2625,180.2625,180.2625,180.2625,180.2625,180.2625,180.2625,180.2625,180.2625,180.2625,180.2625,180.2625,180.2625,180.2625,180.2625,180.2625,180.26250000000024,180.26250000000024,180.26250000000024,180.26250000000024,180.26250000000024,180.26250000000024,180.26250000000024,180.26250000000024,180.26250000000024,180.26250000000024,180.26250000000024,180.26250000000024,180.26250000000024,180.26250000000024,180.26250000000024,180.26250000000024,180.26250000000024,180.26250000000024,177.41249999999997],\"type\":\"scatter\",\"xaxis\":\"x\",\"yaxis\":\"y2\"}],                        {\"template\":{\"data\":{\"histogram2dcontour\":[{\"type\":\"histogram2dcontour\",\"colorbar\":{\"outlinewidth\":0,\"ticks\":\"\"},\"colorscale\":[[0.0,\"#0d0887\"],[0.1111111111111111,\"#46039f\"],[0.2222222222222222,\"#7201a8\"],[0.3333333333333333,\"#9c179e\"],[0.4444444444444444,\"#bd3786\"],[0.5555555555555556,\"#d8576b\"],[0.6666666666666666,\"#ed7953\"],[0.7777777777777778,\"#fb9f3a\"],[0.8888888888888888,\"#fdca26\"],[1.0,\"#f0f921\"]]}],\"choropleth\":[{\"type\":\"choropleth\",\"colorbar\":{\"outlinewidth\":0,\"ticks\":\"\"}}],\"histogram2d\":[{\"type\":\"histogram2d\",\"colorbar\":{\"outlinewidth\":0,\"ticks\":\"\"},\"colorscale\":[[0.0,\"#0d0887\"],[0.1111111111111111,\"#46039f\"],[0.2222222222222222,\"#7201a8\"],[0.3333333333333333,\"#9c179e\"],[0.4444444444444444,\"#bd3786\"],[0.5555555555555556,\"#d8576b\"],[0.6666666666666666,\"#ed7953\"],[0.7777777777777778,\"#fb9f3a\"],[0.8888888888888888,\"#fdca26\"],[1.0,\"#f0f921\"]]}],\"heatmap\":[{\"type\":\"heatmap\",\"colorbar\":{\"outlinewidth\":0,\"ticks\":\"\"},\"colorscale\":[[0.0,\"#0d0887\"],[0.1111111111111111,\"#46039f\"],[0.2222222222222222,\"#7201a8\"],[0.3333333333333333,\"#9c179e\"],[0.4444444444444444,\"#bd3786\"],[0.5555555555555556,\"#d8576b\"],[0.6666666666666666,\"#ed7953\"],[0.7777777777777778,\"#fb9f3a\"],[0.8888888888888888,\"#fdca26\"],[1.0,\"#f0f921\"]]}],\"heatmapgl\":[{\"type\":\"heatmapgl\",\"colorbar\":{\"outlinewidth\":0,\"ticks\":\"\"},\"colorscale\":[[0.0,\"#0d0887\"],[0.1111111111111111,\"#46039f\"],[0.2222222222222222,\"#7201a8\"],[0.3333333333333333,\"#9c179e\"],[0.4444444444444444,\"#bd3786\"],[0.5555555555555556,\"#d8576b\"],[0.6666666666666666,\"#ed7953\"],[0.7777777777777778,\"#fb9f3a\"],[0.8888888888888888,\"#fdca26\"],[1.0,\"#f0f921\"]]}],\"contourcarpet\":[{\"type\":\"contourcarpet\",\"colorbar\":{\"outlinewidth\":0,\"ticks\":\"\"}}],\"contour\":[{\"type\":\"contour\",\"colorbar\":{\"outlinewidth\":0,\"ticks\":\"\"},\"colorscale\":[[0.0,\"#0d0887\"],[0.1111111111111111,\"#46039f\"],[0.2222222222222222,\"#7201a8\"],[0.3333333333333333,\"#9c179e\"],[0.4444444444444444,\"#bd3786\"],[0.5555555555555556,\"#d8576b\"],[0.6666666666666666,\"#ed7953\"],[0.7777777777777778,\"#fb9f3a\"],[0.8888888888888888,\"#fdca26\"],[1.0,\"#f0f921\"]]}],\"surface\":[{\"type\":\"surface\",\"colorbar\":{\"outlinewidth\":0,\"ticks\":\"\"},\"colorscale\":[[0.0,\"#0d0887\"],[0.1111111111111111,\"#46039f\"],[0.2222222222222222,\"#7201a8\"],[0.3333333333333333,\"#9c179e\"],[0.4444444444444444,\"#bd3786\"],[0.5555555555555556,\"#d8576b\"],[0.6666666666666666,\"#ed7953\"],[0.7777777777777778,\"#fb9f3a\"],[0.8888888888888888,\"#fdca26\"],[1.0,\"#f0f921\"]]}],\"mesh3d\":[{\"type\":\"mesh3d\",\"colorbar\":{\"outlinewidth\":0,\"ticks\":\"\"}}],\"scatter\":[{\"fillpattern\":{\"fillmode\":\"overlay\",\"size\":10,\"solidity\":0.2},\"type\":\"scatter\"}],\"parcoords\":[{\"type\":\"parcoords\",\"line\":{\"colorbar\":{\"outlinewidth\":0,\"ticks\":\"\"}}}],\"scatterpolargl\":[{\"type\":\"scatterpolargl\",\"marker\":{\"colorbar\":{\"outlinewidth\":0,\"ticks\":\"\"}}}],\"bar\":[{\"error_x\":{\"color\":\"#2a3f5f\"},\"error_y\":{\"color\":\"#2a3f5f\"},\"marker\":{\"line\":{\"color\":\"white\",\"width\":0.5},\"pattern\":{\"fillmode\":\"overlay\",\"size\":10,\"solidity\":0.2}},\"type\":\"bar\"}],\"scattergeo\":[{\"type\":\"scattergeo\",\"marker\":{\"colorbar\":{\"outlinewidth\":0,\"ticks\":\"\"}}}],\"scatterpolar\":[{\"type\":\"scatterpolar\",\"marker\":{\"colorbar\":{\"outlinewidth\":0,\"ticks\":\"\"}}}],\"histogram\":[{\"marker\":{\"pattern\":{\"fillmode\":\"overlay\",\"size\":10,\"solidity\":0.2}},\"type\":\"histogram\"}],\"scattergl\":[{\"type\":\"scattergl\",\"marker\":{\"colorbar\":{\"outlinewidth\":0,\"ticks\":\"\"}}}],\"scatter3d\":[{\"type\":\"scatter3d\",\"line\":{\"colorbar\":{\"outlinewidth\":0,\"ticks\":\"\"}},\"marker\":{\"colorbar\":{\"outlinewidth\":0,\"ticks\":\"\"}}}],\"scattermapbox\":[{\"type\":\"scattermapbox\",\"marker\":{\"colorbar\":{\"outlinewidth\":0,\"ticks\":\"\"}}}],\"scatterternary\":[{\"type\":\"scatterternary\",\"marker\":{\"colorbar\":{\"outlinewidth\":0,\"ticks\":\"\"}}}],\"scattercarpet\":[{\"type\":\"scattercarpet\",\"marker\":{\"colorbar\":{\"outlinewidth\":0,\"ticks\":\"\"}}}],\"carpet\":[{\"aaxis\":{\"endlinecolor\":\"#2a3f5f\",\"gridcolor\":\"#C8D4E3\",\"linecolor\":\"#C8D4E3\",\"minorgridcolor\":\"#C8D4E3\",\"startlinecolor\":\"#2a3f5f\"},\"baxis\":{\"endlinecolor\":\"#2a3f5f\",\"gridcolor\":\"#C8D4E3\",\"linecolor\":\"#C8D4E3\",\"minorgridcolor\":\"#C8D4E3\",\"startlinecolor\":\"#2a3f5f\"},\"type\":\"carpet\"}],\"table\":[{\"cells\":{\"fill\":{\"color\":\"#EBF0F8\"},\"line\":{\"color\":\"white\"}},\"header\":{\"fill\":{\"color\":\"#C8D4E3\"},\"line\":{\"color\":\"white\"}},\"type\":\"table\"}],\"barpolar\":[{\"marker\":{\"line\":{\"color\":\"white\",\"width\":0.5},\"pattern\":{\"fillmode\":\"overlay\",\"size\":10,\"solidity\":0.2}},\"type\":\"barpolar\"}],\"pie\":[{\"automargin\":true,\"type\":\"pie\"}]},\"layout\":{\"autotypenumbers\":\"strict\",\"colorway\":[\"#636efa\",\"#EF553B\",\"#00cc96\",\"#ab63fa\",\"#FFA15A\",\"#19d3f3\",\"#FF6692\",\"#B6E880\",\"#FF97FF\",\"#FECB52\"],\"font\":{\"color\":\"#2a3f5f\"},\"hovermode\":\"closest\",\"hoverlabel\":{\"align\":\"left\"},\"paper_bgcolor\":\"white\",\"plot_bgcolor\":\"white\",\"polar\":{\"bgcolor\":\"white\",\"angularaxis\":{\"gridcolor\":\"#EBF0F8\",\"linecolor\":\"#EBF0F8\",\"ticks\":\"\"},\"radialaxis\":{\"gridcolor\":\"#EBF0F8\",\"linecolor\":\"#EBF0F8\",\"ticks\":\"\"}},\"ternary\":{\"bgcolor\":\"white\",\"aaxis\":{\"gridcolor\":\"#DFE8F3\",\"linecolor\":\"#A2B1C6\",\"ticks\":\"\"},\"baxis\":{\"gridcolor\":\"#DFE8F3\",\"linecolor\":\"#A2B1C6\",\"ticks\":\"\"},\"caxis\":{\"gridcolor\":\"#DFE8F3\",\"linecolor\":\"#A2B1C6\",\"ticks\":\"\"}},\"coloraxis\":{\"colorbar\":{\"outlinewidth\":0,\"ticks\":\"\"}},\"colorscale\":{\"sequential\":[[0.0,\"#0d0887\"],[0.1111111111111111,\"#46039f\"],[0.2222222222222222,\"#7201a8\"],[0.3333333333333333,\"#9c179e\"],[0.4444444444444444,\"#bd3786\"],[0.5555555555555556,\"#d8576b\"],[0.6666666666666666,\"#ed7953\"],[0.7777777777777778,\"#fb9f3a\"],[0.8888888888888888,\"#fdca26\"],[1.0,\"#f0f921\"]],\"sequentialminus\":[[0.0,\"#0d0887\"],[0.1111111111111111,\"#46039f\"],[0.2222222222222222,\"#7201a8\"],[0.3333333333333333,\"#9c179e\"],[0.4444444444444444,\"#bd3786\"],[0.5555555555555556,\"#d8576b\"],[0.6666666666666666,\"#ed7953\"],[0.7777777777777778,\"#fb9f3a\"],[0.8888888888888888,\"#fdca26\"],[1.0,\"#f0f921\"]],\"diverging\":[[0,\"#8e0152\"],[0.1,\"#c51b7d\"],[0.2,\"#de77ae\"],[0.3,\"#f1b6da\"],[0.4,\"#fde0ef\"],[0.5,\"#f7f7f7\"],[0.6,\"#e6f5d0\"],[0.7,\"#b8e186\"],[0.8,\"#7fbc41\"],[0.9,\"#4d9221\"],[1,\"#276419\"]]},\"xaxis\":{\"gridcolor\":\"#EBF0F8\",\"linecolor\":\"#EBF0F8\",\"ticks\":\"\",\"title\":{\"standoff\":15},\"zerolinecolor\":\"#EBF0F8\",\"automargin\":true,\"zerolinewidth\":2},\"yaxis\":{\"gridcolor\":\"#EBF0F8\",\"linecolor\":\"#EBF0F8\",\"ticks\":\"\",\"title\":{\"standoff\":15},\"zerolinecolor\":\"#EBF0F8\",\"automargin\":true,\"zerolinewidth\":2},\"scene\":{\"xaxis\":{\"backgroundcolor\":\"white\",\"gridcolor\":\"#DFE8F3\",\"linecolor\":\"#EBF0F8\",\"showbackground\":true,\"ticks\":\"\",\"zerolinecolor\":\"#EBF0F8\",\"gridwidth\":2},\"yaxis\":{\"backgroundcolor\":\"white\",\"gridcolor\":\"#DFE8F3\",\"linecolor\":\"#EBF0F8\",\"showbackground\":true,\"ticks\":\"\",\"zerolinecolor\":\"#EBF0F8\",\"gridwidth\":2},\"zaxis\":{\"backgroundcolor\":\"white\",\"gridcolor\":\"#DFE8F3\",\"linecolor\":\"#EBF0F8\",\"showbackground\":true,\"ticks\":\"\",\"zerolinecolor\":\"#EBF0F8\",\"gridwidth\":2}},\"shapedefaults\":{\"line\":{\"color\":\"#2a3f5f\"}},\"annotationdefaults\":{\"arrowcolor\":\"#2a3f5f\",\"arrowhead\":0,\"arrowwidth\":1},\"geo\":{\"bgcolor\":\"white\",\"landcolor\":\"white\",\"subunitcolor\":\"#C8D4E3\",\"showland\":true,\"showlakes\":true,\"lakecolor\":\"white\"},\"title\":{\"x\":0.05},\"mapbox\":{\"style\":\"light\"}}},\"xaxis\":{\"anchor\":\"y\",\"domain\":[0.0,0.94],\"title\":{\"font\":{\"size\":15},\"text\":\"Time\"},\"tickfont\":{\"size\":15}},\"yaxis\":{\"anchor\":\"x\",\"domain\":[0.0,1.0],\"title\":{\"font\":{\"size\":15},\"text\":\"Median Sales Price\"},\"tickfont\":{\"size\":15}},\"yaxis2\":{\"anchor\":\"x\",\"overlaying\":\"y\",\"side\":\"right\"},\"title\":{\"font\":{\"size\":20},\"x\":0.5,\"xanchor\":\"center\",\"yanchor\":\"top\",\"text\":\"Median Sales Price for product #679023 over Jan 10 2011 - Dec 2 2013\"},\"autosize\":false,\"width\":1100,\"height\":600,\"legend\":{\"title\":{},\"font\":{\"size\":13},\"orientation\":\"h\",\"yanchor\":\"bottom\",\"y\":0.98,\"xanchor\":\"right\",\"x\":1}},                        {\"responsive\": true}                    ).then(function(){\n",
       "                            \n",
       "var gd = document.getElementById('64d9538b-d6f6-433f-8878-c354574cc539');\n",
       "var x = new MutationObserver(function (mutations, observer) {{\n",
       "        var display = window.getComputedStyle(gd).display;\n",
       "        if (!display || display === 'none') {{\n",
       "            console.log([gd, 'removed!']);\n",
       "            Plotly.purge(gd);\n",
       "            observer.disconnect();\n",
       "        }}\n",
       "}});\n",
       "\n",
       "// Listen for the removal of the full notebook cells\n",
       "var notebookContainer = gd.closest('#notebook-container');\n",
       "if (notebookContainer) {{\n",
       "    x.observe(notebookContainer, {childList: true});\n",
       "}}\n",
       "\n",
       "// Listen for the clearing of the current output cell\n",
       "var outputEl = gd.closest('.output');\n",
       "if (outputEl) {{\n",
       "    x.observe(outputEl, {childList: true});\n",
       "}}\n",
       "\n",
       "                        })                };                });            </script>        </div>"
      ]
     },
     "metadata": {},
     "output_type": "display_data"
    }
   ],
   "source": [
    "from src.utils import plotting_utils\n",
    "#zoom_window = slice(\"2011-01-08\", \"2013-12-03\")\n",
    "fig = plotting_utils.two_line_plot_secondary_axis(x=ts_df.index, #or ts_df[zoom_window].index\n",
    "                                   y1=ts_df[ts_df.columns.values[0]], #or ts_df[ts_df.columns.values[0]][zoom_window]\n",
    "                                   y2=median_preds, #or median_preds[zoom_window]\n",
    "                                   y1_name=\"Median Sales Price, outlier treated data, forecasted after July 29th 2013 inclusive\", \n",
    "                                   y2_name=\"Median Sales Price, outlier treated data\", \n",
    "                                   title=\"Median Sales Price for product #679023 over Jan 10 2011 - Dec 2 2013\", \n",
    "                                   # greyscale=True,\n",
    "                                  dash_secondary=True)\n",
    "fig.update_layout(autosize=False,\n",
    "            width=1100,\n",
    "            height=600,\n",
    "            title={\n",
    "            'x':0.5,\n",
    "            'xanchor': 'center',\n",
    "            'yanchor': 'top'},\n",
    "            titlefont={\n",
    "                \"size\": 20\n",
    "            },\n",
    "            legend=dict(\n",
    "                font=dict(size=13),\n",
    "                orientation=\"h\",\n",
    "                yanchor=\"bottom\",\n",
    "                y=0.98,\n",
    "                xanchor=\"right\",\n",
    "                x=1,\n",
    "            ),\n",
    "            yaxis=dict(\n",
    "                title_text='Median Sales Price',\n",
    "                titlefont=dict(size=15),\n",
    "                tickfont=dict(size=15),\n",
    "            ),\n",
    "            xaxis=dict(\n",
    "                # title_text=xlabel,\n",
    "                titlefont=dict(size=15),\n",
    "                tickfont=dict(size=15),\n",
    "            ))\n",
    "fig.write_image('/Users/harrybakhshi/Desktop/Python_notes/data/PCDA_capstone/ml_test/forecasted_vs_treated_data_679023median_total_price.png')\n",
    "fig.show()\n",
    "\n",
    "#^https://github.com/PacktPublishing/Modern-Time-Series-Forecasting-with-Python/blob/main/notebooks/Chapter03/01-Visualizing%20Time%20Series.ipynb\n",
    "#Accessed 06/06/2024"
   ]
  },
  {
   "cell_type": "markdown",
   "id": "ff0303f4-0d1d-4666-8298-eea2f18775e2",
   "metadata": {},
   "source": [
    " "
   ]
  },
  {
   "cell_type": "markdown",
   "id": "736c47e3-98c1-481b-9b9f-7deda391d58c",
   "metadata": {},
   "source": [
    "# Conclusions:\n",
    "\n",
    "- Decision Tree best model for validation set forecasting by all metrics using  hyperparameter combination (max_depth = 3, min_impurity_decrease = 0.0, min_samples_split = 2)\n",
    "- Best Fit Strategy using either hyperparameter combination performs similarly on test set to Best Model on validation set, but slightly worse   \n",
    "    \n",
    "- Forecasted values (occuring after July 29th 2013 inclusive) of median sales price from product #679023 range from **180.2625 ≥ x ≥ 177.4125**"
   ]
  },
  {
   "cell_type": "code",
   "execution_count": null,
   "id": "173aa0b1-b3ee-4ce2-82a8-31e8ca5320ac",
   "metadata": {},
   "outputs": [],
   "source": []
  }
 ],
 "metadata": {
  "kernelspec": {
   "display_name": "Python 3 (ipykernel)",
   "language": "python",
   "name": "python3"
  },
  "language_info": {
   "codemirror_mode": {
    "name": "ipython",
    "version": 3
   },
   "file_extension": ".py",
   "mimetype": "text/x-python",
   "name": "python",
   "nbconvert_exporter": "python",
   "pygments_lexer": "ipython3",
   "version": "3.11.7"
  }
 },
 "nbformat": 4,
 "nbformat_minor": 5
}
