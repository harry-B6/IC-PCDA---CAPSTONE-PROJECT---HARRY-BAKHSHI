{
 "cells": [
  {
   "cell_type": "markdown",
   "id": "f9d2d086-0466-4b18-8521-7bc70164e473",
   "metadata": {},
   "source": [
    "<div class=\"alert alert-block alert-success\">\n",
    "     \n",
    "# IC PCDA CAPSTONE - HARRY BAKHSHI - NOTEBOOK 8 - FEATURE ENGINEERING\n",
    "     \n",
    "</div>"
   ]
  },
  {
   "cell_type": "markdown",
   "id": "fa58216c-f24f-4621-8949-c1b5d4761b11",
   "metadata": {},
   "source": [
    "MIT License for code used from https://github.com/PacktPublishing/Modern-Time-Series-Forecasting-with-Python in notebook:   \n",
    "https://github.com/PacktPublishing/Modern-Time-Series-Forecasting-with-Python?tab=MIT-1-ov-file     \n",
    "\n",
    "(Accessed 06/06/2024)"
   ]
  },
  {
   "cell_type": "code",
   "execution_count": 227,
   "id": "d8df92b0-61db-4e17-a5be-e992bf9ae9a8",
   "metadata": {},
   "outputs": [],
   "source": [
    "import numpy as np\n",
    "import matplotlib.pyplot as plt\n",
    "import os\n",
    "import plotly.io as pio\n",
    "import plotly.express as px\n",
    "pio.templates.default = \"plotly_white\"\n",
    "import pandas as pd\n",
    "import pickle\n",
    "import statistics\n",
    "from src.utils.general import LogTime #prints Time Elapsed\n",
    "#^see: https://github.com/PacktPublishing/Modern-Time-Series-Forecasting-with-Python/blob/main/src/utils/general.py\n",
    "#Accessed 17/06/2024"
   ]
  },
  {
   "cell_type": "code",
   "execution_count": 228,
   "id": "d6456988-4ea5-4bd1-9223-da2d4920a1bf",
   "metadata": {},
   "outputs": [],
   "source": [
    "#!pip install window-ops"
   ]
  },
  {
   "cell_type": "markdown",
   "id": "5b3149be-6c1d-4d53-b214-6d291f6ae6c3",
   "metadata": {},
   "source": [
    "Load timeseries and seasonal period list:"
   ]
  },
  {
   "cell_type": "code",
   "execution_count": 229,
   "id": "06bd8196-b97a-442a-a835-46d8cc1b6246",
   "metadata": {},
   "outputs": [],
   "source": [
    "#Import timeseries data and seasonal period list:\n",
    "file = '/Users/harrybakhshi/Desktop/Python_notes/data/PCDA_capstone/outlier_treated_ts_df_2.pik'\n",
    "# with open(file, 'wb') as f:\n",
    "#        pickle.dump(ts_df, f) #write df to .pik file on disk\n",
    "with open(file, 'rb') as f:\n",
    "     ts_df = pickle.load(f) #load pickle file 'file' into variable\n",
    "file = '/Users/harrybakhshi/Desktop/Python_notes/data/PCDA_capstone/janatahack_demand_forecasting_data_variable_seasonal_period_list_2.pik'\n",
    "# with open(file, 'wb') as f:\n",
    "#     pickle.dump(seasonal_period_list, f) #write df to .pik file on disk\n",
    "with open(file, 'rb') as f:\n",
    "     seasonal_period_list = pickle.load(f) #load pickle file 'file' into variable"
   ]
  },
  {
   "cell_type": "code",
   "execution_count": 230,
   "id": "b610de71-1745-45b0-9a4c-833d496c33e6",
   "metadata": {},
   "outputs": [
    {
     "data": {
      "text/plain": [
       "19.0"
      ]
     },
     "execution_count": 230,
     "metadata": {},
     "output_type": "execute_result"
    }
   ],
   "source": [
    "152/8"
   ]
  },
  {
   "cell_type": "code",
   "execution_count": 231,
   "id": "ebc94a65-10ab-4b09-8af2-070b7ad791b7",
   "metadata": {},
   "outputs": [
    {
     "data": {
      "text/plain": [
       "14.666666666666666"
      ]
     },
     "execution_count": 231,
     "metadata": {},
     "output_type": "execute_result"
    }
   ],
   "source": [
    "55/3.75"
   ]
  },
  {
   "cell_type": "code",
   "execution_count": 232,
   "id": "ef694ab7-94b9-4147-a3cc-f5af21bdb511",
   "metadata": {},
   "outputs": [
    {
     "data": {
      "text/plain": [
       "1.6777314814814814"
      ]
     },
     "execution_count": 232,
     "metadata": {},
     "output_type": "execute_result"
    }
   ],
   "source": [
    "(5.177*100*56*5)/(60*60*24)"
   ]
  },
  {
   "cell_type": "code",
   "execution_count": null,
   "id": "ac30e4f2-ca1c-4b46-8370-711c79949cbf",
   "metadata": {},
   "outputs": [],
   "source": []
  },
  {
   "cell_type": "code",
   "execution_count": 233,
   "id": "f4ed1773-fcc1-4c8f-84b0-3a625d5004a7",
   "metadata": {},
   "outputs": [
    {
     "name": "stdout",
     "output_type": "stream",
     "text": [
      "# seasonal variables out of 140:  49\n",
      "# not seasonal variables out of 140:  91\n"
     ]
    }
   ],
   "source": [
    "not_seasonal_count = 0\n",
    "seasonal_count = 0\n",
    "for var in range(len(seasonal_period_list)):\n",
    "    if seasonal_period_list[var] == 'not seasonal':\n",
    "        not_seasonal_count += 1\n",
    "    if seasonal_period_list[var] != 'not seasonal':\n",
    "        seasonal_count += 1\n",
    "print('# seasonal variables out of 140: ', seasonal_count)\n",
    "print('# not seasonal variables out of 140: ', not_seasonal_count)"
   ]
  },
  {
   "cell_type": "code",
   "execution_count": 234,
   "id": "f8e0fdb9-6000-4774-ab95-fdc60a58d2f2",
   "metadata": {},
   "outputs": [],
   "source": [
    "# file = '/Users/harrybakhshi/Desktop/Python_notes/data/PCDA_capstone/feature_engineering_added_fourier.pik'\n",
    "# # with open(file, 'wb') as f:\n",
    "# #        pickle.dump(added_fourier, f) #write df to .pik file on disk\n",
    "# with open(file, 'rb') as f:\n",
    "#      added_fourier = pickle.load(f) #load pickle file 'file' into variable\n",
    "# print(added_fourier)"
   ]
  },
  {
   "cell_type": "code",
   "execution_count": 235,
   "id": "9cf08ea8-7206-492a-9109-632d8eef7371",
   "metadata": {},
   "outputs": [
    {
     "name": "stdout",
     "output_type": "stream",
     "text": [
      "['679023median_total_price', '245338median_total_price', '222087median_total_price', '223153median_total_price', '223245median_total_price', '222765median_total_price', '547934median_total_price', '378934median_total_price', '219029median_total_price', '216418median_total_price', '219009median_total_price', '217390median_total_price', '216233median_total_price', '216425median_total_price', '320485median_total_price', '300021median_total_price', '245387median_total_price', '216419median_total_price', '398721median_total_price', '217217median_total_price', '217777median_total_price', '219844median_total_price', '600934median_total_price', '673209median_total_price', '327492median_total_price', '300291median_total_price', '546789median_total_price', '545621median_total_price', '679023median_base_price', '245338median_base_price', '222087median_base_price', '223153median_base_price', '223245median_base_price', '222765median_base_price', '547934median_base_price', '378934median_base_price', '219029median_base_price', '216418median_base_price', '219009median_base_price', '217390median_base_price', '216233median_base_price', '216425median_base_price', '320485median_base_price', '300021median_base_price', '245387median_base_price', '216419median_base_price', '398721median_base_price', '217217median_base_price', '217777median_base_price', '219844median_base_price', '600934median_base_price', '673209median_base_price', '327492median_base_price', '300291median_base_price', '546789median_base_price', '545621median_base_price', '679023median_units_sold', '245338median_units_sold', '222087median_units_sold', '223153median_units_sold', '223245median_units_sold', '222765median_units_sold', '547934median_units_sold', '378934median_units_sold', '219029median_units_sold', '216418median_units_sold', '219009median_units_sold', '217390median_units_sold', '216233median_units_sold', '216425median_units_sold', '320485median_units_sold', '300021median_units_sold', '245387median_units_sold', '216419median_units_sold', '398721median_units_sold', '217217median_units_sold', '217777median_units_sold', '219844median_units_sold', '600934median_units_sold', '673209median_units_sold', '327492median_units_sold', '300291median_units_sold', '546789median_units_sold', '545621median_units_sold', '679023percent_featured', '245338percent_featured', '222087percent_featured', '223153percent_featured', '223245percent_featured', '222765percent_featured', '547934percent_featured', '378934percent_featured', '219029percent_featured', '216418percent_featured', '219009percent_featured', '217390percent_featured', '216233percent_featured', '216425percent_featured', '320485percent_featured', '300021percent_featured', '245387percent_featured', '216419percent_featured', '398721percent_featured', '217217percent_featured', '217777percent_featured', '219844percent_featured', '600934percent_featured', '673209percent_featured', '327492percent_featured', '300291percent_featured', '546789percent_featured', '545621percent_featured', '679023percent_display', '245338percent_display', '222087percent_display', '223153percent_display', '223245percent_display', '222765percent_display', '547934percent_display', '378934percent_display', '219029percent_display', '216418percent_display', '219009percent_display', '217390percent_display', '216233percent_display', '216425percent_display', '320485percent_display', '300021percent_display', '245387percent_display', '216419percent_display', '398721percent_display', '217217percent_display', '217777percent_display', '219844percent_display', '600934percent_display', '673209percent_display', '327492percent_display', '300291percent_display', '546789percent_display', '545621percent_display']\n"
     ]
    }
   ],
   "source": [
    "col_list = list(ts_df.columns.values[:140])\n",
    "print(col_list)"
   ]
  },
  {
   "cell_type": "markdown",
   "id": "eb90fd52-cad7-4d38-8d0c-01b552e19c46",
   "metadata": {},
   "source": [
    "# FEATURE ENGINEERING"
   ]
  },
  {
   "cell_type": "markdown",
   "id": "db2d59dc-f58a-4552-9b88-274a0b571233",
   "metadata": {},
   "source": [
    "- Use Direct/Independent Strategy for multi-step forecasting as straightforward training and forecasting regimes\n",
    "  \n",
    "^Modern Time Series Forecasting with Python (Manu Joseph, 2022)\n",
    "\n",
    "- add interesting moving average and temporal features for data for modelling:"
   ]
  },
  {
   "cell_type": "markdown",
   "id": "4257062e-4265-4b5e-98ce-3b351191c4b8",
   "metadata": {},
   "source": [
    "### Add Rolling Window features (seasonal and not seasonal):"
   ]
  },
  {
   "cell_type": "code",
   "execution_count": 236,
   "id": "fd64e415-b17f-4e71-bdff-6463ef0205d3",
   "metadata": {},
   "outputs": [
    {
     "name": "stdout",
     "output_type": "stream",
     "text": [
      "Time Elapsed: 0 microseconds\n",
      "793\n"
     ]
    }
   ],
   "source": [
    "#Add Rolling Window features:\n",
    "from src.feature_engineering.autoregressive_features import add_rolling_features\n",
    "from src.feature_engineering.autoregressive_features import (\n",
    "    add_seasonal_rolling_features,\n",
    ")\n",
    "added_rolling = []\n",
    "with LogTime():\n",
    "    for var in range(len(col_list)):\n",
    "        if seasonal_period_list[var] == 'not seasonal':           \n",
    "            ts_df, added_features = add_rolling_features(\n",
    "                ts_df,\n",
    "                rolls=[13, 26, 52], #year = 52 timestamps periodicity of interest, sub-windows\n",
    "                #half a year, quarter of a year\n",
    "                column=col_list[var],\n",
    "                agg_funcs=[\"mean\", \"std\"],\n",
    "                ts_id=col_list[var],\n",
    "                use_32_bit=True,\n",
    "                n_shift=19, #max no. of timestamps ahead to forecast using Direct Strategy\n",
    "            )\n",
    "            # print(f\"Features Created: {','.join(added_features)}\")\n",
    "        else:\n",
    "            ts_df, added_features = add_seasonal_rolling_features(\n",
    "                ts_df,\n",
    "                rolls=[3], #seasonality = periodicity of interest, rolling window feature\n",
    "                #aggregation of values at timestamps -1x, -2x, -3x seasonal period\n",
    "                seasonal_periods=[seasonal_period_list[var]],\n",
    "                column=col_list[var],\n",
    "                agg_funcs=[\"mean\", \"std\"],\n",
    "                ts_id=col_list[var],\n",
    "                use_32_bit=True,\n",
    "                n_shift=19,  #max no. of timestamps ahead to forecast using Direct Strategy\n",
    "            )\n",
    "            # print(f\"Features Created: {','.join(added_features)}\")\n",
    "        added_rolling = added_rolling + added_features\n",
    "#^https://github.com/PacktPublishing/Modern-Time-Series-Forecasting-with-Python/blob/main/notebooks/Chapter06/01-Feature%20Engineering.ipynb\n",
    "#Accessed 03/07/2024\n",
    "print(len(list(ts_df.columns.values)))"
   ]
  },
  {
   "cell_type": "markdown",
   "id": "7c2174db-09e6-4fa6-90db-4a5698fd6be3",
   "metadata": {},
   "source": [
    "### Add EWMA features:"
   ]
  },
  {
   "cell_type": "code",
   "execution_count": 237,
   "id": "b16ffb4d-36f5-4895-b6ff-dff4b1f54de6",
   "metadata": {},
   "outputs": [
    {
     "name": "stdout",
     "output_type": "stream",
     "text": [
      "Time Elapsed: 0 microseconds\n",
      "842\n"
     ]
    }
   ],
   "source": [
    "#Add EWMA features:\n",
    "from src.feature_engineering.autoregressive_features import add_ewma\n",
    "added_ewma = []\n",
    "with LogTime():\n",
    "    for var in range(len(col_list)):\n",
    "        if seasonal_period_list[var] == 'not seasonal':           \n",
    "            pass\n",
    "        else:\n",
    "            ts_df, added_features = add_ewma(\n",
    "                ts_df,\n",
    "                spans=[seasonal_period_list[var]],\n",
    "                column=col_list[var],\n",
    "                ts_id=col_list[var],\n",
    "                use_32_bit=True,\n",
    "                n_shift=19,  #max no. of timestamps ahead to forecast using Direct Strategy\n",
    "            )\n",
    "           #print(f\"Features Created: {','.join(added_features)}\")\n",
    "        added_ewma = added_ewma + added_features\n",
    "#^https://github.com/PacktPublishing/Modern-Time-Series-Forecasting-with-Python/blob/main/notebooks/Chapter06/01-Feature%20Engineering.ipynb\n",
    "#Accessed 03/07/2024\n",
    "print(len(list(ts_df.columns.values)))"
   ]
  },
  {
   "cell_type": "markdown",
   "id": "cf0afd89-290d-4ad5-8f94-e72fb727aa68",
   "metadata": {},
   "source": [
    "## Add temporal features and Fourier terms"
   ]
  },
  {
   "cell_type": "code",
   "execution_count": 238,
   "id": "66a9f1aa-ccf0-40c2-9e40-08d1045ec385",
   "metadata": {},
   "outputs": [
    {
     "name": "stderr",
     "output_type": "stream",
     "text": [
      "/tmp/ipykernel_1125/3885793246.py:5: PerformanceWarning:\n",
      "\n",
      "DataFrame is highly fragmented.  This is usually the result of calling `frame.insert` many times, which has poor performance.  Consider joining all columns at once using pd.concat(axis=1) instead. To get a de-fragmented frame, use `newframe = frame.copy()`\n",
      "\n"
     ]
    }
   ],
   "source": [
    "ts_df['timestamp'] = ts_df.index\n",
    "first_column = ts_df.pop('timestamp') \n",
    "# insert column using insert(position,column_name, \n",
    "# first_column) function \n",
    "ts_df.insert(0, 'timestamp', first_column)\n",
    "#^https://www.geeksforgeeks.org/how-to-move-a-column-to-first-position-in-pandas-dataframe/\n",
    "#Accessed 24/06/2024"
   ]
  },
  {
   "cell_type": "markdown",
   "id": "ac7c1352-1d1b-4d55-9149-c5b0d96d4961",
   "metadata": {},
   "source": [
    "### Add temporal features"
   ]
  },
  {
   "cell_type": "code",
   "execution_count": 239,
   "id": "86188380-7dd8-4868-98ef-c902cb6d4d8c",
   "metadata": {
    "scrolled": true
   },
   "outputs": [
    {
     "name": "stdout",
     "output_type": "stream",
     "text": [
      "Time Elapsed: 0 microseconds\n",
      "Features Created: timestamp_Month,timestamp_Quarter,timestamp_Is_quarter_end,timestamp_Is_quarter_start,timestamp_Is_year_end,timestamp_Is_year_start,timestamp_Is_month_start,timestamp_Week,timestamp_Elapsed\n",
      "852\n"
     ]
    },
    {
     "name": "stderr",
     "output_type": "stream",
     "text": [
      "/Users/harrybakhshi/Desktop/Python_notes/Modern-Time-Series-Forecasting-with-Python-main/src/feature_engineering/temporal_features.py:176: PerformanceWarning:\n",
      "\n",
      "DataFrame is highly fragmented.  This is usually the result of calling `frame.insert` many times, which has poor performance.  Consider joining all columns at once using pd.concat(axis=1) instead. To get a de-fragmented frame, use `newframe = frame.copy()`\n",
      "\n",
      "/Users/harrybakhshi/Desktop/Python_notes/Modern-Time-Series-Forecasting-with-Python-main/src/feature_engineering/temporal_features.py:176: PerformanceWarning:\n",
      "\n",
      "DataFrame is highly fragmented.  This is usually the result of calling `frame.insert` many times, which has poor performance.  Consider joining all columns at once using pd.concat(axis=1) instead. To get a de-fragmented frame, use `newframe = frame.copy()`\n",
      "\n",
      "/Users/harrybakhshi/Desktop/Python_notes/Modern-Time-Series-Forecasting-with-Python-main/src/feature_engineering/temporal_features.py:176: PerformanceWarning:\n",
      "\n",
      "DataFrame is highly fragmented.  This is usually the result of calling `frame.insert` many times, which has poor performance.  Consider joining all columns at once using pd.concat(axis=1) instead. To get a de-fragmented frame, use `newframe = frame.copy()`\n",
      "\n",
      "/Users/harrybakhshi/Desktop/Python_notes/Modern-Time-Series-Forecasting-with-Python-main/src/feature_engineering/temporal_features.py:176: PerformanceWarning:\n",
      "\n",
      "DataFrame is highly fragmented.  This is usually the result of calling `frame.insert` many times, which has poor performance.  Consider joining all columns at once using pd.concat(axis=1) instead. To get a de-fragmented frame, use `newframe = frame.copy()`\n",
      "\n",
      "/Users/harrybakhshi/Desktop/Python_notes/Modern-Time-Series-Forecasting-with-Python-main/src/feature_engineering/temporal_features.py:176: PerformanceWarning:\n",
      "\n",
      "DataFrame is highly fragmented.  This is usually the result of calling `frame.insert` many times, which has poor performance.  Consider joining all columns at once using pd.concat(axis=1) instead. To get a de-fragmented frame, use `newframe = frame.copy()`\n",
      "\n",
      "/Users/harrybakhshi/Desktop/Python_notes/Modern-Time-Series-Forecasting-with-Python-main/src/feature_engineering/temporal_features.py:176: PerformanceWarning:\n",
      "\n",
      "DataFrame is highly fragmented.  This is usually the result of calling `frame.insert` many times, which has poor performance.  Consider joining all columns at once using pd.concat(axis=1) instead. To get a de-fragmented frame, use `newframe = frame.copy()`\n",
      "\n",
      "/Users/harrybakhshi/Desktop/Python_notes/Modern-Time-Series-Forecasting-with-Python-main/src/feature_engineering/temporal_features.py:176: PerformanceWarning:\n",
      "\n",
      "DataFrame is highly fragmented.  This is usually the result of calling `frame.insert` many times, which has poor performance.  Consider joining all columns at once using pd.concat(axis=1) instead. To get a de-fragmented frame, use `newframe = frame.copy()`\n",
      "\n",
      "/Users/harrybakhshi/Desktop/Python_notes/Modern-Time-Series-Forecasting-with-Python-main/src/feature_engineering/temporal_features.py:190: PerformanceWarning:\n",
      "\n",
      "DataFrame is highly fragmented.  This is usually the result of calling `frame.insert` many times, which has poor performance.  Consider joining all columns at once using pd.concat(axis=1) instead. To get a de-fragmented frame, use `newframe = frame.copy()`\n",
      "\n",
      "/Users/harrybakhshi/Desktop/Python_notes/Modern-Time-Series-Forecasting-with-Python-main/src/feature_engineering/temporal_features.py:197: PerformanceWarning:\n",
      "\n",
      "DataFrame is highly fragmented.  This is usually the result of calling `frame.insert` many times, which has poor performance.  Consider joining all columns at once using pd.concat(axis=1) instead. To get a de-fragmented frame, use `newframe = frame.copy()`\n",
      "\n",
      "/Users/harrybakhshi/Desktop/Python_notes/Modern-Time-Series-Forecasting-with-Python-main/src/feature_engineering/temporal_features.py:204: PerformanceWarning:\n",
      "\n",
      "DataFrame is highly fragmented.  This is usually the result of calling `frame.insert` many times, which has poor performance.  Consider joining all columns at once using pd.concat(axis=1) instead. To get a de-fragmented frame, use `newframe = frame.copy()`\n",
      "\n"
     ]
    }
   ],
   "source": [
    "#Add temporal features\n",
    "from src.feature_engineering.temporal_features import add_temporal_features\n",
    "with LogTime():\n",
    "    ts_df, added_features = add_temporal_features(\n",
    "        ts_df,\n",
    "        field_name=\"timestamp\",\n",
    "        frequency='W-MON',\n",
    "        add_elapsed=True,\n",
    "        drop=False,\n",
    "        use_32_bit=True,\n",
    "    )\n",
    "print(f\"Features Created: {','.join(added_features)}\")\n",
    "added_temporal = added_features\n",
    "#^https://github.com/PacktPublishing/Modern-Time-Series-Forecasting-with-Python/blob/main/notebooks/Chapter06/01-Feature%20Engineering.ipynb\n",
    "#Accessed 03/07/2024\n",
    "print(len(list(ts_df.columns.values)))"
   ]
  },
  {
   "cell_type": "code",
   "execution_count": 240,
   "id": "4f56b4f8-0420-445d-a61e-06ac1ba50cd6",
   "metadata": {},
   "outputs": [],
   "source": [
    "temporal_features = list(added_features)"
   ]
  },
  {
   "cell_type": "code",
   "execution_count": 241,
   "id": "3bfcac5d-f94e-41b3-9e40-41e21a225309",
   "metadata": {},
   "outputs": [
    {
     "name": "stdout",
     "output_type": "stream",
     "text": [
      "['timestamp_Month', 'timestamp_Quarter', 'timestamp_Is_quarter_end', 'timestamp_Is_quarter_start', 'timestamp_Is_year_end', 'timestamp_Is_year_start', 'timestamp_Is_month_start', 'timestamp_Week', 'timestamp_Elapsed']\n"
     ]
    }
   ],
   "source": [
    "print(temporal_features)"
   ]
  },
  {
   "cell_type": "markdown",
   "id": "94a95e9b-3296-456d-8723-411f76119d70",
   "metadata": {},
   "source": [
    "### Add Fourier terms:"
   ]
  },
  {
   "cell_type": "code",
   "execution_count": 242,
   "id": "ef52394e-8268-4df5-8116-ee90ca7802a3",
   "metadata": {},
   "outputs": [
    {
     "name": "stdout",
     "output_type": "stream",
     "text": [
      "Time Elapsed: 0 microseconds\n",
      "912\n"
     ]
    },
    {
     "name": "stderr",
     "output_type": "stream",
     "text": [
      "/Users/harrybakhshi/Desktop/Python_notes/Modern-Time-Series-Forecasting-with-Python-main/src/feature_engineering/temporal_features.py:272: PerformanceWarning:\n",
      "\n",
      "DataFrame is highly fragmented.  This is usually the result of calling `frame.insert` many times, which has poor performance.  Consider joining all columns at once using pd.concat(axis=1) instead. To get a de-fragmented frame, use `newframe = frame.copy()`\n",
      "\n",
      "/Users/harrybakhshi/Desktop/Python_notes/Modern-Time-Series-Forecasting-with-Python-main/src/feature_engineering/temporal_features.py:272: PerformanceWarning:\n",
      "\n",
      "DataFrame is highly fragmented.  This is usually the result of calling `frame.insert` many times, which has poor performance.  Consider joining all columns at once using pd.concat(axis=1) instead. To get a de-fragmented frame, use `newframe = frame.copy()`\n",
      "\n",
      "/Users/harrybakhshi/Desktop/Python_notes/Modern-Time-Series-Forecasting-with-Python-main/src/feature_engineering/temporal_features.py:272: PerformanceWarning:\n",
      "\n",
      "DataFrame is highly fragmented.  This is usually the result of calling `frame.insert` many times, which has poor performance.  Consider joining all columns at once using pd.concat(axis=1) instead. To get a de-fragmented frame, use `newframe = frame.copy()`\n",
      "\n",
      "/Users/harrybakhshi/Desktop/Python_notes/Modern-Time-Series-Forecasting-with-Python-main/src/feature_engineering/temporal_features.py:272: PerformanceWarning:\n",
      "\n",
      "DataFrame is highly fragmented.  This is usually the result of calling `frame.insert` many times, which has poor performance.  Consider joining all columns at once using pd.concat(axis=1) instead. To get a de-fragmented frame, use `newframe = frame.copy()`\n",
      "\n",
      "/Users/harrybakhshi/Desktop/Python_notes/Modern-Time-Series-Forecasting-with-Python-main/src/feature_engineering/temporal_features.py:272: PerformanceWarning:\n",
      "\n",
      "DataFrame is highly fragmented.  This is usually the result of calling `frame.insert` many times, which has poor performance.  Consider joining all columns at once using pd.concat(axis=1) instead. To get a de-fragmented frame, use `newframe = frame.copy()`\n",
      "\n",
      "/Users/harrybakhshi/Desktop/Python_notes/Modern-Time-Series-Forecasting-with-Python-main/src/feature_engineering/temporal_features.py:272: PerformanceWarning:\n",
      "\n",
      "DataFrame is highly fragmented.  This is usually the result of calling `frame.insert` many times, which has poor performance.  Consider joining all columns at once using pd.concat(axis=1) instead. To get a de-fragmented frame, use `newframe = frame.copy()`\n",
      "\n",
      "/Users/harrybakhshi/Desktop/Python_notes/Modern-Time-Series-Forecasting-with-Python-main/src/feature_engineering/temporal_features.py:272: PerformanceWarning:\n",
      "\n",
      "DataFrame is highly fragmented.  This is usually the result of calling `frame.insert` many times, which has poor performance.  Consider joining all columns at once using pd.concat(axis=1) instead. To get a de-fragmented frame, use `newframe = frame.copy()`\n",
      "\n",
      "/Users/harrybakhshi/Desktop/Python_notes/Modern-Time-Series-Forecasting-with-Python-main/src/feature_engineering/temporal_features.py:272: PerformanceWarning:\n",
      "\n",
      "DataFrame is highly fragmented.  This is usually the result of calling `frame.insert` many times, which has poor performance.  Consider joining all columns at once using pd.concat(axis=1) instead. To get a de-fragmented frame, use `newframe = frame.copy()`\n",
      "\n",
      "/Users/harrybakhshi/Desktop/Python_notes/Modern-Time-Series-Forecasting-with-Python-main/src/feature_engineering/temporal_features.py:272: PerformanceWarning:\n",
      "\n",
      "DataFrame is highly fragmented.  This is usually the result of calling `frame.insert` many times, which has poor performance.  Consider joining all columns at once using pd.concat(axis=1) instead. To get a de-fragmented frame, use `newframe = frame.copy()`\n",
      "\n",
      "/Users/harrybakhshi/Desktop/Python_notes/Modern-Time-Series-Forecasting-with-Python-main/src/feature_engineering/temporal_features.py:272: PerformanceWarning:\n",
      "\n",
      "DataFrame is highly fragmented.  This is usually the result of calling `frame.insert` many times, which has poor performance.  Consider joining all columns at once using pd.concat(axis=1) instead. To get a de-fragmented frame, use `newframe = frame.copy()`\n",
      "\n",
      "/Users/harrybakhshi/Desktop/Python_notes/Modern-Time-Series-Forecasting-with-Python-main/src/feature_engineering/temporal_features.py:272: PerformanceWarning:\n",
      "\n",
      "DataFrame is highly fragmented.  This is usually the result of calling `frame.insert` many times, which has poor performance.  Consider joining all columns at once using pd.concat(axis=1) instead. To get a de-fragmented frame, use `newframe = frame.copy()`\n",
      "\n",
      "/Users/harrybakhshi/Desktop/Python_notes/Modern-Time-Series-Forecasting-with-Python-main/src/feature_engineering/temporal_features.py:272: PerformanceWarning:\n",
      "\n",
      "DataFrame is highly fragmented.  This is usually the result of calling `frame.insert` many times, which has poor performance.  Consider joining all columns at once using pd.concat(axis=1) instead. To get a de-fragmented frame, use `newframe = frame.copy()`\n",
      "\n",
      "/Users/harrybakhshi/Desktop/Python_notes/Modern-Time-Series-Forecasting-with-Python-main/src/feature_engineering/temporal_features.py:272: PerformanceWarning:\n",
      "\n",
      "DataFrame is highly fragmented.  This is usually the result of calling `frame.insert` many times, which has poor performance.  Consider joining all columns at once using pd.concat(axis=1) instead. To get a de-fragmented frame, use `newframe = frame.copy()`\n",
      "\n",
      "/Users/harrybakhshi/Desktop/Python_notes/Modern-Time-Series-Forecasting-with-Python-main/src/feature_engineering/temporal_features.py:272: PerformanceWarning:\n",
      "\n",
      "DataFrame is highly fragmented.  This is usually the result of calling `frame.insert` many times, which has poor performance.  Consider joining all columns at once using pd.concat(axis=1) instead. To get a de-fragmented frame, use `newframe = frame.copy()`\n",
      "\n",
      "/Users/harrybakhshi/Desktop/Python_notes/Modern-Time-Series-Forecasting-with-Python-main/src/feature_engineering/temporal_features.py:272: PerformanceWarning:\n",
      "\n",
      "DataFrame is highly fragmented.  This is usually the result of calling `frame.insert` many times, which has poor performance.  Consider joining all columns at once using pd.concat(axis=1) instead. To get a de-fragmented frame, use `newframe = frame.copy()`\n",
      "\n",
      "/Users/harrybakhshi/Desktop/Python_notes/Modern-Time-Series-Forecasting-with-Python-main/src/feature_engineering/temporal_features.py:272: PerformanceWarning:\n",
      "\n",
      "DataFrame is highly fragmented.  This is usually the result of calling `frame.insert` many times, which has poor performance.  Consider joining all columns at once using pd.concat(axis=1) instead. To get a de-fragmented frame, use `newframe = frame.copy()`\n",
      "\n",
      "/Users/harrybakhshi/Desktop/Python_notes/Modern-Time-Series-Forecasting-with-Python-main/src/feature_engineering/temporal_features.py:272: PerformanceWarning:\n",
      "\n",
      "DataFrame is highly fragmented.  This is usually the result of calling `frame.insert` many times, which has poor performance.  Consider joining all columns at once using pd.concat(axis=1) instead. To get a de-fragmented frame, use `newframe = frame.copy()`\n",
      "\n",
      "/Users/harrybakhshi/Desktop/Python_notes/Modern-Time-Series-Forecasting-with-Python-main/src/feature_engineering/temporal_features.py:272: PerformanceWarning:\n",
      "\n",
      "DataFrame is highly fragmented.  This is usually the result of calling `frame.insert` many times, which has poor performance.  Consider joining all columns at once using pd.concat(axis=1) instead. To get a de-fragmented frame, use `newframe = frame.copy()`\n",
      "\n",
      "/Users/harrybakhshi/Desktop/Python_notes/Modern-Time-Series-Forecasting-with-Python-main/src/feature_engineering/temporal_features.py:272: PerformanceWarning:\n",
      "\n",
      "DataFrame is highly fragmented.  This is usually the result of calling `frame.insert` many times, which has poor performance.  Consider joining all columns at once using pd.concat(axis=1) instead. To get a de-fragmented frame, use `newframe = frame.copy()`\n",
      "\n",
      "/Users/harrybakhshi/Desktop/Python_notes/Modern-Time-Series-Forecasting-with-Python-main/src/feature_engineering/temporal_features.py:272: PerformanceWarning:\n",
      "\n",
      "DataFrame is highly fragmented.  This is usually the result of calling `frame.insert` many times, which has poor performance.  Consider joining all columns at once using pd.concat(axis=1) instead. To get a de-fragmented frame, use `newframe = frame.copy()`\n",
      "\n",
      "/Users/harrybakhshi/Desktop/Python_notes/Modern-Time-Series-Forecasting-with-Python-main/src/feature_engineering/temporal_features.py:272: PerformanceWarning:\n",
      "\n",
      "DataFrame is highly fragmented.  This is usually the result of calling `frame.insert` many times, which has poor performance.  Consider joining all columns at once using pd.concat(axis=1) instead. To get a de-fragmented frame, use `newframe = frame.copy()`\n",
      "\n",
      "/Users/harrybakhshi/Desktop/Python_notes/Modern-Time-Series-Forecasting-with-Python-main/src/feature_engineering/temporal_features.py:272: PerformanceWarning:\n",
      "\n",
      "DataFrame is highly fragmented.  This is usually the result of calling `frame.insert` many times, which has poor performance.  Consider joining all columns at once using pd.concat(axis=1) instead. To get a de-fragmented frame, use `newframe = frame.copy()`\n",
      "\n",
      "/Users/harrybakhshi/Desktop/Python_notes/Modern-Time-Series-Forecasting-with-Python-main/src/feature_engineering/temporal_features.py:272: PerformanceWarning:\n",
      "\n",
      "DataFrame is highly fragmented.  This is usually the result of calling `frame.insert` many times, which has poor performance.  Consider joining all columns at once using pd.concat(axis=1) instead. To get a de-fragmented frame, use `newframe = frame.copy()`\n",
      "\n",
      "/Users/harrybakhshi/Desktop/Python_notes/Modern-Time-Series-Forecasting-with-Python-main/src/feature_engineering/temporal_features.py:272: PerformanceWarning:\n",
      "\n",
      "DataFrame is highly fragmented.  This is usually the result of calling `frame.insert` many times, which has poor performance.  Consider joining all columns at once using pd.concat(axis=1) instead. To get a de-fragmented frame, use `newframe = frame.copy()`\n",
      "\n",
      "/Users/harrybakhshi/Desktop/Python_notes/Modern-Time-Series-Forecasting-with-Python-main/src/feature_engineering/temporal_features.py:272: PerformanceWarning:\n",
      "\n",
      "DataFrame is highly fragmented.  This is usually the result of calling `frame.insert` many times, which has poor performance.  Consider joining all columns at once using pd.concat(axis=1) instead. To get a de-fragmented frame, use `newframe = frame.copy()`\n",
      "\n",
      "/Users/harrybakhshi/Desktop/Python_notes/Modern-Time-Series-Forecasting-with-Python-main/src/feature_engineering/temporal_features.py:272: PerformanceWarning:\n",
      "\n",
      "DataFrame is highly fragmented.  This is usually the result of calling `frame.insert` many times, which has poor performance.  Consider joining all columns at once using pd.concat(axis=1) instead. To get a de-fragmented frame, use `newframe = frame.copy()`\n",
      "\n",
      "/Users/harrybakhshi/Desktop/Python_notes/Modern-Time-Series-Forecasting-with-Python-main/src/feature_engineering/temporal_features.py:272: PerformanceWarning:\n",
      "\n",
      "DataFrame is highly fragmented.  This is usually the result of calling `frame.insert` many times, which has poor performance.  Consider joining all columns at once using pd.concat(axis=1) instead. To get a de-fragmented frame, use `newframe = frame.copy()`\n",
      "\n",
      "/Users/harrybakhshi/Desktop/Python_notes/Modern-Time-Series-Forecasting-with-Python-main/src/feature_engineering/temporal_features.py:272: PerformanceWarning:\n",
      "\n",
      "DataFrame is highly fragmented.  This is usually the result of calling `frame.insert` many times, which has poor performance.  Consider joining all columns at once using pd.concat(axis=1) instead. To get a de-fragmented frame, use `newframe = frame.copy()`\n",
      "\n",
      "/Users/harrybakhshi/Desktop/Python_notes/Modern-Time-Series-Forecasting-with-Python-main/src/feature_engineering/temporal_features.py:272: PerformanceWarning:\n",
      "\n",
      "DataFrame is highly fragmented.  This is usually the result of calling `frame.insert` many times, which has poor performance.  Consider joining all columns at once using pd.concat(axis=1) instead. To get a de-fragmented frame, use `newframe = frame.copy()`\n",
      "\n",
      "/Users/harrybakhshi/Desktop/Python_notes/Modern-Time-Series-Forecasting-with-Python-main/src/feature_engineering/temporal_features.py:272: PerformanceWarning:\n",
      "\n",
      "DataFrame is highly fragmented.  This is usually the result of calling `frame.insert` many times, which has poor performance.  Consider joining all columns at once using pd.concat(axis=1) instead. To get a de-fragmented frame, use `newframe = frame.copy()`\n",
      "\n",
      "/Users/harrybakhshi/Desktop/Python_notes/Modern-Time-Series-Forecasting-with-Python-main/src/feature_engineering/temporal_features.py:272: PerformanceWarning:\n",
      "\n",
      "DataFrame is highly fragmented.  This is usually the result of calling `frame.insert` many times, which has poor performance.  Consider joining all columns at once using pd.concat(axis=1) instead. To get a de-fragmented frame, use `newframe = frame.copy()`\n",
      "\n",
      "/Users/harrybakhshi/Desktop/Python_notes/Modern-Time-Series-Forecasting-with-Python-main/src/feature_engineering/temporal_features.py:272: PerformanceWarning:\n",
      "\n",
      "DataFrame is highly fragmented.  This is usually the result of calling `frame.insert` many times, which has poor performance.  Consider joining all columns at once using pd.concat(axis=1) instead. To get a de-fragmented frame, use `newframe = frame.copy()`\n",
      "\n",
      "/Users/harrybakhshi/Desktop/Python_notes/Modern-Time-Series-Forecasting-with-Python-main/src/feature_engineering/temporal_features.py:272: PerformanceWarning:\n",
      "\n",
      "DataFrame is highly fragmented.  This is usually the result of calling `frame.insert` many times, which has poor performance.  Consider joining all columns at once using pd.concat(axis=1) instead. To get a de-fragmented frame, use `newframe = frame.copy()`\n",
      "\n",
      "/Users/harrybakhshi/Desktop/Python_notes/Modern-Time-Series-Forecasting-with-Python-main/src/feature_engineering/temporal_features.py:272: PerformanceWarning:\n",
      "\n",
      "DataFrame is highly fragmented.  This is usually the result of calling `frame.insert` many times, which has poor performance.  Consider joining all columns at once using pd.concat(axis=1) instead. To get a de-fragmented frame, use `newframe = frame.copy()`\n",
      "\n",
      "/Users/harrybakhshi/Desktop/Python_notes/Modern-Time-Series-Forecasting-with-Python-main/src/feature_engineering/temporal_features.py:272: PerformanceWarning:\n",
      "\n",
      "DataFrame is highly fragmented.  This is usually the result of calling `frame.insert` many times, which has poor performance.  Consider joining all columns at once using pd.concat(axis=1) instead. To get a de-fragmented frame, use `newframe = frame.copy()`\n",
      "\n",
      "/Users/harrybakhshi/Desktop/Python_notes/Modern-Time-Series-Forecasting-with-Python-main/src/feature_engineering/temporal_features.py:272: PerformanceWarning:\n",
      "\n",
      "DataFrame is highly fragmented.  This is usually the result of calling `frame.insert` many times, which has poor performance.  Consider joining all columns at once using pd.concat(axis=1) instead. To get a de-fragmented frame, use `newframe = frame.copy()`\n",
      "\n",
      "/Users/harrybakhshi/Desktop/Python_notes/Modern-Time-Series-Forecasting-with-Python-main/src/feature_engineering/temporal_features.py:272: PerformanceWarning:\n",
      "\n",
      "DataFrame is highly fragmented.  This is usually the result of calling `frame.insert` many times, which has poor performance.  Consider joining all columns at once using pd.concat(axis=1) instead. To get a de-fragmented frame, use `newframe = frame.copy()`\n",
      "\n",
      "/Users/harrybakhshi/Desktop/Python_notes/Modern-Time-Series-Forecasting-with-Python-main/src/feature_engineering/temporal_features.py:272: PerformanceWarning:\n",
      "\n",
      "DataFrame is highly fragmented.  This is usually the result of calling `frame.insert` many times, which has poor performance.  Consider joining all columns at once using pd.concat(axis=1) instead. To get a de-fragmented frame, use `newframe = frame.copy()`\n",
      "\n",
      "/Users/harrybakhshi/Desktop/Python_notes/Modern-Time-Series-Forecasting-with-Python-main/src/feature_engineering/temporal_features.py:272: PerformanceWarning:\n",
      "\n",
      "DataFrame is highly fragmented.  This is usually the result of calling `frame.insert` many times, which has poor performance.  Consider joining all columns at once using pd.concat(axis=1) instead. To get a de-fragmented frame, use `newframe = frame.copy()`\n",
      "\n",
      "/Users/harrybakhshi/Desktop/Python_notes/Modern-Time-Series-Forecasting-with-Python-main/src/feature_engineering/temporal_features.py:272: PerformanceWarning:\n",
      "\n",
      "DataFrame is highly fragmented.  This is usually the result of calling `frame.insert` many times, which has poor performance.  Consider joining all columns at once using pd.concat(axis=1) instead. To get a de-fragmented frame, use `newframe = frame.copy()`\n",
      "\n",
      "/Users/harrybakhshi/Desktop/Python_notes/Modern-Time-Series-Forecasting-with-Python-main/src/feature_engineering/temporal_features.py:272: PerformanceWarning:\n",
      "\n",
      "DataFrame is highly fragmented.  This is usually the result of calling `frame.insert` many times, which has poor performance.  Consider joining all columns at once using pd.concat(axis=1) instead. To get a de-fragmented frame, use `newframe = frame.copy()`\n",
      "\n",
      "/Users/harrybakhshi/Desktop/Python_notes/Modern-Time-Series-Forecasting-with-Python-main/src/feature_engineering/temporal_features.py:272: PerformanceWarning:\n",
      "\n",
      "DataFrame is highly fragmented.  This is usually the result of calling `frame.insert` many times, which has poor performance.  Consider joining all columns at once using pd.concat(axis=1) instead. To get a de-fragmented frame, use `newframe = frame.copy()`\n",
      "\n",
      "/Users/harrybakhshi/Desktop/Python_notes/Modern-Time-Series-Forecasting-with-Python-main/src/feature_engineering/temporal_features.py:272: PerformanceWarning:\n",
      "\n",
      "DataFrame is highly fragmented.  This is usually the result of calling `frame.insert` many times, which has poor performance.  Consider joining all columns at once using pd.concat(axis=1) instead. To get a de-fragmented frame, use `newframe = frame.copy()`\n",
      "\n",
      "/Users/harrybakhshi/Desktop/Python_notes/Modern-Time-Series-Forecasting-with-Python-main/src/feature_engineering/temporal_features.py:272: PerformanceWarning:\n",
      "\n",
      "DataFrame is highly fragmented.  This is usually the result of calling `frame.insert` many times, which has poor performance.  Consider joining all columns at once using pd.concat(axis=1) instead. To get a de-fragmented frame, use `newframe = frame.copy()`\n",
      "\n",
      "/Users/harrybakhshi/Desktop/Python_notes/Modern-Time-Series-Forecasting-with-Python-main/src/feature_engineering/temporal_features.py:272: PerformanceWarning:\n",
      "\n",
      "DataFrame is highly fragmented.  This is usually the result of calling `frame.insert` many times, which has poor performance.  Consider joining all columns at once using pd.concat(axis=1) instead. To get a de-fragmented frame, use `newframe = frame.copy()`\n",
      "\n",
      "/Users/harrybakhshi/Desktop/Python_notes/Modern-Time-Series-Forecasting-with-Python-main/src/feature_engineering/temporal_features.py:272: PerformanceWarning:\n",
      "\n",
      "DataFrame is highly fragmented.  This is usually the result of calling `frame.insert` many times, which has poor performance.  Consider joining all columns at once using pd.concat(axis=1) instead. To get a de-fragmented frame, use `newframe = frame.copy()`\n",
      "\n",
      "/Users/harrybakhshi/Desktop/Python_notes/Modern-Time-Series-Forecasting-with-Python-main/src/feature_engineering/temporal_features.py:272: PerformanceWarning:\n",
      "\n",
      "DataFrame is highly fragmented.  This is usually the result of calling `frame.insert` many times, which has poor performance.  Consider joining all columns at once using pd.concat(axis=1) instead. To get a de-fragmented frame, use `newframe = frame.copy()`\n",
      "\n",
      "/Users/harrybakhshi/Desktop/Python_notes/Modern-Time-Series-Forecasting-with-Python-main/src/feature_engineering/temporal_features.py:272: PerformanceWarning:\n",
      "\n",
      "DataFrame is highly fragmented.  This is usually the result of calling `frame.insert` many times, which has poor performance.  Consider joining all columns at once using pd.concat(axis=1) instead. To get a de-fragmented frame, use `newframe = frame.copy()`\n",
      "\n",
      "/Users/harrybakhshi/Desktop/Python_notes/Modern-Time-Series-Forecasting-with-Python-main/src/feature_engineering/temporal_features.py:272: PerformanceWarning:\n",
      "\n",
      "DataFrame is highly fragmented.  This is usually the result of calling `frame.insert` many times, which has poor performance.  Consider joining all columns at once using pd.concat(axis=1) instead. To get a de-fragmented frame, use `newframe = frame.copy()`\n",
      "\n",
      "/Users/harrybakhshi/Desktop/Python_notes/Modern-Time-Series-Forecasting-with-Python-main/src/feature_engineering/temporal_features.py:272: PerformanceWarning:\n",
      "\n",
      "DataFrame is highly fragmented.  This is usually the result of calling `frame.insert` many times, which has poor performance.  Consider joining all columns at once using pd.concat(axis=1) instead. To get a de-fragmented frame, use `newframe = frame.copy()`\n",
      "\n",
      "/Users/harrybakhshi/Desktop/Python_notes/Modern-Time-Series-Forecasting-with-Python-main/src/feature_engineering/temporal_features.py:272: PerformanceWarning:\n",
      "\n",
      "DataFrame is highly fragmented.  This is usually the result of calling `frame.insert` many times, which has poor performance.  Consider joining all columns at once using pd.concat(axis=1) instead. To get a de-fragmented frame, use `newframe = frame.copy()`\n",
      "\n",
      "/Users/harrybakhshi/Desktop/Python_notes/Modern-Time-Series-Forecasting-with-Python-main/src/feature_engineering/temporal_features.py:272: PerformanceWarning:\n",
      "\n",
      "DataFrame is highly fragmented.  This is usually the result of calling `frame.insert` many times, which has poor performance.  Consider joining all columns at once using pd.concat(axis=1) instead. To get a de-fragmented frame, use `newframe = frame.copy()`\n",
      "\n",
      "/Users/harrybakhshi/Desktop/Python_notes/Modern-Time-Series-Forecasting-with-Python-main/src/feature_engineering/temporal_features.py:272: PerformanceWarning:\n",
      "\n",
      "DataFrame is highly fragmented.  This is usually the result of calling `frame.insert` many times, which has poor performance.  Consider joining all columns at once using pd.concat(axis=1) instead. To get a de-fragmented frame, use `newframe = frame.copy()`\n",
      "\n",
      "/Users/harrybakhshi/Desktop/Python_notes/Modern-Time-Series-Forecasting-with-Python-main/src/feature_engineering/temporal_features.py:272: PerformanceWarning:\n",
      "\n",
      "DataFrame is highly fragmented.  This is usually the result of calling `frame.insert` many times, which has poor performance.  Consider joining all columns at once using pd.concat(axis=1) instead. To get a de-fragmented frame, use `newframe = frame.copy()`\n",
      "\n",
      "/Users/harrybakhshi/Desktop/Python_notes/Modern-Time-Series-Forecasting-with-Python-main/src/feature_engineering/temporal_features.py:272: PerformanceWarning:\n",
      "\n",
      "DataFrame is highly fragmented.  This is usually the result of calling `frame.insert` many times, which has poor performance.  Consider joining all columns at once using pd.concat(axis=1) instead. To get a de-fragmented frame, use `newframe = frame.copy()`\n",
      "\n",
      "/Users/harrybakhshi/Desktop/Python_notes/Modern-Time-Series-Forecasting-with-Python-main/src/feature_engineering/temporal_features.py:272: PerformanceWarning:\n",
      "\n",
      "DataFrame is highly fragmented.  This is usually the result of calling `frame.insert` many times, which has poor performance.  Consider joining all columns at once using pd.concat(axis=1) instead. To get a de-fragmented frame, use `newframe = frame.copy()`\n",
      "\n",
      "/Users/harrybakhshi/Desktop/Python_notes/Modern-Time-Series-Forecasting-with-Python-main/src/feature_engineering/temporal_features.py:272: PerformanceWarning:\n",
      "\n",
      "DataFrame is highly fragmented.  This is usually the result of calling `frame.insert` many times, which has poor performance.  Consider joining all columns at once using pd.concat(axis=1) instead. To get a de-fragmented frame, use `newframe = frame.copy()`\n",
      "\n",
      "/Users/harrybakhshi/Desktop/Python_notes/Modern-Time-Series-Forecasting-with-Python-main/src/feature_engineering/temporal_features.py:272: PerformanceWarning:\n",
      "\n",
      "DataFrame is highly fragmented.  This is usually the result of calling `frame.insert` many times, which has poor performance.  Consider joining all columns at once using pd.concat(axis=1) instead. To get a de-fragmented frame, use `newframe = frame.copy()`\n",
      "\n",
      "/Users/harrybakhshi/Desktop/Python_notes/Modern-Time-Series-Forecasting-with-Python-main/src/feature_engineering/temporal_features.py:272: PerformanceWarning:\n",
      "\n",
      "DataFrame is highly fragmented.  This is usually the result of calling `frame.insert` many times, which has poor performance.  Consider joining all columns at once using pd.concat(axis=1) instead. To get a de-fragmented frame, use `newframe = frame.copy()`\n",
      "\n",
      "/Users/harrybakhshi/Desktop/Python_notes/Modern-Time-Series-Forecasting-with-Python-main/src/feature_engineering/temporal_features.py:272: PerformanceWarning:\n",
      "\n",
      "DataFrame is highly fragmented.  This is usually the result of calling `frame.insert` many times, which has poor performance.  Consider joining all columns at once using pd.concat(axis=1) instead. To get a de-fragmented frame, use `newframe = frame.copy()`\n",
      "\n"
     ]
    }
   ],
   "source": [
    "#Add Fourier terms:\n",
    "from src.feature_engineering.temporal_features import (\n",
    "    add_fourier_features,\n",
    "    bulk_add_fourier_features,\n",
    ")\n",
    "with LogTime():\n",
    "    ts_df, added_features = bulk_add_fourier_features(\n",
    "        ts_df,\n",
    "        ['timestamp_Month', 'timestamp_Quarter', 'timestamp_Week'],\n",
    "        n_fourier_terms=10,\n",
    "        max_values=[12, 4, 52],\n",
    "        use_32_bit=True,\n",
    "    )\n",
    "added_fourier = added_features\n",
    "# print(f\"Features Created: {','.join(added_features)}\")\n",
    "#^https://github.com/PacktPublishing/Modern-Time-Series-Forecasting-with-Python/blob/main/notebooks/Chapter06/01-Feature%20Engineering.ipynb\n",
    "#Accessed 03/07/2024\n",
    "print(len(list(ts_df.columns.values)))"
   ]
  },
  {
   "cell_type": "code",
   "execution_count": 243,
   "id": "68558713-9c12-4134-a331-3765d03bd5b5",
   "metadata": {},
   "outputs": [],
   "source": [
    "#Pickle engineered feature names as lists:\n",
    "file = '/Users/harrybakhshi/Desktop/Python_notes/data/PCDA_capstone/feature_engineering_added_temporal.pik'\n",
    "with open(file, 'wb') as f:\n",
    "       pickle.dump(added_temporal, f) #write df to .pik file on disk\n",
    "# with open(file, 'rb') as f:\n",
    "#      added_temporal = pickle.load(f) #load pickle file 'file' into variable\n",
    "file = '/Users/harrybakhshi/Desktop/Python_notes/data/PCDA_capstone/feature_engineering_added_fourier.pik'\n",
    "with open(file, 'wb') as f:\n",
    "       pickle.dump(added_fourier, f) #write df to .pik file on disk\n",
    "# with open(file, 'rb') as f:\n",
    "#      added_fourier = pickle.load(f) #load pickle file 'file' into variable"
   ]
  },
  {
   "cell_type": "code",
   "execution_count": 244,
   "id": "198e6bf3-ba57-4fab-87fe-eaffb3d2e1ba",
   "metadata": {},
   "outputs": [
    {
     "data": {
      "text/plain": [
       "array(['timestamp', '679023median_total_price',\n",
       "       '245338median_total_price', '222087median_total_price',\n",
       "       '223153median_total_price'], dtype=object)"
      ]
     },
     "execution_count": 244,
     "metadata": {},
     "output_type": "execute_result"
    }
   ],
   "source": [
    "ts_df.columns.values[0:5]"
   ]
  },
  {
   "cell_type": "markdown",
   "id": "e7c5e052-0a13-4f56-ac19-37822fb099da",
   "metadata": {},
   "source": [
    "Can plot Fourier terms:"
   ]
  },
  {
   "cell_type": "code",
   "execution_count": 245,
   "id": "f67ce218-0f11-4a3d-bd5b-ed55d224ab4e",
   "metadata": {
    "scrolled": true
   },
   "outputs": [
    {
     "data": {
      "application/vnd.plotly.v1+json": {
       "config": {
        "plotlyServerURL": "https://plot.ly"
       },
       "data": [
        {
         "hovertemplate": "month=calendar<br>index=%{x}<br>Representation=%{y}<extra></extra>",
         "legendgroup": "",
         "line": {
          "color": "#636efa",
          "dash": "solid"
         },
         "marker": {
          "symbol": "circle"
         },
         "mode": "lines",
         "name": "",
         "orientation": "v",
         "showlegend": false,
         "type": "scatter",
         "x": [
          1,
          2,
          3,
          4,
          5,
          6,
          7,
          8,
          9,
          10,
          11,
          12,
          13,
          14,
          15,
          16,
          17,
          18,
          19,
          20,
          21,
          22,
          23,
          24,
          25,
          26,
          27,
          28,
          29,
          30,
          31,
          32,
          33,
          34,
          35,
          36
         ],
         "xaxis": "x2",
         "y": [
          1,
          2,
          3,
          4,
          5,
          6,
          7,
          8,
          9,
          10,
          11,
          12,
          1,
          2,
          3,
          4,
          5,
          6,
          7,
          8,
          9,
          10,
          11,
          12,
          1,
          2,
          3,
          4,
          5,
          6,
          7,
          8,
          9,
          10,
          11,
          12
         ],
         "yaxis": "y2"
        },
        {
         "hovertemplate": "month=fourier<br>index=%{x}<br>Representation=%{y}<extra></extra>",
         "legendgroup": "",
         "line": {
          "color": "#636efa",
          "dash": "solid"
         },
         "marker": {
          "symbol": "circle"
         },
         "mode": "lines",
         "name": "",
         "orientation": "v",
         "showlegend": false,
         "type": "scatter",
         "x": [
          1,
          2,
          3,
          4,
          5,
          6,
          7,
          8,
          9,
          10,
          11,
          12,
          13,
          14,
          15,
          16,
          17,
          18,
          19,
          20,
          21,
          22,
          23,
          24,
          25,
          26,
          27,
          28,
          29,
          30,
          31,
          32,
          33,
          34,
          35,
          36
         ],
         "xaxis": "x",
         "y": [
          0.5,
          0.8660253882408142,
          1,
          0.8660253882408142,
          0.5,
          1.2246468525851679e-16,
          -0.5,
          -0.8660253882408142,
          -1,
          -0.8660253882408142,
          -0.5,
          -2.4492937051703357e-16,
          0.5,
          0.8660253882408142,
          1,
          0.8660253882408142,
          0.5,
          1.2246468525851679e-16,
          -0.5,
          -0.8660253882408142,
          -1,
          -0.8660253882408142,
          -0.5,
          -2.4492937051703357e-16,
          0.5,
          0.8660253882408142,
          1,
          0.8660253882408142,
          0.5,
          1.2246468525851679e-16,
          -0.5,
          -0.8660253882408142,
          -1,
          -0.8660253882408142,
          -0.5,
          -2.4492937051703357e-16
         ],
         "yaxis": "y"
        }
       ],
       "layout": {
        "annotations": [
         {
          "font": {},
          "showarrow": false,
          "text": "month=fourier",
          "textangle": 90,
          "x": 0.98,
          "xanchor": "left",
          "xref": "paper",
          "y": 0.2425,
          "yanchor": "middle",
          "yref": "paper"
         },
         {
          "font": {},
          "showarrow": false,
          "text": "month=calendar",
          "textangle": 90,
          "x": 0.98,
          "xanchor": "left",
          "xref": "paper",
          "y": 0.7575000000000001,
          "yanchor": "middle",
          "yref": "paper"
         }
        ],
        "autosize": false,
        "height": 800,
        "legend": {
         "title": {},
         "tracegroupgap": 0
        },
        "margin": {
         "t": 60
        },
        "template": {
         "data": {
          "bar": [
           {
            "error_x": {
             "color": "#2a3f5f"
            },
            "error_y": {
             "color": "#2a3f5f"
            },
            "marker": {
             "line": {
              "color": "white",
              "width": 0.5
             },
             "pattern": {
              "fillmode": "overlay",
              "size": 10,
              "solidity": 0.2
             }
            },
            "type": "bar"
           }
          ],
          "barpolar": [
           {
            "marker": {
             "line": {
              "color": "white",
              "width": 0.5
             },
             "pattern": {
              "fillmode": "overlay",
              "size": 10,
              "solidity": 0.2
             }
            },
            "type": "barpolar"
           }
          ],
          "carpet": [
           {
            "aaxis": {
             "endlinecolor": "#2a3f5f",
             "gridcolor": "#C8D4E3",
             "linecolor": "#C8D4E3",
             "minorgridcolor": "#C8D4E3",
             "startlinecolor": "#2a3f5f"
            },
            "baxis": {
             "endlinecolor": "#2a3f5f",
             "gridcolor": "#C8D4E3",
             "linecolor": "#C8D4E3",
             "minorgridcolor": "#C8D4E3",
             "startlinecolor": "#2a3f5f"
            },
            "type": "carpet"
           }
          ],
          "choropleth": [
           {
            "colorbar": {
             "outlinewidth": 0,
             "ticks": ""
            },
            "type": "choropleth"
           }
          ],
          "contour": [
           {
            "colorbar": {
             "outlinewidth": 0,
             "ticks": ""
            },
            "colorscale": [
             [
              0,
              "#0d0887"
             ],
             [
              0.1111111111111111,
              "#46039f"
             ],
             [
              0.2222222222222222,
              "#7201a8"
             ],
             [
              0.3333333333333333,
              "#9c179e"
             ],
             [
              0.4444444444444444,
              "#bd3786"
             ],
             [
              0.5555555555555556,
              "#d8576b"
             ],
             [
              0.6666666666666666,
              "#ed7953"
             ],
             [
              0.7777777777777778,
              "#fb9f3a"
             ],
             [
              0.8888888888888888,
              "#fdca26"
             ],
             [
              1,
              "#f0f921"
             ]
            ],
            "type": "contour"
           }
          ],
          "contourcarpet": [
           {
            "colorbar": {
             "outlinewidth": 0,
             "ticks": ""
            },
            "type": "contourcarpet"
           }
          ],
          "heatmap": [
           {
            "colorbar": {
             "outlinewidth": 0,
             "ticks": ""
            },
            "colorscale": [
             [
              0,
              "#0d0887"
             ],
             [
              0.1111111111111111,
              "#46039f"
             ],
             [
              0.2222222222222222,
              "#7201a8"
             ],
             [
              0.3333333333333333,
              "#9c179e"
             ],
             [
              0.4444444444444444,
              "#bd3786"
             ],
             [
              0.5555555555555556,
              "#d8576b"
             ],
             [
              0.6666666666666666,
              "#ed7953"
             ],
             [
              0.7777777777777778,
              "#fb9f3a"
             ],
             [
              0.8888888888888888,
              "#fdca26"
             ],
             [
              1,
              "#f0f921"
             ]
            ],
            "type": "heatmap"
           }
          ],
          "heatmapgl": [
           {
            "colorbar": {
             "outlinewidth": 0,
             "ticks": ""
            },
            "colorscale": [
             [
              0,
              "#0d0887"
             ],
             [
              0.1111111111111111,
              "#46039f"
             ],
             [
              0.2222222222222222,
              "#7201a8"
             ],
             [
              0.3333333333333333,
              "#9c179e"
             ],
             [
              0.4444444444444444,
              "#bd3786"
             ],
             [
              0.5555555555555556,
              "#d8576b"
             ],
             [
              0.6666666666666666,
              "#ed7953"
             ],
             [
              0.7777777777777778,
              "#fb9f3a"
             ],
             [
              0.8888888888888888,
              "#fdca26"
             ],
             [
              1,
              "#f0f921"
             ]
            ],
            "type": "heatmapgl"
           }
          ],
          "histogram": [
           {
            "marker": {
             "pattern": {
              "fillmode": "overlay",
              "size": 10,
              "solidity": 0.2
             }
            },
            "type": "histogram"
           }
          ],
          "histogram2d": [
           {
            "colorbar": {
             "outlinewidth": 0,
             "ticks": ""
            },
            "colorscale": [
             [
              0,
              "#0d0887"
             ],
             [
              0.1111111111111111,
              "#46039f"
             ],
             [
              0.2222222222222222,
              "#7201a8"
             ],
             [
              0.3333333333333333,
              "#9c179e"
             ],
             [
              0.4444444444444444,
              "#bd3786"
             ],
             [
              0.5555555555555556,
              "#d8576b"
             ],
             [
              0.6666666666666666,
              "#ed7953"
             ],
             [
              0.7777777777777778,
              "#fb9f3a"
             ],
             [
              0.8888888888888888,
              "#fdca26"
             ],
             [
              1,
              "#f0f921"
             ]
            ],
            "type": "histogram2d"
           }
          ],
          "histogram2dcontour": [
           {
            "colorbar": {
             "outlinewidth": 0,
             "ticks": ""
            },
            "colorscale": [
             [
              0,
              "#0d0887"
             ],
             [
              0.1111111111111111,
              "#46039f"
             ],
             [
              0.2222222222222222,
              "#7201a8"
             ],
             [
              0.3333333333333333,
              "#9c179e"
             ],
             [
              0.4444444444444444,
              "#bd3786"
             ],
             [
              0.5555555555555556,
              "#d8576b"
             ],
             [
              0.6666666666666666,
              "#ed7953"
             ],
             [
              0.7777777777777778,
              "#fb9f3a"
             ],
             [
              0.8888888888888888,
              "#fdca26"
             ],
             [
              1,
              "#f0f921"
             ]
            ],
            "type": "histogram2dcontour"
           }
          ],
          "mesh3d": [
           {
            "colorbar": {
             "outlinewidth": 0,
             "ticks": ""
            },
            "type": "mesh3d"
           }
          ],
          "parcoords": [
           {
            "line": {
             "colorbar": {
              "outlinewidth": 0,
              "ticks": ""
             }
            },
            "type": "parcoords"
           }
          ],
          "pie": [
           {
            "automargin": true,
            "type": "pie"
           }
          ],
          "scatter": [
           {
            "fillpattern": {
             "fillmode": "overlay",
             "size": 10,
             "solidity": 0.2
            },
            "type": "scatter"
           }
          ],
          "scatter3d": [
           {
            "line": {
             "colorbar": {
              "outlinewidth": 0,
              "ticks": ""
             }
            },
            "marker": {
             "colorbar": {
              "outlinewidth": 0,
              "ticks": ""
             }
            },
            "type": "scatter3d"
           }
          ],
          "scattercarpet": [
           {
            "marker": {
             "colorbar": {
              "outlinewidth": 0,
              "ticks": ""
             }
            },
            "type": "scattercarpet"
           }
          ],
          "scattergeo": [
           {
            "marker": {
             "colorbar": {
              "outlinewidth": 0,
              "ticks": ""
             }
            },
            "type": "scattergeo"
           }
          ],
          "scattergl": [
           {
            "marker": {
             "colorbar": {
              "outlinewidth": 0,
              "ticks": ""
             }
            },
            "type": "scattergl"
           }
          ],
          "scattermapbox": [
           {
            "marker": {
             "colorbar": {
              "outlinewidth": 0,
              "ticks": ""
             }
            },
            "type": "scattermapbox"
           }
          ],
          "scatterpolar": [
           {
            "marker": {
             "colorbar": {
              "outlinewidth": 0,
              "ticks": ""
             }
            },
            "type": "scatterpolar"
           }
          ],
          "scatterpolargl": [
           {
            "marker": {
             "colorbar": {
              "outlinewidth": 0,
              "ticks": ""
             }
            },
            "type": "scatterpolargl"
           }
          ],
          "scatterternary": [
           {
            "marker": {
             "colorbar": {
              "outlinewidth": 0,
              "ticks": ""
             }
            },
            "type": "scatterternary"
           }
          ],
          "surface": [
           {
            "colorbar": {
             "outlinewidth": 0,
             "ticks": ""
            },
            "colorscale": [
             [
              0,
              "#0d0887"
             ],
             [
              0.1111111111111111,
              "#46039f"
             ],
             [
              0.2222222222222222,
              "#7201a8"
             ],
             [
              0.3333333333333333,
              "#9c179e"
             ],
             [
              0.4444444444444444,
              "#bd3786"
             ],
             [
              0.5555555555555556,
              "#d8576b"
             ],
             [
              0.6666666666666666,
              "#ed7953"
             ],
             [
              0.7777777777777778,
              "#fb9f3a"
             ],
             [
              0.8888888888888888,
              "#fdca26"
             ],
             [
              1,
              "#f0f921"
             ]
            ],
            "type": "surface"
           }
          ],
          "table": [
           {
            "cells": {
             "fill": {
              "color": "#EBF0F8"
             },
             "line": {
              "color": "white"
             }
            },
            "header": {
             "fill": {
              "color": "#C8D4E3"
             },
             "line": {
              "color": "white"
             }
            },
            "type": "table"
           }
          ]
         },
         "layout": {
          "annotationdefaults": {
           "arrowcolor": "#2a3f5f",
           "arrowhead": 0,
           "arrowwidth": 1
          },
          "autotypenumbers": "strict",
          "coloraxis": {
           "colorbar": {
            "outlinewidth": 0,
            "ticks": ""
           }
          },
          "colorscale": {
           "diverging": [
            [
             0,
             "#8e0152"
            ],
            [
             0.1,
             "#c51b7d"
            ],
            [
             0.2,
             "#de77ae"
            ],
            [
             0.3,
             "#f1b6da"
            ],
            [
             0.4,
             "#fde0ef"
            ],
            [
             0.5,
             "#f7f7f7"
            ],
            [
             0.6,
             "#e6f5d0"
            ],
            [
             0.7,
             "#b8e186"
            ],
            [
             0.8,
             "#7fbc41"
            ],
            [
             0.9,
             "#4d9221"
            ],
            [
             1,
             "#276419"
            ]
           ],
           "sequential": [
            [
             0,
             "#0d0887"
            ],
            [
             0.1111111111111111,
             "#46039f"
            ],
            [
             0.2222222222222222,
             "#7201a8"
            ],
            [
             0.3333333333333333,
             "#9c179e"
            ],
            [
             0.4444444444444444,
             "#bd3786"
            ],
            [
             0.5555555555555556,
             "#d8576b"
            ],
            [
             0.6666666666666666,
             "#ed7953"
            ],
            [
             0.7777777777777778,
             "#fb9f3a"
            ],
            [
             0.8888888888888888,
             "#fdca26"
            ],
            [
             1,
             "#f0f921"
            ]
           ],
           "sequentialminus": [
            [
             0,
             "#0d0887"
            ],
            [
             0.1111111111111111,
             "#46039f"
            ],
            [
             0.2222222222222222,
             "#7201a8"
            ],
            [
             0.3333333333333333,
             "#9c179e"
            ],
            [
             0.4444444444444444,
             "#bd3786"
            ],
            [
             0.5555555555555556,
             "#d8576b"
            ],
            [
             0.6666666666666666,
             "#ed7953"
            ],
            [
             0.7777777777777778,
             "#fb9f3a"
            ],
            [
             0.8888888888888888,
             "#fdca26"
            ],
            [
             1,
             "#f0f921"
            ]
           ]
          },
          "colorway": [
           "#636efa",
           "#EF553B",
           "#00cc96",
           "#ab63fa",
           "#FFA15A",
           "#19d3f3",
           "#FF6692",
           "#B6E880",
           "#FF97FF",
           "#FECB52"
          ],
          "font": {
           "color": "#2a3f5f"
          },
          "geo": {
           "bgcolor": "white",
           "lakecolor": "white",
           "landcolor": "white",
           "showlakes": true,
           "showland": true,
           "subunitcolor": "#C8D4E3"
          },
          "hoverlabel": {
           "align": "left"
          },
          "hovermode": "closest",
          "mapbox": {
           "style": "light"
          },
          "paper_bgcolor": "white",
          "plot_bgcolor": "white",
          "polar": {
           "angularaxis": {
            "gridcolor": "#EBF0F8",
            "linecolor": "#EBF0F8",
            "ticks": ""
           },
           "bgcolor": "white",
           "radialaxis": {
            "gridcolor": "#EBF0F8",
            "linecolor": "#EBF0F8",
            "ticks": ""
           }
          },
          "scene": {
           "xaxis": {
            "backgroundcolor": "white",
            "gridcolor": "#DFE8F3",
            "gridwidth": 2,
            "linecolor": "#EBF0F8",
            "showbackground": true,
            "ticks": "",
            "zerolinecolor": "#EBF0F8"
           },
           "yaxis": {
            "backgroundcolor": "white",
            "gridcolor": "#DFE8F3",
            "gridwidth": 2,
            "linecolor": "#EBF0F8",
            "showbackground": true,
            "ticks": "",
            "zerolinecolor": "#EBF0F8"
           },
           "zaxis": {
            "backgroundcolor": "white",
            "gridcolor": "#DFE8F3",
            "gridwidth": 2,
            "linecolor": "#EBF0F8",
            "showbackground": true,
            "ticks": "",
            "zerolinecolor": "#EBF0F8"
           }
          },
          "shapedefaults": {
           "line": {
            "color": "#2a3f5f"
           }
          },
          "ternary": {
           "aaxis": {
            "gridcolor": "#DFE8F3",
            "linecolor": "#A2B1C6",
            "ticks": ""
           },
           "baxis": {
            "gridcolor": "#DFE8F3",
            "linecolor": "#A2B1C6",
            "ticks": ""
           },
           "bgcolor": "white",
           "caxis": {
            "gridcolor": "#DFE8F3",
            "linecolor": "#A2B1C6",
            "ticks": ""
           }
          },
          "title": {
           "x": 0.05
          },
          "xaxis": {
           "automargin": true,
           "gridcolor": "#EBF0F8",
           "linecolor": "#EBF0F8",
           "ticks": "",
           "title": {
            "standoff": 15
           },
           "zerolinecolor": "#EBF0F8",
           "zerolinewidth": 2
          },
          "yaxis": {
           "automargin": true,
           "gridcolor": "#EBF0F8",
           "linecolor": "#EBF0F8",
           "ticks": "",
           "title": {
            "standoff": 15
           },
           "zerolinecolor": "#EBF0F8",
           "zerolinewidth": 2
          }
         }
        },
        "title": {
         "font": {
          "size": 20
         },
         "text": "Step Function vs Continuous Function",
         "x": 0.5,
         "xanchor": "center",
         "yanchor": "top"
        },
        "width": 900,
        "xaxis": {
         "anchor": "y",
         "autorange": true,
         "domain": [
          0,
          0.98
         ],
         "range": [
          1,
          36
         ],
         "ticktext": [
          1,
          2,
          3,
          4,
          5,
          6,
          7,
          8,
          9,
          10,
          11,
          12,
          1,
          2,
          3,
          4,
          5,
          6,
          7,
          8,
          9,
          10,
          11,
          12,
          1,
          2,
          3,
          4,
          5,
          6,
          7,
          8,
          9,
          10,
          11,
          12
         ],
         "tickvals": [
          1,
          2,
          3,
          4,
          5,
          6,
          7,
          8,
          9,
          10,
          11,
          12,
          13,
          14,
          15,
          16,
          17,
          18,
          19,
          20,
          21,
          22,
          23,
          24,
          25,
          26,
          27,
          28,
          29,
          30,
          31,
          32,
          33,
          34,
          35,
          36,
          37,
          38,
          39,
          40,
          41,
          42,
          43,
          44,
          45,
          46,
          47,
          48,
          49,
          50,
          51,
          52,
          53,
          54,
          55,
          56,
          57,
          58,
          59,
          60,
          61,
          62,
          63,
          64,
          65,
          66,
          67,
          68,
          69,
          70,
          71,
          72
         ],
         "title": {
          "text": "Time"
         },
         "type": "linear"
        },
        "xaxis2": {
         "anchor": "y2",
         "autorange": true,
         "domain": [
          0,
          0.98
         ],
         "matches": "x",
         "range": [
          1,
          36
         ],
         "showticklabels": false,
         "ticktext": [
          1,
          2,
          3,
          4,
          5,
          6,
          7,
          8,
          9,
          10,
          11,
          12,
          1,
          2,
          3,
          4,
          5,
          6,
          7,
          8,
          9,
          10,
          11,
          12,
          1,
          2,
          3,
          4,
          5,
          6,
          7,
          8,
          9,
          10,
          11,
          12
         ],
         "tickvals": [
          1,
          2,
          3,
          4,
          5,
          6,
          7,
          8,
          9,
          10,
          11,
          12,
          13,
          14,
          15,
          16,
          17,
          18,
          19,
          20,
          21,
          22,
          23,
          24,
          25,
          26,
          27,
          28,
          29,
          30,
          31,
          32,
          33,
          34,
          35,
          36,
          37,
          38,
          39,
          40,
          41,
          42,
          43,
          44,
          45,
          46,
          47,
          48,
          49,
          50,
          51,
          52,
          53,
          54,
          55,
          56,
          57,
          58,
          59,
          60,
          61,
          62,
          63,
          64,
          65,
          66,
          67,
          68,
          69,
          70,
          71,
          72
         ],
         "type": "linear"
        },
        "yaxis": {
         "anchor": "x",
         "autorange": true,
         "domain": [
          0,
          0.485
         ],
         "range": [
          -1.1111111111111112,
          1.1111111111111112
         ],
         "title": {
          "text": "Representation"
         },
         "type": "linear"
        },
        "yaxis2": {
         "anchor": "x2",
         "autorange": true,
         "domain": [
          0.515,
          1
         ],
         "range": [
          0.38888888888888895,
          12.61111111111111
         ],
         "title": {
          "text": "Representation"
         },
         "type": "linear"
        }
       }
      },
      "image/png": "[encoded data removed]",
      "text/html": [
       "<div>                            <div id=\"ca994deb-2b58-4ba1-b784-3cb3954feed0\" class=\"plotly-graph-div\" style=\"height:800px; width:900px;\"></div>            <script type=\"text/javascript\">                require([\"plotly\"], function(Plotly) {                    window.PLOTLYENV=window.PLOTLYENV || {};                                    if (document.getElementById(\"ca994deb-2b58-4ba1-b784-3cb3954feed0\")) {                    Plotly.newPlot(                        \"ca994deb-2b58-4ba1-b784-3cb3954feed0\",                        [{\"hovertemplate\":\"month=calendar\\u003cbr\\u003eindex=%{x}\\u003cbr\\u003eRepresentation=%{y}\\u003cextra\\u003e\\u003c\\u002fextra\\u003e\",\"legendgroup\":\"\",\"line\":{\"color\":\"#636efa\",\"dash\":\"solid\"},\"marker\":{\"symbol\":\"circle\"},\"mode\":\"lines\",\"name\":\"\",\"orientation\":\"v\",\"showlegend\":false,\"x\":[1,2,3,4,5,6,7,8,9,10,11,12,13,14,15,16,17,18,19,20,21,22,23,24,25,26,27,28,29,30,31,32,33,34,35,36],\"xaxis\":\"x2\",\"y\":[1.0,2.0,3.0,4.0,5.0,6.0,7.0,8.0,9.0,10.0,11.0,12.0,1.0,2.0,3.0,4.0,5.0,6.0,7.0,8.0,9.0,10.0,11.0,12.0,1.0,2.0,3.0,4.0,5.0,6.0,7.0,8.0,9.0,10.0,11.0,12.0],\"yaxis\":\"y2\",\"type\":\"scatter\"},{\"hovertemplate\":\"month=fourier\\u003cbr\\u003eindex=%{x}\\u003cbr\\u003eRepresentation=%{y}\\u003cextra\\u003e\\u003c\\u002fextra\\u003e\",\"legendgroup\":\"\",\"line\":{\"color\":\"#636efa\",\"dash\":\"solid\"},\"marker\":{\"symbol\":\"circle\"},\"mode\":\"lines\",\"name\":\"\",\"orientation\":\"v\",\"showlegend\":false,\"x\":[1,2,3,4,5,6,7,8,9,10,11,12,13,14,15,16,17,18,19,20,21,22,23,24,25,26,27,28,29,30,31,32,33,34,35,36],\"xaxis\":\"x\",\"y\":[0.5,0.8660253882408142,1.0,0.8660253882408142,0.5,1.2246468525851679e-16,-0.5,-0.8660253882408142,-1.0,-0.8660253882408142,-0.5,-2.4492937051703357e-16,0.5,0.8660253882408142,1.0,0.8660253882408142,0.5,1.2246468525851679e-16,-0.5,-0.8660253882408142,-1.0,-0.8660253882408142,-0.5,-2.4492937051703357e-16,0.5,0.8660253882408142,1.0,0.8660253882408142,0.5,1.2246468525851679e-16,-0.5,-0.8660253882408142,-1.0,-0.8660253882408142,-0.5,-2.4492937051703357e-16],\"yaxis\":\"y\",\"type\":\"scatter\"}],                        {\"template\":{\"data\":{\"histogram2dcontour\":[{\"type\":\"histogram2dcontour\",\"colorbar\":{\"outlinewidth\":0,\"ticks\":\"\"},\"colorscale\":[[0.0,\"#0d0887\"],[0.1111111111111111,\"#46039f\"],[0.2222222222222222,\"#7201a8\"],[0.3333333333333333,\"#9c179e\"],[0.4444444444444444,\"#bd3786\"],[0.5555555555555556,\"#d8576b\"],[0.6666666666666666,\"#ed7953\"],[0.7777777777777778,\"#fb9f3a\"],[0.8888888888888888,\"#fdca26\"],[1.0,\"#f0f921\"]]}],\"choropleth\":[{\"type\":\"choropleth\",\"colorbar\":{\"outlinewidth\":0,\"ticks\":\"\"}}],\"histogram2d\":[{\"type\":\"histogram2d\",\"colorbar\":{\"outlinewidth\":0,\"ticks\":\"\"},\"colorscale\":[[0.0,\"#0d0887\"],[0.1111111111111111,\"#46039f\"],[0.2222222222222222,\"#7201a8\"],[0.3333333333333333,\"#9c179e\"],[0.4444444444444444,\"#bd3786\"],[0.5555555555555556,\"#d8576b\"],[0.6666666666666666,\"#ed7953\"],[0.7777777777777778,\"#fb9f3a\"],[0.8888888888888888,\"#fdca26\"],[1.0,\"#f0f921\"]]}],\"heatmap\":[{\"type\":\"heatmap\",\"colorbar\":{\"outlinewidth\":0,\"ticks\":\"\"},\"colorscale\":[[0.0,\"#0d0887\"],[0.1111111111111111,\"#46039f\"],[0.2222222222222222,\"#7201a8\"],[0.3333333333333333,\"#9c179e\"],[0.4444444444444444,\"#bd3786\"],[0.5555555555555556,\"#d8576b\"],[0.6666666666666666,\"#ed7953\"],[0.7777777777777778,\"#fb9f3a\"],[0.8888888888888888,\"#fdca26\"],[1.0,\"#f0f921\"]]}],\"heatmapgl\":[{\"type\":\"heatmapgl\",\"colorbar\":{\"outlinewidth\":0,\"ticks\":\"\"},\"colorscale\":[[0.0,\"#0d0887\"],[0.1111111111111111,\"#46039f\"],[0.2222222222222222,\"#7201a8\"],[0.3333333333333333,\"#9c179e\"],[0.4444444444444444,\"#bd3786\"],[0.5555555555555556,\"#d8576b\"],[0.6666666666666666,\"#ed7953\"],[0.7777777777777778,\"#fb9f3a\"],[0.8888888888888888,\"#fdca26\"],[1.0,\"#f0f921\"]]}],\"contourcarpet\":[{\"type\":\"contourcarpet\",\"colorbar\":{\"outlinewidth\":0,\"ticks\":\"\"}}],\"contour\":[{\"type\":\"contour\",\"colorbar\":{\"outlinewidth\":0,\"ticks\":\"\"},\"colorscale\":[[0.0,\"#0d0887\"],[0.1111111111111111,\"#46039f\"],[0.2222222222222222,\"#7201a8\"],[0.3333333333333333,\"#9c179e\"],[0.4444444444444444,\"#bd3786\"],[0.5555555555555556,\"#d8576b\"],[0.6666666666666666,\"#ed7953\"],[0.7777777777777778,\"#fb9f3a\"],[0.8888888888888888,\"#fdca26\"],[1.0,\"#f0f921\"]]}],\"surface\":[{\"type\":\"surface\",\"colorbar\":{\"outlinewidth\":0,\"ticks\":\"\"},\"colorscale\":[[0.0,\"#0d0887\"],[0.1111111111111111,\"#46039f\"],[0.2222222222222222,\"#7201a8\"],[0.3333333333333333,\"#9c179e\"],[0.4444444444444444,\"#bd3786\"],[0.5555555555555556,\"#d8576b\"],[0.6666666666666666,\"#ed7953\"],[0.7777777777777778,\"#fb9f3a\"],[0.8888888888888888,\"#fdca26\"],[1.0,\"#f0f921\"]]}],\"mesh3d\":[{\"type\":\"mesh3d\",\"colorbar\":{\"outlinewidth\":0,\"ticks\":\"\"}}],\"scatter\":[{\"fillpattern\":{\"fillmode\":\"overlay\",\"size\":10,\"solidity\":0.2},\"type\":\"scatter\"}],\"parcoords\":[{\"type\":\"parcoords\",\"line\":{\"colorbar\":{\"outlinewidth\":0,\"ticks\":\"\"}}}],\"scatterpolargl\":[{\"type\":\"scatterpolargl\",\"marker\":{\"colorbar\":{\"outlinewidth\":0,\"ticks\":\"\"}}}],\"bar\":[{\"error_x\":{\"color\":\"#2a3f5f\"},\"error_y\":{\"color\":\"#2a3f5f\"},\"marker\":{\"line\":{\"color\":\"white\",\"width\":0.5},\"pattern\":{\"fillmode\":\"overlay\",\"size\":10,\"solidity\":0.2}},\"type\":\"bar\"}],\"scattergeo\":[{\"type\":\"scattergeo\",\"marker\":{\"colorbar\":{\"outlinewidth\":0,\"ticks\":\"\"}}}],\"scatterpolar\":[{\"type\":\"scatterpolar\",\"marker\":{\"colorbar\":{\"outlinewidth\":0,\"ticks\":\"\"}}}],\"histogram\":[{\"marker\":{\"pattern\":{\"fillmode\":\"overlay\",\"size\":10,\"solidity\":0.2}},\"type\":\"histogram\"}],\"scattergl\":[{\"type\":\"scattergl\",\"marker\":{\"colorbar\":{\"outlinewidth\":0,\"ticks\":\"\"}}}],\"scatter3d\":[{\"type\":\"scatter3d\",\"line\":{\"colorbar\":{\"outlinewidth\":0,\"ticks\":\"\"}},\"marker\":{\"colorbar\":{\"outlinewidth\":0,\"ticks\":\"\"}}}],\"scattermapbox\":[{\"type\":\"scattermapbox\",\"marker\":{\"colorbar\":{\"outlinewidth\":0,\"ticks\":\"\"}}}],\"scatterternary\":[{\"type\":\"scatterternary\",\"marker\":{\"colorbar\":{\"outlinewidth\":0,\"ticks\":\"\"}}}],\"scattercarpet\":[{\"type\":\"scattercarpet\",\"marker\":{\"colorbar\":{\"outlinewidth\":0,\"ticks\":\"\"}}}],\"carpet\":[{\"aaxis\":{\"endlinecolor\":\"#2a3f5f\",\"gridcolor\":\"#C8D4E3\",\"linecolor\":\"#C8D4E3\",\"minorgridcolor\":\"#C8D4E3\",\"startlinecolor\":\"#2a3f5f\"},\"baxis\":{\"endlinecolor\":\"#2a3f5f\",\"gridcolor\":\"#C8D4E3\",\"linecolor\":\"#C8D4E3\",\"minorgridcolor\":\"#C8D4E3\",\"startlinecolor\":\"#2a3f5f\"},\"type\":\"carpet\"}],\"table\":[{\"cells\":{\"fill\":{\"color\":\"#EBF0F8\"},\"line\":{\"color\":\"white\"}},\"header\":{\"fill\":{\"color\":\"#C8D4E3\"},\"line\":{\"color\":\"white\"}},\"type\":\"table\"}],\"barpolar\":[{\"marker\":{\"line\":{\"color\":\"white\",\"width\":0.5},\"pattern\":{\"fillmode\":\"overlay\",\"size\":10,\"solidity\":0.2}},\"type\":\"barpolar\"}],\"pie\":[{\"automargin\":true,\"type\":\"pie\"}]},\"layout\":{\"autotypenumbers\":\"strict\",\"colorway\":[\"#636efa\",\"#EF553B\",\"#00cc96\",\"#ab63fa\",\"#FFA15A\",\"#19d3f3\",\"#FF6692\",\"#B6E880\",\"#FF97FF\",\"#FECB52\"],\"font\":{\"color\":\"#2a3f5f\"},\"hovermode\":\"closest\",\"hoverlabel\":{\"align\":\"left\"},\"paper_bgcolor\":\"white\",\"plot_bgcolor\":\"white\",\"polar\":{\"bgcolor\":\"white\",\"angularaxis\":{\"gridcolor\":\"#EBF0F8\",\"linecolor\":\"#EBF0F8\",\"ticks\":\"\"},\"radialaxis\":{\"gridcolor\":\"#EBF0F8\",\"linecolor\":\"#EBF0F8\",\"ticks\":\"\"}},\"ternary\":{\"bgcolor\":\"white\",\"aaxis\":{\"gridcolor\":\"#DFE8F3\",\"linecolor\":\"#A2B1C6\",\"ticks\":\"\"},\"baxis\":{\"gridcolor\":\"#DFE8F3\",\"linecolor\":\"#A2B1C6\",\"ticks\":\"\"},\"caxis\":{\"gridcolor\":\"#DFE8F3\",\"linecolor\":\"#A2B1C6\",\"ticks\":\"\"}},\"coloraxis\":{\"colorbar\":{\"outlinewidth\":0,\"ticks\":\"\"}},\"colorscale\":{\"sequential\":[[0.0,\"#0d0887\"],[0.1111111111111111,\"#46039f\"],[0.2222222222222222,\"#7201a8\"],[0.3333333333333333,\"#9c179e\"],[0.4444444444444444,\"#bd3786\"],[0.5555555555555556,\"#d8576b\"],[0.6666666666666666,\"#ed7953\"],[0.7777777777777778,\"#fb9f3a\"],[0.8888888888888888,\"#fdca26\"],[1.0,\"#f0f921\"]],\"sequentialminus\":[[0.0,\"#0d0887\"],[0.1111111111111111,\"#46039f\"],[0.2222222222222222,\"#7201a8\"],[0.3333333333333333,\"#9c179e\"],[0.4444444444444444,\"#bd3786\"],[0.5555555555555556,\"#d8576b\"],[0.6666666666666666,\"#ed7953\"],[0.7777777777777778,\"#fb9f3a\"],[0.8888888888888888,\"#fdca26\"],[1.0,\"#f0f921\"]],\"diverging\":[[0,\"#8e0152\"],[0.1,\"#c51b7d\"],[0.2,\"#de77ae\"],[0.3,\"#f1b6da\"],[0.4,\"#fde0ef\"],[0.5,\"#f7f7f7\"],[0.6,\"#e6f5d0\"],[0.7,\"#b8e186\"],[0.8,\"#7fbc41\"],[0.9,\"#4d9221\"],[1,\"#276419\"]]},\"xaxis\":{\"gridcolor\":\"#EBF0F8\",\"linecolor\":\"#EBF0F8\",\"ticks\":\"\",\"title\":{\"standoff\":15},\"zerolinecolor\":\"#EBF0F8\",\"automargin\":true,\"zerolinewidth\":2},\"yaxis\":{\"gridcolor\":\"#EBF0F8\",\"linecolor\":\"#EBF0F8\",\"ticks\":\"\",\"title\":{\"standoff\":15},\"zerolinecolor\":\"#EBF0F8\",\"automargin\":true,\"zerolinewidth\":2},\"scene\":{\"xaxis\":{\"backgroundcolor\":\"white\",\"gridcolor\":\"#DFE8F3\",\"linecolor\":\"#EBF0F8\",\"showbackground\":true,\"ticks\":\"\",\"zerolinecolor\":\"#EBF0F8\",\"gridwidth\":2},\"yaxis\":{\"backgroundcolor\":\"white\",\"gridcolor\":\"#DFE8F3\",\"linecolor\":\"#EBF0F8\",\"showbackground\":true,\"ticks\":\"\",\"zerolinecolor\":\"#EBF0F8\",\"gridwidth\":2},\"zaxis\":{\"backgroundcolor\":\"white\",\"gridcolor\":\"#DFE8F3\",\"linecolor\":\"#EBF0F8\",\"showbackground\":true,\"ticks\":\"\",\"zerolinecolor\":\"#EBF0F8\",\"gridwidth\":2}},\"shapedefaults\":{\"line\":{\"color\":\"#2a3f5f\"}},\"annotationdefaults\":{\"arrowcolor\":\"#2a3f5f\",\"arrowhead\":0,\"arrowwidth\":1},\"geo\":{\"bgcolor\":\"white\",\"landcolor\":\"white\",\"subunitcolor\":\"#C8D4E3\",\"showland\":true,\"showlakes\":true,\"lakecolor\":\"white\"},\"title\":{\"x\":0.05},\"mapbox\":{\"style\":\"light\"}}},\"xaxis\":{\"anchor\":\"y\",\"domain\":[0.0,0.98],\"title\":{\"text\":\"Time\"},\"ticktext\":[1,2,3,4,5,6,7,8,9,10,11,12,1,2,3,4,5,6,7,8,9,10,11,12,1,2,3,4,5,6,7,8,9,10,11,12],\"tickvals\":[1,2,3,4,5,6,7,8,9,10,11,12,13,14,15,16,17,18,19,20,21,22,23,24,25,26,27,28,29,30,31,32,33,34,35,36,37,38,39,40,41,42,43,44,45,46,47,48,49,50,51,52,53,54,55,56,57,58,59,60,61,62,63,64,65,66,67,68,69,70,71,72]},\"yaxis\":{\"anchor\":\"x\",\"domain\":[0.0,0.485],\"title\":{\"text\":\"Representation\"}},\"xaxis2\":{\"anchor\":\"y2\",\"domain\":[0.0,0.98],\"matches\":\"x\",\"showticklabels\":false,\"ticktext\":[1,2,3,4,5,6,7,8,9,10,11,12,1,2,3,4,5,6,7,8,9,10,11,12,1,2,3,4,5,6,7,8,9,10,11,12],\"tickvals\":[1,2,3,4,5,6,7,8,9,10,11,12,13,14,15,16,17,18,19,20,21,22,23,24,25,26,27,28,29,30,31,32,33,34,35,36,37,38,39,40,41,42,43,44,45,46,47,48,49,50,51,52,53,54,55,56,57,58,59,60,61,62,63,64,65,66,67,68,69,70,71,72]},\"yaxis2\":{\"anchor\":\"x2\",\"domain\":[0.515,1.0],\"title\":{\"text\":\"Representation\"}},\"annotations\":[{\"font\":{},\"showarrow\":false,\"text\":\"month=fourier\",\"textangle\":90,\"x\":0.98,\"xanchor\":\"left\",\"xref\":\"paper\",\"y\":0.2425,\"yanchor\":\"middle\",\"yref\":\"paper\"},{\"font\":{},\"showarrow\":false,\"text\":\"month=calendar\",\"textangle\":90,\"x\":0.98,\"xanchor\":\"left\",\"xref\":\"paper\",\"y\":0.7575000000000001,\"yanchor\":\"middle\",\"yref\":\"paper\"}],\"legend\":{\"tracegroupgap\":0,\"title\":{}},\"margin\":{\"t\":60},\"title\":{\"font\":{\"size\":20},\"text\":\"Step Function vs Continuous Function\",\"x\":0.5,\"xanchor\":\"center\",\"yanchor\":\"top\"},\"autosize\":false,\"width\":900,\"height\":800},                        {\"responsive\": true}                    ).then(function(){\n",
       "                            \n",
       "var gd = document.getElementById('ca994deb-2b58-4ba1-b784-3cb3954feed0');\n",
       "var x = new MutationObserver(function (mutations, observer) {{\n",
       "        var display = window.getComputedStyle(gd).display;\n",
       "        if (!display || display === 'none') {{\n",
       "            console.log([gd, 'removed!']);\n",
       "            Plotly.purge(gd);\n",
       "            observer.disconnect();\n",
       "        }}\n",
       "}});\n",
       "\n",
       "// Listen for the removal of the full notebook cells\n",
       "var notebookContainer = gd.closest('#notebook-container');\n",
       "if (notebookContainer) {{\n",
       "    x.observe(notebookContainer, {childList: true});\n",
       "}}\n",
       "\n",
       "// Listen for the clearing of the current output cell\n",
       "var outputEl = gd.closest('.output');\n",
       "if (outputEl) {{\n",
       "    x.observe(outputEl, {childList: true});\n",
       "}}\n",
       "\n",
       "                        })                };                });            </script>        </div>"
      ]
     },
     "metadata": {},
     "output_type": "display_data"
    }
   ],
   "source": [
    "#Plot Fourier term \"timestamp_Month_sin_1\" to compare to temporal feature \"timestamp_Month\":\n",
    "plot_df = (\n",
    "    ts_df[[\"timestamp_Month\", \"timestamp_Month_sin_1\"]]\n",
    "    .drop_duplicates()\n",
    "    .sort_values(\"timestamp_Month\")\n",
    ")\n",
    "\n",
    "plot_df.columns = [\"calendar\", \"fourier\"]\n",
    "\n",
    "plot_df = pd.concat([plot_df, plot_df, plot_df]).reset_index(drop=True)\n",
    "# plot_df.reset_index(drop=True, inplace=True)\n",
    "\n",
    "plot_df.reset_index(inplace=True)\n",
    "plot_df[\"index\"] += 1\n",
    "plot_df = pd.melt(\n",
    "    plot_df, id_vars=\"index\", var_name=\"month\", value_name=\"Representation\"\n",
    ")\n",
    "fig = px.line(plot_df, x=\"index\", y=\"Representation\", facet_row=\"month\")\n",
    "fig.update_layout(\n",
    "    autosize=False,\n",
    "    width=900,\n",
    "    height=800,\n",
    "    title_text=\"Step Function vs Continuous Function\",\n",
    "    title={\"x\": 0.5, \"xanchor\": \"center\", \"yanchor\": \"top\"},\n",
    "    titlefont={\"size\": 20},\n",
    "    legend_title=None,\n",
    "    # yaxis=dict(\n",
    "    #     # title_text=ylabel,\n",
    "    #     # titlefont=dict(size=12),\n",
    "    # ),\n",
    "    xaxis=dict(\n",
    "        title_text=\"Time\",\n",
    "        # titlefont=dict(size=12),\n",
    "    ),\n",
    ")\n",
    "fig.update_yaxes(matches=None)\n",
    "fig.update_xaxes(\n",
    "    ticktext=np.arange(1, 13).tolist() * 3,\n",
    "    tickvals=np.arange(len(plot_df)) + 1,\n",
    ")\n",
    "fig.write_image('/Users/harrybakhshi/Desktop/Python_notes/data/PCDA_capstone/timestamp_Month_timestamp_Month_sin_1_fourier_term_example.png')\n",
    "fig.show()\n",
    "#^https://github.com/PacktPublishing/Modern-Time-Series-Forecasting-with-Python/blob/main/notebooks/Chapter06/01-Feature%20Engineering.ipynb\n",
    "#Accessed 03/07/2024"
   ]
  },
  {
   "cell_type": "markdown",
   "id": "70fb58c9-9464-4f67-834b-3e513093fa5e",
   "metadata": {},
   "source": [
    "Pickle feature engineered df:"
   ]
  },
  {
   "cell_type": "code",
   "execution_count": 246,
   "id": "7b62a5af-52fa-4117-a54d-e3c5633397d0",
   "metadata": {},
   "outputs": [],
   "source": [
    "#Pickle feature engineered df:\n",
    "file = '/Users/harrybakhshi/Desktop/Python_notes/data/PCDA_capstone/outlier_treated_ts_df_feature_engineered_2.pik'\n",
    "with open(file, 'wb') as f:\n",
    "       pickle.dump(ts_df, f) #write df to .pik file on disk\n",
    "# with open(file, 'rb') as f:\n",
    "#      ts_df = pickle.load(f) #load pickle file 'file' into variable\n",
    "file = '/Users/harrybakhshi/Desktop/Python_notes/data/PCDA_capstone/outlier_treated_ts_df_feature_engineered_3.pik'\n",
    "with open(file, 'wb') as f:\n",
    "       pickle.dump(ts_df, f) #write df to .pik file on disk\n",
    "# with open(file, 'rb') as f:\n",
    "#      ts_df = pickle.load(f) #load pickle file 'file' into variable"
   ]
  },
  {
   "cell_type": "code",
   "execution_count": null,
   "id": "0a88dca5-c539-4a67-93d0-fefa0f7d6ada",
   "metadata": {},
   "outputs": [],
   "source": []
  }
 ],
 "metadata": {
  "kernelspec": {
   "display_name": "Python 3 (ipykernel)",
   "language": "python",
   "name": "python3"
  },
  "language_info": {
   "codemirror_mode": {
    "name": "ipython",
    "version": 3
   },
   "file_extension": ".py",
   "mimetype": "text/x-python",
   "name": "python",
   "nbconvert_exporter": "python",
   "pygments_lexer": "ipython3",
   "version": "3.11.7"
  }
 },
 "nbformat": 4,
 "nbformat_minor": 5
}
