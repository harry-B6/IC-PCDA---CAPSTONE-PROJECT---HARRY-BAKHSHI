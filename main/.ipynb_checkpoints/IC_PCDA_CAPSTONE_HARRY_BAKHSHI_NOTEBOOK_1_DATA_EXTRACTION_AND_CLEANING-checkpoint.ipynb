{
 "cells": [
  {
   "cell_type": "markdown",
   "id": "60388f2d-5043-44b1-b7bd-0b5526b0abc8",
   "metadata": {},
   "source": [
    "<div class=\"alert alert-block alert-success\">\n",
    "     \n",
    "# IC PCDA CAPSTONE - HARRY BAKHSHI - NOTEBOOK 1 - DATA EXTRACTION AND CLEANING\n",
    "     \n",
    "</div>"
   ]
  },
  {
   "cell_type": "code",
   "execution_count": null,
   "id": "3a979119-edc2-42c9-9363-bee2bf7cab01",
   "metadata": {},
   "outputs": [],
   "source": [
    "#Libraries needed to work:\n",
    "import numpy as np\n",
    "import pandas as pd\n",
    "import torch\n",
    "import matplotlib.pyplot as plt\n",
    "import plotly.express as px\n",
    "import os\n",
    "import plotly.io as pio\n",
    "import pandas as pd\n",
    "from tqdm.autonotebook import tqdm\n",
    "import missingno as msno\n",
    "import statsmodels.api as sm\n",
    "from sklearn.ensemble import RandomForestRegressor\n",
    "import xgboost\n",
    "import lightgbm\n",
    "import catboost\n",
    "import seaborn\n",
    "import pmdarima as pm\n",
    "from darts import TimeSeries\n",
    "from darts.models import NaiveSeasonal\n",
    "import pytorch_lightning as pl\n",
    "import pytorch_forecasting\n",
    "from pytorch_forecasting import TimeSeriesDataSet\n",
    "from pytorch_forecasting.data import GroupNormalizer\n",
    "from pytorch_forecasting.metrics import RMSE, MAE\n",
    "import sys\n",
    "print(\"#\"*25+\" All Libraries imported without errors! \"+\"#\"*25)\n",
    "# !pip install kaleido - move kaleido folder from /opt/miniconda3/lib/python3.12/site-packages to /Users/USER/anaconda3/lib/python3.11/site-packages\n",
    "# !pip install \"pandas<2.0.0\" - rewrite pickles to .pik files and re-load to use after change\n",
    "# !pip install statsforecast\n",
    "# !pip install missingno\n",
    "# !pip install catboost\n",
    "# !pip install blosc2==2.0\n",
    "# !pip install pmdarima\n",
    "# !pip install darts\n",
    "# !pip install pytorch_lightning\n",
    "# !pip install torch torchvision torchaudio\n",
    "# in mac terminal:\n",
    "#     sudo chown -R $USER:$USER anaconda3\n",
    "#     sudo chown -R $USER:$USER /Users/USER/.conda/environments.txt\n",
    "# conda update conda\n",
    "# conda install conda-forge::pytorch-forecasting\n",
    "# in /Users/USER/anaconda3/lib/python3.11/site-packages/pytorch_forecasting/models/__init__.py\n",
    "# delete import call for DeepAR\n",
    "# #in /Users/USER/anaconda3/lib/python3.11/site-packages/pytorch_forecasting/__init__.py\n",
    "# delete DeepAR in import list in \"from pytorch_forecasting.models import (...\""
   ]
  },
  {
   "cell_type": "code",
   "execution_count": 15,
   "id": "3ea1e6f9-4821-403a-b0f2-df808152d78e",
   "metadata": {},
   "outputs": [],
   "source": [
    "import pandas as pd\n",
    "import numpy as np"
   ]
  },
  {
   "cell_type": "markdown",
   "id": "fcee904c-bf3d-4508-a8d8-c3630859c106",
   "metadata": {},
   "source": [
    "MIT License for code used from elsewhere in this notebook unless a different source stated: https://github.com/PacktPublishing/Modern-Time-Series-Forecasting-with-Python?tab=MIT-1-ov-file\n",
    "\n",
    "(Accessed 06/06/2024)"
   ]
  },
  {
   "cell_type": "markdown",
   "id": "8996ac7a-8ef4-4761-b4e8-abfbe8cc5e36",
   "metadata": {},
   "source": [
    "**Collection of three datasets to consider**\n",
    "* `Listings`\n",
    "* `users`\n",
    "* `contacts`"
   ]
  },
  {
   "cell_type": "code",
   "execution_count": 16,
   "id": "66e704b2-1e80-4e9e-b2a6-360194bfeb82",
   "metadata": {},
   "outputs": [],
   "source": [
    "url = 'https://raw.githubusercontent.com/vkoul/data/main/misc/'\n",
    "listings = pd.read_csv(url + '/aibnb_listings.csv')\n",
    "users = pd.read_csv(url + '/airbnb_users.csv')"
   ]
  },
  {
   "cell_type": "code",
   "execution_count": 17,
   "id": "b1184ff1-7ecf-4bbd-a0dd-34082a2964a6",
   "metadata": {},
   "outputs": [],
   "source": [
    "date_list = ['ts_interaction_first', 'ts_reply_at_first', 'ts_accepted_at_first','ts_booking_at','ds_checkin_first', 'ds_checkout_first']\n",
    "contacts = pd.read_csv(url + '/airbnb_contacts.csv', parse_dates = date_list)"
   ]
  },
  {
   "cell_type": "markdown",
   "id": "55a28c00-5e68-4243-8df6-31d8b7982eab",
   "metadata": {},
   "source": [
    "Explore data:"
   ]
  },
  {
   "cell_type": "code",
   "execution_count": 18,
   "id": "8edfcda7-40c8-464d-8533-4f8b67a281a7",
   "metadata": {},
   "outputs": [
    {
     "data": {
      "text/plain": [
       "(13038, 4)"
      ]
     },
     "execution_count": 18,
     "metadata": {},
     "output_type": "execute_result"
    }
   ],
   "source": [
    "listings.shape"
   ]
  },
  {
   "cell_type": "code",
   "execution_count": 19,
   "id": "604bac63-5f99-4630-b9d7-296cdffab4b2",
   "metadata": {},
   "outputs": [
    {
     "data": {
      "text/plain": [
       "(31525, 3)"
      ]
     },
     "execution_count": 19,
     "metadata": {},
     "output_type": "execute_result"
    }
   ],
   "source": [
    "users.shape"
   ]
  },
  {
   "cell_type": "code",
   "execution_count": 20,
   "id": "2dde95ae-4d9e-4dfb-b33b-22afdea7dd88",
   "metadata": {},
   "outputs": [
    {
     "data": {
      "text/plain": [
       "(27887, 14)"
      ]
     },
     "execution_count": 20,
     "metadata": {},
     "output_type": "execute_result"
    }
   ],
   "source": [
    "contacts.shape"
   ]
  },
  {
   "cell_type": "code",
   "execution_count": 21,
   "id": "453f6175-35f5-44e1-acb4-4fed694e69c8",
   "metadata": {},
   "outputs": [
    {
     "data": {
      "text/html": [
       "<div>\n",
       "<style scoped>\n",
       "    .dataframe tbody tr th:only-of-type {\n",
       "        vertical-align: middle;\n",
       "    }\n",
       "\n",
       "    .dataframe tbody tr th {\n",
       "        vertical-align: top;\n",
       "    }\n",
       "\n",
       "    .dataframe thead th {\n",
       "        text-align: right;\n",
       "    }\n",
       "</style>\n",
       "<table border=\"1\" class=\"dataframe\">\n",
       "  <thead>\n",
       "    <tr style=\"text-align: right;\">\n",
       "      <th></th>\n",
       "      <th>id_guest_anon</th>\n",
       "      <th>id_host_anon</th>\n",
       "      <th>id_listing_anon</th>\n",
       "      <th>ts_interaction_first</th>\n",
       "      <th>ts_reply_at_first</th>\n",
       "      <th>ts_accepted_at_first</th>\n",
       "      <th>ts_booking_at</th>\n",
       "      <th>ds_checkin_first</th>\n",
       "      <th>ds_checkout_first</th>\n",
       "      <th>m_guests</th>\n",
       "      <th>m_interactions</th>\n",
       "      <th>m_first_message_length_in_characters</th>\n",
       "      <th>contact_channel_first</th>\n",
       "      <th>guest_user_stage_first</th>\n",
       "    </tr>\n",
       "  </thead>\n",
       "  <tbody>\n",
       "    <tr>\n",
       "      <th>0</th>\n",
       "      <td>da8656a1-51af-4f38-b1c4-94be1f585157</td>\n",
       "      <td>5426897d-960d-4013-9e38-606ae746793c</td>\n",
       "      <td>a408a8b2-0d44-4513-a611-3736d0409bb2</td>\n",
       "      <td>2016-04-21 02:55:53</td>\n",
       "      <td>2016-04-21 03:15:00</td>\n",
       "      <td>2016-04-21 03:15:00</td>\n",
       "      <td>2016-04-21 03:15:00</td>\n",
       "      <td>2016-08-02</td>\n",
       "      <td>2016-08-06</td>\n",
       "      <td>4.0</td>\n",
       "      <td>30</td>\n",
       "      <td>31.0</td>\n",
       "      <td>book_it</td>\n",
       "      <td>past_booker</td>\n",
       "    </tr>\n",
       "    <tr>\n",
       "      <th>1</th>\n",
       "      <td>8590d6f1-8bc9-4e8b-bdfb-de78f69fcf37</td>\n",
       "      <td>f30417c5-6df4-45ac-bfc2-6ad1cce398ab</td>\n",
       "      <td>e387c705-0aeb-464c-9375-ece63be6f006</td>\n",
       "      <td>2016-02-16 22:14:01</td>\n",
       "      <td>2016-02-16 23:37:36</td>\n",
       "      <td>NaT</td>\n",
       "      <td>NaT</td>\n",
       "      <td>2016-08-11</td>\n",
       "      <td>2016-08-22</td>\n",
       "      <td>5.0</td>\n",
       "      <td>2</td>\n",
       "      <td>312.0</td>\n",
       "      <td>contact_me</td>\n",
       "      <td>past_booker</td>\n",
       "    </tr>\n",
       "    <tr>\n",
       "      <th>2</th>\n",
       "      <td>ebcd83ba-bda1-47eb-9680-2dd04ccf3988</td>\n",
       "      <td>13cbf50a-3272-45d4-9866-a06b6ea1b99a</td>\n",
       "      <td>d1eb1960-938f-4305-a353-51e224414dd4</td>\n",
       "      <td>2016-01-27 23:33:38</td>\n",
       "      <td>2016-01-28 02:12:47</td>\n",
       "      <td>NaT</td>\n",
       "      <td>NaT</td>\n",
       "      <td>2016-03-14</td>\n",
       "      <td>2016-03-23</td>\n",
       "      <td>1.0</td>\n",
       "      <td>3</td>\n",
       "      <td>164.0</td>\n",
       "      <td>contact_me</td>\n",
       "      <td>new</td>\n",
       "    </tr>\n",
       "    <tr>\n",
       "      <th>3</th>\n",
       "      <td>b0af8848-fe2a-4ef1-991e-26ab3066feb3</td>\n",
       "      <td>01614601-d5a4-4776-ab9b-c10d3b865bf0</td>\n",
       "      <td>855f6779-346c-45fc-a64b-ea133250ca7a</td>\n",
       "      <td>2016-05-05 14:42:52</td>\n",
       "      <td>2016-05-05 15:17:40</td>\n",
       "      <td>2016-05-05 15:17:40</td>\n",
       "      <td>NaT</td>\n",
       "      <td>2016-05-27</td>\n",
       "      <td>2016-05-29</td>\n",
       "      <td>2.0</td>\n",
       "      <td>3</td>\n",
       "      <td>203.0</td>\n",
       "      <td>contact_me</td>\n",
       "      <td>new</td>\n",
       "    </tr>\n",
       "    <tr>\n",
       "      <th>4</th>\n",
       "      <td>5ddbbcc3-ac1a-4d8a-b6f8-0f675b76d1b2</td>\n",
       "      <td>f2fed6f3-4c5c-453d-9e64-37c62b8bd06d</td>\n",
       "      <td>f2928a59-c5e7-42b2-9c37-240a40f38dc0</td>\n",
       "      <td>2016-06-23 03:09:25.0</td>\n",
       "      <td>2016-06-23 03:09:26</td>\n",
       "      <td>2016-06-23 03:09:33</td>\n",
       "      <td>2016-06-23 03:09:33</td>\n",
       "      <td>2016-08-19</td>\n",
       "      <td>2016-08-21</td>\n",
       "      <td>3.0</td>\n",
       "      <td>25</td>\n",
       "      <td>0.0</td>\n",
       "      <td>instant_book</td>\n",
       "      <td>past_booker</td>\n",
       "    </tr>\n",
       "  </tbody>\n",
       "</table>\n",
       "</div>"
      ],
      "text/plain": [
       "                          id_guest_anon                          id_host_anon  \\\n",
       "0  da8656a1-51af-4f38-b1c4-94be1f585157  5426897d-960d-4013-9e38-606ae746793c   \n",
       "1  8590d6f1-8bc9-4e8b-bdfb-de78f69fcf37  f30417c5-6df4-45ac-bfc2-6ad1cce398ab   \n",
       "2  ebcd83ba-bda1-47eb-9680-2dd04ccf3988  13cbf50a-3272-45d4-9866-a06b6ea1b99a   \n",
       "3  b0af8848-fe2a-4ef1-991e-26ab3066feb3  01614601-d5a4-4776-ab9b-c10d3b865bf0   \n",
       "4  5ddbbcc3-ac1a-4d8a-b6f8-0f675b76d1b2  f2fed6f3-4c5c-453d-9e64-37c62b8bd06d   \n",
       "\n",
       "                        id_listing_anon   ts_interaction_first  \\\n",
       "0  a408a8b2-0d44-4513-a611-3736d0409bb2    2016-04-21 02:55:53   \n",
       "1  e387c705-0aeb-464c-9375-ece63be6f006    2016-02-16 22:14:01   \n",
       "2  d1eb1960-938f-4305-a353-51e224414dd4    2016-01-27 23:33:38   \n",
       "3  855f6779-346c-45fc-a64b-ea133250ca7a    2016-05-05 14:42:52   \n",
       "4  f2928a59-c5e7-42b2-9c37-240a40f38dc0  2016-06-23 03:09:25.0   \n",
       "\n",
       "    ts_reply_at_first ts_accepted_at_first       ts_booking_at  \\\n",
       "0 2016-04-21 03:15:00  2016-04-21 03:15:00 2016-04-21 03:15:00   \n",
       "1 2016-02-16 23:37:36                  NaT                 NaT   \n",
       "2 2016-01-28 02:12:47                  NaT                 NaT   \n",
       "3 2016-05-05 15:17:40  2016-05-05 15:17:40                 NaT   \n",
       "4 2016-06-23 03:09:26  2016-06-23 03:09:33 2016-06-23 03:09:33   \n",
       "\n",
       "  ds_checkin_first ds_checkout_first  m_guests  m_interactions  \\\n",
       "0       2016-08-02        2016-08-06       4.0              30   \n",
       "1       2016-08-11        2016-08-22       5.0               2   \n",
       "2       2016-03-14        2016-03-23       1.0               3   \n",
       "3       2016-05-27        2016-05-29       2.0               3   \n",
       "4       2016-08-19        2016-08-21       3.0              25   \n",
       "\n",
       "   m_first_message_length_in_characters contact_channel_first  \\\n",
       "0                                  31.0               book_it   \n",
       "1                                 312.0            contact_me   \n",
       "2                                 164.0            contact_me   \n",
       "3                                 203.0            contact_me   \n",
       "4                                   0.0          instant_book   \n",
       "\n",
       "  guest_user_stage_first  \n",
       "0            past_booker  \n",
       "1            past_booker  \n",
       "2                    new  \n",
       "3                    new  \n",
       "4            past_booker  "
      ]
     },
     "execution_count": 21,
     "metadata": {},
     "output_type": "execute_result"
    }
   ],
   "source": [
    "contacts.head()"
   ]
  },
  {
   "cell_type": "code",
   "execution_count": 22,
   "id": "6e9dc30d-65ad-4868-819a-638f5e715e9a",
   "metadata": {},
   "outputs": [
    {
     "data": {
      "text/html": [
       "<div>\n",
       "<style scoped>\n",
       "    .dataframe tbody tr th:only-of-type {\n",
       "        vertical-align: middle;\n",
       "    }\n",
       "\n",
       "    .dataframe tbody tr th {\n",
       "        vertical-align: top;\n",
       "    }\n",
       "\n",
       "    .dataframe thead th {\n",
       "        text-align: right;\n",
       "    }\n",
       "</style>\n",
       "<table border=\"1\" class=\"dataframe\">\n",
       "  <thead>\n",
       "    <tr style=\"text-align: right;\">\n",
       "      <th></th>\n",
       "      <th>id_listing_anon</th>\n",
       "      <th>room_type</th>\n",
       "      <th>listing_neighborhood</th>\n",
       "      <th>total_reviews</th>\n",
       "    </tr>\n",
       "  </thead>\n",
       "  <tbody>\n",
       "    <tr>\n",
       "      <th>0</th>\n",
       "      <td>71582793-e5f8-46d7-afdf-7a31d2341c79</td>\n",
       "      <td>Private room</td>\n",
       "      <td>-unknown-</td>\n",
       "      <td>0.0</td>\n",
       "    </tr>\n",
       "    <tr>\n",
       "      <th>1</th>\n",
       "      <td>a1a3f728-e21f-4432-96aa-361d28e2b319</td>\n",
       "      <td>Entire home/apt</td>\n",
       "      <td>Copacabana</td>\n",
       "      <td>0.0</td>\n",
       "    </tr>\n",
       "    <tr>\n",
       "      <th>2</th>\n",
       "      <td>353a68be-ecf9-4b7b-9533-c882dc2f0760</td>\n",
       "      <td>Entire home/apt</td>\n",
       "      <td>Barra da Tijuca</td>\n",
       "      <td>3.0</td>\n",
       "    </tr>\n",
       "    <tr>\n",
       "      <th>3</th>\n",
       "      <td>b9ae1908-0486-40ac-bbcf-bd63ffebfe63</td>\n",
       "      <td>Entire home/apt</td>\n",
       "      <td>Lapa</td>\n",
       "      <td>4.0</td>\n",
       "    </tr>\n",
       "    <tr>\n",
       "      <th>4</th>\n",
       "      <td>fa0290ef-7881-4482-8981-8ebb1ce5dbfd</td>\n",
       "      <td>Entire home/apt</td>\n",
       "      <td>-unknown-</td>\n",
       "      <td>0.0</td>\n",
       "    </tr>\n",
       "  </tbody>\n",
       "</table>\n",
       "</div>"
      ],
      "text/plain": [
       "                        id_listing_anon        room_type listing_neighborhood  \\\n",
       "0  71582793-e5f8-46d7-afdf-7a31d2341c79     Private room            -unknown-   \n",
       "1  a1a3f728-e21f-4432-96aa-361d28e2b319  Entire home/apt           Copacabana   \n",
       "2  353a68be-ecf9-4b7b-9533-c882dc2f0760  Entire home/apt      Barra da Tijuca   \n",
       "3  b9ae1908-0486-40ac-bbcf-bd63ffebfe63  Entire home/apt                 Lapa   \n",
       "4  fa0290ef-7881-4482-8981-8ebb1ce5dbfd  Entire home/apt            -unknown-   \n",
       "\n",
       "   total_reviews  \n",
       "0            0.0  \n",
       "1            0.0  \n",
       "2            3.0  \n",
       "3            4.0  \n",
       "4            0.0  "
      ]
     },
     "execution_count": 22,
     "metadata": {},
     "output_type": "execute_result"
    }
   ],
   "source": [
    "listings.head()"
   ]
  },
  {
   "cell_type": "markdown",
   "id": "7811ea90-a309-4ad1-ae57-3c1f8be44298",
   "metadata": {},
   "source": [
    "Common columns: id_listing_anon allows listings to join to contacts, id_user_anon allows users to join to contacts\n",
    "Therefore, use this to join the datasets:"
   ]
  },
  {
   "cell_type": "code",
   "execution_count": 23,
   "id": "8505f4b1-f66a-4f4a-a9f4-36d61d862c49",
   "metadata": {},
   "outputs": [
    {
     "name": "stdout",
     "output_type": "stream",
     "text": [
      "<class 'pandas.core.frame.DataFrame'>\n",
      "RangeIndex: 27887 entries, 0 to 27886\n",
      "Data columns (total 14 columns):\n",
      " #   Column                                Non-Null Count  Dtype         \n",
      "---  ------                                --------------  -----         \n",
      " 0   id_guest_anon                         27887 non-null  object        \n",
      " 1   id_host_anon                          27887 non-null  object        \n",
      " 2   id_listing_anon                       27887 non-null  object        \n",
      " 3   ts_interaction_first                  27887 non-null  object        \n",
      " 4   ts_reply_at_first                     25855 non-null  datetime64[ns]\n",
      " 5   ts_accepted_at_first                  16415 non-null  datetime64[ns]\n",
      " 6   ts_booking_at                         11587 non-null  datetime64[ns]\n",
      " 7   ds_checkin_first                      27887 non-null  datetime64[ns]\n",
      " 8   ds_checkout_first                     27887 non-null  datetime64[ns]\n",
      " 9   m_guests                              27886 non-null  float64       \n",
      " 10  m_interactions                        27887 non-null  int64         \n",
      " 11  m_first_message_length_in_characters  27887 non-null  float64       \n",
      " 12  contact_channel_first                 27887 non-null  object        \n",
      " 13  guest_user_stage_first                27887 non-null  object        \n",
      "dtypes: datetime64[ns](5), float64(2), int64(1), object(6)\n",
      "memory usage: 3.0+ MB\n"
     ]
    }
   ],
   "source": [
    "contacts.info()"
   ]
  },
  {
   "cell_type": "code",
   "execution_count": 24,
   "id": "51973165-0c0d-4570-8165-980d71c83e22",
   "metadata": {},
   "outputs": [
    {
     "name": "stdout",
     "output_type": "stream",
     "text": [
      "<class 'pandas.core.frame.DataFrame'>\n",
      "RangeIndex: 13038 entries, 0 to 13037\n",
      "Data columns (total 4 columns):\n",
      " #   Column                Non-Null Count  Dtype  \n",
      "---  ------                --------------  -----  \n",
      " 0   id_listing_anon       13038 non-null  object \n",
      " 1   room_type             13038 non-null  object \n",
      " 2   listing_neighborhood  13038 non-null  object \n",
      " 3   total_reviews         13038 non-null  float64\n",
      "dtypes: float64(1), object(3)\n",
      "memory usage: 407.6+ KB\n"
     ]
    }
   ],
   "source": [
    "listings.info()"
   ]
  },
  {
   "cell_type": "code",
   "execution_count": 25,
   "id": "580c9d9b-7ea1-4b34-9dec-79fe2440d766",
   "metadata": {},
   "outputs": [
    {
     "name": "stdout",
     "output_type": "stream",
     "text": [
      "<class 'pandas.core.frame.DataFrame'>\n",
      "RangeIndex: 31525 entries, 0 to 31524\n",
      "Data columns (total 3 columns):\n",
      " #   Column                 Non-Null Count  Dtype \n",
      "---  ------                 --------------  ----- \n",
      " 0   id_user_anon           31525 non-null  object\n",
      " 1   country                31524 non-null  object\n",
      " 2   words_in_user_profile  31525 non-null  int64 \n",
      "dtypes: int64(1), object(2)\n",
      "memory usage: 739.0+ KB\n"
     ]
    }
   ],
   "source": [
    "users.info()"
   ]
  },
  {
   "cell_type": "markdown",
   "id": "ce3b9c59-e090-4e95-8240-de1b91ef0f8e",
   "metadata": {},
   "source": [
    "Are the listings and guest/users common across the dataframes?"
   ]
  },
  {
   "cell_type": "code",
   "execution_count": 26,
   "id": "832ce151-7ded-4b0e-a345-554b08025dd0",
   "metadata": {},
   "outputs": [
    {
     "name": "stdout",
     "output_type": "stream",
     "text": [
      "listing_id_overlap:  0\n",
      "user_id_overlap:  0\n"
     ]
    }
   ],
   "source": [
    "count = 0\n",
    "for listing in range(len(list(contacts['id_listing_anon']))):\n",
    "    if contacts['id_listing_anon'][listing] in listings['id_listing_anon']:\n",
    "        count += 1\n",
    "print('listing_id_overlap: ', count)\n",
    "count = 0\n",
    "for user in range(len(list(contacts['id_guest_anon']))):\n",
    "    if contacts['id_guest_anon'][user] in users['id_user_anon']:\n",
    "        count += 1\n",
    "print('user_id_overlap: ', count)"
   ]
  },
  {
   "cell_type": "markdown",
   "id": "66d37a9f-7503-4889-bc8a-d6826ecfe8e7",
   "metadata": {},
   "source": [
    "No, and guest ids != user ids - therefore add listings to contacts as new data and add users to contacts as new data"
   ]
  },
  {
   "cell_type": "code",
   "execution_count": 27,
   "id": "4a284300-f21d-400d-9204-90c143c39a4e",
   "metadata": {},
   "outputs": [
    {
     "name": "stdout",
     "output_type": "stream",
     "text": [
      "['id_user_anon', 'country', 'words_in_user_profile', 'room_type', 'listing_neighborhood', 'total_reviews']\n",
      "<class 'pandas.core.frame.DataFrame'>\n",
      "RangeIndex: 27887 entries, 0 to 27886\n",
      "Data columns (total 20 columns):\n",
      " #   Column                                Non-Null Count  Dtype         \n",
      "---  ------                                --------------  -----         \n",
      " 0   id_guest_anon                         27887 non-null  object        \n",
      " 1   id_host_anon                          27887 non-null  object        \n",
      " 2   id_listing_anon                       27887 non-null  object        \n",
      " 3   ts_interaction_first                  27887 non-null  object        \n",
      " 4   ts_reply_at_first                     25855 non-null  datetime64[ns]\n",
      " 5   ts_accepted_at_first                  16415 non-null  datetime64[ns]\n",
      " 6   ts_booking_at                         11587 non-null  datetime64[ns]\n",
      " 7   ds_checkin_first                      27887 non-null  datetime64[ns]\n",
      " 8   ds_checkout_first                     27887 non-null  datetime64[ns]\n",
      " 9   m_guests                              27886 non-null  float64       \n",
      " 10  m_interactions                        27887 non-null  int64         \n",
      " 11  m_first_message_length_in_characters  27887 non-null  float64       \n",
      " 12  contact_channel_first                 27887 non-null  object        \n",
      " 13  guest_user_stage_first                27887 non-null  object        \n",
      " 14  id_user_anon                          0 non-null      float64       \n",
      " 15  country                               0 non-null      float64       \n",
      " 16  words_in_user_profile                 0 non-null      float64       \n",
      " 17  room_type                             0 non-null      float64       \n",
      " 18  listing_neighborhood                  0 non-null      float64       \n",
      " 19  total_reviews                         0 non-null      float64       \n",
      "dtypes: datetime64[ns](5), float64(8), int64(1), object(6)\n",
      "memory usage: 4.3+ MB\n",
      "None\n",
      "20\n",
      "<class 'pandas.core.frame.DataFrame'>\n",
      "Index: 40925 entries, 0 to 40925\n",
      "Data columns (total 20 columns):\n",
      " #   Column                                Non-Null Count  Dtype  \n",
      "---  ------                                --------------  -----  \n",
      " 0   id_guest_anon                         40925 non-null  object \n",
      " 1   id_host_anon                          40925 non-null  object \n",
      " 2   id_listing_anon                       40925 non-null  object \n",
      " 3   ts_interaction_first                  40925 non-null  object \n",
      " 4   ts_reply_at_first                     38893 non-null  object \n",
      " 5   ts_accepted_at_first                  29453 non-null  object \n",
      " 6   ts_booking_at                         24625 non-null  object \n",
      " 7   ds_checkin_first                      40925 non-null  object \n",
      " 8   ds_checkout_first                     40925 non-null  object \n",
      " 9   m_guests                              40924 non-null  float64\n",
      " 10  m_interactions                        40925 non-null  int64  \n",
      " 11  m_first_message_length_in_characters  40925 non-null  float64\n",
      " 12  contact_channel_first                 40925 non-null  object \n",
      " 13  guest_user_stage_first                40925 non-null  object \n",
      " 14  id_user_anon                          13038 non-null  float64\n",
      " 15  country                               13038 non-null  float64\n",
      " 16  words_in_user_profile                 13038 non-null  float64\n",
      " 17  room_type                             13038 non-null  float64\n",
      " 18  listing_neighborhood                  13038 non-null  float64\n",
      " 19  total_reviews                         13038 non-null  float64\n",
      "dtypes: float64(8), int64(1), object(11)\n",
      "memory usage: 6.6+ MB\n",
      "None\n",
      "<class 'pandas.core.frame.DataFrame'>\n",
      "Index: 72450 entries, 0 to 72450\n",
      "Data columns (total 20 columns):\n",
      " #   Column                                Non-Null Count  Dtype  \n",
      "---  ------                                --------------  -----  \n",
      " 0   id_guest_anon                         72450 non-null  object \n",
      " 1   id_host_anon                          72450 non-null  object \n",
      " 2   id_listing_anon                       72450 non-null  object \n",
      " 3   ts_interaction_first                  72450 non-null  object \n",
      " 4   ts_reply_at_first                     70418 non-null  object \n",
      " 5   ts_accepted_at_first                  60978 non-null  object \n",
      " 6   ts_booking_at                         56150 non-null  object \n",
      " 7   ds_checkin_first                      72450 non-null  object \n",
      " 8   ds_checkout_first                     72450 non-null  object \n",
      " 9   m_guests                              72449 non-null  float64\n",
      " 10  m_interactions                        72450 non-null  int64  \n",
      " 11  m_first_message_length_in_characters  72450 non-null  float64\n",
      " 12  contact_channel_first                 72450 non-null  object \n",
      " 13  guest_user_stage_first                72450 non-null  object \n",
      " 14  id_user_anon                          44563 non-null  float64\n",
      " 15  country                               44563 non-null  float64\n",
      " 16  words_in_user_profile                 44563 non-null  float64\n",
      " 17  room_type                             44563 non-null  float64\n",
      " 18  listing_neighborhood                  44563 non-null  float64\n",
      " 19  total_reviews                         44563 non-null  float64\n",
      "dtypes: float64(8), int64(1), object(11)\n",
      "memory usage: 11.6+ MB\n",
      "None\n"
     ]
    }
   ],
   "source": [
    "#Create space in the contacts df:\n",
    "import numpy as np\n",
    "pd.options.mode.chained_assignment = None  # default='warn'\n",
    "df = contacts\n",
    "columns_to_add = []\n",
    "for col in range(len(list(users.columns.values))):\n",
    "    columns_to_add.append(list(users.columns.values)[col])\n",
    "listings_cols = list(listings.columns.values)[1:]\n",
    "for col in range(len(listings_cols)):\n",
    "    columns_to_add.append(listings_cols[col])\n",
    "print(columns_to_add)\n",
    "for col in range(len(columns_to_add)):\n",
    "    df[columns_to_add[col]] = pd.Series(np.nan, index=df.index)\n",
    "    #^https://stackoverflow.com/questions/12555323/how-to-add-a-new-column-to-an-existing-dataframe\",\n",
    "    #Accessed 04/06/2024\",\n",
    "print(df.info())\n",
    "new_row_data = []\n",
    "for i in range(20):\n",
    "    new_row_data.append(0)\n",
    "    #^https://www.analyticsvidhya.com/blog/2023/12/supercharge-your-dataframes-mastering-row-appending-in-pandas/#:~:text=The%20append()%20function%20in,for%20beginners%20and%20seasoned%20professionals.&text=While%20this%20method%20is%20simple,multiple%20rows%20in%20a%20loop\n",
    "    #Accessed 04/06/2024\n",
    "print(len(new_row_data))\n",
    "for row in range(len(list(listings['id_listing_anon']))):\n",
    "    df.loc[row + 27887 + 1] = new_row_data #df currently 27887 rows\n",
    "print(df.info())\n",
    "for row in range(len(list(users['id_user_anon']))):\n",
    "    df.loc[row + 40925 + 1] = new_row_data #df currently 40925 rows\n",
    "print(df.info())"
   ]
  },
  {
   "cell_type": "markdown",
   "id": "fcdc8230-3ea7-4ca9-9c4f-492d70fd1a36",
   "metadata": {},
   "source": [
    "Fill in the new data into the contacts df to create one df with all the data:"
   ]
  },
  {
   "cell_type": "code",
   "execution_count": 28,
   "id": "d1bed5a0-e0ae-4541-8fdc-c59050de0f94",
   "metadata": {},
   "outputs": [
    {
     "name": "stderr",
     "output_type": "stream",
     "text": [
      "/var/folders/xn/_bz_k2_x60v2l_s_sch6rwp40000gn/T/ipykernel_13178/3257953819.py:5: FutureWarning: Setting an item of incompatible dtype is deprecated and will raise in a future error of pandas. Value 'Private room' has dtype incompatible with float64, please explicitly cast to a compatible dtype first.\n",
      "  df[list(df.columns.values)[col]][row + 27887 + 1] = listings[list(df.columns.values)[col]][row]\n",
      "/var/folders/xn/_bz_k2_x60v2l_s_sch6rwp40000gn/T/ipykernel_13178/3257953819.py:5: FutureWarning: Setting an item of incompatible dtype is deprecated and will raise in a future error of pandas. Value '-unknown-' has dtype incompatible with float64, please explicitly cast to a compatible dtype first.\n",
      "  df[list(df.columns.values)[col]][row + 27887 + 1] = listings[list(df.columns.values)[col]][row]\n",
      "/var/folders/xn/_bz_k2_x60v2l_s_sch6rwp40000gn/T/ipykernel_13178/3257953819.py:11: FutureWarning: Setting an item of incompatible dtype is deprecated and will raise in a future error of pandas. Value '1d16a001-31a2-494c-a101-1f7b308adc62' has dtype incompatible with float64, please explicitly cast to a compatible dtype first.\n",
      "  df[list(df.columns.values)[col]][row + 40925 + 1] = users[list(df.columns.values)[col]][row]\n",
      "/var/folders/xn/_bz_k2_x60v2l_s_sch6rwp40000gn/T/ipykernel_13178/3257953819.py:11: FutureWarning: Setting an item of incompatible dtype is deprecated and will raise in a future error of pandas. Value 'FR' has dtype incompatible with float64, please explicitly cast to a compatible dtype first.\n",
      "  df[list(df.columns.values)[col]][row + 40925 + 1] = users[list(df.columns.values)[col]][row]\n"
     ]
    }
   ],
   "source": [
    "#Fill in the new data into the contacts df to create one df with all the data:\n",
    "for col in range(len(list(df.columns.values))):\n",
    "    if list(df.columns.values)[col] in list(listings.columns.values):\n",
    "        for row in range(len(list(listings['id_listing_anon']))):\n",
    "           df[list(df.columns.values)[col]][row + 27887 + 1] = listings[list(df.columns.values)[col]][row]\n",
    "    else:\n",
    "        pass\n",
    "for col in range(len(list(df.columns.values))):\n",
    "    if list(df.columns.values)[col] in list(users.columns.values):\n",
    "        for row in range(len(list(users['id_user_anon']))):\n",
    "            df[list(df.columns.values)[col]][row + 40925 + 1] = users[list(df.columns.values)[col]][row]\n",
    "    else:\n",
    "        pass"
   ]
  },
  {
   "cell_type": "code",
   "execution_count": 29,
   "id": "95228bc5-3dc2-4941-87ac-7ac116d8f715",
   "metadata": {},
   "outputs": [
    {
     "name": "stdout",
     "output_type": "stream",
     "text": [
      "id_guest_anon                                                              0\n",
      "id_host_anon                                                               0\n",
      "id_listing_anon                         b9ae1908-0486-40ac-bbcf-bd63ffebfe63\n",
      "ts_interaction_first                                                       0\n",
      "ts_reply_at_first                                                          0\n",
      "ts_accepted_at_first                                                       0\n",
      "ts_booking_at                                                              0\n",
      "ds_checkin_first                                                           0\n",
      "ds_checkout_first                                                          0\n",
      "m_guests                                                                 0.0\n",
      "m_interactions                                                             0\n",
      "m_first_message_length_in_characters                                     0.0\n",
      "contact_channel_first                                                      0\n",
      "guest_user_stage_first                                                     0\n",
      "id_user_anon                                                             0.0\n",
      "country                                                                  0.0\n",
      "words_in_user_profile                                                    0.0\n",
      "room_type                                                    Entire home/apt\n",
      "listing_neighborhood                                                    Lapa\n",
      "total_reviews                                                            4.0\n",
      "Name: 27891, dtype: object\n",
      "<class 'pandas.core.frame.DataFrame'>\n",
      "Index: 72450 entries, 0 to 72450\n",
      "Data columns (total 20 columns):\n",
      " #   Column                                Non-Null Count  Dtype  \n",
      "---  ------                                --------------  -----  \n",
      " 0   id_guest_anon                         72450 non-null  object \n",
      " 1   id_host_anon                          72450 non-null  object \n",
      " 2   id_listing_anon                       72450 non-null  object \n",
      " 3   ts_interaction_first                  72450 non-null  object \n",
      " 4   ts_reply_at_first                     70418 non-null  object \n",
      " 5   ts_accepted_at_first                  60978 non-null  object \n",
      " 6   ts_booking_at                         56150 non-null  object \n",
      " 7   ds_checkin_first                      72450 non-null  object \n",
      " 8   ds_checkout_first                     72450 non-null  object \n",
      " 9   m_guests                              72449 non-null  float64\n",
      " 10  m_interactions                        72450 non-null  int64  \n",
      " 11  m_first_message_length_in_characters  72450 non-null  float64\n",
      " 12  contact_channel_first                 72450 non-null  object \n",
      " 13  guest_user_stage_first                72450 non-null  object \n",
      " 14  id_user_anon                          44563 non-null  object \n",
      " 15  country                               44562 non-null  object \n",
      " 16  words_in_user_profile                 44563 non-null  float64\n",
      " 17  room_type                             44563 non-null  object \n",
      " 18  listing_neighborhood                  44563 non-null  object \n",
      " 19  total_reviews                         44563 non-null  float64\n",
      "dtypes: float64(4), int64(1), object(15)\n",
      "memory usage: 13.6+ MB\n",
      "None\n"
     ]
    }
   ],
   "source": [
    "print(df.loc[27891])\n",
    "print(df.info())"
   ]
  },
  {
   "cell_type": "markdown",
   "id": "ebc00727-3738-4385-9826-6247b5861dca",
   "metadata": {},
   "source": [
    "Pickle:"
   ]
  },
  {
   "cell_type": "code",
   "execution_count": 34,
   "id": "545f78fd-5da4-4dcd-a0e4-db520d4b1f66",
   "metadata": {},
   "outputs": [],
   "source": [
    "#Pickle:\n",
    "import pickle\n",
    "file = '/Users/harrybakhshi/Desktop/Python_notes/data/PCDA_capstone/Airbnb_data_not_cleaned.pik'\n",
    "with open(file, 'wb') as f:\n",
    "    pickle.dump(df, f) #write df to .pik file on disk\n",
    "# with open(file, 'rb') as f:\n",
    "#      df = pickle.load(f) #load pickle file 'file' into variable"
   ]
  },
  {
   "cell_type": "markdown",
   "id": "1eab3903-51d1-404c-aa8e-fe7d7ccc698e",
   "metadata": {},
   "source": [
    "Fill nan's that were created by combining columns:"
   ]
  },
  {
   "cell_type": "code",
   "execution_count": 35,
   "id": "d6828952-8d46-4d02-a064-ea59a58129ba",
   "metadata": {},
   "outputs": [
    {
     "name": "stdout",
     "output_type": "stream",
     "text": [
      "['room_type', 'listing_neighborhood', 'total_reviews']\n"
     ]
    }
   ],
   "source": [
    "#Fill nan's that were created by combining columns:\n",
    "listings_cols = list(listings.columns.values)[1:]\n",
    "print(listings_cols)\n",
    "# print(df.loc[27886])\n",
    "# print(df.loc[27888])\n",
    "for col in range(len(list(df.columns.values))):\n",
    "    if list(df.columns.values)[col] in listings_cols:\n",
    "        for row in range(27887):\n",
    "            df[list(df.columns.values)[col]][row] = 0\n",
    "# print(df.loc[27886])\n",
    "# print(df.loc[27888])\n",
    "    if list(df.columns.values)[col] in list(users.columns.values):\n",
    "        for row in range(40925):\n",
    "            df[list(df.columns.values)[col]][row] = 0\n",
    "# print(df.loc[27886])\n",
    "# print(df.loc[27888])\n",
    "# print(df.loc[27891])"
   ]
  },
  {
   "cell_type": "markdown",
   "id": "10aa52bb-c773-4f23-bfe7-4fd54e28f8b1",
   "metadata": {},
   "source": [
    "Remove null rows in cols 4, 5, 6, 9, 15:"
   ]
  },
  {
   "cell_type": "code",
   "execution_count": 36,
   "id": "f97fe9d7-5120-4671-a71b-47b4fad7d4ca",
   "metadata": {},
   "outputs": [
    {
     "name": "stdout",
     "output_type": "stream",
     "text": [
      "<class 'pandas.core.frame.DataFrame'>\n",
      "Index: 56149 entries, 0 to 72450\n",
      "Data columns (total 20 columns):\n",
      " #   Column                                Non-Null Count  Dtype  \n",
      "---  ------                                --------------  -----  \n",
      " 0   id_guest_anon                         56149 non-null  object \n",
      " 1   id_host_anon                          56149 non-null  object \n",
      " 2   id_listing_anon                       56149 non-null  object \n",
      " 3   ts_interaction_first                  56149 non-null  object \n",
      " 4   ts_reply_at_first                     56149 non-null  object \n",
      " 5   ts_accepted_at_first                  56149 non-null  object \n",
      " 6   ts_booking_at                         56149 non-null  object \n",
      " 7   ds_checkin_first                      56149 non-null  object \n",
      " 8   ds_checkout_first                     56149 non-null  object \n",
      " 9   m_guests                              56149 non-null  float64\n",
      " 10  m_interactions                        56149 non-null  int64  \n",
      " 11  m_first_message_length_in_characters  56149 non-null  float64\n",
      " 12  contact_channel_first                 56149 non-null  object \n",
      " 13  guest_user_stage_first                56149 non-null  object \n",
      " 14  id_user_anon                          56149 non-null  object \n",
      " 15  country                               56149 non-null  object \n",
      " 16  words_in_user_profile                 56149 non-null  float64\n",
      " 17  room_type                             56149 non-null  object \n",
      " 18  listing_neighborhood                  56149 non-null  object \n",
      " 19  total_reviews                         56149 non-null  float64\n",
      "dtypes: float64(4), int64(1), object(15)\n",
      "memory usage: 11.0+ MB\n",
      "None\n"
     ]
    }
   ],
   "source": [
    "#Remove null rows in cols 4, 5, 6, 9, 15:\n",
    "df2 = df.copy()\n",
    "col_indices = [4, 5, 6, 9, 15]\n",
    "for col in range(len(col_indices)):\n",
    "    for i in df2.index:\n",
    "        val = df2.loc[i, df.columns.values[col_indices[col]]]\n",
    "        if pd.isnull(val):\n",
    "            df2.drop(i, inplace = True)\n",
    "print(df2.info()) #see results on dataframe"
   ]
  },
  {
   "cell_type": "code",
   "execution_count": 37,
   "id": "28f3eaaa-3c4f-4698-b657-6d50eaa94abb",
   "metadata": {},
   "outputs": [],
   "source": [
    "df = df2"
   ]
  },
  {
   "cell_type": "code",
   "execution_count": 38,
   "id": "346a1d80-6281-4e12-bce7-65e0a6ce5098",
   "metadata": {},
   "outputs": [
    {
     "name": "stdout",
     "output_type": "stream",
     "text": [
      "<class 'pandas.core.frame.DataFrame'>\n",
      "Index: 56149 entries, 0 to 72450\n",
      "Data columns (total 20 columns):\n",
      " #   Column                                Non-Null Count  Dtype  \n",
      "---  ------                                --------------  -----  \n",
      " 0   id_guest_anon                         56149 non-null  object \n",
      " 1   id_host_anon                          56149 non-null  object \n",
      " 2   id_listing_anon                       56149 non-null  object \n",
      " 3   ts_interaction_first                  56149 non-null  object \n",
      " 4   ts_reply_at_first                     56149 non-null  object \n",
      " 5   ts_accepted_at_first                  56149 non-null  object \n",
      " 6   ts_booking_at                         56149 non-null  object \n",
      " 7   ds_checkin_first                      56149 non-null  object \n",
      " 8   ds_checkout_first                     56149 non-null  object \n",
      " 9   m_guests                              56149 non-null  float64\n",
      " 10  m_interactions                        56149 non-null  int64  \n",
      " 11  m_first_message_length_in_characters  56149 non-null  float64\n",
      " 12  contact_channel_first                 56149 non-null  object \n",
      " 13  guest_user_stage_first                56149 non-null  object \n",
      " 14  id_user_anon                          56149 non-null  object \n",
      " 15  country                               56149 non-null  object \n",
      " 16  words_in_user_profile                 56149 non-null  float64\n",
      " 17  room_type                             56149 non-null  object \n",
      " 18  listing_neighborhood                  56149 non-null  object \n",
      " 19  total_reviews                         56149 non-null  float64\n",
      "dtypes: float64(4), int64(1), object(15)\n",
      "memory usage: 11.0+ MB\n"
     ]
    }
   ],
   "source": [
    "df.info()"
   ]
  },
  {
   "cell_type": "code",
   "execution_count": 39,
   "id": "270ef607-aac9-4500-9837-79550e63f537",
   "metadata": {},
   "outputs": [],
   "source": [
    "# df[df.columns.values[18]].head(20)"
   ]
  },
  {
   "cell_type": "markdown",
   "id": "77d52767-edaf-48ea-a275-5104a0a09c57",
   "metadata": {},
   "source": [
    "Data attributes:\n",
    "    \n",
    "    id_guest_anon = guest id  \n",
    "    id_host_anon = host id                 \n",
    "    id_listing_anon = listing id             \n",
    "    ts_interaction_first = first guest interaction with listing            \n",
    "    ts_reply_at_first = first reply to guest inquiry                  \n",
    "    ts_accepted_at_first = first acceptance of guest booking             \n",
    "    ts_booking_at = when booked                \n",
    "    ds_checkin_first = when first guest checked in                 \n",
    "    ds_checkout_first = when first guest to check out checked out       \n",
    "    m_guests = no. of guests booked                    \n",
    "    m_interactions = no of interactions with the listing before host accepts actual guest booking                      \n",
    "    m_first_message_length_in_characters = length of first message between guest and host in characters     \n",
    "    contact_channel_first = channel by which host first contacted by guest          \n",
    "    guest_user_stage_first = first type of guest making booking    \n",
    "    id_user_anon = user id                  \n",
    "    country = country of user                         \n",
    "    words_in_user_profile = words in user profile           \n",
    "    room_type = type of room of listing                         \n",
    "    listing_neighborhood = neighbourhood in which listing can be found             \n",
    "    total_reviews = no. of listing reviews     "
   ]
  },
  {
   "cell_type": "markdown",
   "id": "af48c0bf-c8d4-4fa9-a9d4-6ccc3321f2ee",
   "metadata": {},
   "source": [
    " "
   ]
  },
  {
   "cell_type": "markdown",
   "id": "16de02e9-f65b-497d-998f-492970544131",
   "metadata": {},
   "source": [
    "Find unique value count for categorical values:    \n",
    "Cols 0-2, 12-15, 17, 18 are categorical:"
   ]
  },
  {
   "cell_type": "code",
   "execution_count": 40,
   "id": "6666317e-10a2-4f1b-8935-05c8b3a9937f",
   "metadata": {},
   "outputs": [],
   "source": [
    "#Find unique value count for categorical values:\n",
    "#Cols 0-2, 12-15, 17, 18 are categorical:\n",
    "col_indices = [0, 1, 2, 12, 13, 14, 15, 17, 18]\n",
    "lists_unique_entries = []\n",
    "for col in range(len(col_indices)):\n",
    "    df_col = df[df.columns.values[col_indices[col]]]\n",
    "    type_list = []\n",
    "    for i in df_col.index:\n",
    "        entry = df_col[i]\n",
    "        try:\n",
    "            found_type = str(entry)\n",
    "            type_list.append(entry)\n",
    "        except:\n",
    "            pass\n",
    "    # #How many elements?\n",
    "    # print('Elem after:' + ' ' + str(len(type_list)))\n",
    "    # print('')\n",
    "    #Find unique members of the list:\n",
    "    found_list = []\n",
    "    unique_in_type_list = []\n",
    "    entry = []\n",
    "    type_list_length = len(type_list)\n",
    "    for i in range(type_list_length):\n",
    "        entry = type_list[i]\n",
    "        if entry not in found_list:\n",
    "            unique_in_type_list.append(entry)\n",
    "            found_list.append(entry)\n",
    "    lists_unique_entries.append(unique_in_type_list)"
   ]
  },
  {
   "cell_type": "markdown",
   "id": "f52ddad1-e109-4e41-97f2-571a752f2993",
   "metadata": {},
   "source": [
    "All categorical variables nominal (lists_unique_entries[0] - lists_unique_entries[2] and lists_unique_entries[5]have huge no. of different nominal values):"
   ]
  },
  {
   "cell_type": "code",
   "execution_count": 41,
   "id": "f8467d5a-34f0-48a8-ac0e-9147d4ed14da",
   "metadata": {},
   "outputs": [
    {
     "name": "stdout",
     "output_type": "stream",
     "text": [
      "['book_it', 'instant_book', 'contact_me', 0]\n",
      "['past_booker', 'new', '-unknown-', 0]\n",
      "[0, 'FR', 'AR', 'BR', 'US', 'CA', 'GB', 'AE', 'DE', 'BE', 'AT', 'NO', 'UY', 'PY', 'FI', 'ZA', 'CH', 'CL', 'NL', 'AU', 'CO', 'MX', 'SE', 'ES', 'IE', 'IT', 'CR', 'PE', 'DK', 'JP', 'SI', 'EG', 'PA', 'GR', 'RU', 'HK', 'PT', 'TR', 'NZ', 'BY', 'RO', 'CN', 'IL', 'TW', 'SG', 'PL', 'BO', 'PH', 'GF', 'IN', 'MA', 'CZ', 'BZ', 'ME', 'MY', 'GP', 'LT', 'EC', 'VN', 'HU', 'CD', 'VI', 'VE', 'SK', 'NP', 'EE', 'QA', 'SA', 'KR', 'DO', 'HN', 'MC', 'JE', 'BM', 'MT', 'MU', 'IQ', 'LV', 'RS', 'GT', 'HR', 'KY', 'SV', 'UA', 'LB', 'BS', 'BG', 'IS', 'PR', 'UG', 'TT', 'SR', 'BA', 'LU', 'TH', 'GH', 'RE', 'PK', 'PF', 'AW', 'JO', 'LK', 'KE', 'BD', 'MK', 'BB', 'ID', 'AO', 'CY', 'NG', 'MZ', 'FJ', 'OM', 'GU', 'LY', 'MN', 'SM', 'NC', 'AZ', 'JM', 'KW', 'GE']\n",
      "[0, 'Private room', 'Entire home/apt', 'Shared room']\n",
      "[0, '-unknown-', 'Copacabana', 'Barra da Tijuca', 'Lapa', 'Ipanema', 'Botafogo', 'Recreio dos Bandeirantes', 'Leblon', 'São Conrado', 'Praça da Bandeira', 'Humaitá', 'Tijuca', 'Lagoa', 'Catete', 'Rio Comprido', 'Santa Teresa', 'Flamengo', 'Glória', 'Gávea', 'Leme', 'Vidigal', 'Santo Cristo', 'Laranjeiras', 'Maracanã', 'Jardim Botânico', 'Méier', 'Riachuelo', 'Cidade Nova', 'Urca', 'Abolição', 'Irajá', 'Coelho Neto', 'Vila Isabel', 'Centro', 'São Cristóvão', 'Catumbi', 'Penha', 'Joá', 'Cosme Velho', 'Engenho Novo', 'Engenho de Dentro', 'Vigário Geral', 'Bonsucesso', 'Estacio', 'Benfica', 'Guadalupe', 'Barros Filho', 'Del Castilho', 'Vila da Penha', 'Grajaú', 'Brás de Pina', 'Todos os Santos', 'Madureira', 'Andaraí', 'Penha Circular', 'Olaria', 'Sampaio', 'Rocha', 'Engenho da Rainha', 'Marechal Hermes', 'Gamboa', 'Encantado', 'Ramos', 'Saúde', 'Vaz Lobo', 'Rocinha', 'Quintino Bocaiúva', 'Parada de Lucas']\n"
     ]
    }
   ],
   "source": [
    "#All categorical variables nominal (lists_unique_entries[0] - lists_unique_entries[2] and lists_unique_entries[5]\n",
    "#have huge no. of different nominal values):\n",
    "print(lists_unique_entries[3])\n",
    "print(lists_unique_entries[4])\n",
    "print(lists_unique_entries[6])\n",
    "print(lists_unique_entries[7])\n",
    "print(lists_unique_entries[8])"
   ]
  },
  {
   "cell_type": "markdown",
   "id": "d3e3df42-85e5-47bc-b2cb-da77d1988e9d",
   "metadata": {},
   "source": [
    "Pickle:"
   ]
  },
  {
   "cell_type": "code",
   "execution_count": 44,
   "id": "cac5b63d-41bc-40aa-b22d-701cd022e9ee",
   "metadata": {},
   "outputs": [],
   "source": [
    "#Pickle:\n",
    "file = '/Users/harrybakhshi/Desktop/Python_notes/data/PCDA_capstone/Airbnb_data_clean_not_transformed.pik'\n",
    "with open(file, 'wb') as f:\n",
    "    pickle.dump(df, f) #write df to .pik file on disk\n",
    "# with open(file, 'rb') as f:\n",
    "#      df = pickle.load(f) #load pickle file 'file' into variable"
   ]
  },
  {
   "cell_type": "code",
   "execution_count": 45,
   "id": "7aad0c2b-497c-449c-9d34-88e37513040e",
   "metadata": {},
   "outputs": [
    {
     "name": "stdout",
     "output_type": "stream",
     "text": [
      "<class 'pandas.core.frame.DataFrame'>\n",
      "Index: 56149 entries, 0 to 72450\n",
      "Data columns (total 20 columns):\n",
      " #   Column                                Non-Null Count  Dtype  \n",
      "---  ------                                --------------  -----  \n",
      " 0   id_guest_anon                         56149 non-null  object \n",
      " 1   id_host_anon                          56149 non-null  object \n",
      " 2   id_listing_anon                       56149 non-null  object \n",
      " 3   ts_interaction_first                  56149 non-null  object \n",
      " 4   ts_reply_at_first                     56149 non-null  object \n",
      " 5   ts_accepted_at_first                  56149 non-null  object \n",
      " 6   ts_booking_at                         56149 non-null  object \n",
      " 7   ds_checkin_first                      56149 non-null  object \n",
      " 8   ds_checkout_first                     56149 non-null  object \n",
      " 9   m_guests                              56149 non-null  float64\n",
      " 10  m_interactions                        56149 non-null  int64  \n",
      " 11  m_first_message_length_in_characters  56149 non-null  float64\n",
      " 12  contact_channel_first                 56149 non-null  object \n",
      " 13  guest_user_stage_first                56149 non-null  object \n",
      " 14  id_user_anon                          56149 non-null  object \n",
      " 15  country                               56149 non-null  object \n",
      " 16  words_in_user_profile                 56149 non-null  float64\n",
      " 17  room_type                             56149 non-null  object \n",
      " 18  listing_neighborhood                  56149 non-null  object \n",
      " 19  total_reviews                         56149 non-null  float64\n",
      "dtypes: float64(4), int64(1), object(15)\n",
      "memory usage: 11.0+ MB\n"
     ]
    }
   ],
   "source": [
    "df.info()"
   ]
  },
  {
   "cell_type": "markdown",
   "id": "1e73ee61-a19f-44b2-a33b-470762a71807",
   "metadata": {},
   "source": [
    "Plan:   \n",
    "Do multivariate time series with variables:\n",
    "    \n",
    "    timestamp:\n",
    "    ts_interaction_first = first guest interaction with listing\n",
    "    \n",
    "    Variables:\n",
    "    m_guests = no. of guests booked              \n",
    "    m_interactions = no of interactions with the listing before host accepts actual guest booking        \n",
    "    m_first_message_length_in_characters = length of first message between guest and host in characters  \n",
    "  \n",
    "    Forecast the no. of guests that will book, no of interactions with the listing before host accepts actual\n",
    "    guest booking , length of first message between guest and host in characters for a given timestamp where\n",
    "    the time is the time of the first first guest interaction with the listing\n",
    "    \n",
    "    Able to work out at a specific time of interest, at which guests first find a listing they\n",
    "    go on to book, how many guests do they go on to book, how much interaction as interest is there with the listing\n",
    "    before their booking is accepted, and what is the [successful] length of first message between the\n",
    "    successful booking guest and the host?\n",
    "    \n",
    "    Useful for knowing guest party sizes for listings at future times (what stay scenarios are selling), interest at \n",
    "    future times (interactions) leading to sales of stays, what a successful guest-host interaction will look like\n",
    "    in the future (could adjust software and policies accordingly)"
   ]
  },
  {
   "cell_type": "markdown",
   "id": "2327f723-29a9-478c-b6a9-86a4f46a8a53",
   "metadata": {},
   "source": [
    " "
   ]
  },
  {
   "cell_type": "markdown",
   "id": "dc9b5524-0d58-4821-952f-44a1fa31f22f",
   "metadata": {},
   "source": [
    "Drop cols not needed:"
   ]
  },
  {
   "cell_type": "code",
   "execution_count": 46,
   "id": "ee43f47b-5efb-4a43-9b82-b69b8c78d539",
   "metadata": {},
   "outputs": [
    {
     "name": "stdout",
     "output_type": "stream",
     "text": [
      "<class 'pandas.core.frame.DataFrame'>\n",
      "Index: 56149 entries, 0 to 56148\n",
      "Data columns (total 4 columns):\n",
      " #   Column                                Non-Null Count  Dtype  \n",
      "---  ------                                --------------  -----  \n",
      " 0   ts_interaction_first                  56149 non-null  object \n",
      " 1   m_guests                              56149 non-null  float64\n",
      " 2   m_interactions                        56149 non-null  int64  \n",
      " 3   m_first_message_length_in_characters  56149 non-null  float64\n",
      "dtypes: float64(2), int64(1), object(1)\n",
      "memory usage: 2.1+ MB\n"
     ]
    }
   ],
   "source": [
    "#Drop cols not needed:\n",
    "col_indices = [0, 1, 2, 4, 5, 6, 7, 8, 12, 13, 14, 15, 16, 17, 18, 19]\n",
    "df2 = df.copy()\n",
    "df2.index = np.arange(0, len(df2))\n",
    "for col in range(len(col_indices)):\n",
    "    df2 = df2.drop(df.columns.values[col_indices[col]], axis=1)\n",
    "df2.info()"
   ]
  },
  {
   "cell_type": "markdown",
   "id": "78fe9afd-4304-4e9b-885d-bec01059abbc",
   "metadata": {},
   "source": [
    "Pickle multivariate timeseries:"
   ]
  },
  {
   "cell_type": "code",
   "execution_count": 47,
   "id": "6a3459b7-853a-4b0f-97d9-015b16ebc54b",
   "metadata": {},
   "outputs": [],
   "source": [
    "#Pickle multivariate timeseries:\n",
    "file = '/Users/harrybakhshi/Desktop/Python_notes/data/PCDA_capstone/Airbnb_data_ts.pik'\n",
    "with open(file, 'wb') as f:\n",
    "    pickle.dump(df2, f) #write df to .pik file on disk\n",
    "# with open(file, 'rb') as f:\n",
    "#      df = pickle.load(f) #load pickle file 'file' into variable"
   ]
  },
  {
   "cell_type": "code",
   "execution_count": 48,
   "id": "f6ca1d77-b841-4f5e-9b11-a9a823329146",
   "metadata": {},
   "outputs": [],
   "source": [
    "# ensure timestamps in datetime64[ns] format\n",
    "# col_indices = [3, 4, 5, 6]\n",
    "# for col in range(len(col_indices)):\\n\",\n",
    "# df[df.columns.values[col_indices[col]]] = pd.to_datetime(df[df.columns.values[col_indices[col]]])  "
   ]
  },
  {
   "cell_type": "code",
   "execution_count": null,
   "id": "697a61dd-d656-425a-ba36-ed22f2936ae1",
   "metadata": {},
   "outputs": [],
   "source": []
  }
 ],
 "metadata": {
  "kernelspec": {
   "display_name": "Python 3 (ipykernel)",
   "language": "python",
   "name": "python3"
  },
  "language_info": {
   "codemirror_mode": {
    "name": "ipython",
    "version": 3
   },
   "file_extension": ".py",
   "mimetype": "text/x-python",
   "name": "python",
   "nbconvert_exporter": "python",
   "pygments_lexer": "ipython3",
   "version": "3.11.7"
  }
 },
 "nbformat": 4,
 "nbformat_minor": 5
}
