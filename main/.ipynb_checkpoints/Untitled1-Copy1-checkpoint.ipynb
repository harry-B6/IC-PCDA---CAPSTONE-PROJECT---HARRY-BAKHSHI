{
 "cells": [
  {
   "cell_type": "markdown",
   "id": "41c0bad5-8195-4167-9868-64adf5041280",
   "metadata": {},
   "source": [
    "<div class=\"alert alert-block alert-success\">\n",
    "     \n",
    "# IC PCDA CAPSTONE - HARRY BAKHSHI - NOTEBOOK 3 - SEASONAL DECOMPOSITION AND OUTLIER DETECTION/TREATMENT\n",
    "     \n",
    "</div>"
   ]
  },
  {
   "cell_type": "code",
   "execution_count": 2,
   "id": "2e549af6",
   "metadata": {},
   "outputs": [
    {
     "name": "stderr",
     "output_type": "stream",
     "text": [
      "/var/folders/xn/_bz_k2_x60v2l_s_sch6rwp40000gn/T/ipykernel_44288/811361855.py:10: TqdmExperimentalWarning: Using `tqdm.autonotebook.tqdm` in notebook mode. Use `tqdm.tqdm` instead to force console mode (e.g. in jupyter console)\n",
      "  from tqdm.autonotebook import tqdm\n"
     ]
    },
    {
     "name": "stdout",
     "output_type": "stream",
     "text": [
      "######################### All Libraries imported without errors! #########################\n"
     ]
    }
   ],
   "source": [
    "#Libraries needed to work:\n",
    "import numpy as np\n",
    "import pandas as pd\n",
    "import torch\n",
    "import matplotlib.pyplot as plt\n",
    "import plotly.express as px\n",
    "import os\n",
    "import plotly.io as pio\n",
    "import pandas as pd\n",
    "from tqdm.autonotebook import tqdm\n",
    "import missingno as msno\n",
    "import statsmodels.api as sm\n",
    "from sklearn.ensemble import RandomForestRegressor\n",
    "import xgboost\n",
    "import lightgbm\n",
    "import catboost\n",
    "import seaborn\n",
    "import pmdarima as pm\n",
    "from darts import TimeSeries\n",
    "from darts.models import NaiveSeasonal\n",
    "import pytorch_lightning as pl\n",
    "import pytorch_forecasting\n",
    "from pytorch_forecasting import TimeSeriesDataSet\n",
    "from pytorch_forecasting.data import GroupNormalizer\n",
    "from pytorch_forecasting.metrics import RMSE, MAE\n",
    "import sys\n",
    "print(\"#\"*25+\" All Libraries imported without errors! \"+\"#\"*25)\n",
    "#!pip install kaleido - move kaleido folder from /opt/miniconda3/lib/python3.12/site-packages to /Users/USER/anaconda3/lib/python3.11/site-packages\n",
    "#!pip install \"pandas<2.0.0\" - rewrite pickles to .pik files and re-load to use after change\n",
    "#!pip install statsforecast\n",
    "#!pip install missingno\n",
    "#!pip install catboost\n",
    "#!pip install blosc2==2.0\n",
    "#!pip install pmdarima\n",
    "#!pip install darts\n",
    "#!pip install pytorch_lightning\n",
    "#!pip install torch torchvision torchaudio\n",
    "#in mac terminal:\n",
    "    #sudo chown -R $USER:$USER anaconda3\n",
    "    #sudo chown -R $USER:$USER /Users/USER/.conda/environments.txt\n",
    "#conda update conda\n",
    "#conda install conda-forge::pytorch-forecasting\n",
    "#in /Users/USER/anaconda3/lib/python3.11/site-packages/pytorch_forecasting/models/__init__.py\n",
    "# delete import call for DeepAR\n",
    "##in /Users/USER/anaconda3/lib/python3.11/site-packages/pytorch_forecasting/__init__.py\n",
    "# delete DeepAR in import list in \"from pytorch_forecasting.models import (...\""
   ]
  },
  {
   "cell_type": "markdown",
   "id": "13cec644-4abe-4e7b-81c9-90027a22ea41",
   "metadata": {},
   "source": [
    "MIT License for code used from elsewhere in this notebook unless a different source stated: https://github.com/PacktPublishing/Modern-Time-Series-Forecasting-with-Python?tab=MIT-1-ov-file\n",
    "\n",
    "(Accessed 06/06/2024)"
   ]
  },
  {
   "cell_type": "code",
   "execution_count": 5,
   "id": "2858e0b3",
   "metadata": {},
   "outputs": [],
   "source": [
    "import numpy as np\n",
    "import matplotlib.pyplot as plt\n",
    "import plotly.express as px\n",
    "import os\n",
    "import plotly.io as pio\n",
    "pio.templates.default = \"plotly_white\"\n",
    "import pandas as pd\n",
    "from pathlib import Path\n",
    "from tqdm.autonotebook import tqdm\n",
    "from IPython.display import display, HTML\n",
    "import missingno as msno\n",
    "import statsmodels.api as sm\n",
    "import pickle\n",
    "# %load_ext autoreload\n",
    "# %autoreload 2\n",
    "np.random.seed()\n",
    "tqdm.pandas()"
   ]
  },
  {
   "cell_type": "markdown",
   "id": "f0d5b062",
   "metadata": {},
   "source": [
    "Load multivariate timeseries:"
   ]
  },
  {
   "cell_type": "code",
   "execution_count": 49,
   "id": "1fbe550d",
   "metadata": {},
   "outputs": [
    {
     "data": {
      "text/plain": [
       "False"
      ]
     },
     "execution_count": 49,
     "metadata": {},
     "output_type": "execute_result"
    }
   ],
   "source": [
    "#multivariate timeseries:\n",
    "file = '/Users/harrybakhshi/Desktop/Python_notes/data/PCDA_capstone/Airbnb_data_ts.pik'\n",
    "# with open(file, 'wb') as f:\n",
    "#        pickle.dump(df, f) #write df to .pik file on disk\n",
    "with open(file, 'rb') as f:\n",
    "     df = pickle.load(f) #load pickle file 'file' into variable\n",
    "ts_df = df\n",
    "ts_df = ts_df.rename(columns={\"ts_interaction_first\":\"timestamp\"})\n",
    "#^https://pandas.pydata.org/docs/reference/api/pandas.DataFrame.rename.html\n",
    "#Accessed 06/06/2024\n",
    "ts_df.set_index('timestamp')\n",
    "import pandas.api.types as ptypes\n",
    "\n",
    "ptypes.is_datetime64_dtype(ts_df.index)"
   ]
  },
  {
   "cell_type": "markdown",
   "id": "c92332ee",
   "metadata": {},
   "source": [
    "Create function for formatting plotly plots:"
   ]
  },
  {
   "cell_type": "code",
   "execution_count": 43,
   "id": "1c753ec1",
   "metadata": {},
   "outputs": [],
   "source": [
    "#For formatting plots:\n",
    "def format_plot(fig, legends = None, xlabel=\"Time\", ylabel=\"Value\", figsize=(500,900), font_size=15, title_font_size=20):\n",
    "    if legends:\n",
    "        names = cycle(legends)\n",
    "        fig.for_each_trace(lambda t:  t.update(name = next(names)))\n",
    "    fig.update_layout(\n",
    "            autosize=False,\n",
    "            width=figsize[1],\n",
    "            height=figsize[0],\n",
    "            title={\n",
    "            'x':0.5,\n",
    "            'xanchor': 'center',\n",
    "            'yanchor': 'top'},\n",
    "            titlefont={\n",
    "                \"size\": 20\n",
    "            },\n",
    "            legend_title = None,\n",
    "            legend=dict(\n",
    "                font=dict(size=font_size),\n",
    "                orientation=\"h\",\n",
    "                yanchor=\"bottom\",\n",
    "                y=0.98,\n",
    "                xanchor=\"right\",\n",
    "                x=1,\n",
    "            ),\n",
    "            yaxis=dict(\n",
    "                title_text=ylabel,\n",
    "                titlefont=dict(size=font_size),\n",
    "                tickfont=dict(size=font_size),\n",
    "            ),\n",
    "            xaxis=dict(\n",
    "                title_text=xlabel,\n",
    "                titlefont=dict(size=font_size),\n",
    "                tickfont=dict(size=font_size),\n",
    "            )\n",
    "        )\n",
    "    return fig\n",
    "\n",
    "#^https://github.com/PacktPublishing/Modern-Time-Series-Forecasting-with-Python/blob/main/notebooks/Chapter03/01-Visualizing%20Time%20Series.ipynb\n",
    "#Accessed 06/06/2024"
   ]
  },
  {
   "cell_type": "markdown",
   "id": "70c36d8e",
   "metadata": {},
   "source": [
    "Import libraries for multi-seasonal decomposition:"
   ]
  },
  {
   "cell_type": "code",
   "execution_count": 44,
   "id": "27365d75",
   "metadata": {},
   "outputs": [],
   "source": [
    "#Import libraries for multi-seasonal decomposition:\n",
    "from statsmodels.tsa.seasonal import seasonal_decompose\n",
    "from src.decomposition.seasonal import STL, FourierDecomposition, MultiSeasonalDecomposition\n",
    "# from plotly.subplots import make_subplots\n",
    "# import plotly.graph_objects as go"
   ]
  },
  {
   "cell_type": "markdown",
   "id": "9deb9be0",
   "metadata": {},
   "source": [
    "Create series for each variable:"
   ]
  },
  {
   "cell_type": "code",
   "execution_count": 29,
   "id": "7df76adb",
   "metadata": {},
   "outputs": [],
   "source": [
    "#All the problem variables:\n",
    "#m_guests = no. of guests booked                             \n",
    "#m_interactions = no of listing interactions before booking accepted                        \n",
    "#m_first_message_length_in_characters = length of first message between accepted guest and host in characters"
   ]
  },
  {
   "cell_type": "code",
   "execution_count": 45,
   "id": "813131ba",
   "metadata": {},
   "outputs": [],
   "source": [
    "ts_m_guests = ts_df.m_guests.values.reshape(-1,1).squeeze()"
   ]
  },
  {
   "cell_type": "code",
   "execution_count": 35,
   "id": "26a8dc5d",
   "metadata": {},
   "outputs": [
    {
     "data": {
      "text/plain": [
       "336"
      ]
     },
     "execution_count": 35,
     "metadata": {},
     "output_type": "execute_result"
    }
   ],
   "source": [
    "48*7"
   ]
  },
  {
   "cell_type": "markdown",
   "id": "2a10b236",
   "metadata": {},
   "source": [
    "Plot multi-seasonal decomposition using Fourier Decomposition as a seasonal model:"
   ]
  },
  {
   "cell_type": "code",
   "execution_count": 46,
   "id": "01830d6b",
   "metadata": {},
   "outputs": [
    {
     "ename": "AttributeError",
     "evalue": "'Index' object has no attribute 'inferred_freq'",
     "output_type": "error",
     "traceback": [
      "\u001b[0;31m---------------------------------------------------------------------------\u001b[0m",
      "\u001b[0;31mAttributeError\u001b[0m                            Traceback (most recent call last)",
      "Cell \u001b[0;32mIn[46], line 3\u001b[0m\n\u001b[1;32m      1\u001b[0m \u001b[38;5;66;03m#Plot multi-seasonal decomposition using Fourier Decomposition as a seasonal model:\u001b[39;00m\n\u001b[1;32m      2\u001b[0m stl \u001b[38;5;241m=\u001b[39m MultiSeasonalDecomposition(seasonal_model\u001b[38;5;241m=\u001b[39m\u001b[38;5;124m\"\u001b[39m\u001b[38;5;124mfourier\u001b[39m\u001b[38;5;124m\"\u001b[39m,seasonality_periods\u001b[38;5;241m=\u001b[39m[\u001b[38;5;124m\"\u001b[39m\u001b[38;5;124mday_of_year\u001b[39m\u001b[38;5;124m\"\u001b[39m, \u001b[38;5;124m\"\u001b[39m\u001b[38;5;124mday_of_week\u001b[39m\u001b[38;5;124m\"\u001b[39m, \u001b[38;5;124m\"\u001b[39m\u001b[38;5;124mhour\u001b[39m\u001b[38;5;124m\"\u001b[39m], model \u001b[38;5;241m=\u001b[39m \u001b[38;5;124m\"\u001b[39m\u001b[38;5;124madditive\u001b[39m\u001b[38;5;124m\"\u001b[39m, n_fourier_terms\u001b[38;5;241m=\u001b[39m\u001b[38;5;241m10\u001b[39m)\n\u001b[0;32m----> 3\u001b[0m res_new \u001b[38;5;241m=\u001b[39m stl\u001b[38;5;241m.\u001b[39mfit(pd\u001b[38;5;241m.\u001b[39mSeries(ts_m_guests, index\u001b[38;5;241m=\u001b[39mts_df\u001b[38;5;241m.\u001b[39mindex))\n\u001b[1;32m      4\u001b[0m fig \u001b[38;5;241m=\u001b[39m res_new\u001b[38;5;241m.\u001b[39mplot(interactive\u001b[38;5;241m=\u001b[39m\u001b[38;5;28;01mTrue\u001b[39;00m)\n\u001b[1;32m      5\u001b[0m fig\u001b[38;5;241m.\u001b[39mupdate_layout(\n\u001b[1;32m      6\u001b[0m             legend\u001b[38;5;241m=\u001b[39m\u001b[38;5;28mdict\u001b[39m(\n\u001b[1;32m      7\u001b[0m                 font\u001b[38;5;241m=\u001b[39m\u001b[38;5;28mdict\u001b[39m(size\u001b[38;5;241m=\u001b[39m\u001b[38;5;241m15\u001b[39m),\n\u001b[0;32m   (...)\u001b[0m\n\u001b[1;32m     23\u001b[0m             )\n\u001b[1;32m     24\u001b[0m         )\n",
      "File \u001b[0;32m~/Desktop/Python_notes/Modern-Time-Series-Forecasting-with-Python-main/src/decomposition/seasonal.py:581\u001b[0m, in \u001b[0;36mMultiSeasonalDecomposition.fit\u001b[0;34m(self, df, seasonality)\u001b[0m\n\u001b[1;32m    573\u001b[0m \u001b[38;5;28;01mif\u001b[39;00m \u001b[38;5;28mself\u001b[39m\u001b[38;5;241m.\u001b[39m_seasonality_type \u001b[38;5;241m==\u001b[39m \u001b[38;5;124m\"\u001b[39m\u001b[38;5;124mcustom\u001b[39m\u001b[38;5;124m\"\u001b[39m \u001b[38;5;129;01mand\u001b[39;00m (\n\u001b[1;32m    574\u001b[0m     seasonality \u001b[38;5;129;01mis\u001b[39;00m \u001b[38;5;28;01mNone\u001b[39;00m\n\u001b[1;32m    575\u001b[0m     \u001b[38;5;129;01mor\u001b[39;00m \u001b[38;5;28mall\u001b[39m([(\u001b[38;5;129;01mnot\u001b[39;00m \u001b[38;5;28misinstance\u001b[39m(s, np\u001b[38;5;241m.\u001b[39mndarray)) \u001b[38;5;28;01mfor\u001b[39;00m s \u001b[38;5;129;01min\u001b[39;00m seasonality])\n\u001b[1;32m    576\u001b[0m ):\n\u001b[1;32m    577\u001b[0m     \u001b[38;5;28;01mraise\u001b[39;00m \u001b[38;5;167;01mValueError\u001b[39;00m(\n\u001b[1;32m    578\u001b[0m         \u001b[38;5;124mf\u001b[39m\u001b[38;5;124m\"\u001b[39m\u001b[38;5;132;01m{\u001b[39;00m\u001b[38;5;28mtype\u001b[39m(\u001b[38;5;28mself\u001b[39m)\u001b[38;5;241m.\u001b[39m\u001b[38;5;18m__name__\u001b[39m\u001b[38;5;132;01m}\u001b[39;00m\u001b[38;5;124m was initialized with seasonality and seasonality passed to .fit was None or not an numpy array\u001b[39m\u001b[38;5;124m\"\u001b[39m\n\u001b[1;32m    579\u001b[0m     )\n\u001b[0;32m--> 581\u001b[0m _pandas_wrapper, _ \u001b[38;5;241m=\u001b[39m _maybe_get_pandas_wrapper_freq(df)\n\u001b[1;32m    582\u001b[0m seasonal \u001b[38;5;241m=\u001b[39m OrderedDict()\n\u001b[1;32m    583\u001b[0m seasonality_iter \u001b[38;5;241m=\u001b[39m (\n\u001b[1;32m    584\u001b[0m     seasonality \u001b[38;5;28;01mif\u001b[39;00m seasonality \u001b[38;5;129;01mis\u001b[39;00m \u001b[38;5;129;01mnot\u001b[39;00m \u001b[38;5;28;01mNone\u001b[39;00m \u001b[38;5;28;01melse\u001b[39;00m \u001b[38;5;28mself\u001b[39m\u001b[38;5;241m.\u001b[39mseasonality_periods\n\u001b[1;32m    585\u001b[0m )\n",
      "File \u001b[0;32m~/Desktop/Python_notes/Modern-Time-Series-Forecasting-with-Python-main/src/decomposition/seasonal.py:56\u001b[0m, in \u001b[0;36m_maybe_get_pandas_wrapper_freq\u001b[0;34m(X, trim)\u001b[0m\n\u001b[1;32m     54\u001b[0m     index \u001b[38;5;241m=\u001b[39m X\u001b[38;5;241m.\u001b[39mindex\n\u001b[1;32m     55\u001b[0m     func \u001b[38;5;241m=\u001b[39m _get_pandas_wrapper(X, trim)\n\u001b[0;32m---> 56\u001b[0m     freq \u001b[38;5;241m=\u001b[39m index\u001b[38;5;241m.\u001b[39minferred_freq\n\u001b[1;32m     57\u001b[0m     \u001b[38;5;28;01mreturn\u001b[39;00m func, freq\n\u001b[1;32m     58\u001b[0m \u001b[38;5;28;01melse\u001b[39;00m:\n",
      "\u001b[0;31mAttributeError\u001b[0m: 'Index' object has no attribute 'inferred_freq'"
     ]
    }
   ],
   "source": [
    "#Plot multi-seasonal decomposition using Fourier Decomposition as a seasonal model:\n",
    "stl = MultiSeasonalDecomposition(seasonal_model=\"fourier\",seasonality_periods=[\"day_of_year\", \"day_of_week\", \"hour\"], model = \"additive\", n_fourier_terms=10)\n",
    "res_new = stl.fit(pd.Series(ts_m_guests, index=ts_df.index))\n",
    "fig = res_new.plot(interactive=True)\n",
    "fig.update_layout(\n",
    "            legend=dict(\n",
    "                font=dict(size=15),\n",
    "                orientation=\"h\",\n",
    "                yanchor=\"bottom\",\n",
    "                y=0.98,\n",
    "                xanchor=\"right\",\n",
    "                x=1,\n",
    "            ),\n",
    "            yaxis=dict(\n",
    "                # title_text=ylabel,\n",
    "                titlefont=dict(size=15),\n",
    "                tickfont=dict(size=15),\n",
    "            ),\n",
    "            xaxis=dict(\n",
    "                # title_text=xlabel,\n",
    "                titlefont=dict(size=15),\n",
    "                tickfont=dict(size=15),\n",
    "            )\n",
    "        )\n",
    "fig.write_image(\"/Users/harrybakhshi/Desktop/Python_notes/data/PCDA_capstone/multi_seasonal_decomposition_ts_m_guests.png\")\n",
    "fig.show(renderer=\"svg\")"
   ]
  },
  {
   "cell_type": "code",
   "execution_count": null,
   "id": "e53ef0bf",
   "metadata": {},
   "outputs": [],
   "source": []
  }
 ],
 "metadata": {
  "kernelspec": {
   "display_name": "Python 3 (ipykernel)",
   "language": "python",
   "name": "python3"
  },
  "language_info": {
   "codemirror_mode": {
    "name": "ipython",
    "version": 3
   },
   "file_extension": ".py",
   "mimetype": "text/x-python",
   "name": "python",
   "nbconvert_exporter": "python",
   "pygments_lexer": "ipython3",
   "version": "3.11.7"
  }
 },
 "nbformat": 4,
 "nbformat_minor": 5
}
